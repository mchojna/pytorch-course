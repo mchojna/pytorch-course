{
 "cells": [
  {
   "cell_type": "markdown",
   "id": "082bf220",
   "metadata": {},
   "source": [
    "# 01. PyTorch Workflows\n",
    "\n",
    "Resource notebook: https://www.learnpytorch.io/01_pytorch_workflow/"
   ]
  },
  {
   "cell_type": "code",
   "execution_count": 1,
   "id": "fd36a080",
   "metadata": {},
   "outputs": [
    {
     "name": "stdout",
     "output_type": "stream",
     "text": [
      "2.7.1\n"
     ]
    }
   ],
   "source": [
    "import torch\n",
    "from torch import nn\n",
    "import matplotlib.pyplot as plt\n",
    "\n",
    "print(torch.__version__)"
   ]
  },
  {
   "cell_type": "markdown",
   "id": "a2802914",
   "metadata": {},
   "source": [
    "## Data preparing and loading"
   ]
  },
  {
   "cell_type": "code",
   "execution_count": 2,
   "id": "71ba27b1",
   "metadata": {},
   "outputs": [
    {
     "data": {
      "text/plain": [
       "(tensor([[0.0000],\n",
       "         [0.0200],\n",
       "         [0.0400],\n",
       "         [0.0600],\n",
       "         [0.0800],\n",
       "         [0.1000],\n",
       "         [0.1200],\n",
       "         [0.1400],\n",
       "         [0.1600],\n",
       "         [0.1800]]),\n",
       " tensor([[0.3000],\n",
       "         [0.3140],\n",
       "         [0.3280],\n",
       "         [0.3420],\n",
       "         [0.3560],\n",
       "         [0.3700],\n",
       "         [0.3840],\n",
       "         [0.3980],\n",
       "         [0.4120],\n",
       "         [0.4260]]))"
      ]
     },
     "execution_count": 2,
     "metadata": {},
     "output_type": "execute_result"
    }
   ],
   "source": [
    "weight = 0.7\n",
    "bias = 0.3\n",
    "\n",
    "start = 0\n",
    "end = 1\n",
    "step = 0.02\n",
    "X = torch.arange(start, end, step).unsqueeze(dim=1)\n",
    "y = weight * X + bias\n",
    "\n",
    "X[:10], y[:10]"
   ]
  },
  {
   "cell_type": "code",
   "execution_count": 3,
   "id": "52fcb39c",
   "metadata": {},
   "outputs": [
    {
     "data": {
      "text/plain": [
       "(50, 50)"
      ]
     },
     "execution_count": 3,
     "metadata": {},
     "output_type": "execute_result"
    }
   ],
   "source": [
    "len(X), len(y)"
   ]
  },
  {
   "cell_type": "markdown",
   "id": "a1c1208c",
   "metadata": {},
   "source": [
    "### Spliting data into train and test set"
   ]
  },
  {
   "cell_type": "code",
   "execution_count": 4,
   "id": "b5a85796",
   "metadata": {},
   "outputs": [
    {
     "data": {
      "text/plain": [
       "(40, 40, 10, 10)"
      ]
     },
     "execution_count": 4,
     "metadata": {},
     "output_type": "execute_result"
    }
   ],
   "source": [
    "train_split = int(0.8 * len(X))\n",
    "X_train, y_train = X[:train_split], y[:train_split]\n",
    "X_test, y_test = X[train_split:], y[train_split:]\n",
    "\n",
    "len(X_train), len(y_train), len(X_test), len(y_test)"
   ]
  },
  {
   "cell_type": "code",
   "execution_count": 5,
   "id": "0abc415c",
   "metadata": {},
   "outputs": [
    {
     "data": {
      "text/plain": [
       "(tensor([[0.0000],\n",
       "         [0.0200],\n",
       "         [0.0400],\n",
       "         [0.0600],\n",
       "         [0.0800],\n",
       "         [0.1000],\n",
       "         [0.1200],\n",
       "         [0.1400],\n",
       "         [0.1600],\n",
       "         [0.1800]]),\n",
       " tensor([[0.3000],\n",
       "         [0.3140],\n",
       "         [0.3280],\n",
       "         [0.3420],\n",
       "         [0.3560],\n",
       "         [0.3700],\n",
       "         [0.3840],\n",
       "         [0.3980],\n",
       "         [0.4120],\n",
       "         [0.4260]]))"
      ]
     },
     "execution_count": 5,
     "metadata": {},
     "output_type": "execute_result"
    }
   ],
   "source": [
    "X_train[:10], y_train[:10]"
   ]
  },
  {
   "cell_type": "code",
   "execution_count": 6,
   "id": "84fb9b9e",
   "metadata": {},
   "outputs": [],
   "source": [
    "def plot_predictions(train_data=X_train, train_labels=y_train,\n",
    "                     test_data=X_test, test_labels=y_test,\n",
    "                     predictions=None):\n",
    "    \"\"\"\n",
    "    Plots training data, test data and compares predictions.\n",
    "    \"\"\"\n",
    "    plt.figure(figsize=(10, 7))\n",
    "    \n",
    "    plt.scatter(train_data, train_labels, c=\"b\", s=4, label=\"Training data\")\n",
    "    plt.scatter(test_data, test_labels, c=\"g\", s=4, label=\"Testing data\")\n",
    "    \n",
    "    if predictions is not None:\n",
    "        plt.scatter(test_data, predictions, c=\"r\", s=4, label=\"Predictions\")\n",
    "    \n",
    "    plt.legend(prop={\"size\": 14});\n",
    "    plt.show()"
   ]
  },
  {
   "cell_type": "code",
   "execution_count": 7,
   "id": "fe955da3",
   "metadata": {},
   "outputs": [
    {
     "data": {
      "image/png": "[encoded data removed]",
      "text/plain": [
       "<Figure size 1000x700 with 1 Axes>"
      ]
     },
     "metadata": {},
     "output_type": "display_data"
    }
   ],
   "source": [
    "plot_predictions(X_train, y_train, X_test, y_test)"
   ]
  },
  {
   "cell_type": "markdown",
   "id": "cb897d94",
   "metadata": {},
   "source": [
    "## Building a model"
   ]
  },
  {
   "cell_type": "code",
   "execution_count": 55,
   "id": "0377c2b7",
   "metadata": {},
   "outputs": [],
   "source": [
    "from torch import nn\n",
    "\n",
    "class LinearRegressionModel(nn.Module):\n",
    "    def __init__(self):\n",
    "        super().__init__()\n",
    "        self.weights = nn.Parameter(torch.randn(1,\n",
    "                                                requires_grad=True,\n",
    "                                                dtype=torch.float))\n",
    "        self.bias = nn.Parameter(torch.randn(1,\n",
    "                                             requires_grad=True,\n",
    "                                             dtype=torch.float))\n",
    "    \n",
    "    def forward(self, x: torch.Tensor) -> torch.Tensor:\n",
    "        return self.weights * x + self.bias"
   ]
  },
  {
   "cell_type": "code",
   "execution_count": 56,
   "id": "80523597",
   "metadata": {},
   "outputs": [
    {
     "data": {
      "text/plain": [
       "LinearRegressionModel()"
      ]
     },
     "execution_count": 56,
     "metadata": {},
     "output_type": "execute_result"
    }
   ],
   "source": [
    "torch.manual_seed(42)\n",
    "\n",
    "model_0 = LinearRegressionModel()\n",
    "\n",
    "model_0"
   ]
  },
  {
   "cell_type": "code",
   "execution_count": 57,
   "id": "99c7e425",
   "metadata": {},
   "outputs": [
    {
     "data": {
      "text/plain": [
       "[Parameter containing:\n",
       " tensor([0.3367], requires_grad=True),\n",
       " Parameter containing:\n",
       " tensor([0.1288], requires_grad=True)]"
      ]
     },
     "execution_count": 57,
     "metadata": {},
     "output_type": "execute_result"
    }
   ],
   "source": [
    "list(model_0.parameters())"
   ]
  },
  {
   "cell_type": "code",
   "execution_count": 58,
   "id": "c5ef9672",
   "metadata": {},
   "outputs": [
    {
     "data": {
      "text/plain": [
       "OrderedDict([('weights', tensor([0.3367])), ('bias', tensor([0.1288]))])"
      ]
     },
     "execution_count": 58,
     "metadata": {},
     "output_type": "execute_result"
    }
   ],
   "source": [
    "model_0.state_dict()"
   ]
  },
  {
   "cell_type": "code",
   "execution_count": 59,
   "id": "84578740",
   "metadata": {},
   "outputs": [
    {
     "data": {
      "text/plain": [
       "(0.7, 0.3)"
      ]
     },
     "execution_count": 59,
     "metadata": {},
     "output_type": "execute_result"
    }
   ],
   "source": [
    "weight, bias"
   ]
  },
  {
   "cell_type": "code",
   "execution_count": 60,
   "id": "a6be8b8d",
   "metadata": {},
   "outputs": [
    {
     "name": "stdout",
     "output_type": "stream",
     "text": [
      "CPU times: user 688 μs, sys: 1.14 ms, total: 1.83 ms\n",
      "Wall time: 1.45 ms\n"
     ]
    },
    {
     "data": {
      "text/plain": [
       "(tensor([[0.3982],\n",
       "         [0.4049],\n",
       "         [0.4116],\n",
       "         [0.4184],\n",
       "         [0.4251],\n",
       "         [0.4318],\n",
       "         [0.4386],\n",
       "         [0.4453],\n",
       "         [0.4520],\n",
       "         [0.4588]]),\n",
       " tensor([[0.8600],\n",
       "         [0.8740],\n",
       "         [0.8880],\n",
       "         [0.9020],\n",
       "         [0.9160],\n",
       "         [0.9300],\n",
       "         [0.9440],\n",
       "         [0.9580],\n",
       "         [0.9720],\n",
       "         [0.9860]]))"
      ]
     },
     "execution_count": 60,
     "metadata": {},
     "output_type": "execute_result"
    }
   ],
   "source": [
    "%%time\n",
    "with torch.no_grad():\n",
    "    y_preds = model_0(X_test)\n",
    "\n",
    "y_preds, y_test"
   ]
  },
  {
   "cell_type": "code",
   "execution_count": 61,
   "id": "3db93b68",
   "metadata": {},
   "outputs": [
    {
     "name": "stdout",
     "output_type": "stream",
     "text": [
      "CPU times: user 383 μs, sys: 380 μs, total: 763 μs\n",
      "Wall time: 1.02 ms\n"
     ]
    },
    {
     "data": {
      "text/plain": [
       "(tensor([[0.3982],\n",
       "         [0.4049],\n",
       "         [0.4116],\n",
       "         [0.4184],\n",
       "         [0.4251],\n",
       "         [0.4318],\n",
       "         [0.4386],\n",
       "         [0.4453],\n",
       "         [0.4520],\n",
       "         [0.4588]]),\n",
       " tensor([[0.8600],\n",
       "         [0.8740],\n",
       "         [0.8880],\n",
       "         [0.9020],\n",
       "         [0.9160],\n",
       "         [0.9300],\n",
       "         [0.9440],\n",
       "         [0.9580],\n",
       "         [0.9720],\n",
       "         [0.9860]]))"
      ]
     },
     "execution_count": 61,
     "metadata": {},
     "output_type": "execute_result"
    }
   ],
   "source": [
    "%%time\n",
    "with torch.inference_mode():\n",
    "    y_preds = model_0(X_test)\n",
    "    \n",
    "y_preds, y_test"
   ]
  },
  {
   "cell_type": "code",
   "execution_count": 62,
   "id": "dfcd8efa",
   "metadata": {},
   "outputs": [
    {
     "data": {
      "image/png": "[encoded data removed]",
      "text/plain": [
       "<Figure size 1000x700 with 1 Axes>"
      ]
     },
     "metadata": {},
     "output_type": "display_data"
    }
   ],
   "source": [
    "plot_predictions(X_train, y_train, X_test, y_test, y_preds)"
   ]
  },
  {
   "cell_type": "code",
   "execution_count": 116,
   "id": "bc2a552a",
   "metadata": {},
   "outputs": [
    {
     "data": {
      "text/plain": [
       "(L1Loss(),\n",
       " SGD (\n",
       " Parameter Group 0\n",
       "     dampening: 0\n",
       "     differentiable: False\n",
       "     foreach: None\n",
       "     fused: None\n",
       "     lr: 0.01\n",
       "     maximize: False\n",
       "     momentum: 0\n",
       "     nesterov: False\n",
       "     weight_decay: 0\n",
       " ))"
      ]
     },
     "execution_count": 116,
     "metadata": {},
     "output_type": "execute_result"
    }
   ],
   "source": [
    "# Loss function\n",
    "loss_fn = nn.L1Loss()\n",
    "\n",
    "# Optimizer\n",
    "optimizer = torch.optim.SGD(params=model_0.parameters(),\n",
    "                            lr=0.01)\n",
    "\n",
    "loss_fn, optimizer"
   ]
  },
  {
   "cell_type": "code",
   "execution_count": 117,
   "id": "24d2ce0c",
   "metadata": {},
   "outputs": [
    {
     "data": {
      "text/plain": [
       "OrderedDict([('weights', tensor([0.6951])), ('bias', tensor([0.2993]))])"
      ]
     },
     "execution_count": 117,
     "metadata": {},
     "output_type": "execute_result"
    }
   ],
   "source": [
    "model_0.state_dict()"
   ]
  },
  {
   "cell_type": "code",
   "execution_count": 18,
   "id": "ce2771a5",
   "metadata": {},
   "outputs": [
    {
     "name": "stdout",
     "output_type": "stream",
     "text": [
      "Loss: 0.31288135051727295\n",
      "OrderedDict({'weights': tensor([0.3406]), 'bias': tensor([0.1388])})\n",
      "Loss: 0.3013603687286377\n",
      "OrderedDict({'weights': tensor([0.3445]), 'bias': tensor([0.1488])})\n",
      "Loss: 0.28983935713768005\n",
      "OrderedDict({'weights': tensor([0.3484]), 'bias': tensor([0.1588])})\n",
      "Loss: 0.2783183455467224\n",
      "OrderedDict({'weights': tensor([0.3523]), 'bias': tensor([0.1688])})\n",
      "Loss: 0.26679736375808716\n",
      "OrderedDict({'weights': tensor([0.3562]), 'bias': tensor([0.1788])})\n",
      "Loss: 0.2552763521671295\n",
      "OrderedDict({'weights': tensor([0.3601]), 'bias': tensor([0.1888])})\n",
      "Loss: 0.24375534057617188\n",
      "OrderedDict({'weights': tensor([0.3640]), 'bias': tensor([0.1988])})\n",
      "Loss: 0.23223432898521423\n",
      "OrderedDict({'weights': tensor([0.3679]), 'bias': tensor([0.2088])})\n",
      "Loss: 0.22071333229541779\n",
      "OrderedDict({'weights': tensor([0.3718]), 'bias': tensor([0.2188])})\n",
      "Loss: 0.20919232070446014\n",
      "OrderedDict({'weights': tensor([0.3757]), 'bias': tensor([0.2288])})\n",
      "Loss: 0.1976713389158249\n",
      "OrderedDict({'weights': tensor([0.3796]), 'bias': tensor([0.2388])})\n",
      "Loss: 0.18615034222602844\n",
      "OrderedDict({'weights': tensor([0.3835]), 'bias': tensor([0.2488])})\n",
      "Loss: 0.1746293157339096\n",
      "OrderedDict({'weights': tensor([0.3874]), 'bias': tensor([0.2588])})\n",
      "Loss: 0.16310831904411316\n",
      "OrderedDict({'weights': tensor([0.3913]), 'bias': tensor([0.2688])})\n",
      "Loss: 0.1515873372554779\n",
      "OrderedDict({'weights': tensor([0.3952]), 'bias': tensor([0.2788])})\n",
      "Loss: 0.14006635546684265\n",
      "OrderedDict({'weights': tensor([0.3991]), 'bias': tensor([0.2888])})\n",
      "Loss: 0.1285453587770462\n",
      "OrderedDict({'weights': tensor([0.4030]), 'bias': tensor([0.2988])})\n",
      "Loss: 0.11702437698841095\n",
      "OrderedDict({'weights': tensor([0.4069]), 'bias': tensor([0.3088])})\n",
      "Loss: 0.1060912162065506\n",
      "OrderedDict({'weights': tensor([0.4108]), 'bias': tensor([0.3178])})\n",
      "Loss: 0.09681284427642822\n",
      "OrderedDict({'weights': tensor([0.4146]), 'bias': tensor([0.3258])})\n",
      "Loss: 0.08908725529909134\n",
      "OrderedDict({'weights': tensor([0.4184]), 'bias': tensor([0.3333])})\n",
      "Loss: 0.08227582275867462\n",
      "OrderedDict({'weights': tensor([0.4222]), 'bias': tensor([0.3403])})\n",
      "Loss: 0.07638873159885406\n",
      "OrderedDict({'weights': tensor([0.4258]), 'bias': tensor([0.3463])})\n",
      "Loss: 0.07160007953643799\n",
      "OrderedDict({'weights': tensor([0.4293]), 'bias': tensor([0.3518])})\n",
      "Loss: 0.06747636944055557\n",
      "OrderedDict({'weights': tensor([0.4328]), 'bias': tensor([0.3568])})\n",
      "Loss: 0.06395438313484192\n",
      "OrderedDict({'weights': tensor([0.4361]), 'bias': tensor([0.3613])})\n",
      "Loss: 0.06097004562616348\n",
      "OrderedDict({'weights': tensor([0.4394]), 'bias': tensor([0.3653])})\n",
      "Loss: 0.058458197861909866\n",
      "OrderedDict({'weights': tensor([0.4425]), 'bias': tensor([0.3688])})\n",
      "Loss: 0.05635259300470352\n",
      "OrderedDict({'weights': tensor([0.4455]), 'bias': tensor([0.3718])})\n",
      "Loss: 0.0545857772231102\n",
      "OrderedDict({'weights': tensor([0.4483]), 'bias': tensor([0.3743])})\n",
      "Loss: 0.053148530423641205\n",
      "OrderedDict({'weights': tensor([0.4512]), 'bias': tensor([0.3768])})\n",
      "Loss: 0.051819466054439545\n",
      "OrderedDict({'weights': tensor([0.4539]), 'bias': tensor([0.3788])})\n",
      "Loss: 0.05069301277399063\n",
      "OrderedDict({'weights': tensor([0.4564]), 'bias': tensor([0.3803])})\n",
      "Loss: 0.0498228557407856\n",
      "OrderedDict({'weights': tensor([0.4590]), 'bias': tensor([0.3818])})\n",
      "Loss: 0.04895269125699997\n",
      "OrderedDict({'weights': tensor([0.4615]), 'bias': tensor([0.3833])})\n",
      "Loss: 0.04819351062178612\n",
      "OrderedDict({'weights': tensor([0.4639]), 'bias': tensor([0.3843])})\n",
      "Loss: 0.047531817108392715\n",
      "OrderedDict({'weights': tensor([0.4662]), 'bias': tensor([0.3853])})\n",
      "Loss: 0.04692792519927025\n",
      "OrderedDict({'weights': tensor([0.4684]), 'bias': tensor([0.3858])})\n",
      "Loss: 0.04642331972718239\n",
      "OrderedDict({'weights': tensor([0.4706]), 'bias': tensor([0.3863])})\n",
      "Loss: 0.04591871425509453\n",
      "OrderedDict({'weights': tensor([0.4728]), 'bias': tensor([0.3868])})\n",
      "Loss: 0.04543796554207802\n",
      "OrderedDict({'weights': tensor([0.4748]), 'bias': tensor([0.3868])})\n",
      "Loss: 0.04503796622157097\n",
      "OrderedDict({'weights': tensor([0.4768]), 'bias': tensor([0.3868])})\n",
      "Loss: 0.04463795945048332\n",
      "OrderedDict({'weights': tensor([0.4788]), 'bias': tensor([0.3868])})\n",
      "Loss: 0.04423796758055687\n",
      "OrderedDict({'weights': tensor([0.4808]), 'bias': tensor([0.3868])})\n",
      "Loss: 0.04383796080946922\n",
      "OrderedDict({'weights': tensor([0.4828]), 'bias': tensor([0.3868])})\n",
      "Loss: 0.04343796521425247\n",
      "OrderedDict({'weights': tensor([0.4848]), 'bias': tensor([0.3868])})\n",
      "Loss: 0.043074630200862885\n",
      "OrderedDict({'weights': tensor([0.4866]), 'bias': tensor([0.3863])})\n",
      "Loss: 0.04272563010454178\n",
      "OrderedDict({'weights': tensor([0.4884]), 'bias': tensor([0.3858])})\n",
      "Loss: 0.04237663745880127\n",
      "OrderedDict({'weights': tensor([0.4902]), 'bias': tensor([0.3853])})\n",
      "Loss: 0.042027633637189865\n",
      "OrderedDict({'weights': tensor([0.4920]), 'bias': tensor([0.3848])})\n",
      "Loss: 0.04167863354086876\n",
      "OrderedDict({'weights': tensor([0.4938]), 'bias': tensor([0.3843])})\n",
      "Loss: 0.04132963344454765\n",
      "OrderedDict({'weights': tensor([0.4956]), 'bias': tensor([0.3838])})\n",
      "Loss: 0.040980637073516846\n",
      "OrderedDict({'weights': tensor([0.4974]), 'bias': tensor([0.3833])})\n",
      "Loss: 0.04063163325190544\n",
      "OrderedDict({'weights': tensor([0.4992]), 'bias': tensor([0.3828])})\n",
      "Loss: 0.04028264060616493\n",
      "OrderedDict({'weights': tensor([0.5010]), 'bias': tensor([0.3823])})\n",
      "Loss: 0.039933644235134125\n",
      "OrderedDict({'weights': tensor([0.5028]), 'bias': tensor([0.3818])})\n",
      "Loss: 0.03958464413881302\n",
      "OrderedDict({'weights': tensor([0.5046]), 'bias': tensor([0.3813])})\n",
      "Loss: 0.03923564404249191\n",
      "OrderedDict({'weights': tensor([0.5064]), 'bias': tensor([0.3808])})\n",
      "Loss: 0.03888664022088051\n",
      "OrderedDict({'weights': tensor([0.5082]), 'bias': tensor([0.3803])})\n",
      "Loss: 0.0385376438498497\n",
      "OrderedDict({'weights': tensor([0.5100]), 'bias': tensor([0.3798])})\n",
      "Loss: 0.03818932920694351\n",
      "OrderedDict({'weights': tensor([0.5116]), 'bias': tensor([0.3788])})\n",
      "Loss: 0.037852440029382706\n",
      "OrderedDict({'weights': tensor([0.5134]), 'bias': tensor([0.3783])})\n",
      "Loss: 0.0375034399330616\n",
      "OrderedDict({'weights': tensor([0.5152]), 'bias': tensor([0.3778])})\n",
      "Loss: 0.037164121866226196\n",
      "OrderedDict({'weights': tensor([0.5168]), 'bias': tensor([0.3768])})\n",
      "Loss: 0.03681822493672371\n",
      "OrderedDict({'weights': tensor([0.5186]), 'bias': tensor([0.3763])})\n",
      "Loss: 0.03647511824965477\n",
      "OrderedDict({'weights': tensor([0.5202]), 'bias': tensor([0.3753])})\n",
      "Loss: 0.03613303601741791\n",
      "OrderedDict({'weights': tensor([0.5220]), 'bias': tensor([0.3748])})\n",
      "Loss: 0.03578609973192215\n",
      "OrderedDict({'weights': tensor([0.5236]), 'bias': tensor([0.3738])})\n",
      "Loss: 0.035447828471660614\n",
      "OrderedDict({'weights': tensor([0.5254]), 'bias': tensor([0.3733])})\n",
      "Loss: 0.035098832100629807\n",
      "OrderedDict({'weights': tensor([0.5272]), 'bias': tensor([0.3728])})\n",
      "Loss: 0.03476089984178543\n",
      "OrderedDict({'weights': tensor([0.5288]), 'bias': tensor([0.3718])})\n",
      "Loss: 0.03441363200545311\n",
      "OrderedDict({'weights': tensor([0.5306]), 'bias': tensor([0.3713])})\n",
      "Loss: 0.03407188504934311\n",
      "OrderedDict({'weights': tensor([0.5322]), 'bias': tensor([0.3703])})\n",
      "Loss: 0.03372843936085701\n",
      "OrderedDict({'weights': tensor([0.5340]), 'bias': tensor([0.3698])})\n",
      "Loss: 0.03338287025690079\n",
      "OrderedDict({'weights': tensor([0.5355]), 'bias': tensor([0.3688])})\n",
      "Loss: 0.03304322808980942\n",
      "OrderedDict({'weights': tensor([0.5373]), 'bias': tensor([0.3683])})\n",
      "Loss: 0.03269422799348831\n",
      "OrderedDict({'weights': tensor([0.5391]), 'bias': tensor([0.3678])})\n",
      "Loss: 0.03235765919089317\n",
      "OrderedDict({'weights': tensor([0.5407]), 'bias': tensor([0.3668])})\n",
      "Loss: 0.03200903534889221\n",
      "OrderedDict({'weights': tensor([0.5425]), 'bias': tensor([0.3663])})\n",
      "Loss: 0.03166864812374115\n",
      "OrderedDict({'weights': tensor([0.5441]), 'bias': tensor([0.3653])})\n",
      "Loss: 0.03132382780313492\n",
      "OrderedDict({'weights': tensor([0.5459]), 'bias': tensor([0.3648])})\n",
      "Loss: 0.030979642644524574\n",
      "OrderedDict({'weights': tensor([0.5475]), 'bias': tensor([0.3638])})\n",
      "Loss: 0.030638623982667923\n",
      "OrderedDict({'weights': tensor([0.5493]), 'bias': tensor([0.3633])})\n",
      "Loss: 0.030290639027953148\n",
      "OrderedDict({'weights': tensor([0.5509]), 'bias': tensor([0.3623])})\n",
      "Loss: 0.029953423887491226\n",
      "OrderedDict({'weights': tensor([0.5527]), 'bias': tensor([0.3618])})\n",
      "Loss: 0.02960442379117012\n",
      "OrderedDict({'weights': tensor([0.5545]), 'bias': tensor([0.3613])})\n",
      "Loss: 0.029265422374010086\n",
      "OrderedDict({'weights': tensor([0.5561]), 'bias': tensor([0.3603])})\n",
      "Loss: 0.028919219970703125\n",
      "OrderedDict({'weights': tensor([0.5579]), 'bias': tensor([0.3598])})\n",
      "Loss: 0.028576409444212914\n",
      "OrderedDict({'weights': tensor([0.5595]), 'bias': tensor([0.3588])})\n",
      "Loss: 0.028234023600816727\n",
      "OrderedDict({'weights': tensor([0.5613]), 'bias': tensor([0.3583])})\n",
      "Loss: 0.027887403964996338\n",
      "OrderedDict({'weights': tensor([0.5629]), 'bias': tensor([0.3573])})\n",
      "Loss: 0.027548829093575478\n",
      "OrderedDict({'weights': tensor([0.5647]), 'bias': tensor([0.3568])})\n",
      "Loss: 0.027199815958738327\n",
      "OrderedDict({'weights': tensor([0.5665]), 'bias': tensor([0.3563])})\n",
      "Loss: 0.026862192898988724\n",
      "OrderedDict({'weights': tensor([0.5681]), 'bias': tensor([0.3553])})\n",
      "Loss: 0.02651461958885193\n",
      "OrderedDict({'weights': tensor([0.5699]), 'bias': tensor([0.3548])})\n",
      "Loss: 0.02617317996919155\n",
      "OrderedDict({'weights': tensor([0.5715]), 'bias': tensor([0.3538])})\n",
      "Loss: 0.025829419493675232\n",
      "OrderedDict({'weights': tensor([0.5733]), 'bias': tensor([0.3533])})\n",
      "Loss: 0.02548416517674923\n",
      "OrderedDict({'weights': tensor([0.5748]), 'bias': tensor([0.3523])})\n",
      "Loss: 0.025144219398498535\n",
      "OrderedDict({'weights': tensor([0.5766]), 'bias': tensor([0.3518])})\n",
      "Loss: 0.02479521557688713\n",
      "OrderedDict({'weights': tensor([0.5784]), 'bias': tensor([0.3513])})\n"
     ]
    }
   ],
   "source": [
    "epochs = 100\n",
    "\n",
    "for epoch in range(epochs):\n",
    "    model_0.train()\n",
    "\n",
    "    y_pred = model_0(X_train)\n",
    "    \n",
    "    loss = loss_fn(y_pred, y_train)\n",
    "    print(f\"Loss: {loss}\")\n",
    "    \n",
    "    optimizer.zero_grad()\n",
    "    \n",
    "    loss.backward()\n",
    "    \n",
    "    optimizer.step()\n",
    "\n",
    "    model_0.eval()\n",
    "    \n",
    "    print(model_0.state_dict())"
   ]
  },
  {
   "cell_type": "code",
   "execution_count": 19,
   "id": "93c1163d",
   "metadata": {},
   "outputs": [],
   "source": [
    "with torch.inference_mode():\n",
    "    y_pred = model_0(X_test)"
   ]
  },
  {
   "cell_type": "code",
   "execution_count": 20,
   "id": "889f0eb8",
   "metadata": {},
   "outputs": [
    {
     "data": {
      "image/png": "[encoded data removed]",
      "text/plain": [
       "<Figure size 1000x700 with 1 Axes>"
      ]
     },
     "metadata": {},
     "output_type": "display_data"
    }
   ],
   "source": [
    "plot_predictions(X_train, y_train, X_test, y_test, y_pred)"
   ]
  },
  {
   "cell_type": "code",
   "execution_count": 54,
   "id": "ca3d695e",
   "metadata": {},
   "outputs": [
    {
     "name": "stdout",
     "output_type": "stream",
     "text": [
      "Epoch: 0 | Loss: 0.31288135051727295 | Test loss: 0.48106518387794495\n",
      "Epoch: 10 | Loss: 0.1976713389158249 | Test loss: 0.3463551998138428\n",
      "Epoch: 20 | Loss: 0.08908725529909134 | Test loss: 0.2172965705394745\n",
      "Epoch: 30 | Loss: 0.053148530423641205 | Test loss: 0.14464019238948822\n",
      "Epoch: 40 | Loss: 0.04543796554207802 | Test loss: 0.11360953748226166\n",
      "Epoch: 50 | Loss: 0.04167863354086876 | Test loss: 0.09919948130846024\n",
      "Epoch: 60 | Loss: 0.03818932920694351 | Test loss: 0.08886633813381195\n",
      "Epoch: 70 | Loss: 0.03476089984178543 | Test loss: 0.0805937722325325\n",
      "Epoch: 80 | Loss: 0.03132382780313492 | Test loss: 0.07232122868299484\n",
      "Epoch: 90 | Loss: 0.027887403964996338 | Test loss: 0.06473556160926819\n"
     ]
    }
   ],
   "source": [
    "### Testing code\n",
    "\n",
    "epochs = 100\n",
    "\n",
    "for epoch in range(epochs):\n",
    "    model_0.train()\n",
    "\n",
    "    y_pred = model_0(X_train)\n",
    "    \n",
    "    loss = loss_fn(y_pred, y_train)\n",
    "    # print(f\"Loss: {loss}\")\n",
    "    \n",
    "    optimizer.zero_grad()\n",
    "    \n",
    "    loss.backward()\n",
    "    \n",
    "    optimizer.step()\n",
    "\n",
    "    model_0.eval() # turns off difference settings in the model not needed for evaluation / testing (dropout / batch norm layers)\n",
    "    with torch.inference_mode(): # turns off gradient tracing & a couple more things behinde the scenes\n",
    "    # with torch.no_grad():     \n",
    "        # 1. Do the forwad pass\n",
    "        test_pred = model_0(X_test)\n",
    "\n",
    "        # 2. Calculate the loss\n",
    "        test_loss = loss_fn(test_pred, y_test)\n",
    "    if epoch % 10 == 0:\n",
    "        print(f\"Epoch: {epoch} | Loss: {loss} | Test loss: {test_loss}\")\n",
    "\n",
    "    # print(model_0.state_dict())"
   ]
  },
  {
   "cell_type": "code",
   "execution_count": null,
   "id": "ff02d2cf",
   "metadata": {},
   "outputs": [
    {
     "name": "stdout",
     "output_type": "stream",
     "text": [
      "Epoch: 0 | Loss: 0.3013603687286377 | Test loss: 0.4675942063331604\n",
      "Epoch: 10 | Loss: 0.18615034222602844 | Test loss: 0.3328842222690582\n",
      "Epoch: 20 | Loss: 0.08227582275867462 | Test loss: 0.2069590985774994\n",
      "Epoch: 30 | Loss: 0.051819466054439545 | Test loss: 0.14023718237876892\n",
      "Epoch: 40 | Loss: 0.04503796622157097 | Test loss: 0.11182951927185059\n",
      "Epoch: 50 | Loss: 0.04132963344454765 | Test loss: 0.09809747338294983\n",
      "Epoch: 60 | Loss: 0.037852440029382706 | Test loss: 0.08776430785655975\n",
      "Epoch: 70 | Loss: 0.03441363200545311 | Test loss: 0.07949177175760269\n",
      "Epoch: 80 | Loss: 0.030979642644524574 | Test loss: 0.07190610468387604\n",
      "Epoch: 90 | Loss: 0.027548829093575478 | Test loss: 0.06363358348608017\n",
      "Epoch: 100 | Loss: 0.024110015481710434 | Test loss: 0.05536102503538132\n",
      "Epoch: 110 | Loss: 0.020677709951996803 | Test loss: 0.04777535796165466\n",
      "Epoch: 120 | Loss: 0.017245203256607056 | Test loss: 0.0395028293132782\n",
      "Epoch: 130 | Loss: 0.01380639337003231 | Test loss: 0.031230276450514793\n",
      "Epoch: 140 | Loss: 0.010375778190791607 | Test loss: 0.023644620552659035\n",
      "Epoch: 150 | Loss: 0.0069415755569934845 | Test loss: 0.015372085385024548\n",
      "Epoch: 160 | Loss: 0.003502772655338049 | Test loss: 0.0070995450951159\n",
      "Epoch: 170 | Loss: 0.0025885074865072966 | Test loss: 0.008447891101241112\n",
      "Epoch: 180 | Loss: 0.0025885074865072966 | Test loss: 0.008447891101241112\n",
      "Epoch: 190 | Loss: 0.0025885074865072966 | Test loss: 0.008447891101241112\n"
     ]
    }
   ],
   "source": [
    "torch.manual_seed(42)\n",
    "\n",
    "epochs = 200\n",
    "\n",
    "epoch_count = []\n",
    "loss_values = []\n",
    "test_loss_values = []\n",
    "\n",
    "for epoch in range(epochs):\n",
    "    model_0.train()\n",
    "\n",
    "    y_pred = model_0(X_train)\n",
    "    \n",
    "    loss = loss_fn(y_pred, y_train)\n",
    "    # print(f\"Loss: {loss}\")\n",
    "    \n",
    "    optimizer.zero_grad()\n",
    "    \n",
    "    loss.backward()\n",
    "    \n",
    "    optimizer.step()\n",
    "\n",
    "    model_0.eval() # turns off difference settings in the model not needed for evaluation / testing (dropout / batch norm layers)\n",
    "    with torch.inference_mode(): # turns off gradient tracing & a couple more things behinde the scenes\n",
    "    # with torch.no_grad():     \n",
    "        # 1. Do the forwad pass\n",
    "        test_pred = model_0(X_test)\n",
    "\n",
    "        # 2. Calculate the loss\n",
    "        test_loss = loss_fn(test_pred, y_test)\n",
    "    if epoch % 10 == 0:\n",
    "        epoch_count.append(epoch)\n",
    "        loss_values.append(loss)\n",
    "        test_loss_values.append(test_loss)\n",
    "        print(f\"Epoch: {epoch} | MAE Train Loss: {loss} | Test loss: {test_loss}\")\n",
    "\n",
    "    # print(model_0.state_dict())"
   ]
  },
  {
   "cell_type": "code",
   "execution_count": 74,
   "id": "5b327438",
   "metadata": {},
   "outputs": [],
   "source": [
    "import numpy as np\n",
    "loss_values = np.array(torch.tensor(loss_values).numpy())"
   ]
  },
  {
   "cell_type": "code",
   "execution_count": 77,
   "id": "f62e7e12",
   "metadata": {},
   "outputs": [
    {
     "data": {
      "text/plain": [
       "<matplotlib.legend.Legend at 0x161687110>"
      ]
     },
     "execution_count": 77,
     "metadata": {},
     "output_type": "execute_result"
    },
    {
     "data": {
      "image/png": "[encoded data removed]",
      "text/plain": [
       "<Figure size 640x480 with 1 Axes>"
      ]
     },
     "metadata": {},
     "output_type": "display_data"
    }
   ],
   "source": [
    "# Plot the loss curves\n",
    "plt.plot(epoch_count, loss_values, label=\"Train loss\")\n",
    "plt.plot(epoch_count, test_loss_values, label=\"Test loss\")\n",
    "plt.title(\"Training and testing loss curves\")\n",
    "plt.ylabel(\"Loss\")\n",
    "plt.xlabel(\"Epochs\")\n",
    "plt.legend()"
   ]
  },
  {
   "cell_type": "code",
   "execution_count": 79,
   "id": "ca17a6a0",
   "metadata": {},
   "outputs": [],
   "source": [
    "## Saving a model in PyTorch\n",
    "\n",
    "## There are three main methods you should about for saving and loading models in PyTorch\n",
    "## 1.\n",
    "## 2.\n",
    "## 3."
   ]
  },
  {
   "cell_type": "code",
   "execution_count": 84,
   "id": "3b0295b4",
   "metadata": {},
   "outputs": [
    {
     "data": {
      "text/plain": [
       "OrderedDict([('weights', tensor([0.6951])), ('bias', tensor([0.2993]))])"
      ]
     },
     "execution_count": 84,
     "metadata": {},
     "output_type": "execute_result"
    }
   ],
   "source": [
    "model_0.state_dict()"
   ]
  },
  {
   "cell_type": "code",
   "execution_count": 86,
   "id": "4618d3fa",
   "metadata": {},
   "outputs": [
    {
     "name": "stdout",
     "output_type": "stream",
     "text": [
      "Saving model to: models/01_pytorch_workflows_model_0.pth\n"
     ]
    }
   ],
   "source": [
    "# Saving out PyTorch model\n",
    "from pathlib import Path\n",
    "\n",
    "# 1. Create model directory\n",
    "MODEL_PATH = Path(\"models\")\n",
    "MODEL_PATH.mkdir(parents=True, exist_ok=True)\n",
    "\n",
    "# 2. Create model save path\n",
    "MODEL_NAME = \"01_pytorch_workflows_model_0.pth\"\n",
    "MODEL_SAVE_PATH = MODEL_PATH / MODEL_NAME\n",
    "\n",
    "# 3. Save the model state dict\n",
    "print(f\"Saving model to: {MODEL_SAVE_PATH}\")\n",
    "torch.save(\n",
    "    obj=model_0.state_dict(),\n",
    "    f=MODEL_SAVE_PATH\n",
    ")"
   ]
  },
  {
   "cell_type": "code",
   "execution_count": 87,
   "id": "49ea0f9d",
   "metadata": {},
   "outputs": [],
   "source": [
    "## Loading a PyTorch model\n",
    "\n",
    "# Since we saved our model's `state_dict()` rather the entire model, we'll create a new instance of our model class and load the saved `state_dict()` into that."
   ]
  },
  {
   "cell_type": "code",
   "execution_count": 88,
   "id": "121c8d56",
   "metadata": {},
   "outputs": [
    {
     "data": {
      "text/plain": [
       "OrderedDict([('weights', tensor([0.6951])), ('bias', tensor([0.2993]))])"
      ]
     },
     "execution_count": 88,
     "metadata": {},
     "output_type": "execute_result"
    }
   ],
   "source": [
    "model_0.state_dict()"
   ]
  },
  {
   "cell_type": "code",
   "execution_count": 94,
   "id": "e885d277",
   "metadata": {},
   "outputs": [
    {
     "data": {
      "text/plain": [
       "<All keys matched successfully>"
      ]
     },
     "execution_count": 94,
     "metadata": {},
     "output_type": "execute_result"
    }
   ],
   "source": [
    "# To load in a saved state_dict() we have to inistanciate a new instance of our model class\n",
    "loaded_model_0 = LinearRegressionModel()\n",
    "\n",
    "# Load the saved state_dict of model_0 (this will update the new instance with updated parameters)\n",
    "loaded_model_0.load_state_dict(\n",
    "    torch.load(f=MODEL_SAVE_PATH)\n",
    ")"
   ]
  },
  {
   "cell_type": "code",
   "execution_count": 93,
   "id": "8b2e1d2e",
   "metadata": {},
   "outputs": [
    {
     "data": {
      "text/plain": [
       "OrderedDict([('weights', tensor([0.6951])), ('bias', tensor([0.2993]))])"
      ]
     },
     "execution_count": 93,
     "metadata": {},
     "output_type": "execute_result"
    }
   ],
   "source": [
    "loaded_model_0.state_dict()"
   ]
  },
  {
   "cell_type": "code",
   "execution_count": 95,
   "id": "a6782657",
   "metadata": {},
   "outputs": [
    {
     "data": {
      "text/plain": [
       "tensor([[0.8554],\n",
       "        [0.8693],\n",
       "        [0.8832],\n",
       "        [0.8971],\n",
       "        [0.9110],\n",
       "        [0.9249],\n",
       "        [0.9388],\n",
       "        [0.9527],\n",
       "        [0.9666],\n",
       "        [0.9805]])"
      ]
     },
     "execution_count": 95,
     "metadata": {},
     "output_type": "execute_result"
    }
   ],
   "source": [
    "# Make some predictions with our loaded model\n",
    "loaded_model_0.eval()\n",
    "with torch.inference_mode():\n",
    "    loaded_model_preds = loaded_model_0(X_test)\n",
    "\n",
    "loaded_model_preds"
   ]
  },
  {
   "cell_type": "code",
   "execution_count": 101,
   "id": "784a80ad",
   "metadata": {},
   "outputs": [
    {
     "data": {
      "text/plain": [
       "tensor([[0.8554],\n",
       "        [0.8693],\n",
       "        [0.8832],\n",
       "        [0.8971],\n",
       "        [0.9110],\n",
       "        [0.9249],\n",
       "        [0.9388],\n",
       "        [0.9527],\n",
       "        [0.9666],\n",
       "        [0.9805]])"
      ]
     },
     "execution_count": 101,
     "metadata": {},
     "output_type": "execute_result"
    }
   ],
   "source": [
    "# Make some model preds\n",
    "model_0.eval()\n",
    "with torch.inference_mode():\n",
    "    y_preds = model_0(X_test)\n",
    "\n",
    "y_preds"
   ]
  },
  {
   "cell_type": "code",
   "execution_count": 100,
   "id": "c8740471",
   "metadata": {},
   "outputs": [
    {
     "data": {
      "text/plain": [
       "tensor([[True],\n",
       "        [True],\n",
       "        [True],\n",
       "        [True],\n",
       "        [True],\n",
       "        [True],\n",
       "        [True],\n",
       "        [True],\n",
       "        [True],\n",
       "        [True]])"
      ]
     },
     "execution_count": 100,
     "metadata": {},
     "output_type": "execute_result"
    }
   ],
   "source": [
    "# Compare loaded model preds with original model preds\n",
    "y_preds == loaded_model_preds"
   ]
  },
  {
   "cell_type": "markdown",
   "id": "2c025960",
   "metadata": {},
   "source": [
    "## 6. Putting it all together\n",
    "\n",
    "Let's go through the steps above and see it all in one place"
   ]
  },
  {
   "cell_type": "code",
   "execution_count": null,
   "id": "5f0837db",
   "metadata": {},
   "outputs": [],
   "source": [
    "# Import PyTorch and matplotlib\n",
    "import torch\n",
    "from torch import nn\n",
    "import matplotlib.pytplot as plt\n",
    "\n",
    "# Check PyTorch version\n",
    "torch.__version__"
   ]
  },
  {
   "cell_type": "markdown",
   "id": "afa986c0",
   "metadata": {},
   "source": [
    "Create device-agnostic code.\n",
    "\n",
    "This means if we've ot access to a GPU, our code will use it (for potentially faster computig)\n",
    "\n",
    "If no GPU is available, the code will default to using GPU."
   ]
  },
  {
   "cell_type": "code",
   "execution_count": 102,
   "id": "6894c1cc",
   "metadata": {},
   "outputs": [
    {
     "name": "stdout",
     "output_type": "stream",
     "text": [
      "Using device: mps\n"
     ]
    }
   ],
   "source": [
    "# Setup device agnostic code\n",
    "device = \"gpu\" if torch.cuda.is_available() else \"mps\"\n",
    "print(f\"Using device: {device}\")"
   ]
  },
  {
   "cell_type": "markdown",
   "id": "796119e6",
   "metadata": {},
   "source": [
    "### 6.1 Data"
   ]
  },
  {
   "cell_type": "code",
   "execution_count": 122,
   "id": "af19cc71",
   "metadata": {},
   "outputs": [
    {
     "data": {
      "text/plain": [
       "(tensor([[0.0000],\n",
       "         [0.0200],\n",
       "         [0.0400],\n",
       "         [0.0600],\n",
       "         [0.0800],\n",
       "         [0.1000],\n",
       "         [0.1200],\n",
       "         [0.1400],\n",
       "         [0.1600],\n",
       "         [0.1800]], device='mps:0'),\n",
       " tensor([[0.1000],\n",
       "         [0.1140],\n",
       "         [0.1280],\n",
       "         [0.1420],\n",
       "         [0.1560],\n",
       "         [0.1700],\n",
       "         [0.1840],\n",
       "         [0.1980],\n",
       "         [0.2120],\n",
       "         [0.2260]], device='mps:0'))"
      ]
     },
     "execution_count": 122,
     "metadata": {},
     "output_type": "execute_result"
    }
   ],
   "source": [
    "# Create some data using the linear regression formula of y = weights * X + bias\n",
    "weigh = 0.2\n",
    "bias = 0.1\n",
    "\n",
    "# Create range values\n",
    "start = 0\n",
    "end = 1\n",
    "step = 0.02\n",
    "\n",
    "# Create X and y (features and labels)\n",
    "X = torch.arange(start, end, step, device=device).unsqueeze(dim=1) \n",
    "y = weight * X + bias\n",
    "X[:10], y[:10]"
   ]
  },
  {
   "cell_type": "code",
   "execution_count": 123,
   "id": "3e62ae55",
   "metadata": {},
   "outputs": [
    {
     "data": {
      "text/plain": [
       "(40, 40, 10, 10)"
      ]
     },
     "execution_count": 123,
     "metadata": {},
     "output_type": "execute_result"
    }
   ],
   "source": [
    "# Split data\n",
    "train_split = int(0.8 * len(X))\n",
    "X_train, y_train = X[:train_split], y[:train_split]\n",
    "X_test, y_test = X[train_split:], y[train_split:]\n",
    "len(X_train), len(y_train), len(X_test), len(y_test)"
   ]
  },
  {
   "cell_type": "code",
   "execution_count": 124,
   "id": "03651d8f",
   "metadata": {},
   "outputs": [],
   "source": [
    "# Plot the data\n",
    "# Note: if you don't have the plot_predictions() function loaded, this will error\n",
    "\n",
    "# def plot_predictions(train_data=X_train, train_labels=y_train,\n",
    "#                      test_data=X_test, test_labels=y_test,\n",
    "#                      predictions=None):\n",
    "#     \"\"\"\n",
    "#     Plots training data, test data and compares predictions.\n",
    "#     \"\"\"\n",
    "#     plt.figure(figsize=(10, 7))\n",
    "    \n",
    "#     plt.scatter(train_data, train_labels, c=\"b\", s=4, label=\"Training data\")\n",
    "#     plt.scatter(test_data, test_labels, c=\"g\", s=4, label=\"Testing data\")\n",
    "    \n",
    "#     if predictions is not None:\n",
    "#         plt.scatter(test_data, predictions, c=\"r\", s=4, label=\"Predictions\")\n",
    "    \n",
    "#     plt.legend(prop={\"size\": 14});\n",
    "#     plt.show()"
   ]
  },
  {
   "cell_type": "markdown",
   "id": "ca2561c3",
   "metadata": {},
   "source": [
    "### 6.2 Building a PyTorch linear model"
   ]
  },
  {
   "cell_type": "code",
   "execution_count": 125,
   "id": "b3bf947c",
   "metadata": {},
   "outputs": [
    {
     "data": {
      "text/plain": [
       "(LinearRegressionModelV2(\n",
       "   (linear_layer): Linear(in_features=1, out_features=1, bias=True)\n",
       " ),\n",
       " OrderedDict([('linear_layer.weight', tensor([[0.7645]])),\n",
       "              ('linear_layer.bias', tensor([0.8300]))]))"
      ]
     },
     "execution_count": 125,
     "metadata": {},
     "output_type": "execute_result"
    }
   ],
   "source": [
    "# Create a linear model by subclassing nn.Module\n",
    "class LinearRegressionModelV2(nn.Module):\n",
    "    def __init__(self):\n",
    "        super().__init__()\n",
    "        # Use nn.Linear() for creating the model parameters / also called: linear transform\n",
    "        self.linear_layer = nn.Linear(\n",
    "            in_features=1,\n",
    "            out_features=1,\n",
    "        )\n",
    "    \n",
    "    def forward(self, x: torch.Tensor) -> torch.Tensor:\n",
    "        return self.linear_layer(x)\n",
    "\n",
    "# Set the manual seed\n",
    "torch.manual_seed(42)\n",
    "model_1 = LinearRegressionModelV2()\n",
    "model_1, model_1.state_dict()"
   ]
  },
  {
   "cell_type": "code",
   "execution_count": 126,
   "id": "bbad86ae",
   "metadata": {},
   "outputs": [
    {
     "data": {
      "text/plain": [
       "device(type='cpu')"
      ]
     },
     "execution_count": 126,
     "metadata": {},
     "output_type": "execute_result"
    }
   ],
   "source": [
    "# Check the model current device\n",
    "next(model_1.parameters()).device"
   ]
  },
  {
   "cell_type": "code",
   "execution_count": 127,
   "id": "51acadb4",
   "metadata": {},
   "outputs": [
    {
     "data": {
      "text/plain": [
       "device(type='mps', index=0)"
      ]
     },
     "execution_count": 127,
     "metadata": {},
     "output_type": "execute_result"
    }
   ],
   "source": [
    "# Set the model to use the target device\n",
    "model_1.to(device)\n",
    "next(model_1.parameters()).device"
   ]
  },
  {
   "cell_type": "markdown",
   "id": "abdb36dd",
   "metadata": {},
   "source": [
    "### 6.3 Training\n",
    "\n",
    "For training we need:\n",
    "* Loss function\n",
    "* Optimizer\n",
    "* Training loop\n",
    "* Testing loop"
   ]
  },
  {
   "cell_type": "code",
   "execution_count": 128,
   "id": "a8a78e95",
   "metadata": {},
   "outputs": [],
   "source": [
    "# Set up the loss function\n",
    "loss_fn = nn.L1Loss() # same as MAE\n",
    "\n",
    "# Set up the optimizer\n",
    "optimizer = torch.optim.SGD(\n",
    "    params=model_1.parameters(),\n",
    "    lr=0.01\n",
    ")"
   ]
  },
  {
   "cell_type": "code",
   "execution_count": 129,
   "id": "97e850e2",
   "metadata": {},
   "outputs": [
    {
     "name": "stdout",
     "output_type": "stream",
     "text": [
      "Epoch: 0 | Loss: 0.755177915096283 | Test loss: 0.7739762663841248\n",
      "Epoch: 10 | Loss: 0.6399680972099304 | Test loss: 0.6392664313316345\n",
      "Epoch: 20 | Loss: 0.5247582197189331 | Test loss: 0.5045565962791443\n",
      "Epoch: 30 | Loss: 0.409548282623291 | Test loss: 0.36984673142433167\n",
      "Epoch: 40 | Loss: 0.2943384647369385 | Test loss: 0.23513689637184143\n",
      "Epoch: 50 | Loss: 0.17912858724594116 | Test loss: 0.1004270538687706\n",
      "Epoch: 60 | Loss: 0.06402724236249924 | Test loss: 0.03343571349978447\n",
      "Epoch: 70 | Loss: 0.03615034744143486 | Test loss: 0.0744357779622078\n",
      "Epoch: 80 | Loss: 0.0322178490459919 | Test loss: 0.07306785136461258\n",
      "Epoch: 90 | Loss: 0.028742367401719093 | Test loss: 0.06616917252540588\n",
      "Epoch: 100 | Loss: 0.025311117991805077 | Test loss: 0.0585835836827755\n",
      "Epoch: 110 | Loss: 0.021877551451325417 | Test loss: 0.050311099737882614\n",
      "Epoch: 120 | Loss: 0.018438735976815224 | Test loss: 0.042038630694150925\n",
      "Epoch: 130 | Loss: 0.015009166672825813 | Test loss: 0.03445303440093994\n",
      "Epoch: 140 | Loss: 0.011573915369808674 | Test loss: 0.026180583983659744\n",
      "Epoch: 150 | Loss: 0.00813565868884325 | Test loss: 0.018595015630126\n",
      "Epoch: 160 | Loss: 0.004707204643636942 | Test loss: 0.010322588495910168\n",
      "Epoch: 170 | Loss: 0.00363107374869287 | Test loss: 0.005814749281853437\n",
      "Epoch: 180 | Loss: 0.00363107374869287 | Test loss: 0.005814749281853437\n",
      "Epoch: 190 | Loss: 0.00363107374869287 | Test loss: 0.005814749281853437\n"
     ]
    }
   ],
   "source": [
    "# Let's write a trainig loop\n",
    "torch.manual_seed(42)\n",
    "\n",
    "epochs = 200\n",
    "\n",
    "for epoch in range(epochs):\n",
    "    model_1.train()\n",
    "\n",
    "    # 1. Forward pass\n",
    "    y_pred = model_1(X_train)\n",
    "\n",
    "    # 2. Calculate the loss\n",
    "    loss = loss_fn(y_pred, y_train)\n",
    "\n",
    "    # 3. Optimizer zero grad\n",
    "    optimizer.zero_grad()\n",
    "\n",
    "    # 4. Perform backpropagation\n",
    "    loss.backward()\n",
    "\n",
    "    # 5. Optimizer step\n",
    "    optimizer.step()\n",
    "\n",
    "    ### Testing\n",
    "    model_1.eval()\n",
    "    with torch.inference_mode():\n",
    "        test_pred = model_1(X_test)\n",
    "        \n",
    "        test_loss = loss_fn(test_pred, y_test)\n",
    "\n",
    "    # Print out what's happening\n",
    "\n",
    "    if epoch % 10 == 0:\n",
    "        print(f\"Epoch: {epoch} | Loss: {loss} | Test loss: {test_loss}\")"
   ]
  },
  {
   "cell_type": "code",
   "execution_count": 130,
   "id": "414cc14f",
   "metadata": {},
   "outputs": [
    {
     "data": {
      "text/plain": [
       "OrderedDict([('linear_layer.weight', tensor([[0.6919]], device='mps:0')),\n",
       "             ('linear_layer.bias', tensor([0.0995], device='mps:0'))])"
      ]
     },
     "execution_count": 130,
     "metadata": {},
     "output_type": "execute_result"
    }
   ],
   "source": [
    "model_1.state_dict()"
   ]
  },
  {
   "cell_type": "markdown",
   "id": "44b692ce",
   "metadata": {},
   "source": [
    "### 6.4 Making and evaluating predictions"
   ]
  },
  {
   "cell_type": "code",
   "execution_count": 140,
   "id": "959d48c1",
   "metadata": {},
   "outputs": [
    {
     "data": {
      "text/plain": [
       "tensor([[0.6531],\n",
       "        [0.6669],\n",
       "        [0.6807],\n",
       "        [0.6946],\n",
       "        [0.7084],\n",
       "        [0.7223],\n",
       "        [0.7361],\n",
       "        [0.7499],\n",
       "        [0.7638],\n",
       "        [0.7776]], device='mps:0')"
      ]
     },
     "execution_count": 140,
     "metadata": {},
     "output_type": "execute_result"
    }
   ],
   "source": [
    "# Trun model into evaluation mode\n",
    "model_1.eval()\n",
    "\n",
    "# Make predictions on the test data\n",
    "with torch.inference_mode():\n",
    "    y_preds = model_1(X_test)\n",
    "    \n",
    "y_preds"
   ]
  },
  {
   "cell_type": "code",
   "execution_count": 141,
   "id": "551799c1",
   "metadata": {},
   "outputs": [
    {
     "data": {
      "image/png": "[encoded data removed]",
      "text/plain": [
       "<Figure size 1000x700 with 1 Axes>"
      ]
     },
     "metadata": {},
     "output_type": "display_data"
    }
   ],
   "source": [
    "plot_predictions(\n",
    "    X_train.cpu(),\n",
    "    y_train.cpu(),\n",
    "    X_test.cpu(),\n",
    "    y_test.cpu(),\n",
    "    y_preds.cpu()\n",
    ")"
   ]
  },
  {
   "cell_type": "markdown",
   "id": "f214ca6d",
   "metadata": {},
   "source": [
    "### 6.5 Saving and loading the model"
   ]
  },
  {
   "cell_type": "code",
   "execution_count": 151,
   "id": "4721f1b3",
   "metadata": {},
   "outputs": [],
   "source": [
    "# EPOCHS = \n",
    "# LR = \n",
    "# MODEL_NAME = ..."
   ]
  },
  {
   "cell_type": "code",
   "execution_count": null,
   "id": "fdd45e00",
   "metadata": {},
   "outputs": [
    {
     "name": "stdout",
     "output_type": "stream",
     "text": [
      "Saving model to: models/01_pytorch_workflow_model_1.pth\n"
     ]
    }
   ],
   "source": [
    "# Save a PyTorch model\n",
    "from pathlib import Path\n",
    "\n",
    "# 1. Create models directory\n",
    "MODEL_PATH = Path(\"models\")\n",
    "MODEL_PATH.mkdir(parents=True, exist_ok=True)\n",
    "\n",
    "# 2. Create model save path\n",
    "MODEL_NAME = \"01_pytorch_workflow_model_1.pth\"\n",
    "MODEL_SAVE_PATH = MODEL_PATH / MODEL_NAME\n",
    "\n",
    "# 3. Save the model state dict\n",
    "print(f\"Saving model to: {MODEL_SAVE_PATH}\")\n",
    "torch.save(\n",
    "    obj=model_1.state_dict(),\n",
    "    f=MODEL_SAVE_PATH\n",
    ")"
   ]
  },
  {
   "cell_type": "code",
   "execution_count": 146,
   "id": "94c39a97",
   "metadata": {},
   "outputs": [
    {
     "data": {
      "text/plain": [
       "LinearRegressionModelV2(\n",
       "  (linear_layer): Linear(in_features=1, out_features=1, bias=True)\n",
       ")"
      ]
     },
     "execution_count": 146,
     "metadata": {},
     "output_type": "execute_result"
    }
   ],
   "source": [
    "# Load a PyTorch model\n",
    "\n",
    "# Create a new instance of linear regression model V2\n",
    "loaded_model_1 = LinearRegressionModelV2()\n",
    "\n",
    "# Load the saved model_1 state_dict\n",
    "loaded_model_1.load_state_dict(\n",
    "    torch.load(MODEL_SAVE_PATH)\n",
    ")\n",
    "\n",
    "# Put the loaded model to device\n",
    "loaded_model_1.to(device)"
   ]
  },
  {
   "cell_type": "code",
   "execution_count": 148,
   "id": "10e8d05b",
   "metadata": {},
   "outputs": [
    {
     "data": {
      "text/plain": [
       "device(type='mps', index=0)"
      ]
     },
     "execution_count": 148,
     "metadata": {},
     "output_type": "execute_result"
    }
   ],
   "source": [
    "next(loaded_model_1.parameters()).device"
   ]
  },
  {
   "cell_type": "code",
   "execution_count": 149,
   "id": "401b0b54",
   "metadata": {},
   "outputs": [
    {
     "data": {
      "text/plain": [
       "OrderedDict([('linear_layer.weight', tensor([[0.6919]], device='mps:0')),\n",
       "             ('linear_layer.bias', tensor([0.0995], device='mps:0'))])"
      ]
     },
     "execution_count": 149,
     "metadata": {},
     "output_type": "execute_result"
    }
   ],
   "source": [
    "loaded_model_1.state_dict()"
   ]
  },
  {
   "cell_type": "code",
   "execution_count": 152,
   "id": "5fefa712",
   "metadata": {},
   "outputs": [
    {
     "data": {
      "text/plain": [
       "tensor([[True],\n",
       "        [True],\n",
       "        [True],\n",
       "        [True],\n",
       "        [True],\n",
       "        [True],\n",
       "        [True],\n",
       "        [True],\n",
       "        [True],\n",
       "        [True]], device='mps:0')"
      ]
     },
     "execution_count": 152,
     "metadata": {},
     "output_type": "execute_result"
    }
   ],
   "source": [
    "# Evaluate loaded model\n",
    "loaded_model_1.eval()\n",
    "with torch.inference_mode():\n",
    "    loaded_model_1_preds = loaded_model_1(X_test)\n",
    "\n",
    "y_preds == loaded_model_1_preds"
   ]
  }
 ],
 "metadata": {
  "kernelspec": {
   "display_name": ".venv",
   "language": "python",
   "name": "python3"
  },
  "language_info": {
   "codemirror_mode": {
    "name": "ipython",
    "version": 3
   },
   "file_extension": ".py",
   "mimetype": "text/x-python",
   "name": "python",
   "nbconvert_exporter": "python",
   "pygments_lexer": "ipython3",
   "version": "3.13.5"
  }
 },
 "nbformat": 4,
 "nbformat_minor": 5
}
