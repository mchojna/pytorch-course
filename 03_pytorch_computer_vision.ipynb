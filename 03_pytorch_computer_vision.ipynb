{
 "cells": [
  {
   "cell_type": "markdown",
   "id": "fe626b79",
   "metadata": {},
   "source": [
    "## 03. PyTorch Computer Vision\n",
    "\n",
    "Resource coursebook: https://www.learnpytorch.io/03_pytorch_computer_vision/"
   ]
  },
  {
   "cell_type": "markdown",
   "id": "6c54733f",
   "metadata": {},
   "source": [
    "## 0. Computer vision libraries in PyTorch\n",
    "\n",
    "* `torchvision` - base domain library for PyTorch computer vision\n",
    "* `torchvision.datasets` - get datasets and data loading function for computer vision here\n",
    "* `torchvision.models` - get pretrained computer vision models that you can levarage for your own problems\n",
    "* `torchvision.transforms` - function for manipulating your vision data (images) to be suitable for use with ML model\n",
    "* `torch.utils.data.Dataset` - base dataset class for PyTorch\n",
    "* `torch.utils.data.DataLoader` - create a Python iterable over a datasets"
   ]
  },
  {
   "cell_type": "code",
   "execution_count": 14,
   "id": "da0743ba",
   "metadata": {},
   "outputs": [
    {
     "name": "stdout",
     "output_type": "stream",
     "text": [
      "2.7.1\n",
      "0.22.1\n"
     ]
    }
   ],
   "source": [
    "# Import PyTorch\n",
    "import torch\n",
    "from torch import nn\n",
    "\n",
    "# Import torchvision\n",
    "import torchvision\n",
    "from torchvision import datasets\n",
    "from torchvision import transforms\n",
    "from torchvision.transforms import ToTensor\n",
    "\n",
    "# Import matplotlib for visualization\n",
    "import matplotlib.pyplot as plt\n",
    "\n",
    "# Check versions\n",
    "print(torch.__version__)\n",
    "print(torchvision.__version__)"
   ]
  },
  {
   "cell_type": "markdown",
   "id": "e1a976c7",
   "metadata": {},
   "source": [
    "## 1. Getting a dataset\n",
    "\n",
    "The dataset we'll be using is FashionMNIST from `torchvision.datasets`"
   ]
  },
  {
   "cell_type": "code",
   "execution_count": 15,
   "id": "9d9be2c3",
   "metadata": {},
   "outputs": [],
   "source": [
    "# Setup training data\n",
    "from torchvision import datasets\n",
    "train_data = datasets.FashionMNIST(\n",
    "    root=\"data\", # where to download data to\n",
    "    train=True, # do we want the training dataset\n",
    "    download=True, # do we want to download it\n",
    "    transform=ToTensor(), # how do we want to transform teh data\n",
    "    target_transform=None, # how do we want to transform the labels\n",
    ")\n",
    "\n",
    "test_data = datasets.FashionMNIST(\n",
    "    root=\"data\",\n",
    "    train=False,\n",
    "    download=True,\n",
    "    transform=ToTensor(),\n",
    "    target_transform=None,\n",
    ")"
   ]
  },
  {
   "cell_type": "code",
   "execution_count": 16,
   "id": "e6c440ea",
   "metadata": {},
   "outputs": [
    {
     "data": {
      "text/plain": [
       "(60000, 10000)"
      ]
     },
     "execution_count": 16,
     "metadata": {},
     "output_type": "execute_result"
    }
   ],
   "source": [
    "len(train_data), len(test_data)"
   ]
  },
  {
   "cell_type": "code",
   "execution_count": 17,
   "id": "b553daca",
   "metadata": {},
   "outputs": [
    {
     "data": {
      "text/plain": [
       "(tensor([[[0.0000, 0.0000, 0.0000, 0.0000, 0.0000, 0.0000, 0.0000, 0.0000,\n",
       "           0.0000, 0.0000, 0.0000, 0.0000, 0.0000, 0.0000, 0.0000, 0.0000,\n",
       "           0.0000, 0.0000, 0.0000, 0.0000, 0.0000, 0.0000, 0.0000, 0.0000,\n",
       "           0.0000, 0.0000, 0.0000, 0.0000],\n",
       "          [0.0000, 0.0000, 0.0000, 0.0000, 0.0000, 0.0000, 0.0000, 0.0000,\n",
       "           0.0000, 0.0000, 0.0000, 0.0000, 0.0000, 0.0000, 0.0000, 0.0000,\n",
       "           0.0000, 0.0000, 0.0000, 0.0000, 0.0000, 0.0000, 0.0000, 0.0000,\n",
       "           0.0000, 0.0000, 0.0000, 0.0000],\n",
       "          [0.0000, 0.0000, 0.0000, 0.0000, 0.0000, 0.0000, 0.0000, 0.0000,\n",
       "           0.0000, 0.0000, 0.0000, 0.0000, 0.0000, 0.0000, 0.0000, 0.0000,\n",
       "           0.0000, 0.0000, 0.0000, 0.0000, 0.0000, 0.0000, 0.0000, 0.0000,\n",
       "           0.0000, 0.0000, 0.0000, 0.0000],\n",
       "          [0.0000, 0.0000, 0.0000, 0.0000, 0.0000, 0.0000, 0.0000, 0.0000,\n",
       "           0.0000, 0.0000, 0.0000, 0.0000, 0.0039, 0.0000, 0.0000, 0.0510,\n",
       "           0.2863, 0.0000, 0.0000, 0.0039, 0.0157, 0.0000, 0.0000, 0.0000,\n",
       "           0.0000, 0.0039, 0.0039, 0.0000],\n",
       "          [0.0000, 0.0000, 0.0000, 0.0000, 0.0000, 0.0000, 0.0000, 0.0000,\n",
       "           0.0000, 0.0000, 0.0000, 0.0000, 0.0118, 0.0000, 0.1412, 0.5333,\n",
       "           0.4980, 0.2431, 0.2118, 0.0000, 0.0000, 0.0000, 0.0039, 0.0118,\n",
       "           0.0157, 0.0000, 0.0000, 0.0118],\n",
       "          [0.0000, 0.0000, 0.0000, 0.0000, 0.0000, 0.0000, 0.0000, 0.0000,\n",
       "           0.0000, 0.0000, 0.0000, 0.0000, 0.0235, 0.0000, 0.4000, 0.8000,\n",
       "           0.6902, 0.5255, 0.5647, 0.4824, 0.0902, 0.0000, 0.0000, 0.0000,\n",
       "           0.0000, 0.0471, 0.0392, 0.0000],\n",
       "          [0.0000, 0.0000, 0.0000, 0.0000, 0.0000, 0.0000, 0.0000, 0.0000,\n",
       "           0.0000, 0.0000, 0.0000, 0.0000, 0.0000, 0.0000, 0.6078, 0.9255,\n",
       "           0.8118, 0.6980, 0.4196, 0.6118, 0.6314, 0.4275, 0.2510, 0.0902,\n",
       "           0.3020, 0.5098, 0.2824, 0.0588],\n",
       "          [0.0000, 0.0000, 0.0000, 0.0000, 0.0000, 0.0000, 0.0000, 0.0000,\n",
       "           0.0000, 0.0000, 0.0000, 0.0039, 0.0000, 0.2706, 0.8118, 0.8745,\n",
       "           0.8549, 0.8471, 0.8471, 0.6392, 0.4980, 0.4745, 0.4784, 0.5725,\n",
       "           0.5529, 0.3451, 0.6745, 0.2588],\n",
       "          [0.0000, 0.0000, 0.0000, 0.0000, 0.0000, 0.0000, 0.0000, 0.0000,\n",
       "           0.0000, 0.0039, 0.0039, 0.0039, 0.0000, 0.7843, 0.9098, 0.9098,\n",
       "           0.9137, 0.8980, 0.8745, 0.8745, 0.8431, 0.8353, 0.6431, 0.4980,\n",
       "           0.4824, 0.7686, 0.8980, 0.0000],\n",
       "          [0.0000, 0.0000, 0.0000, 0.0000, 0.0000, 0.0000, 0.0000, 0.0000,\n",
       "           0.0000, 0.0000, 0.0000, 0.0000, 0.0000, 0.7176, 0.8824, 0.8471,\n",
       "           0.8745, 0.8941, 0.9216, 0.8902, 0.8784, 0.8706, 0.8784, 0.8667,\n",
       "           0.8745, 0.9608, 0.6784, 0.0000],\n",
       "          [0.0000, 0.0000, 0.0000, 0.0000, 0.0000, 0.0000, 0.0000, 0.0000,\n",
       "           0.0000, 0.0000, 0.0000, 0.0000, 0.0000, 0.7569, 0.8941, 0.8549,\n",
       "           0.8353, 0.7765, 0.7059, 0.8314, 0.8235, 0.8275, 0.8353, 0.8745,\n",
       "           0.8627, 0.9529, 0.7922, 0.0000],\n",
       "          [0.0000, 0.0000, 0.0000, 0.0000, 0.0000, 0.0000, 0.0000, 0.0000,\n",
       "           0.0000, 0.0039, 0.0118, 0.0000, 0.0471, 0.8588, 0.8627, 0.8314,\n",
       "           0.8549, 0.7529, 0.6627, 0.8902, 0.8157, 0.8549, 0.8784, 0.8314,\n",
       "           0.8863, 0.7725, 0.8196, 0.2039],\n",
       "          [0.0000, 0.0000, 0.0000, 0.0000, 0.0000, 0.0000, 0.0000, 0.0000,\n",
       "           0.0000, 0.0000, 0.0235, 0.0000, 0.3882, 0.9569, 0.8706, 0.8627,\n",
       "           0.8549, 0.7961, 0.7765, 0.8667, 0.8431, 0.8353, 0.8706, 0.8627,\n",
       "           0.9608, 0.4667, 0.6549, 0.2196],\n",
       "          [0.0000, 0.0000, 0.0000, 0.0000, 0.0000, 0.0000, 0.0000, 0.0000,\n",
       "           0.0000, 0.0157, 0.0000, 0.0000, 0.2157, 0.9255, 0.8941, 0.9020,\n",
       "           0.8941, 0.9412, 0.9098, 0.8353, 0.8549, 0.8745, 0.9176, 0.8510,\n",
       "           0.8510, 0.8196, 0.3608, 0.0000],\n",
       "          [0.0000, 0.0000, 0.0039, 0.0157, 0.0235, 0.0275, 0.0078, 0.0000,\n",
       "           0.0000, 0.0000, 0.0000, 0.0000, 0.9294, 0.8863, 0.8510, 0.8745,\n",
       "           0.8706, 0.8588, 0.8706, 0.8667, 0.8471, 0.8745, 0.8980, 0.8431,\n",
       "           0.8549, 1.0000, 0.3020, 0.0000],\n",
       "          [0.0000, 0.0118, 0.0000, 0.0000, 0.0000, 0.0000, 0.0000, 0.0000,\n",
       "           0.0000, 0.2431, 0.5686, 0.8000, 0.8941, 0.8118, 0.8353, 0.8667,\n",
       "           0.8549, 0.8157, 0.8275, 0.8549, 0.8784, 0.8745, 0.8588, 0.8431,\n",
       "           0.8784, 0.9569, 0.6235, 0.0000],\n",
       "          [0.0000, 0.0000, 0.0000, 0.0000, 0.0706, 0.1725, 0.3216, 0.4196,\n",
       "           0.7412, 0.8941, 0.8627, 0.8706, 0.8510, 0.8863, 0.7843, 0.8039,\n",
       "           0.8275, 0.9020, 0.8784, 0.9176, 0.6902, 0.7373, 0.9804, 0.9725,\n",
       "           0.9137, 0.9333, 0.8431, 0.0000],\n",
       "          [0.0000, 0.2235, 0.7333, 0.8157, 0.8784, 0.8667, 0.8784, 0.8157,\n",
       "           0.8000, 0.8392, 0.8157, 0.8196, 0.7843, 0.6235, 0.9608, 0.7569,\n",
       "           0.8078, 0.8745, 1.0000, 1.0000, 0.8667, 0.9176, 0.8667, 0.8275,\n",
       "           0.8627, 0.9098, 0.9647, 0.0000],\n",
       "          [0.0118, 0.7922, 0.8941, 0.8784, 0.8667, 0.8275, 0.8275, 0.8392,\n",
       "           0.8039, 0.8039, 0.8039, 0.8627, 0.9412, 0.3137, 0.5882, 1.0000,\n",
       "           0.8980, 0.8667, 0.7373, 0.6039, 0.7490, 0.8235, 0.8000, 0.8196,\n",
       "           0.8706, 0.8941, 0.8824, 0.0000],\n",
       "          [0.3843, 0.9137, 0.7765, 0.8235, 0.8706, 0.8980, 0.8980, 0.9176,\n",
       "           0.9765, 0.8627, 0.7608, 0.8431, 0.8510, 0.9451, 0.2549, 0.2863,\n",
       "           0.4157, 0.4588, 0.6588, 0.8588, 0.8667, 0.8431, 0.8510, 0.8745,\n",
       "           0.8745, 0.8784, 0.8980, 0.1137],\n",
       "          [0.2941, 0.8000, 0.8314, 0.8000, 0.7569, 0.8039, 0.8275, 0.8824,\n",
       "           0.8471, 0.7255, 0.7725, 0.8078, 0.7765, 0.8353, 0.9412, 0.7647,\n",
       "           0.8902, 0.9608, 0.9373, 0.8745, 0.8549, 0.8314, 0.8196, 0.8706,\n",
       "           0.8627, 0.8667, 0.9020, 0.2627],\n",
       "          [0.1882, 0.7961, 0.7176, 0.7608, 0.8353, 0.7725, 0.7255, 0.7451,\n",
       "           0.7608, 0.7529, 0.7922, 0.8392, 0.8588, 0.8667, 0.8627, 0.9255,\n",
       "           0.8824, 0.8471, 0.7804, 0.8078, 0.7294, 0.7098, 0.6941, 0.6745,\n",
       "           0.7098, 0.8039, 0.8078, 0.4510],\n",
       "          [0.0000, 0.4784, 0.8588, 0.7569, 0.7020, 0.6706, 0.7176, 0.7686,\n",
       "           0.8000, 0.8235, 0.8353, 0.8118, 0.8275, 0.8235, 0.7843, 0.7686,\n",
       "           0.7608, 0.7490, 0.7647, 0.7490, 0.7765, 0.7529, 0.6902, 0.6118,\n",
       "           0.6549, 0.6941, 0.8235, 0.3608],\n",
       "          [0.0000, 0.0000, 0.2902, 0.7412, 0.8314, 0.7490, 0.6863, 0.6745,\n",
       "           0.6863, 0.7098, 0.7255, 0.7373, 0.7412, 0.7373, 0.7569, 0.7765,\n",
       "           0.8000, 0.8196, 0.8235, 0.8235, 0.8275, 0.7373, 0.7373, 0.7608,\n",
       "           0.7529, 0.8471, 0.6667, 0.0000],\n",
       "          [0.0078, 0.0000, 0.0000, 0.0000, 0.2588, 0.7843, 0.8706, 0.9294,\n",
       "           0.9373, 0.9490, 0.9647, 0.9529, 0.9569, 0.8667, 0.8627, 0.7569,\n",
       "           0.7490, 0.7020, 0.7137, 0.7137, 0.7098, 0.6902, 0.6510, 0.6588,\n",
       "           0.3882, 0.2275, 0.0000, 0.0000],\n",
       "          [0.0000, 0.0000, 0.0000, 0.0000, 0.0000, 0.0000, 0.0000, 0.1569,\n",
       "           0.2392, 0.1725, 0.2824, 0.1608, 0.1373, 0.0000, 0.0000, 0.0000,\n",
       "           0.0000, 0.0000, 0.0000, 0.0000, 0.0000, 0.0000, 0.0000, 0.0000,\n",
       "           0.0000, 0.0000, 0.0000, 0.0000],\n",
       "          [0.0000, 0.0000, 0.0000, 0.0000, 0.0000, 0.0000, 0.0000, 0.0000,\n",
       "           0.0000, 0.0000, 0.0000, 0.0000, 0.0000, 0.0000, 0.0000, 0.0000,\n",
       "           0.0000, 0.0000, 0.0000, 0.0000, 0.0000, 0.0000, 0.0000, 0.0000,\n",
       "           0.0000, 0.0000, 0.0000, 0.0000],\n",
       "          [0.0000, 0.0000, 0.0000, 0.0000, 0.0000, 0.0000, 0.0000, 0.0000,\n",
       "           0.0000, 0.0000, 0.0000, 0.0000, 0.0000, 0.0000, 0.0000, 0.0000,\n",
       "           0.0000, 0.0000, 0.0000, 0.0000, 0.0000, 0.0000, 0.0000, 0.0000,\n",
       "           0.0000, 0.0000, 0.0000, 0.0000]]]),\n",
       " 9)"
      ]
     },
     "execution_count": 17,
     "metadata": {},
     "output_type": "execute_result"
    }
   ],
   "source": [
    "# See the first training example\n",
    "image, label = train_data[0]\n",
    "image, label"
   ]
  },
  {
   "cell_type": "code",
   "execution_count": 18,
   "id": "f685103f",
   "metadata": {},
   "outputs": [
    {
     "data": {
      "text/plain": [
       "['T-shirt/top',\n",
       " 'Trouser',\n",
       " 'Pullover',\n",
       " 'Dress',\n",
       " 'Coat',\n",
       " 'Sandal',\n",
       " 'Shirt',\n",
       " 'Sneaker',\n",
       " 'Bag',\n",
       " 'Ankle boot']"
      ]
     },
     "execution_count": 18,
     "metadata": {},
     "output_type": "execute_result"
    }
   ],
   "source": [
    "class_names = train_data.classes\n",
    "class_names"
   ]
  },
  {
   "cell_type": "code",
   "execution_count": 19,
   "id": "57617eb7",
   "metadata": {},
   "outputs": [
    {
     "data": {
      "text/plain": [
       "{'T-shirt/top': 0,\n",
       " 'Trouser': 1,\n",
       " 'Pullover': 2,\n",
       " 'Dress': 3,\n",
       " 'Coat': 4,\n",
       " 'Sandal': 5,\n",
       " 'Shirt': 6,\n",
       " 'Sneaker': 7,\n",
       " 'Bag': 8,\n",
       " 'Ankle boot': 9}"
      ]
     },
     "execution_count": 19,
     "metadata": {},
     "output_type": "execute_result"
    }
   ],
   "source": [
    "class_to_dix = train_data.class_to_idx\n",
    "class_to_dix"
   ]
  },
  {
   "cell_type": "code",
   "execution_count": 20,
   "id": "fee04716",
   "metadata": {},
   "outputs": [
    {
     "data": {
      "text/plain": [
       "tensor([9, 0, 0,  ..., 3, 0, 5])"
      ]
     },
     "execution_count": 20,
     "metadata": {},
     "output_type": "execute_result"
    }
   ],
   "source": [
    "train_data.targets"
   ]
  },
  {
   "cell_type": "code",
   "execution_count": 21,
   "id": "90d54a5e",
   "metadata": {},
   "outputs": [
    {
     "name": "stdout",
     "output_type": "stream",
     "text": [
      "Image shape: torch.Size([1, 28, 28]) -> [color_channels, height, width]\n",
      "Image label: 9\n"
     ]
    }
   ],
   "source": [
    "# Check the shape of our image\n",
    "print(f\"Image shape: {image.shape} -> [color_channels, height, width]\")\n",
    "print(f\"Image label: {label}\")"
   ]
  },
  {
   "cell_type": "markdown",
   "id": "f1e4b712",
   "metadata": {},
   "source": [
    "## 1.2 Visualizing our data"
   ]
  },
  {
   "cell_type": "code",
   "execution_count": 32,
   "id": "eafe0040",
   "metadata": {},
   "outputs": [
    {
     "name": "stdout",
     "output_type": "stream",
     "text": [
      "Image shape: torch.Size([1, 28, 28])\n"
     ]
    },
    {
     "data": {
      "image/png": "[encoded data removed]",
      "text/plain": [
       "<Figure size 640x480 with 1 Axes>"
      ]
     },
     "metadata": {},
     "output_type": "display_data"
    }
   ],
   "source": [
    "image, label = train_data[0]\n",
    "\n",
    "print(f\"Image shape: {image.shape}\")\n",
    "\n",
    "plt.title(label)\n",
    "plt.imshow(image.squeeze())\n",
    "plt.axis(False)\n",
    "plt.show()"
   ]
  },
  {
   "cell_type": "code",
   "execution_count": 31,
   "id": "928f6c1e",
   "metadata": {},
   "outputs": [
    {
     "data": {
      "image/png": "[encoded data removed]",
      "text/plain": [
       "<Figure size 640x480 with 1 Axes>"
      ]
     },
     "metadata": {},
     "output_type": "display_data"
    }
   ],
   "source": [
    "plt.title(class_names[label])\n",
    "plt.imshow(image.squeeze(), cmap=\"gray\")\n",
    "plt.axis(False)\n",
    "plt.show()"
   ]
  },
  {
   "cell_type": "code",
   "execution_count": 39,
   "id": "e0a4b30f",
   "metadata": {},
   "outputs": [
    {
     "data": {
      "image/png": "[encoded data removed]",
      "text/plain": [
       "<Figure size 900x900 with 16 Axes>"
      ]
     },
     "metadata": {},
     "output_type": "display_data"
    }
   ],
   "source": [
    "# Plot more images\n",
    "torch.manual_seed(42)\n",
    "\n",
    "fig = plt.figure(figsize=(9, 9))\n",
    "rows, cols = 4, 4\n",
    "for i in range(1, rows * cols + 1):\n",
    "    random_idx = torch.randint(0, len(train_data), size=[1]).item()\n",
    "    \n",
    "    img, label = train_data[random_idx]\n",
    "    \n",
    "    fig.add_subplot(rows, cols, i)\n",
    "    plt.imshow(img.squeeze(), cmap=\"gray\")\n",
    "    plt.title(class_names[label])\n",
    "    plt.axis(False)"
   ]
  },
  {
   "cell_type": "markdown",
   "id": "2cbd77d7",
   "metadata": {},
   "source": [
    "Do you think these items of clothing (images) could be modelled with pure linear lines? Or you think we'll need non-linearity?"
   ]
  },
  {
   "cell_type": "markdown",
   "id": "a0217dbe",
   "metadata": {},
   "source": [
    "## 2. Prepare dataloader\n",
    "\n",
    "Right now, our data is in the form of PyTorch Datasets\n",
    "\n",
    "DataLoader turns our dataset into a Python iterable\n",
    "\n",
    "More specifically, we want to turn our data into batches (or mini-batches)\n",
    "\n",
    "Why would we do this?\n",
    "\n",
    "1. It is more computationally efficient, as in your computer hardware may not be able to look (store in memory) at 60000 images in one hit. So we break it down to 32 images at a time (batch size of 32)\n",
    "2. It gives our neural network more chances to update its gradients per epoch"
   ]
  },
  {
   "cell_type": "code",
   "execution_count": 42,
   "id": "e850738a",
   "metadata": {},
   "outputs": [],
   "source": [
    "from torch.utils.data import DataLoader\n",
    "\n",
    "# Setup the batch size hyperparameter\n",
    "BATCH_SIZE = 32\n",
    "\n",
    "# Turn datasets into iterables (batches)\n",
    "train_data_loader = DataLoader(\n",
    "    dataset=train_data,\n",
    "    batch_size=BATCH_SIZE,\n",
    "    shuffle=True,\n",
    ")\n",
    "\n",
    "test_data_loader = DataLoader(\n",
    "    dataset=test_data,\n",
    "    batch_size=BATCH_SIZE,\n",
    "    shuffle=False,\n",
    ")"
   ]
  },
  {
   "cell_type": "code",
   "execution_count": 56,
   "id": "6d5bab59",
   "metadata": {},
   "outputs": [
    {
     "name": "stdout",
     "output_type": "stream",
     "text": [
      "DataLoaders: (<torch.utils.data.dataloader.DataLoader object at 0x156e520d0>, <torch.utils.data.dataloader.DataLoader object at 0x15490b360>)\n",
      "Length of train_data_loader: 1875 batches of 32...\n",
      "Length of test_data_loader: 313 batches of 32...\n"
     ]
    }
   ],
   "source": [
    "# Let's check out what we've created\n",
    "print(f\"DataLoaders: {train_data_loader, test_data_loader}\")\n",
    "print(f\"Length of train_data_loader: {len(train_data_loader)} batches of {BATCH_SIZE}...\")\n",
    "print(f\"Length of test_data_loader: {len(test_data_loader)} batches of {BATCH_SIZE}...\")"
   ]
  },
  {
   "cell_type": "code",
   "execution_count": 60,
   "id": "8a28966d",
   "metadata": {},
   "outputs": [
    {
     "data": {
      "text/plain": [
       "(torch.Size([32, 1, 28, 28]), torch.Size([32]))"
      ]
     },
     "execution_count": 60,
     "metadata": {},
     "output_type": "execute_result"
    }
   ],
   "source": [
    "# Check out what's inside the training dataloader\n",
    "train_features_batch, train_labels_batch = next(iter(train_data_loader))\n",
    "train_features_batch.shape, train_labels_batch.shape"
   ]
  },
  {
   "cell_type": "code",
   "execution_count": null,
   "id": "cb132193",
   "metadata": {},
   "outputs": [
    {
     "data": {
      "image/png": "[encoded data removed]",
      "text/plain": [
       "<Figure size 640x480 with 1 Axes>"
      ]
     },
     "metadata": {},
     "output_type": "display_data"
    },
    {
     "name": "stdout",
     "output_type": "stream",
     "text": [
      "Image size: torch.Size([1, 28, 28])\n",
      "Label: 3, label size: torch.Size([])\n"
     ]
    }
   ],
   "source": [
    "# Show a sample\n",
    "torch.manual_seed(42)\n",
    "random_idx = torch.randint(0, len(train_features_batch), size=[1]).item()\n",
    "img, label = train_features_batch[random_idx], train_labels_batch[random_idx]\n",
    "\n",
    "plt.imshow(img.squeeze(), cmap=\"gray\")\n",
    "plt.title(class_names[label])\n",
    "plt.axis(False)\n",
    "plt.show()\n",
    "\n",
    "print(f\"Image size: {img.shape}\")\n",
    "print(f\"Label: {label}, label size: {label.shape}\")"
   ]
  },
  {
   "cell_type": "markdown",
   "id": "a3373042",
   "metadata": {},
   "source": [
    "## 3. Create a baseline model\n",
    "\n",
    "When starting to build a series of machine learning experiments, it's best practice to start with a baseline model\n",
    "\n",
    "A baselin model is a simple model you will try and improve upon with subsequent  models/experiments\n",
    "\n",
    "In other words: start simply and add complexity when necessary"
   ]
  },
  {
   "cell_type": "code",
   "execution_count": 67,
   "id": "6e9d94c4",
   "metadata": {},
   "outputs": [
    {
     "name": "stdout",
     "output_type": "stream",
     "text": [
      "shape before flattening: torch.Size([1, 28, 28]) -> [color_channels, height, width]\n",
      "shape after flattening: torch.Size([1, 784]) -> [color_channels, height * width]\n"
     ]
    }
   ],
   "source": [
    "# Create a flatten layer\n",
    "flatte_model = nn.Flatten()\n",
    "\n",
    "# Get a single sample\n",
    "x = train_features_batch[0]\n",
    "print(f\"shape before flattening: {x.shape} -> [color_channels, height, width]\")\n",
    "\n",
    "# Flatten the sample\n",
    "output = flatte_model(x) # perform forward pass\n",
    "\n",
    "# Print out what happend\n",
    "print(f\"shape after flattening: {output.shape} -> [color_channels, height * width]\")"
   ]
  },
  {
   "cell_type": "code",
   "execution_count": 68,
   "id": "54ffbdea",
   "metadata": {},
   "outputs": [
    {
     "data": {
      "text/plain": [
       "tensor([0.0000, 0.0000, 0.0000, 0.3529, 0.8235, 0.6392, 0.8588, 0.8353, 0.7490,\n",
       "        0.7098, 0.6902, 0.6902, 0.6902, 0.6745, 0.6471, 0.6510, 0.6471, 0.6431,\n",
       "        0.6157, 0.6392, 0.5804, 0.7216, 0.6784, 0.6471, 0.5647, 0.0000, 0.0000,\n",
       "        0.0000, 0.0000, 0.0000, 0.0000, 0.7686, 0.5059, 0.0000, 0.1569, 0.9882,\n",
       "        0.8980, 0.8667, 0.8784, 0.8745, 0.8706, 0.9098, 0.9255, 0.9216, 0.8745,\n",
       "        0.8706, 0.8745, 0.8667, 0.9098, 0.9569, 0.2000, 0.2000, 0.7961, 0.4902,\n",
       "        0.0000, 0.0039, 0.0000, 0.0000, 0.0000, 0.6706, 0.0039, 0.0000, 0.0000,\n",
       "        0.6000, 0.8667, 0.8392, 0.8627, 0.8627, 0.8667, 0.8627, 0.8510, 0.8549,\n",
       "        0.8510, 0.8510, 0.8510, 0.8353, 0.8431, 0.3137, 0.0039, 0.0000, 0.3569,\n",
       "        0.5529, 0.0000, 0.0000, 0.0000, 0.0000, 0.0000, 0.7137, 0.3765, 0.3333,\n",
       "        0.6784, 0.6549, 0.5804, 0.6902, 0.7333, 0.7529, 0.7843, 0.8078, 0.8314,\n",
       "        0.8157, 0.8000, 0.7882, 0.7373, 0.6667, 0.7020, 0.6118, 0.4510, 0.0000,\n",
       "        0.6627, 0.6157, 0.0000, 0.0000, 0.0000, 0.0000, 0.0902, 0.6627, 0.6196,\n",
       "        0.4863, 0.5333, 0.5843, 0.5176, 0.5529, 0.5255, 0.5137, 0.4980, 0.4902,\n",
       "        0.4941, 0.5020, 0.5137, 0.5216, 0.5647, 0.6157, 0.7216, 0.7333, 0.5412,\n",
       "        0.4667, 0.6706, 0.6118, 0.0000, 0.0000, 0.0000, 0.0000, 0.5294, 0.7216,\n",
       "        0.6471, 0.5255, 0.4980, 0.4392, 0.4392, 0.4275, 0.4275, 0.4196, 0.3961,\n",
       "        0.3922, 0.3843, 0.3804, 0.3804, 0.3725, 0.3569, 0.3882, 0.3529, 0.3569,\n",
       "        0.4314, 0.4549, 0.5490, 0.5843, 0.0000, 0.0000, 0.0000, 0.1804, 0.8471,\n",
       "        0.8000, 0.8314, 0.8667, 0.8706, 0.8588, 0.8706, 0.8235, 0.8235, 0.8157,\n",
       "        0.8078, 0.7961, 0.7843, 0.7804, 0.7725, 0.7725, 0.7608, 0.7804, 0.7647,\n",
       "        0.7882, 0.7412, 0.7529, 0.7765, 0.7216, 0.8157, 0.0157, 0.0000, 0.1412,\n",
       "        0.8431, 0.8235, 0.8196, 0.8235, 0.8235, 0.8235, 0.8157, 0.8275, 0.8314,\n",
       "        0.8353, 0.8392, 0.8392, 0.8392, 0.8431, 0.8510, 0.8510, 0.8667, 0.8588,\n",
       "        0.8549, 0.8549, 0.8471, 0.8235, 0.8431, 0.8196, 0.8745, 0.0431, 0.0000,\n",
       "        0.1765, 0.8667, 0.8235, 0.8235, 0.8314, 0.8275, 0.8275, 0.8235, 0.8275,\n",
       "        0.8275, 0.8275, 0.8235, 0.8314, 0.8431, 0.8431, 0.8431, 0.8471, 0.8510,\n",
       "        0.8510, 0.8471, 0.8510, 0.8431, 0.8392, 0.8588, 0.8353, 0.8667, 0.0745,\n",
       "        0.0000, 0.2863, 1.0000, 0.8196, 0.8275, 0.8353, 0.8353, 0.8392, 0.8392,\n",
       "        0.8392, 0.8392, 0.8392, 0.8392, 0.8431, 0.8471, 0.8510, 0.8510, 0.8549,\n",
       "        0.8510, 0.8510, 0.8510, 0.8549, 0.8549, 0.8627, 0.8706, 0.8431, 0.8941,\n",
       "        0.1686, 0.0000, 0.3725, 1.0000, 0.8118, 0.8275, 0.8392, 0.8353, 0.8392,\n",
       "        0.8392, 0.8471, 0.8471, 0.8471, 0.8471, 0.8510, 0.8510, 0.8549, 0.8588,\n",
       "        0.8588, 0.8549, 0.8588, 0.8588, 0.8667, 0.8588, 0.8667, 0.8824, 0.8431,\n",
       "        1.0000, 0.2314, 0.0000, 0.5333, 0.9725, 0.7922, 0.8431, 0.8275, 0.8353,\n",
       "        0.8392, 0.8392, 0.8549, 0.8588, 0.8549, 0.8549, 0.8549, 0.8549, 0.8588,\n",
       "        0.8549, 0.8549, 0.8549, 0.8549, 0.8588, 0.8588, 0.8667, 0.8706, 0.8824,\n",
       "        0.8510, 1.0000, 0.3569, 0.0000, 0.6157, 0.9451, 0.8078, 0.8353, 0.8314,\n",
       "        0.8353, 0.8392, 0.8431, 0.8549, 0.8549, 0.8549, 0.8549, 0.8549, 0.8549,\n",
       "        0.8549, 0.8549, 0.8549, 0.8588, 0.8588, 0.8627, 0.8627, 0.8706, 0.8706,\n",
       "        0.8784, 0.8549, 1.0000, 0.4588, 0.0000, 0.6784, 0.9333, 0.8157, 0.8235,\n",
       "        0.8392, 0.8353, 0.8431, 0.8471, 0.8549, 0.8549, 0.8549, 0.8549, 0.8549,\n",
       "        0.8549, 0.8549, 0.8549, 0.8549, 0.8588, 0.8627, 0.8627, 0.8667, 0.8706,\n",
       "        0.8706, 0.8824, 0.8392, 0.9725, 0.5725, 0.0000, 0.7059, 0.9059, 0.8235,\n",
       "        0.8314, 0.8392, 0.8431, 0.8471, 0.8510, 0.8588, 0.8549, 0.8549, 0.8588,\n",
       "        0.8549, 0.8549, 0.8549, 0.8549, 0.8510, 0.8627, 0.8627, 0.8667, 0.8706,\n",
       "        0.8706, 0.8706, 0.8824, 0.8471, 0.9412, 0.6431, 0.0000, 0.6941, 0.9098,\n",
       "        0.8196, 0.8392, 0.8392, 0.8392, 0.8471, 0.8510, 0.8431, 0.8588, 0.8627,\n",
       "        0.8471, 0.8627, 0.8549, 0.8510, 0.8549, 0.8549, 0.8627, 0.8667, 0.8667,\n",
       "        0.8667, 0.8745, 0.8706, 0.8784, 0.8431, 0.9333, 0.6863, 0.0000, 0.6431,\n",
       "        0.9373, 0.8078, 0.8235, 0.8431, 0.8392, 0.8431, 0.8431, 0.8392, 0.8471,\n",
       "        0.8471, 0.8431, 0.8510, 0.8314, 0.8627, 0.8706, 0.8627, 0.8667, 0.8588,\n",
       "        0.8627, 0.8588, 0.8627, 0.8667, 0.8784, 0.8235, 0.9569, 0.6549, 0.0000,\n",
       "        0.5373, 0.8941, 0.8196, 0.8196, 0.8471, 0.8392, 0.8431, 0.8392, 0.8510,\n",
       "        0.8510, 0.8471, 0.8431, 0.8627, 0.8980, 0.8588, 0.8549, 0.8667, 0.8588,\n",
       "        0.8588, 0.8588, 0.8588, 0.8549, 0.8627, 0.8902, 0.8392, 0.9176, 0.5216,\n",
       "        0.0000, 0.3020, 0.9098, 0.8196, 0.8392, 0.8431, 0.8392, 0.8431, 0.8431,\n",
       "        0.8510, 0.8471, 0.8353, 0.9176, 0.7725, 0.6627, 0.9176, 0.8588, 0.8510,\n",
       "        0.8588, 0.8549, 0.8549, 0.8588, 0.8510, 0.8627, 0.8745, 0.8392, 0.9176,\n",
       "        0.3333, 0.0000, 0.0902, 0.8706, 0.8353, 0.8510, 0.8353, 0.8392, 0.8431,\n",
       "        0.8431, 0.8353, 0.8235, 0.8745, 0.8157, 0.4941, 0.6157, 0.7569, 0.9059,\n",
       "        0.8275, 0.8588, 0.8549, 0.8549, 0.8549, 0.8588, 0.8706, 0.8510, 0.8471,\n",
       "        0.8745, 0.0471, 0.0000, 0.0000, 0.8706, 0.8706, 0.8510, 0.8275, 0.8275,\n",
       "        0.8353, 0.8431, 0.8392, 0.8275, 0.8745, 0.7922, 0.4549, 0.4706, 0.6824,\n",
       "        0.9373, 0.8353, 0.8549, 0.8588, 0.8549, 0.8510, 0.8588, 0.8706, 0.8353,\n",
       "        0.8941, 0.8275, 0.0000, 0.0000, 0.0000, 0.4235, 0.9098, 0.8196, 0.8431,\n",
       "        0.8353, 0.8314, 0.8353, 0.8471, 0.8078, 0.8549, 0.8314, 0.4431, 0.3686,\n",
       "        0.8314, 0.8784, 0.8353, 0.8627, 0.8471, 0.8392, 0.8392, 0.8471, 0.8588,\n",
       "        0.8118, 0.9451, 0.2196, 0.0000, 0.0000, 0.0000, 0.0000, 0.7451, 0.8745,\n",
       "        0.8353, 0.8471, 0.8392, 0.8275, 0.8392, 0.8235, 0.8431, 0.7529, 0.5765,\n",
       "        0.5608, 0.7098, 0.8745, 0.8157, 0.8471, 0.8235, 0.8353, 0.8588, 0.8588,\n",
       "        0.8118, 0.9333, 0.6314, 0.0000, 0.0000, 0.0000, 0.0000, 0.0000, 0.2471,\n",
       "        0.8275, 0.8549, 0.8353, 0.8431, 0.8392, 0.8471, 0.8118, 0.8275, 0.8627,\n",
       "        0.9020, 0.9020, 0.8667, 0.8196, 0.8275, 0.8275, 0.8588, 0.8627, 0.8588,\n",
       "        0.8353, 0.9098, 0.7647, 0.0000, 0.0000, 0.0000, 0.0000, 0.0039, 0.0000,\n",
       "        0.0000, 0.3961, 0.7882, 0.8627, 0.8471, 0.8353, 0.8392, 0.8471, 0.8314,\n",
       "        0.8353, 0.8235, 0.8235, 0.8627, 0.8431, 0.8549, 0.8510, 0.8353, 0.8510,\n",
       "        0.8706, 0.9216, 0.7255, 0.0000, 0.0000, 0.0000, 0.0000, 0.0000, 0.0039,\n",
       "        0.0000, 0.0000, 0.3333, 0.5373, 0.7333, 0.8980, 0.9176, 0.9020, 0.9059,\n",
       "        0.9098, 0.9176, 0.9216, 0.9098, 0.8902, 0.8824, 0.8784, 0.8980, 0.9216,\n",
       "        0.9294, 0.8078, 0.5373, 0.0000, 0.0000, 0.0000, 0.0000, 0.0000, 0.0000,\n",
       "        0.0039, 0.0000, 0.0392, 0.3255, 0.3216, 0.3529, 0.4784, 0.5294, 0.6353,\n",
       "        0.6745, 0.7294, 0.7529, 0.7490, 0.6157, 0.7451, 0.7765, 0.7412, 0.7843,\n",
       "        0.6078, 0.3020, 0.0000, 0.0000, 0.0000, 0.0000, 0.0000, 0.0000, 0.0000,\n",
       "        0.0000, 0.0000, 0.0000, 0.0000, 0.0000, 0.0000, 0.0000, 0.0000, 0.0000,\n",
       "        0.0000, 0.0000, 0.0000, 0.0000, 0.0000, 0.0000, 0.0000, 0.0000, 0.0000,\n",
       "        0.0000, 0.0000, 0.0000, 0.0000, 0.0275, 0.0000, 0.0000, 0.0000, 0.0000,\n",
       "        0.0000])"
      ]
     },
     "execution_count": 68,
     "metadata": {},
     "output_type": "execute_result"
    }
   ],
   "source": [
    "output.squeeze()"
   ]
  },
  {
   "cell_type": "code",
   "execution_count": 74,
   "id": "31e81dfb",
   "metadata": {},
   "outputs": [],
   "source": [
    "from math import inf\n",
    "from pandas import infer_freq\n",
    "from torch import nn\n",
    "\n",
    "class FashionMNISTModelV0(nn.Module):\n",
    "    def __init__(self, input_shape: int, hidden_units: int, output_shape: int):\n",
    "        super().__init__()\n",
    "        \n",
    "        self.layer_stack = nn.Sequential(\n",
    "            nn.Flatten(),\n",
    "            \n",
    "            nn.Linear(in_features=input_shape, out_features=hidden_units),\n",
    "            nn.Linear(in_features=hidden_units, out_features=output_shape),\n",
    "        )\n",
    "    \n",
    "    def forward(self, x: torch.Tensor) -> torch.Tensor:\n",
    "        return self.layer_stack(x)"
   ]
  },
  {
   "cell_type": "code",
   "execution_count": 75,
   "id": "38b26080",
   "metadata": {},
   "outputs": [],
   "source": [
    "torch.manual_seed(42)\n",
    "\n",
    "# Setup model with input parameters\n",
    "model_0 = FashionMNISTModelV0(\n",
    "    input_shape=784, # this is 28 * 28\n",
    "    hidden_units=32,\n",
    "    output_shape=len(class_names) # one for every class\n",
    ").to(\"cpu\")"
   ]
  },
  {
   "cell_type": "code",
   "execution_count": 76,
   "id": "89cf18f5",
   "metadata": {},
   "outputs": [
    {
     "data": {
      "text/plain": [
       "FashionMNISTModelV0(\n",
       "  (layer_stack): Sequential(\n",
       "    (0): Flatten(start_dim=1, end_dim=-1)\n",
       "    (1): Linear(in_features=784, out_features=32, bias=True)\n",
       "    (2): Linear(in_features=32, out_features=10, bias=True)\n",
       "  )\n",
       ")"
      ]
     },
     "execution_count": 76,
     "metadata": {},
     "output_type": "execute_result"
    }
   ],
   "source": [
    "model_0"
   ]
  },
  {
   "cell_type": "code",
   "execution_count": 77,
   "id": "4e8393a9",
   "metadata": {},
   "outputs": [
    {
     "data": {
      "text/plain": [
       "tensor([[ 0.0461, -0.1040,  0.2095,  0.0458, -0.0841, -0.3552,  0.0832, -0.1319,\n",
       "          0.1477,  0.0418]], grad_fn=<AddmmBackward0>)"
      ]
     },
     "execution_count": 77,
     "metadata": {},
     "output_type": "execute_result"
    }
   ],
   "source": [
    "dummy_x = torch.rand([1, 1, 28, 28])\n",
    "model_0(dummy_x)"
   ]
  },
  {
   "cell_type": "code",
   "execution_count": 78,
   "id": "50115e07",
   "metadata": {},
   "outputs": [
    {
     "data": {
      "text/plain": [
       "OrderedDict([('layer_stack.1.weight',\n",
       "              tensor([[ 0.0273,  0.0296, -0.0084,  ..., -0.0142,  0.0093,  0.0135],\n",
       "                      [-0.0188, -0.0354,  0.0187,  ..., -0.0106, -0.0001,  0.0115],\n",
       "                      [-0.0008,  0.0017,  0.0045,  ..., -0.0127, -0.0188,  0.0059],\n",
       "                      ...,\n",
       "                      [-0.0023,  0.0071,  0.0330,  ...,  0.0164, -0.0095, -0.0053],\n",
       "                      [ 0.0167, -0.0324,  0.0086,  ..., -0.0090,  0.0203, -0.0100],\n",
       "                      [-0.0118,  0.0119, -0.0080,  ..., -0.0193,  0.0170,  0.0246]])),\n",
       "             ('layer_stack.1.bias',\n",
       "              tensor([ 0.0161, -0.0159,  0.0234,  0.0084, -0.0339, -0.0047, -0.0323, -0.0125,\n",
       "                       0.0065, -0.0339, -0.0036,  0.0208,  0.0018,  0.0308, -0.0056, -0.0006,\n",
       "                      -0.0294, -0.0100,  0.0059,  0.0271,  0.0328, -0.0049,  0.0312,  0.0041,\n",
       "                       0.0242,  0.0212, -0.0234,  0.0345,  0.0085, -0.0198, -0.0343,  0.0012])),\n",
       "             ('layer_stack.2.weight',\n",
       "              tensor([[-0.0630,  0.1486,  0.0598, -0.0858,  0.0406, -0.1010,  0.1632,  0.0980,\n",
       "                        0.0875,  0.0770, -0.0174, -0.0463,  0.0163, -0.1765, -0.0924,  0.0205,\n",
       "                        0.1294,  0.0004, -0.0606,  0.1201,  0.0473, -0.1084,  0.0779,  0.0448,\n",
       "                       -0.1452,  0.0331, -0.1172,  0.1611, -0.1113, -0.0304, -0.0737,  0.0163],\n",
       "                      [ 0.1541, -0.0840,  0.0566, -0.0379, -0.0748,  0.0059,  0.1328, -0.1597,\n",
       "                       -0.0737,  0.1342, -0.0850,  0.0408,  0.0665,  0.0146,  0.0142, -0.1183,\n",
       "                       -0.0277, -0.0340, -0.0090, -0.0195, -0.0413, -0.1051,  0.1259,  0.0513,\n",
       "                        0.0590,  0.0877,  0.0037,  0.1148,  0.0550, -0.0534,  0.0025, -0.1541],\n",
       "                      [-0.0916,  0.1645,  0.1750, -0.1264, -0.0770,  0.0973, -0.1580, -0.0196,\n",
       "                       -0.1620, -0.0836, -0.0927, -0.0084, -0.0470, -0.0974,  0.0924, -0.0782,\n",
       "                       -0.1739,  0.0861,  0.1161, -0.0382,  0.0052,  0.0226, -0.0221, -0.0359,\n",
       "                       -0.1439,  0.0774, -0.0007,  0.0938,  0.0117, -0.0702, -0.0873,  0.0230],\n",
       "                      [ 0.0904,  0.1758,  0.1584,  0.1450, -0.1339,  0.0320,  0.1610,  0.0801,\n",
       "                        0.1178,  0.1678, -0.0534,  0.0945,  0.1047,  0.0031, -0.1039,  0.0488,\n",
       "                        0.1472,  0.0220,  0.0555,  0.0243,  0.1248,  0.0941, -0.0396,  0.0288,\n",
       "                       -0.0827,  0.0277, -0.1524,  0.0606,  0.1071, -0.1483,  0.0482, -0.0243],\n",
       "                      [-0.0701,  0.0791,  0.0080, -0.0932,  0.1213,  0.0460, -0.1222, -0.0288,\n",
       "                       -0.0959, -0.1112,  0.1687, -0.0186, -0.0104, -0.0211, -0.0397, -0.1500,\n",
       "                       -0.0233, -0.0737,  0.0736, -0.0049, -0.1732, -0.1049, -0.1327,  0.0108,\n",
       "                        0.1092,  0.0813,  0.0108,  0.1011, -0.0192,  0.1630, -0.1473, -0.0471],\n",
       "                      [-0.0242, -0.1337,  0.0558,  0.1211,  0.0294,  0.0154,  0.1532, -0.0630,\n",
       "                       -0.0277,  0.0656, -0.0967, -0.1336, -0.0358,  0.1153, -0.0910,  0.0508,\n",
       "                        0.0032,  0.1623,  0.0932, -0.0934, -0.1701,  0.1052, -0.1626, -0.1036,\n",
       "                        0.1716,  0.0521, -0.0024, -0.1343, -0.0331,  0.0237,  0.1047, -0.0691],\n",
       "                      [-0.0311,  0.0352, -0.1738, -0.0547, -0.1616, -0.0636, -0.1045,  0.0867,\n",
       "                       -0.1222, -0.1665, -0.0203, -0.0833, -0.0925, -0.0413,  0.0659, -0.1564,\n",
       "                       -0.1282,  0.0129,  0.0792,  0.0069,  0.1756,  0.0879, -0.1194,  0.1000,\n",
       "                       -0.0915,  0.1303, -0.0449,  0.1472, -0.0415, -0.0514, -0.1292,  0.1749],\n",
       "                      [-0.1009, -0.0771, -0.0970, -0.1748, -0.0872,  0.1457,  0.1128,  0.0454,\n",
       "                       -0.0519,  0.0244, -0.0329, -0.1448,  0.1201,  0.0927,  0.1526, -0.1651,\n",
       "                        0.0277,  0.0997, -0.0245,  0.0820,  0.0878, -0.0871,  0.1300,  0.0447,\n",
       "                       -0.0193,  0.0639,  0.1336,  0.0329,  0.0855, -0.1200, -0.0820, -0.0305],\n",
       "                      [ 0.1010,  0.1004, -0.0481, -0.0278, -0.0243, -0.0819,  0.1486,  0.0892,\n",
       "                        0.1154, -0.0598, -0.0425, -0.1472,  0.1315, -0.0669, -0.0146, -0.1174,\n",
       "                        0.0364,  0.0967, -0.1757,  0.1357,  0.0325,  0.0844, -0.1545,  0.0453,\n",
       "                        0.1731,  0.1165, -0.0794,  0.0096, -0.1209,  0.0709,  0.0839,  0.0766],\n",
       "                      [-0.1532,  0.0859,  0.0067, -0.1235, -0.0604,  0.1554, -0.1420,  0.1045,\n",
       "                        0.1722, -0.1298, -0.1634, -0.1339,  0.0033, -0.1657,  0.1447,  0.1574,\n",
       "                       -0.0198,  0.0966,  0.1450,  0.0565, -0.0870, -0.0059,  0.1240, -0.0727,\n",
       "                        0.0041, -0.0238, -0.0338, -0.0296, -0.0913, -0.0549,  0.1620, -0.0544]])),\n",
       "             ('layer_stack.2.bias',\n",
       "              tensor([-0.0251,  0.1526,  0.0626, -0.1248, -0.0499, -0.0673, -0.0983, -0.1468,\n",
       "                       0.0876,  0.1363]))])"
      ]
     },
     "execution_count": 78,
     "metadata": {},
     "output_type": "execute_result"
    }
   ],
   "source": [
    "model_0.state_dict()"
   ]
  },
  {
   "cell_type": "markdown",
   "id": "cfb43758",
   "metadata": {},
   "source": [
    "### 3.1 Setup loss, optimizer and evaluation metrics\n",
    "\n",
    "* Loss function - since we're working with multi-class data, our loss functionwill be `nn.CrossEntropyLoss()`\n",
    "* Optimizer - our optimizer `torch.optim.SGD()` (stochastic gradient descent)\n",
    "* Evaluation metric - since we're working on a classification problem let's use accuracy as our evaluation problem"
   ]
  },
  {
   "cell_type": "code",
   "execution_count": 79,
   "id": "4a29d4cd",
   "metadata": {},
   "outputs": [],
   "source": [
    "# Calculate accuracy (a classification metric)\n",
    "def accuracy_fn(y_true, y_pred):\n",
    "    correct = torch.eq(y_true, y_pred).item() # torch.eq() calculates when two tensors are equal\n",
    "    acc = (correct / len(y_pred)) * 100\n",
    "    return acc"
   ]
  },
  {
   "cell_type": "code",
   "execution_count": 80,
   "id": "2945bd00",
   "metadata": {},
   "outputs": [],
   "source": [
    "# Setup loss function and optimizer\n",
    "loss_fn = nn.CrossEntropyLoss()\n",
    "optimizer = torch.optim.SGD(\n",
    "    params=model_0.parameters(),\n",
    "    lr=0.1,\n",
    ")"
   ]
  },
  {
   "cell_type": "code",
   "execution_count": 81,
   "id": "33715cf2",
   "metadata": {},
   "outputs": [
    {
     "data": {
      "text/plain": [
       "(CrossEntropyLoss(),\n",
       " SGD (\n",
       " Parameter Group 0\n",
       "     dampening: 0\n",
       "     differentiable: False\n",
       "     foreach: None\n",
       "     fused: None\n",
       "     lr: 0.1\n",
       "     maximize: False\n",
       "     momentum: 0\n",
       "     nesterov: False\n",
       "     weight_decay: 0\n",
       " ))"
      ]
     },
     "execution_count": 81,
     "metadata": {},
     "output_type": "execute_result"
    }
   ],
   "source": [
    "loss_fn, optimizer"
   ]
  },
  {
   "cell_type": "markdown",
   "id": "f6db9d26",
   "metadata": {},
   "source": [
    "### 3.2 Creating a function to time our experiments\n",
    "\n",
    "Machine learning is very experimental\n",
    "\n",
    "Two of the main things you'll often want to track are:\n",
    "\n",
    "1. Model's performance (loss and accuracy values etc.)\n",
    "2. How fast it runs"
   ]
  },
  {
   "cell_type": "code",
   "execution_count": 84,
   "id": "f955946e",
   "metadata": {},
   "outputs": [],
   "source": [
    "from timeit import default_timer as timer\n",
    "\n",
    "def print_train_time(start: float, end: float, device: torch.device = None):\n",
    "    \"\"\"Prints difference between start and end time\"\"\"\n",
    "    total_time = end - start\n",
    "    print(f\"Train time on {device}: {total_time:.3f} seconds\")\n",
    "    return total_time\n"
   ]
  },
  {
   "cell_type": "code",
   "execution_count": 87,
   "id": "f3ce8e7e",
   "metadata": {},
   "outputs": [
    {
     "name": "stdout",
     "output_type": "stream",
     "text": [
      "Train time on cpu: 0.000 seconds\n"
     ]
    },
    {
     "data": {
      "text/plain": [
       "2.320900239283219e-05"
      ]
     },
     "execution_count": 87,
     "metadata": {},
     "output_type": "execute_result"
    }
   ],
   "source": [
    "start_time = timer()\n",
    "# some code...\n",
    "end_time = timer()\n",
    "print_train_time(start=start_time, end=end_time, device=\"cpu\")"
   ]
  },
  {
   "cell_type": "code",
   "execution_count": null,
   "id": "74026390",
   "metadata": {},
   "outputs": [],
   "source": []
  }
 ],
 "metadata": {
  "kernelspec": {
   "display_name": ".venv",
   "language": "python",
   "name": "python3"
  },
  "language_info": {
   "codemirror_mode": {
    "name": "ipython",
    "version": 3
   },
   "file_extension": ".py",
   "mimetype": "text/x-python",
   "name": "python",
   "nbconvert_exporter": "python",
   "pygments_lexer": "ipython3",
   "version": "3.13.5"
  }
 },
 "nbformat": 4,
 "nbformat_minor": 5
}
