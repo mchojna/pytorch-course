{
 "cells": [
  {
   "cell_type": "markdown",
   "id": "fe626b79",
   "metadata": {},
   "source": [
    "## 03. PyTorch Computer Vision\n",
    "\n",
    "Resource coursebook: https://www.learnpytorch.io/03_pytorch_computer_vision/"
   ]
  },
  {
   "cell_type": "markdown",
   "id": "6c54733f",
   "metadata": {},
   "source": [
    "## 0. Computer vision libraries in PyTorch\n",
    "\n",
    "* `torchvision` - base domain library for PyTorch computer vision\n",
    "* `torchvision.datasets` - get datasets and data loading function for computer vision here\n",
    "* `torchvision.models` - get pretrained computer vision models that you can levarage for your own problems\n",
    "* `torchvision.transforms` - function for manipulating your vision data (images) to be suitable for use with ML model\n",
    "* `torch.utils.data.Dataset` - base dataset class for PyTorch\n",
    "* `torch.utils.data.DataLoader` - create a Python iterable over a datasets"
   ]
  },
  {
   "cell_type": "code",
   "execution_count": 59,
   "id": "da0743ba",
   "metadata": {},
   "outputs": [
    {
     "name": "stdout",
     "output_type": "stream",
     "text": [
      "2.7.1\n",
      "0.22.1\n"
     ]
    }
   ],
   "source": [
    "# Import PyTorch\n",
    "import torch\n",
    "from torch import nn\n",
    "\n",
    "# Import torchvision\n",
    "import torchvision\n",
    "from torchvision import datasets\n",
    "from torchvision import transforms\n",
    "from torchvision.transforms import ToTensor\n",
    "\n",
    "# Import matplotlib for visualization\n",
    "import matplotlib.pyplot as plt\n",
    "\n",
    "# Check versions\n",
    "print(torch.__version__)\n",
    "print(torchvision.__version__)"
   ]
  },
  {
   "cell_type": "markdown",
   "id": "e1a976c7",
   "metadata": {},
   "source": [
    "## 1. Getting a dataset\n",
    "\n",
    "The dataset we'll be using is FashionMNIST from `torchvision.datasets`"
   ]
  },
  {
   "cell_type": "code",
   "execution_count": 60,
   "id": "9d9be2c3",
   "metadata": {},
   "outputs": [],
   "source": [
    "# Setup training data\n",
    "from torchvision import datasets\n",
    "train_data = datasets.FashionMNIST(\n",
    "    root=\"data\", # where to download data to\n",
    "    train=True, # do we want the training dataset\n",
    "    download=True, # do we want to download it\n",
    "    transform=ToTensor(), # how do we want to transform teh data\n",
    "    target_transform=None, # how do we want to transform the labels\n",
    ")\n",
    "\n",
    "test_data = datasets.FashionMNIST(\n",
    "    root=\"data\",\n",
    "    train=False,\n",
    "    download=True,\n",
    "    transform=ToTensor(),\n",
    "    target_transform=None,\n",
    ")"
   ]
  },
  {
   "cell_type": "code",
   "execution_count": 61,
   "id": "e6c440ea",
   "metadata": {},
   "outputs": [
    {
     "data": {
      "text/plain": [
       "(60000, 10000)"
      ]
     },
     "execution_count": 61,
     "metadata": {},
     "output_type": "execute_result"
    }
   ],
   "source": [
    "len(train_data), len(test_data)"
   ]
  },
  {
   "cell_type": "code",
   "execution_count": 62,
   "id": "b553daca",
   "metadata": {},
   "outputs": [
    {
     "data": {
      "text/plain": [
       "(tensor([[[0.0000, 0.0000, 0.0000, 0.0000, 0.0000, 0.0000, 0.0000, 0.0000,\n",
       "           0.0000, 0.0000, 0.0000, 0.0000, 0.0000, 0.0000, 0.0000, 0.0000,\n",
       "           0.0000, 0.0000, 0.0000, 0.0000, 0.0000, 0.0000, 0.0000, 0.0000,\n",
       "           0.0000, 0.0000, 0.0000, 0.0000],\n",
       "          [0.0000, 0.0000, 0.0000, 0.0000, 0.0000, 0.0000, 0.0000, 0.0000,\n",
       "           0.0000, 0.0000, 0.0000, 0.0000, 0.0000, 0.0000, 0.0000, 0.0000,\n",
       "           0.0000, 0.0000, 0.0000, 0.0000, 0.0000, 0.0000, 0.0000, 0.0000,\n",
       "           0.0000, 0.0000, 0.0000, 0.0000],\n",
       "          [0.0000, 0.0000, 0.0000, 0.0000, 0.0000, 0.0000, 0.0000, 0.0000,\n",
       "           0.0000, 0.0000, 0.0000, 0.0000, 0.0000, 0.0000, 0.0000, 0.0000,\n",
       "           0.0000, 0.0000, 0.0000, 0.0000, 0.0000, 0.0000, 0.0000, 0.0000,\n",
       "           0.0000, 0.0000, 0.0000, 0.0000],\n",
       "          [0.0000, 0.0000, 0.0000, 0.0000, 0.0000, 0.0000, 0.0000, 0.0000,\n",
       "           0.0000, 0.0000, 0.0000, 0.0000, 0.0039, 0.0000, 0.0000, 0.0510,\n",
       "           0.2863, 0.0000, 0.0000, 0.0039, 0.0157, 0.0000, 0.0000, 0.0000,\n",
       "           0.0000, 0.0039, 0.0039, 0.0000],\n",
       "          [0.0000, 0.0000, 0.0000, 0.0000, 0.0000, 0.0000, 0.0000, 0.0000,\n",
       "           0.0000, 0.0000, 0.0000, 0.0000, 0.0118, 0.0000, 0.1412, 0.5333,\n",
       "           0.4980, 0.2431, 0.2118, 0.0000, 0.0000, 0.0000, 0.0039, 0.0118,\n",
       "           0.0157, 0.0000, 0.0000, 0.0118],\n",
       "          [0.0000, 0.0000, 0.0000, 0.0000, 0.0000, 0.0000, 0.0000, 0.0000,\n",
       "           0.0000, 0.0000, 0.0000, 0.0000, 0.0235, 0.0000, 0.4000, 0.8000,\n",
       "           0.6902, 0.5255, 0.5647, 0.4824, 0.0902, 0.0000, 0.0000, 0.0000,\n",
       "           0.0000, 0.0471, 0.0392, 0.0000],\n",
       "          [0.0000, 0.0000, 0.0000, 0.0000, 0.0000, 0.0000, 0.0000, 0.0000,\n",
       "           0.0000, 0.0000, 0.0000, 0.0000, 0.0000, 0.0000, 0.6078, 0.9255,\n",
       "           0.8118, 0.6980, 0.4196, 0.6118, 0.6314, 0.4275, 0.2510, 0.0902,\n",
       "           0.3020, 0.5098, 0.2824, 0.0588],\n",
       "          [0.0000, 0.0000, 0.0000, 0.0000, 0.0000, 0.0000, 0.0000, 0.0000,\n",
       "           0.0000, 0.0000, 0.0000, 0.0039, 0.0000, 0.2706, 0.8118, 0.8745,\n",
       "           0.8549, 0.8471, 0.8471, 0.6392, 0.4980, 0.4745, 0.4784, 0.5725,\n",
       "           0.5529, 0.3451, 0.6745, 0.2588],\n",
       "          [0.0000, 0.0000, 0.0000, 0.0000, 0.0000, 0.0000, 0.0000, 0.0000,\n",
       "           0.0000, 0.0039, 0.0039, 0.0039, 0.0000, 0.7843, 0.9098, 0.9098,\n",
       "           0.9137, 0.8980, 0.8745, 0.8745, 0.8431, 0.8353, 0.6431, 0.4980,\n",
       "           0.4824, 0.7686, 0.8980, 0.0000],\n",
       "          [0.0000, 0.0000, 0.0000, 0.0000, 0.0000, 0.0000, 0.0000, 0.0000,\n",
       "           0.0000, 0.0000, 0.0000, 0.0000, 0.0000, 0.7176, 0.8824, 0.8471,\n",
       "           0.8745, 0.8941, 0.9216, 0.8902, 0.8784, 0.8706, 0.8784, 0.8667,\n",
       "           0.8745, 0.9608, 0.6784, 0.0000],\n",
       "          [0.0000, 0.0000, 0.0000, 0.0000, 0.0000, 0.0000, 0.0000, 0.0000,\n",
       "           0.0000, 0.0000, 0.0000, 0.0000, 0.0000, 0.7569, 0.8941, 0.8549,\n",
       "           0.8353, 0.7765, 0.7059, 0.8314, 0.8235, 0.8275, 0.8353, 0.8745,\n",
       "           0.8627, 0.9529, 0.7922, 0.0000],\n",
       "          [0.0000, 0.0000, 0.0000, 0.0000, 0.0000, 0.0000, 0.0000, 0.0000,\n",
       "           0.0000, 0.0039, 0.0118, 0.0000, 0.0471, 0.8588, 0.8627, 0.8314,\n",
       "           0.8549, 0.7529, 0.6627, 0.8902, 0.8157, 0.8549, 0.8784, 0.8314,\n",
       "           0.8863, 0.7725, 0.8196, 0.2039],\n",
       "          [0.0000, 0.0000, 0.0000, 0.0000, 0.0000, 0.0000, 0.0000, 0.0000,\n",
       "           0.0000, 0.0000, 0.0235, 0.0000, 0.3882, 0.9569, 0.8706, 0.8627,\n",
       "           0.8549, 0.7961, 0.7765, 0.8667, 0.8431, 0.8353, 0.8706, 0.8627,\n",
       "           0.9608, 0.4667, 0.6549, 0.2196],\n",
       "          [0.0000, 0.0000, 0.0000, 0.0000, 0.0000, 0.0000, 0.0000, 0.0000,\n",
       "           0.0000, 0.0157, 0.0000, 0.0000, 0.2157, 0.9255, 0.8941, 0.9020,\n",
       "           0.8941, 0.9412, 0.9098, 0.8353, 0.8549, 0.8745, 0.9176, 0.8510,\n",
       "           0.8510, 0.8196, 0.3608, 0.0000],\n",
       "          [0.0000, 0.0000, 0.0039, 0.0157, 0.0235, 0.0275, 0.0078, 0.0000,\n",
       "           0.0000, 0.0000, 0.0000, 0.0000, 0.9294, 0.8863, 0.8510, 0.8745,\n",
       "           0.8706, 0.8588, 0.8706, 0.8667, 0.8471, 0.8745, 0.8980, 0.8431,\n",
       "           0.8549, 1.0000, 0.3020, 0.0000],\n",
       "          [0.0000, 0.0118, 0.0000, 0.0000, 0.0000, 0.0000, 0.0000, 0.0000,\n",
       "           0.0000, 0.2431, 0.5686, 0.8000, 0.8941, 0.8118, 0.8353, 0.8667,\n",
       "           0.8549, 0.8157, 0.8275, 0.8549, 0.8784, 0.8745, 0.8588, 0.8431,\n",
       "           0.8784, 0.9569, 0.6235, 0.0000],\n",
       "          [0.0000, 0.0000, 0.0000, 0.0000, 0.0706, 0.1725, 0.3216, 0.4196,\n",
       "           0.7412, 0.8941, 0.8627, 0.8706, 0.8510, 0.8863, 0.7843, 0.8039,\n",
       "           0.8275, 0.9020, 0.8784, 0.9176, 0.6902, 0.7373, 0.9804, 0.9725,\n",
       "           0.9137, 0.9333, 0.8431, 0.0000],\n",
       "          [0.0000, 0.2235, 0.7333, 0.8157, 0.8784, 0.8667, 0.8784, 0.8157,\n",
       "           0.8000, 0.8392, 0.8157, 0.8196, 0.7843, 0.6235, 0.9608, 0.7569,\n",
       "           0.8078, 0.8745, 1.0000, 1.0000, 0.8667, 0.9176, 0.8667, 0.8275,\n",
       "           0.8627, 0.9098, 0.9647, 0.0000],\n",
       "          [0.0118, 0.7922, 0.8941, 0.8784, 0.8667, 0.8275, 0.8275, 0.8392,\n",
       "           0.8039, 0.8039, 0.8039, 0.8627, 0.9412, 0.3137, 0.5882, 1.0000,\n",
       "           0.8980, 0.8667, 0.7373, 0.6039, 0.7490, 0.8235, 0.8000, 0.8196,\n",
       "           0.8706, 0.8941, 0.8824, 0.0000],\n",
       "          [0.3843, 0.9137, 0.7765, 0.8235, 0.8706, 0.8980, 0.8980, 0.9176,\n",
       "           0.9765, 0.8627, 0.7608, 0.8431, 0.8510, 0.9451, 0.2549, 0.2863,\n",
       "           0.4157, 0.4588, 0.6588, 0.8588, 0.8667, 0.8431, 0.8510, 0.8745,\n",
       "           0.8745, 0.8784, 0.8980, 0.1137],\n",
       "          [0.2941, 0.8000, 0.8314, 0.8000, 0.7569, 0.8039, 0.8275, 0.8824,\n",
       "           0.8471, 0.7255, 0.7725, 0.8078, 0.7765, 0.8353, 0.9412, 0.7647,\n",
       "           0.8902, 0.9608, 0.9373, 0.8745, 0.8549, 0.8314, 0.8196, 0.8706,\n",
       "           0.8627, 0.8667, 0.9020, 0.2627],\n",
       "          [0.1882, 0.7961, 0.7176, 0.7608, 0.8353, 0.7725, 0.7255, 0.7451,\n",
       "           0.7608, 0.7529, 0.7922, 0.8392, 0.8588, 0.8667, 0.8627, 0.9255,\n",
       "           0.8824, 0.8471, 0.7804, 0.8078, 0.7294, 0.7098, 0.6941, 0.6745,\n",
       "           0.7098, 0.8039, 0.8078, 0.4510],\n",
       "          [0.0000, 0.4784, 0.8588, 0.7569, 0.7020, 0.6706, 0.7176, 0.7686,\n",
       "           0.8000, 0.8235, 0.8353, 0.8118, 0.8275, 0.8235, 0.7843, 0.7686,\n",
       "           0.7608, 0.7490, 0.7647, 0.7490, 0.7765, 0.7529, 0.6902, 0.6118,\n",
       "           0.6549, 0.6941, 0.8235, 0.3608],\n",
       "          [0.0000, 0.0000, 0.2902, 0.7412, 0.8314, 0.7490, 0.6863, 0.6745,\n",
       "           0.6863, 0.7098, 0.7255, 0.7373, 0.7412, 0.7373, 0.7569, 0.7765,\n",
       "           0.8000, 0.8196, 0.8235, 0.8235, 0.8275, 0.7373, 0.7373, 0.7608,\n",
       "           0.7529, 0.8471, 0.6667, 0.0000],\n",
       "          [0.0078, 0.0000, 0.0000, 0.0000, 0.2588, 0.7843, 0.8706, 0.9294,\n",
       "           0.9373, 0.9490, 0.9647, 0.9529, 0.9569, 0.8667, 0.8627, 0.7569,\n",
       "           0.7490, 0.7020, 0.7137, 0.7137, 0.7098, 0.6902, 0.6510, 0.6588,\n",
       "           0.3882, 0.2275, 0.0000, 0.0000],\n",
       "          [0.0000, 0.0000, 0.0000, 0.0000, 0.0000, 0.0000, 0.0000, 0.1569,\n",
       "           0.2392, 0.1725, 0.2824, 0.1608, 0.1373, 0.0000, 0.0000, 0.0000,\n",
       "           0.0000, 0.0000, 0.0000, 0.0000, 0.0000, 0.0000, 0.0000, 0.0000,\n",
       "           0.0000, 0.0000, 0.0000, 0.0000],\n",
       "          [0.0000, 0.0000, 0.0000, 0.0000, 0.0000, 0.0000, 0.0000, 0.0000,\n",
       "           0.0000, 0.0000, 0.0000, 0.0000, 0.0000, 0.0000, 0.0000, 0.0000,\n",
       "           0.0000, 0.0000, 0.0000, 0.0000, 0.0000, 0.0000, 0.0000, 0.0000,\n",
       "           0.0000, 0.0000, 0.0000, 0.0000],\n",
       "          [0.0000, 0.0000, 0.0000, 0.0000, 0.0000, 0.0000, 0.0000, 0.0000,\n",
       "           0.0000, 0.0000, 0.0000, 0.0000, 0.0000, 0.0000, 0.0000, 0.0000,\n",
       "           0.0000, 0.0000, 0.0000, 0.0000, 0.0000, 0.0000, 0.0000, 0.0000,\n",
       "           0.0000, 0.0000, 0.0000, 0.0000]]]),\n",
       " 9)"
      ]
     },
     "execution_count": 62,
     "metadata": {},
     "output_type": "execute_result"
    }
   ],
   "source": [
    "# See the first training example\n",
    "image, label = train_data[0]\n",
    "image, label"
   ]
  },
  {
   "cell_type": "code",
   "execution_count": 63,
   "id": "f685103f",
   "metadata": {},
   "outputs": [
    {
     "data": {
      "text/plain": [
       "['T-shirt/top',\n",
       " 'Trouser',\n",
       " 'Pullover',\n",
       " 'Dress',\n",
       " 'Coat',\n",
       " 'Sandal',\n",
       " 'Shirt',\n",
       " 'Sneaker',\n",
       " 'Bag',\n",
       " 'Ankle boot']"
      ]
     },
     "execution_count": 63,
     "metadata": {},
     "output_type": "execute_result"
    }
   ],
   "source": [
    "class_names = train_data.classes\n",
    "class_names"
   ]
  },
  {
   "cell_type": "code",
   "execution_count": 64,
   "id": "57617eb7",
   "metadata": {},
   "outputs": [
    {
     "data": {
      "text/plain": [
       "{'T-shirt/top': 0,\n",
       " 'Trouser': 1,\n",
       " 'Pullover': 2,\n",
       " 'Dress': 3,\n",
       " 'Coat': 4,\n",
       " 'Sandal': 5,\n",
       " 'Shirt': 6,\n",
       " 'Sneaker': 7,\n",
       " 'Bag': 8,\n",
       " 'Ankle boot': 9}"
      ]
     },
     "execution_count": 64,
     "metadata": {},
     "output_type": "execute_result"
    }
   ],
   "source": [
    "class_to_dix = train_data.class_to_idx\n",
    "class_to_dix"
   ]
  },
  {
   "cell_type": "code",
   "execution_count": 65,
   "id": "fee04716",
   "metadata": {},
   "outputs": [
    {
     "data": {
      "text/plain": [
       "tensor([9, 0, 0,  ..., 3, 0, 5])"
      ]
     },
     "execution_count": 65,
     "metadata": {},
     "output_type": "execute_result"
    }
   ],
   "source": [
    "train_data.targets"
   ]
  },
  {
   "cell_type": "code",
   "execution_count": 66,
   "id": "90d54a5e",
   "metadata": {},
   "outputs": [
    {
     "name": "stdout",
     "output_type": "stream",
     "text": [
      "Image shape: torch.Size([1, 28, 28]) -> [color_channels, height, width]\n",
      "Image label: 9\n"
     ]
    }
   ],
   "source": [
    "# Check the shape of our image\n",
    "print(f\"Image shape: {image.shape} -> [color_channels, height, width]\")\n",
    "print(f\"Image label: {label}\")"
   ]
  },
  {
   "cell_type": "markdown",
   "id": "f1e4b712",
   "metadata": {},
   "source": [
    "## 1.2 Visualizing our data"
   ]
  },
  {
   "cell_type": "code",
   "execution_count": 67,
   "id": "eafe0040",
   "metadata": {},
   "outputs": [
    {
     "name": "stdout",
     "output_type": "stream",
     "text": [
      "Image shape: torch.Size([1, 28, 28])\n"
     ]
    },
    {
     "data": {
      "image/png": "[encoded data removed]",
      "text/plain": [
       "<Figure size 640x480 with 1 Axes>"
      ]
     },
     "metadata": {},
     "output_type": "display_data"
    }
   ],
   "source": [
    "image, label = train_data[0]\n",
    "\n",
    "print(f\"Image shape: {image.shape}\")\n",
    "\n",
    "plt.title(label)\n",
    "plt.imshow(image.squeeze())\n",
    "plt.axis(False)\n",
    "plt.show()"
   ]
  },
  {
   "cell_type": "code",
   "execution_count": 68,
   "id": "928f6c1e",
   "metadata": {},
   "outputs": [
    {
     "data": {
      "image/png": "[encoded data removed]",
      "text/plain": [
       "<Figure size 640x480 with 1 Axes>"
      ]
     },
     "metadata": {},
     "output_type": "display_data"
    }
   ],
   "source": [
    "plt.title(class_names[label])\n",
    "plt.imshow(image.squeeze(), cmap=\"gray\")\n",
    "plt.axis(False)\n",
    "plt.show()"
   ]
  },
  {
   "cell_type": "code",
   "execution_count": 69,
   "id": "e0a4b30f",
   "metadata": {},
   "outputs": [
    {
     "data": {
      "image/png": "[encoded data removed]",
      "text/plain": [
       "<Figure size 900x900 with 16 Axes>"
      ]
     },
     "metadata": {},
     "output_type": "display_data"
    }
   ],
   "source": [
    "# Plot more images\n",
    "torch.manual_seed(42)\n",
    "\n",
    "fig = plt.figure(figsize=(9, 9))\n",
    "rows, cols = 4, 4\n",
    "for i in range(1, rows * cols + 1):\n",
    "    random_idx = torch.randint(0, len(train_data), size=[1]).item()\n",
    "    \n",
    "    img, label = train_data[random_idx]\n",
    "    \n",
    "    fig.add_subplot(rows, cols, i)\n",
    "    plt.imshow(img.squeeze(), cmap=\"gray\")\n",
    "    plt.title(class_names[label])\n",
    "    plt.axis(False)"
   ]
  },
  {
   "cell_type": "markdown",
   "id": "2cbd77d7",
   "metadata": {},
   "source": [
    "Do you think these items of clothing (images) could be modelled with pure linear lines? Or you think we'll need non-linearity?"
   ]
  },
  {
   "cell_type": "markdown",
   "id": "a0217dbe",
   "metadata": {},
   "source": [
    "## 2. Prepare dataloader\n",
    "\n",
    "Right now, our data is in the form of PyTorch Datasets\n",
    "\n",
    "DataLoader turns our dataset into a Python iterable\n",
    "\n",
    "More specifically, we want to turn our data into batches (or mini-batches)\n",
    "\n",
    "Why would we do this?\n",
    "\n",
    "1. It is more computationally efficient, as in your computer hardware may not be able to look (store in memory) at 60000 images in one hit. So we break it down to 32 images at a time (batch size of 32)\n",
    "2. It gives our neural network more chances to update its gradients per epoch"
   ]
  },
  {
   "cell_type": "code",
   "execution_count": 70,
   "id": "e850738a",
   "metadata": {},
   "outputs": [],
   "source": [
    "from torch.utils.data import DataLoader\n",
    "\n",
    "# Setup the batch size hyperparameter\n",
    "BATCH_SIZE = 32\n",
    "\n",
    "# Turn datasets into iterables (batches)\n",
    "train_data_loader = DataLoader(\n",
    "    dataset=train_data,\n",
    "    batch_size=BATCH_SIZE,\n",
    "    shuffle=True,\n",
    ")\n",
    "\n",
    "test_data_loader = DataLoader(\n",
    "    dataset=test_data,\n",
    "    batch_size=BATCH_SIZE,\n",
    "    shuffle=False,\n",
    ")"
   ]
  },
  {
   "cell_type": "code",
   "execution_count": 71,
   "id": "6d5bab59",
   "metadata": {},
   "outputs": [
    {
     "name": "stdout",
     "output_type": "stream",
     "text": [
      "DataLoaders: (<torch.utils.data.dataloader.DataLoader object at 0x1389ef890>, <torch.utils.data.dataloader.DataLoader object at 0x150165810>)\n",
      "Length of train_data_loader: 1875 batches of 32...\n",
      "Length of test_data_loader: 313 batches of 32...\n"
     ]
    }
   ],
   "source": [
    "# Let's check out what we've created\n",
    "print(f\"DataLoaders: {train_data_loader, test_data_loader}\")\n",
    "print(f\"Length of train_data_loader: {len(train_data_loader)} batches of {BATCH_SIZE}...\")\n",
    "print(f\"Length of test_data_loader: {len(test_data_loader)} batches of {BATCH_SIZE}...\")"
   ]
  },
  {
   "cell_type": "code",
   "execution_count": 72,
   "id": "8a28966d",
   "metadata": {},
   "outputs": [
    {
     "data": {
      "text/plain": [
       "(torch.Size([32, 1, 28, 28]), torch.Size([32]))"
      ]
     },
     "execution_count": 72,
     "metadata": {},
     "output_type": "execute_result"
    }
   ],
   "source": [
    "# Check out what's inside the training dataloader\n",
    "train_features_batch, train_labels_batch = next(iter(train_data_loader))\n",
    "train_features_batch.shape, train_labels_batch.shape"
   ]
  },
  {
   "cell_type": "code",
   "execution_count": 73,
   "id": "cb132193",
   "metadata": {},
   "outputs": [
    {
     "data": {
      "image/png": "[encoded data removed]",
      "text/plain": [
       "<Figure size 640x480 with 1 Axes>"
      ]
     },
     "metadata": {},
     "output_type": "display_data"
    },
    {
     "name": "stdout",
     "output_type": "stream",
     "text": [
      "Image size: torch.Size([1, 28, 28])\n",
      "Label: 6, label size: torch.Size([])\n"
     ]
    }
   ],
   "source": [
    "# Show a sample\n",
    "torch.manual_seed(42)\n",
    "random_idx = torch.randint(0, len(train_features_batch), size=[1]).item()\n",
    "img, label = train_features_batch[random_idx], train_labels_batch[random_idx]\n",
    "\n",
    "plt.imshow(img.squeeze(), cmap=\"gray\")\n",
    "plt.title(class_names[label])\n",
    "plt.axis(False)\n",
    "plt.show()\n",
    "\n",
    "print(f\"Image size: {img.shape}\")\n",
    "print(f\"Label: {label}, label size: {label.shape}\")"
   ]
  },
  {
   "cell_type": "markdown",
   "id": "a3373042",
   "metadata": {},
   "source": [
    "## 3. Create a baseline model\n",
    "\n",
    "When starting to build a series of machine learning experiments, it's best practice to start with a baseline model\n",
    "\n",
    "A baselin model is a simple model you will try and improve upon with subsequent  models/experiments\n",
    "\n",
    "In other words: start simply and add complexity when necessary"
   ]
  },
  {
   "cell_type": "code",
   "execution_count": 74,
   "id": "6e9d94c4",
   "metadata": {},
   "outputs": [
    {
     "name": "stdout",
     "output_type": "stream",
     "text": [
      "shape before flattening: torch.Size([1, 28, 28]) -> [color_channels, height, width]\n",
      "shape after flattening: torch.Size([1, 784]) -> [color_channels, height * width]\n"
     ]
    }
   ],
   "source": [
    "# Create a flatten layer\n",
    "flatten_model = nn.Flatten()\n",
    "\n",
    "# Get a single sample\n",
    "x = train_features_batch[0]\n",
    "print(f\"shape before flattening: {x.shape} -> [color_channels, height, width]\")\n",
    "\n",
    "# Flatten the sample\n",
    "output = flatten_model(x) # perform forward pass\n",
    "\n",
    "# Print out what happend\n",
    "print(f\"shape after flattening: {output.shape} -> [color_channels, height * width]\")"
   ]
  },
  {
   "cell_type": "code",
   "execution_count": 75,
   "id": "54ffbdea",
   "metadata": {},
   "outputs": [
    {
     "data": {
      "text/plain": [
       "tensor([0.0000, 0.0000, 0.0000, 0.0000, 0.0000, 0.0000, 0.0000, 0.0000, 0.0000,\n",
       "        0.0000, 0.0000, 0.0000, 0.0000, 0.0000, 0.0000, 0.0000, 0.0000, 0.0000,\n",
       "        0.0000, 0.0000, 0.0000, 0.0000, 0.0000, 0.0000, 0.0000, 0.0000, 0.0000,\n",
       "        0.0000, 0.0000, 0.0000, 0.0000, 0.0000, 0.0000, 0.0000, 0.0000, 0.0000,\n",
       "        0.0000, 0.0000, 0.0000, 0.0000, 0.0000, 0.0000, 0.0000, 0.0000, 0.0000,\n",
       "        0.0000, 0.0000, 0.0000, 0.0000, 0.0000, 0.0000, 0.0000, 0.0000, 0.0000,\n",
       "        0.0000, 0.0000, 0.0000, 0.0000, 0.0000, 0.0000, 0.0000, 0.0000, 0.0000,\n",
       "        0.0000, 0.0000, 0.0000, 0.0000, 0.0000, 0.0000, 0.0000, 0.0000, 0.0000,\n",
       "        0.0000, 0.0000, 0.0000, 0.0000, 0.0000, 0.0000, 0.0000, 0.0000, 0.0000,\n",
       "        0.0000, 0.0000, 0.0000, 0.0000, 0.0000, 0.0000, 0.0000, 0.0000, 0.0000,\n",
       "        0.0000, 0.0000, 0.0000, 0.0039, 0.0039, 0.0000, 0.0000, 0.0078, 0.0078,\n",
       "        0.0000, 0.0000, 0.0039, 0.0078, 0.0000, 0.0000, 0.0000, 0.0000, 0.0000,\n",
       "        0.2863, 0.0000, 0.0000, 0.0078, 0.0000, 0.0000, 0.0000, 0.0000, 0.0000,\n",
       "        0.0000, 0.0000, 0.0000, 0.0000, 0.0000, 0.0000, 0.0000, 0.0000, 0.0000,\n",
       "        0.0000, 0.0000, 0.0000, 0.0000, 0.0000, 0.0000, 0.0000, 0.0000, 0.0000,\n",
       "        0.0000, 0.3725, 0.0000, 0.0000, 0.0000, 0.0000, 0.0000, 0.0000, 0.0000,\n",
       "        0.0000, 0.0000, 0.0000, 0.0000, 0.0000, 0.0000, 0.0000, 0.0000, 0.0000,\n",
       "        0.3373, 0.3569, 0.2039, 0.4980, 0.4196, 0.4706, 0.3608, 0.3961, 0.4706,\n",
       "        0.4471, 1.0000, 0.4314, 0.3451, 0.0078, 0.0000, 0.0000, 0.0000, 0.0000,\n",
       "        0.0000, 0.0000, 0.0000, 0.0000, 0.0000, 0.0000, 0.0000, 0.0000, 0.0000,\n",
       "        0.0000, 0.0706, 0.0824, 0.0706, 0.4588, 0.4118, 0.4980, 0.2588, 0.2235,\n",
       "        0.2588, 0.0824, 0.0510, 0.1922, 0.5137, 0.5765, 0.0000, 0.0000, 0.0000,\n",
       "        0.0000, 0.0000, 0.0000, 0.0000, 0.0000, 0.0000, 0.0000, 0.0000, 0.0000,\n",
       "        0.0000, 0.0000, 0.0000, 0.0000, 0.0000, 0.0000, 0.0000, 0.0000, 0.0000,\n",
       "        0.0000, 0.0000, 0.0000, 0.1333, 0.8000, 0.5608, 0.5255, 0.2431, 0.0000,\n",
       "        0.0000, 0.0000, 0.0000, 0.0000, 0.0000, 0.0000, 0.0000, 0.0000, 0.0000,\n",
       "        0.0000, 0.0000, 0.0000, 0.0039, 0.0039, 0.0000, 0.0000, 0.0000, 0.0000,\n",
       "        0.0078, 0.0000, 0.0000, 0.0000, 0.9137, 0.9686, 0.5137, 0.4353, 0.6471,\n",
       "        0.0000, 0.0000, 0.0000, 0.0000, 0.0000, 0.0000, 0.0000, 0.0000, 0.0000,\n",
       "        0.0000, 0.0000, 0.0000, 0.0000, 0.0000, 0.0000, 0.0000, 0.0000, 0.0000,\n",
       "        0.0000, 0.0000, 0.0000, 0.0000, 0.0588, 0.3843, 0.6980, 0.0588, 0.2824,\n",
       "        0.1686, 0.0000, 0.0000, 0.0000, 0.0000, 0.0000, 0.0000, 0.0000, 0.0000,\n",
       "        0.0000, 0.0000, 0.0000, 0.0000, 0.0000, 0.0000, 0.0000, 0.0000, 0.0000,\n",
       "        0.0000, 0.0000, 0.0000, 0.0000, 0.1333, 0.2078, 0.2157, 0.6745, 0.2941,\n",
       "        0.1059, 0.0000, 0.0000, 0.0000, 0.0000, 0.0000, 0.0000, 0.0000, 0.0000,\n",
       "        0.0000, 0.0000, 0.0000, 0.0000, 0.0000, 0.0000, 0.0000, 0.0000, 0.0000,\n",
       "        0.0000, 0.0000, 0.0039, 0.0000, 0.0078, 0.3333, 0.2980, 0.2941, 0.2039,\n",
       "        0.0314, 0.0000, 0.0000, 0.0000, 0.0000, 0.0000, 0.0000, 0.0000, 0.0000,\n",
       "        0.0000, 0.0000, 0.0000, 0.0000, 0.0000, 0.0000, 0.0000, 0.0000, 0.0000,\n",
       "        0.0000, 0.0000, 0.0039, 0.0039, 0.0000, 0.2196, 0.5020, 0.0157, 0.0706,\n",
       "        0.3451, 0.3216, 0.0588, 0.0000, 0.0000, 0.0000, 0.0000, 0.0000, 0.0000,\n",
       "        0.0000, 0.0000, 0.0000, 0.0000, 0.0000, 0.0000, 0.0000, 0.0000, 0.0000,\n",
       "        0.0000, 0.0000, 0.0000, 0.0000, 0.0000, 0.0157, 0.4863, 0.3843, 0.1804,\n",
       "        0.6235, 0.7882, 0.6000, 0.1569, 0.0000, 0.0000, 0.0000, 0.0000, 0.0000,\n",
       "        0.0000, 0.0000, 0.0000, 0.0000, 0.0000, 0.0000, 0.0000, 0.0000, 0.0000,\n",
       "        0.0000, 0.0000, 0.0000, 0.0000, 0.0000, 0.0000, 0.2863, 0.4431, 0.4196,\n",
       "        0.5882, 0.5020, 0.1020, 0.2235, 0.0549, 0.0000, 0.0000, 0.0000, 0.0000,\n",
       "        0.0000, 0.0000, 0.0000, 0.0000, 0.0000, 0.0000, 0.0000, 0.0000, 0.0000,\n",
       "        0.0000, 0.0000, 0.0000, 0.0000, 0.0000, 0.0000, 0.0039, 0.4078, 0.4314,\n",
       "        0.7137, 0.1843, 0.2196, 0.4118, 0.3216, 0.0196, 0.0000, 0.0000, 0.0000,\n",
       "        0.0000, 0.0000, 0.0039, 0.0000, 0.0000, 0.0000, 0.0000, 0.0000, 0.0000,\n",
       "        0.0000, 0.0000, 0.0000, 0.0000, 0.0000, 0.0000, 0.0000, 0.2549, 0.5647,\n",
       "        0.6275, 0.0824, 0.0000, 0.0000, 0.5098, 0.3333, 0.0000, 0.0000, 0.0000,\n",
       "        0.0000, 0.0000, 0.0000, 0.0000, 0.0000, 0.0039, 0.0039, 0.0000, 0.0000,\n",
       "        0.0000, 0.0000, 0.0000, 0.0000, 0.0000, 0.0000, 0.0000, 0.3333, 0.5647,\n",
       "        0.5529, 0.0000, 0.0000, 0.0000, 0.0000, 0.6510, 0.3059, 0.0000, 0.0000,\n",
       "        0.0000, 0.0000, 0.0000, 0.0000, 0.0000, 0.0000, 0.0000, 0.0000, 0.0000,\n",
       "        0.0000, 0.0000, 0.0000, 0.0000, 0.0000, 0.0000, 0.0000, 0.1922, 0.7216,\n",
       "        0.4510, 0.0000, 0.0000, 0.0157, 0.0000, 0.0000, 0.6275, 0.2667, 0.0000,\n",
       "        0.0000, 0.0000, 0.0000, 0.0000, 0.0039, 0.0000, 0.0000, 0.0784, 0.0784,\n",
       "        0.0000, 0.0000, 0.0000, 0.0000, 0.0000, 0.0000, 0.0000, 0.0706, 0.6392,\n",
       "        0.3804, 0.0000, 0.0000, 0.0000, 0.0314, 0.0000, 0.0000, 0.6667, 0.1529,\n",
       "        0.0000, 0.0000, 0.0000, 0.0000, 0.0039, 0.0000, 0.0314, 0.2471, 0.2980,\n",
       "        0.1686, 0.0000, 0.0000, 0.0000, 0.0000, 0.0000, 0.0000, 0.0000, 0.5255,\n",
       "        0.5333, 0.0000, 0.0000, 0.0000, 0.0000, 0.0078, 0.0000, 0.0000, 0.6784,\n",
       "        0.0706, 0.0000, 0.0039, 0.0039, 0.0039, 0.0000, 0.0000, 0.0706, 0.0941,\n",
       "        0.0000, 0.0196, 0.0000, 0.0000, 0.0000, 0.0000, 0.0000, 0.0000, 0.3451,\n",
       "        0.7137, 0.0275, 0.0000, 0.0000, 0.0000, 0.0000, 0.0000, 0.0000, 0.0000,\n",
       "        0.6588, 0.0039, 0.0000, 0.0039, 0.0000, 0.0000, 0.0000, 0.0000, 0.0078,\n",
       "        0.1922, 0.1059, 0.1216, 0.2196, 0.0667, 0.0000, 0.0000, 0.0000, 0.3451,\n",
       "        0.6000, 0.1922, 0.0000, 0.0196, 0.0000, 0.0039, 0.0000, 0.0000, 0.0000,\n",
       "        0.0000, 0.6471, 0.0000, 0.0000, 0.0039, 0.0510, 0.0275, 0.0000, 0.0000,\n",
       "        0.0000, 0.3294, 0.3804, 0.4000, 0.4941, 0.3882, 0.0000, 0.0196, 0.5020,\n",
       "        0.6000, 0.2863, 0.0000, 0.0000, 0.0000, 0.0000, 0.0000, 0.0000, 0.0000,\n",
       "        0.0000, 0.0039, 0.5451, 0.0000, 0.0000, 0.0000, 0.3176, 0.5961, 0.5725,\n",
       "        0.5490, 0.4863, 0.4824, 0.5098, 0.4941, 0.4431, 0.4431, 0.4471, 0.7216,\n",
       "        0.6235, 0.1647, 0.0000, 0.0000, 0.0000, 0.0078, 0.0000, 0.0000, 0.0000,\n",
       "        0.0000, 0.0000, 0.0000, 0.7294, 0.0000, 0.0000, 0.0039, 0.0000, 0.0000,\n",
       "        0.0000, 0.0941, 0.1647, 0.1804, 0.2235, 0.2549, 0.2706, 0.2549, 0.2471,\n",
       "        0.1569, 0.0000, 0.0000, 0.0000, 0.0000, 0.0000, 0.0000, 0.0000, 0.0000,\n",
       "        0.0000, 0.0000, 0.0000, 0.0000, 0.7137, 0.0157, 0.0000, 0.0039, 0.0000,\n",
       "        0.0000, 0.0000, 0.0000, 0.0000, 0.0000, 0.0000, 0.0000, 0.0000, 0.0000,\n",
       "        0.0000, 0.0000, 0.0000, 0.0000, 0.0000, 0.0000, 0.0000, 0.0000, 0.0000,\n",
       "        0.0000, 0.0000, 0.0000, 0.0000, 0.0000, 0.0000, 0.0000, 0.0000, 0.0000,\n",
       "        0.0000, 0.0000, 0.0000, 0.0000, 0.0000, 0.0000, 0.0000, 0.0000, 0.0000,\n",
       "        0.0000, 0.0000, 0.0000, 0.0000, 0.0000, 0.0000, 0.0000, 0.0000, 0.0000,\n",
       "        0.0000, 0.0000, 0.0000, 0.0000, 0.0000, 0.0000, 0.0000, 0.0000, 0.0000,\n",
       "        0.0000])"
      ]
     },
     "execution_count": 75,
     "metadata": {},
     "output_type": "execute_result"
    }
   ],
   "source": [
    "output.squeeze()"
   ]
  },
  {
   "cell_type": "code",
   "execution_count": 76,
   "id": "31e81dfb",
   "metadata": {},
   "outputs": [],
   "source": [
    "from math import inf\n",
    "from pandas import infer_freq\n",
    "from torch import nn\n",
    "\n",
    "class FashionMNISTModelV0(nn.Module):\n",
    "    def __init__(self, input_shape: int, hidden_units: int, output_shape: int):\n",
    "        super().__init__()\n",
    "        \n",
    "        self.layer_stack = nn.Sequential(\n",
    "            nn.Flatten(),\n",
    "            \n",
    "            nn.Linear(in_features=input_shape, out_features=hidden_units),\n",
    "            nn.Linear(in_features=hidden_units, out_features=output_shape),\n",
    "        )\n",
    "    \n",
    "    def forward(self, x: torch.Tensor) -> torch.Tensor:\n",
    "        return self.layer_stack(x)"
   ]
  },
  {
   "cell_type": "code",
   "execution_count": 77,
   "id": "38b26080",
   "metadata": {},
   "outputs": [],
   "source": [
    "torch.manual_seed(42)\n",
    "\n",
    "# Setup model with input parameters\n",
    "model_0 = FashionMNISTModelV0(\n",
    "    input_shape=784, # this is 28 * 28\n",
    "    hidden_units=32,\n",
    "    output_shape=len(class_names) # one for every class\n",
    ").to(\"cpu\")"
   ]
  },
  {
   "cell_type": "code",
   "execution_count": 78,
   "id": "89cf18f5",
   "metadata": {},
   "outputs": [
    {
     "data": {
      "text/plain": [
       "FashionMNISTModelV0(\n",
       "  (layer_stack): Sequential(\n",
       "    (0): Flatten(start_dim=1, end_dim=-1)\n",
       "    (1): Linear(in_features=784, out_features=32, bias=True)\n",
       "    (2): Linear(in_features=32, out_features=10, bias=True)\n",
       "  )\n",
       ")"
      ]
     },
     "execution_count": 78,
     "metadata": {},
     "output_type": "execute_result"
    }
   ],
   "source": [
    "model_0"
   ]
  },
  {
   "cell_type": "code",
   "execution_count": 79,
   "id": "4e8393a9",
   "metadata": {},
   "outputs": [
    {
     "data": {
      "text/plain": [
       "tensor([[ 0.0461, -0.1040,  0.2095,  0.0458, -0.0841, -0.3552,  0.0832, -0.1319,\n",
       "          0.1477,  0.0418]], grad_fn=<AddmmBackward0>)"
      ]
     },
     "execution_count": 79,
     "metadata": {},
     "output_type": "execute_result"
    }
   ],
   "source": [
    "dummy_x = torch.rand([1, 1, 28, 28])\n",
    "model_0(dummy_x)"
   ]
  },
  {
   "cell_type": "code",
   "execution_count": 80,
   "id": "50115e07",
   "metadata": {},
   "outputs": [
    {
     "data": {
      "text/plain": [
       "OrderedDict([('layer_stack.1.weight',\n",
       "              tensor([[ 0.0273,  0.0296, -0.0084,  ..., -0.0142,  0.0093,  0.0135],\n",
       "                      [-0.0188, -0.0354,  0.0187,  ..., -0.0106, -0.0001,  0.0115],\n",
       "                      [-0.0008,  0.0017,  0.0045,  ..., -0.0127, -0.0188,  0.0059],\n",
       "                      ...,\n",
       "                      [-0.0023,  0.0071,  0.0330,  ...,  0.0164, -0.0095, -0.0053],\n",
       "                      [ 0.0167, -0.0324,  0.0086,  ..., -0.0090,  0.0203, -0.0100],\n",
       "                      [-0.0118,  0.0119, -0.0080,  ..., -0.0193,  0.0170,  0.0246]])),\n",
       "             ('layer_stack.1.bias',\n",
       "              tensor([ 0.0161, -0.0159,  0.0234,  0.0084, -0.0339, -0.0047, -0.0323, -0.0125,\n",
       "                       0.0065, -0.0339, -0.0036,  0.0208,  0.0018,  0.0308, -0.0056, -0.0006,\n",
       "                      -0.0294, -0.0100,  0.0059,  0.0271,  0.0328, -0.0049,  0.0312,  0.0041,\n",
       "                       0.0242,  0.0212, -0.0234,  0.0345,  0.0085, -0.0198, -0.0343,  0.0012])),\n",
       "             ('layer_stack.2.weight',\n",
       "              tensor([[-0.0630,  0.1486,  0.0598, -0.0858,  0.0406, -0.1010,  0.1632,  0.0980,\n",
       "                        0.0875,  0.0770, -0.0174, -0.0463,  0.0163, -0.1765, -0.0924,  0.0205,\n",
       "                        0.1294,  0.0004, -0.0606,  0.1201,  0.0473, -0.1084,  0.0779,  0.0448,\n",
       "                       -0.1452,  0.0331, -0.1172,  0.1611, -0.1113, -0.0304, -0.0737,  0.0163],\n",
       "                      [ 0.1541, -0.0840,  0.0566, -0.0379, -0.0748,  0.0059,  0.1328, -0.1597,\n",
       "                       -0.0737,  0.1342, -0.0850,  0.0408,  0.0665,  0.0146,  0.0142, -0.1183,\n",
       "                       -0.0277, -0.0340, -0.0090, -0.0195, -0.0413, -0.1051,  0.1259,  0.0513,\n",
       "                        0.0590,  0.0877,  0.0037,  0.1148,  0.0550, -0.0534,  0.0025, -0.1541],\n",
       "                      [-0.0916,  0.1645,  0.1750, -0.1264, -0.0770,  0.0973, -0.1580, -0.0196,\n",
       "                       -0.1620, -0.0836, -0.0927, -0.0084, -0.0470, -0.0974,  0.0924, -0.0782,\n",
       "                       -0.1739,  0.0861,  0.1161, -0.0382,  0.0052,  0.0226, -0.0221, -0.0359,\n",
       "                       -0.1439,  0.0774, -0.0007,  0.0938,  0.0117, -0.0702, -0.0873,  0.0230],\n",
       "                      [ 0.0904,  0.1758,  0.1584,  0.1450, -0.1339,  0.0320,  0.1610,  0.0801,\n",
       "                        0.1178,  0.1678, -0.0534,  0.0945,  0.1047,  0.0031, -0.1039,  0.0488,\n",
       "                        0.1472,  0.0220,  0.0555,  0.0243,  0.1248,  0.0941, -0.0396,  0.0288,\n",
       "                       -0.0827,  0.0277, -0.1524,  0.0606,  0.1071, -0.1483,  0.0482, -0.0243],\n",
       "                      [-0.0701,  0.0791,  0.0080, -0.0932,  0.1213,  0.0460, -0.1222, -0.0288,\n",
       "                       -0.0959, -0.1112,  0.1687, -0.0186, -0.0104, -0.0211, -0.0397, -0.1500,\n",
       "                       -0.0233, -0.0737,  0.0736, -0.0049, -0.1732, -0.1049, -0.1327,  0.0108,\n",
       "                        0.1092,  0.0813,  0.0108,  0.1011, -0.0192,  0.1630, -0.1473, -0.0471],\n",
       "                      [-0.0242, -0.1337,  0.0558,  0.1211,  0.0294,  0.0154,  0.1532, -0.0630,\n",
       "                       -0.0277,  0.0656, -0.0967, -0.1336, -0.0358,  0.1153, -0.0910,  0.0508,\n",
       "                        0.0032,  0.1623,  0.0932, -0.0934, -0.1701,  0.1052, -0.1626, -0.1036,\n",
       "                        0.1716,  0.0521, -0.0024, -0.1343, -0.0331,  0.0237,  0.1047, -0.0691],\n",
       "                      [-0.0311,  0.0352, -0.1738, -0.0547, -0.1616, -0.0636, -0.1045,  0.0867,\n",
       "                       -0.1222, -0.1665, -0.0203, -0.0833, -0.0925, -0.0413,  0.0659, -0.1564,\n",
       "                       -0.1282,  0.0129,  0.0792,  0.0069,  0.1756,  0.0879, -0.1194,  0.1000,\n",
       "                       -0.0915,  0.1303, -0.0449,  0.1472, -0.0415, -0.0514, -0.1292,  0.1749],\n",
       "                      [-0.1009, -0.0771, -0.0970, -0.1748, -0.0872,  0.1457,  0.1128,  0.0454,\n",
       "                       -0.0519,  0.0244, -0.0329, -0.1448,  0.1201,  0.0927,  0.1526, -0.1651,\n",
       "                        0.0277,  0.0997, -0.0245,  0.0820,  0.0878, -0.0871,  0.1300,  0.0447,\n",
       "                       -0.0193,  0.0639,  0.1336,  0.0329,  0.0855, -0.1200, -0.0820, -0.0305],\n",
       "                      [ 0.1010,  0.1004, -0.0481, -0.0278, -0.0243, -0.0819,  0.1486,  0.0892,\n",
       "                        0.1154, -0.0598, -0.0425, -0.1472,  0.1315, -0.0669, -0.0146, -0.1174,\n",
       "                        0.0364,  0.0967, -0.1757,  0.1357,  0.0325,  0.0844, -0.1545,  0.0453,\n",
       "                        0.1731,  0.1165, -0.0794,  0.0096, -0.1209,  0.0709,  0.0839,  0.0766],\n",
       "                      [-0.1532,  0.0859,  0.0067, -0.1235, -0.0604,  0.1554, -0.1420,  0.1045,\n",
       "                        0.1722, -0.1298, -0.1634, -0.1339,  0.0033, -0.1657,  0.1447,  0.1574,\n",
       "                       -0.0198,  0.0966,  0.1450,  0.0565, -0.0870, -0.0059,  0.1240, -0.0727,\n",
       "                        0.0041, -0.0238, -0.0338, -0.0296, -0.0913, -0.0549,  0.1620, -0.0544]])),\n",
       "             ('layer_stack.2.bias',\n",
       "              tensor([-0.0251,  0.1526,  0.0626, -0.1248, -0.0499, -0.0673, -0.0983, -0.1468,\n",
       "                       0.0876,  0.1363]))])"
      ]
     },
     "execution_count": 80,
     "metadata": {},
     "output_type": "execute_result"
    }
   ],
   "source": [
    "model_0.state_dict()"
   ]
  },
  {
   "cell_type": "markdown",
   "id": "cfb43758",
   "metadata": {},
   "source": [
    "### 3.1 Setup loss, optimizer and evaluation metrics\n",
    "\n",
    "* Loss function - since we're working with multi-class data, our loss functionwill be `nn.CrossEntropyLoss()`\n",
    "* Optimizer - our optimizer `torch.optim.SGD()` (stochastic gradient descent)\n",
    "* Evaluation metric - since we're working on a classification problem let's use accuracy as our evaluation problem"
   ]
  },
  {
   "cell_type": "code",
   "execution_count": 81,
   "id": "4a29d4cd",
   "metadata": {},
   "outputs": [],
   "source": [
    "# Calculate accuracy (a classification metric)\n",
    "def accuracy_fn(y_true, y_pred):\n",
    "    correct = torch.eq(y_true, y_pred).sum().item() # torch.eq() calculates when two tensors are equal\n",
    "    acc = (correct / len(y_pred)) * 100\n",
    "    return acc"
   ]
  },
  {
   "cell_type": "code",
   "execution_count": 82,
   "id": "2945bd00",
   "metadata": {},
   "outputs": [],
   "source": [
    "# Setup loss function and optimizer\n",
    "loss_fn = nn.CrossEntropyLoss()\n",
    "optimizer = torch.optim.SGD(\n",
    "    params=model_0.parameters(),\n",
    "    lr=0.1,\n",
    ")"
   ]
  },
  {
   "cell_type": "code",
   "execution_count": 83,
   "id": "33715cf2",
   "metadata": {},
   "outputs": [
    {
     "data": {
      "text/plain": [
       "(CrossEntropyLoss(),\n",
       " SGD (\n",
       " Parameter Group 0\n",
       "     dampening: 0\n",
       "     differentiable: False\n",
       "     foreach: None\n",
       "     fused: None\n",
       "     lr: 0.1\n",
       "     maximize: False\n",
       "     momentum: 0\n",
       "     nesterov: False\n",
       "     weight_decay: 0\n",
       " ))"
      ]
     },
     "execution_count": 83,
     "metadata": {},
     "output_type": "execute_result"
    }
   ],
   "source": [
    "loss_fn, optimizer"
   ]
  },
  {
   "cell_type": "markdown",
   "id": "f6db9d26",
   "metadata": {},
   "source": [
    "### 3.2 Creating a function to time our experiments\n",
    "\n",
    "Machine learning is very experimental\n",
    "\n",
    "Two of the main things you'll often want to track are:\n",
    "\n",
    "1. Model's performance (loss and accuracy values etc.)\n",
    "2. How fast it runs"
   ]
  },
  {
   "cell_type": "code",
   "execution_count": 84,
   "id": "f955946e",
   "metadata": {},
   "outputs": [],
   "source": [
    "from timeit import default_timer as timer\n",
    "\n",
    "def print_train_time(start: float, end: float, device: torch.device = None):\n",
    "    \"\"\"Prints difference between start and end time\"\"\"\n",
    "    total_time = end - start\n",
    "    print(f\"Train time on {device}: {total_time:.3f} seconds\")\n",
    "    return total_time\n"
   ]
  },
  {
   "cell_type": "code",
   "execution_count": 85,
   "id": "f3ce8e7e",
   "metadata": {},
   "outputs": [
    {
     "name": "stdout",
     "output_type": "stream",
     "text": [
      "Train time on cpu: 0.000 seconds\n"
     ]
    },
    {
     "data": {
      "text/plain": [
       "1.27909988805186e-05"
      ]
     },
     "execution_count": 85,
     "metadata": {},
     "output_type": "execute_result"
    }
   ],
   "source": [
    "start_time = timer()\n",
    "# some code...\n",
    "end_time = timer()\n",
    "print_train_time(start=start_time, end=end_time, device=\"cpu\")"
   ]
  },
  {
   "cell_type": "markdown",
   "id": "c16d6b46",
   "metadata": {},
   "source": [
    "### 3.3 Creating a trainig loop and training a model on batches of data\n",
    "\n",
    "1. Loop through epochs\n",
    "2. Loop through training batches, perform training steps, calculate train loss *per batch*\n",
    "3. Loop through testing batches, perform testing steps, calculate the test loss *per batch*\n",
    "4. Print out what's happeninig\n",
    "5. Time it all"
   ]
  },
  {
   "cell_type": "code",
   "execution_count": 86,
   "id": "74026390",
   "metadata": {},
   "outputs": [
    {
     "data": {
      "application/vnd.jupyter.widget-view+json": {
       "model_id": "320af1959f1047a48aa2cbe042537afc",
       "version_major": 2,
       "version_minor": 0
      },
      "text/plain": [
       "  0%|          | 0/3 [00:00<?, ?it/s]"
      ]
     },
     "metadata": {},
     "output_type": "display_data"
    },
    {
     "name": "stdout",
     "output_type": "stream",
     "text": [
      "Epoch: 0\n",
      "\n",
      "Looked at 0/60000 sampels.\n",
      "Looked at 12800/60000 sampels.\n",
      "Looked at 25600/60000 sampels.\n",
      "Looked at 38400/60000 sampels.\n",
      "Looked at 51200/60000 sampels.\n",
      "\n",
      "Train loss: 0.5851 | Test loss: 0.5026 | Test acc: 82.4181\n",
      "\n",
      "Epoch: 1\n",
      "\n",
      "Looked at 0/60000 sampels.\n",
      "Looked at 12800/60000 sampels.\n",
      "Looked at 25600/60000 sampels.\n",
      "Looked at 38400/60000 sampels.\n",
      "Looked at 51200/60000 sampels.\n",
      "\n",
      "Train loss: 0.4756 | Test loss: 0.4851 | Test acc: 82.8275\n",
      "\n",
      "Epoch: 2\n",
      "\n",
      "Looked at 0/60000 sampels.\n",
      "Looked at 12800/60000 sampels.\n",
      "Looked at 25600/60000 sampels.\n",
      "Looked at 38400/60000 sampels.\n",
      "Looked at 51200/60000 sampels.\n",
      "\n",
      "Train loss: 0.4544 | Test loss: 0.4782 | Test acc: 83.4864\n",
      "\n",
      "Train time on cpu: 7.398 seconds\n"
     ]
    }
   ],
   "source": [
    "# Import tqdm for progress bar\n",
    "from tqdm.auto import tqdm\n",
    "\n",
    "# Set the seed and start the timer\n",
    "torch.manual_seed(42)\n",
    "train_time_start_on_cpu = timer()\n",
    "\n",
    "# Set the number of epochs (we'll keep this small for faster training time)\n",
    "epochs = 3\n",
    "\n",
    "# Creat training and testing loop\n",
    "for epoch in tqdm(range(epochs)):\n",
    "    print(f\"Epoch: {epoch}\\n\")\n",
    "    \n",
    "    ### Training\n",
    "    train_loss = 0\n",
    "    \n",
    "    # Add a loop to loop through the training batches\n",
    "    for batch, (X_train, y_train) in enumerate(train_data_loader):\n",
    "        model_0.train()\n",
    "                \n",
    "        # 1. Forward pass\n",
    "        y_pred = model_0(X_train)\n",
    "        \n",
    "        # 2. Calculate loss (per batch)\n",
    "        loss = loss_fn(y_pred, y_train)\n",
    "        train_loss += loss # accumulate train loss\n",
    "        \n",
    "        # 3. Optimizer zero grad\n",
    "        optimizer.zero_grad()\n",
    "        \n",
    "        # 4. Loss backward\n",
    "        loss.backward()\n",
    "        \n",
    "        # 5. Optimizer step\n",
    "        optimizer.step() # updates one per batch rather than once per epoch\n",
    "\n",
    "        # Print out what's happening\n",
    "        if batch % 400 == 0:\n",
    "            print(f\"Looked at {batch * len(X_train)}/{len(train_data_loader.dataset)} sampels.\")\n",
    "    \n",
    "    # Divide total train loss by length of train dataloader\n",
    "    train_loss /= len(train_data_loader)\n",
    "    \n",
    "    ### Testing\n",
    "    test_loss, test_acc = 0, 0\n",
    "    \n",
    "    model_0.eval()\n",
    "    \n",
    "    with torch.inference_mode():\n",
    "        for X_test, y_test in test_data_loader:\n",
    "            \n",
    "            # 1. Forward pass\n",
    "            test_pred = model_0(X_test)\n",
    "            \n",
    "            # 2. Calculate loss (accumulatively)\n",
    "            test_loss += loss_fn(test_pred, y_test)\n",
    "                        \n",
    "            # 3. Calculate accuracy\n",
    "            test_acc += accuracy_fn(\n",
    "                y_true=y_test, \n",
    "                y_pred=test_pred.argmax(dim=1)\n",
    "            )\n",
    "            \n",
    "        # Calculate the test loss average per batch\n",
    "        test_loss /= len(test_data_loader)\n",
    "        \n",
    "        # Calculate the test accuracy average per batch\n",
    "        test_acc /= len(test_data_loader)\n",
    "\n",
    "    # Print out what's happening\n",
    "    print(f\"\\nTrain loss: {train_loss:.4f} | Test loss: {test_loss:.4f} | Test acc: {test_acc:.4f}\\n\")\n",
    "\n",
    "# Calculate training time\n",
    "train_time_end_on_ecp = timer()\n",
    "\n",
    "total_train_time_model_0 = print_train_time(\n",
    "    start=train_time_start_on_cpu,\n",
    "    end=train_time_end_on_ecp,\n",
    "    device=str(next(model_0.parameters()).device)\n",
    ")"
   ]
  },
  {
   "cell_type": "markdown",
   "id": "6dadf2e3",
   "metadata": {},
   "source": [
    "## 4. Make predictions and get `model_0` results"
   ]
  },
  {
   "cell_type": "code",
   "execution_count": 87,
   "id": "32ff3f41",
   "metadata": {},
   "outputs": [
    {
     "data": {
      "application/vnd.jupyter.widget-view+json": {
       "model_id": "f48406a01c884f43a742f30a303f7d2c",
       "version_major": 2,
       "version_minor": 0
      },
      "text/plain": [
       "  0%|          | 0/313 [00:00<?, ?it/s]"
      ]
     },
     "metadata": {},
     "output_type": "display_data"
    },
    {
     "name": "stdout",
     "output_type": "stream",
     "text": [
      "Mode name: FashionMNISTModelV0 | Test loss: 0.47821298241615295 | Test acc: 83.48642172523962\n"
     ]
    }
   ],
   "source": [
    "torch.manual_seed(42)\n",
    "\n",
    "def eval_model(\n",
    "    model: torch.nn.Module, \n",
    "    data_loader: torch.utils.data.DataLoader, \n",
    "    loss_fn: torch.nn.Module, \n",
    "    accuracy_fn,\n",
    "    device: torch.device = \"cpu\",\n",
    "):\n",
    "    \"\"\"Returns a dictionary containing the results of model predicting on data_loader\"\"\"\n",
    "    loss, acc = 0, 0\n",
    "    model.to(device)\n",
    "    model.eval()\n",
    "    with torch.inference_mode():\n",
    "        for X, y in tqdm(data_loader):\n",
    "            X, y = X.to(device), y.to(device)\n",
    "            \n",
    "            # Make predictions\n",
    "            y_pred = model(X)\n",
    "            \n",
    "            # Accumulate the loss and acc values per batch\n",
    "            loss += loss_fn(y_pred, y)\n",
    "            acc += accuracy_fn(y_true=y, y_pred=y_pred.argmax(dim=1))\n",
    "        \n",
    "        # Scale loss and acc to find the average loss / acc per batch\n",
    "        loss /= len(data_loader)\n",
    "        acc /= len(data_loader)\n",
    "        \n",
    "    return {\n",
    "        \"model_name\": model.__class__.__name__, # only works when model was created with a class\n",
    "        \"model_loss\": loss,\n",
    "        \"model_acc\": acc\n",
    "    }\n",
    "\n",
    "# Calculate model_0 results on test dataset\n",
    "model_0_results = eval_model(model_0, test_data_loader, loss_fn, accuracy_fn)\n",
    "\n",
    "print(f\"Mode name: {model_0_results['model_name']} | Test loss: {model_0_results['model_loss']} | Test acc: {model_0_results['model_acc']}\")"
   ]
  },
  {
   "cell_type": "markdown",
   "id": "756aa6be",
   "metadata": {},
   "source": [
    "## 5. Setup device agnostic-code"
   ]
  },
  {
   "cell_type": "code",
   "execution_count": 88,
   "id": "b6969a16",
   "metadata": {},
   "outputs": [],
   "source": [
    "# Set up device agnostic code\n",
    "# device = \"cuda\" if torch.cuda.is_available() else (\"mps\" if torch.mps.is_available() else \"cpu\")\n",
    "device = \"cpu\""
   ]
  },
  {
   "cell_type": "markdown",
   "id": "2097f8c5",
   "metadata": {},
   "source": [
    "Sometimes, depending on your data / hardware you might find that your model trains faster on CPU than GPU\n",
    "\n",
    "Why is this?\n",
    "\n",
    "1. It could be that the overhead for copying data/model to and from the GPU outweights the cmoputer benefits offered by the GPU\n",
    "2. The hardware you're using has a better CPU in terms computer capability than the GPU"
   ]
  },
  {
   "cell_type": "markdown",
   "id": "4faecb33",
   "metadata": {},
   "source": [
    "## 6. Building a better model with non-linearity\n",
    "\n",
    "We learned about the power of non-linearity with notebook 02"
   ]
  },
  {
   "cell_type": "code",
   "execution_count": 89,
   "id": "5cb73d29",
   "metadata": {},
   "outputs": [
    {
     "data": {
      "text/plain": [
       "FashionMNISTModelV1(\n",
       "  (flatten): Flatten(start_dim=1, end_dim=-1)\n",
       "  (layer_1): Linear(in_features=784, out_features=32, bias=True)\n",
       "  (layer_2): Linear(in_features=32, out_features=32, bias=True)\n",
       "  (layer_3): Linear(in_features=32, out_features=10, bias=True)\n",
       "  (relu): ReLU()\n",
       ")"
      ]
     },
     "execution_count": 89,
     "metadata": {},
     "output_type": "execute_result"
    }
   ],
   "source": [
    "# Create a model with linear and non-linear layers\n",
    "class FashionMNISTModelV1(nn.Module):\n",
    "    def __init__(self, in_shape: int, out_shape: int, hidden_units: int):\n",
    "        super().__init__()\n",
    "        \n",
    "        self.flatten = nn.Flatten() # flatten inputs into a single vector\n",
    "        \n",
    "        self.layer_1 = nn.Linear(\n",
    "            in_features=in_shape,\n",
    "            out_features=hidden_units\n",
    "        )\n",
    "        self.layer_2 = nn.Linear(\n",
    "            in_features=hidden_units,\n",
    "            out_features=hidden_units\n",
    "        )\n",
    "        self.layer_3 = nn.Linear(\n",
    "            in_features=hidden_units,\n",
    "            out_features=out_shape\n",
    "        )\n",
    "        \n",
    "        self.relu = nn.ReLU() # add non-linearity\n",
    "        \n",
    "    def forward(self, x: torch.Tensor) -> torch.Tensor:\n",
    "        return self.relu(self.layer_3(self.relu(self.layer_2(self.relu(self.layer_1(self.flatten(x)))))))\n",
    "\n",
    "model_1 = FashionMNISTModelV1(\n",
    "    in_shape=784, # output of the flatten layer\n",
    "    out_shape=len(class_names), \n",
    "    hidden_units=32\n",
    ").to(device) # send to device if available\n",
    "\n",
    "model_1"
   ]
  },
  {
   "cell_type": "code",
   "execution_count": 90,
   "id": "ca1646a9",
   "metadata": {},
   "outputs": [
    {
     "data": {
      "text/plain": [
       "device(type='cpu')"
      ]
     },
     "execution_count": 90,
     "metadata": {},
     "output_type": "execute_result"
    }
   ],
   "source": [
    "next(model_1.parameters()).device"
   ]
  },
  {
   "cell_type": "markdown",
   "id": "622f8d2d",
   "metadata": {},
   "source": [
    "### 6.1 Setup loss, optimizer and evaluation metrics"
   ]
  },
  {
   "cell_type": "code",
   "execution_count": 91,
   "id": "c29ddf91",
   "metadata": {},
   "outputs": [],
   "source": [
    "# Calculate accuracy (a classification metric)\n",
    "def accuracy_fn(y_true, y_pred):\n",
    "    correct = torch.eq(y_true, y_pred).sum().item() # torch.eq() calculates when two tensors are equal\n",
    "    acc = (correct / len(y_pred)) * 100\n",
    "    return acc"
   ]
  },
  {
   "cell_type": "code",
   "execution_count": 92,
   "id": "27b12218",
   "metadata": {},
   "outputs": [
    {
     "data": {
      "text/plain": [
       "(CrossEntropyLoss(),\n",
       " SGD (\n",
       " Parameter Group 0\n",
       "     dampening: 0\n",
       "     differentiable: False\n",
       "     foreach: None\n",
       "     fused: None\n",
       "     lr: 0.1\n",
       "     maximize: False\n",
       "     momentum: 0\n",
       "     nesterov: False\n",
       "     weight_decay: 0\n",
       " ))"
      ]
     },
     "execution_count": 92,
     "metadata": {},
     "output_type": "execute_result"
    }
   ],
   "source": [
    "loss_fn = nn.CrossEntropyLoss() # measure how wrong our model is\n",
    "optimizer = torch.optim.SGD( # tries to update our model's parameters to reduce loss\n",
    "    params=model_1.parameters(), \n",
    "    lr=0.1\n",
    ")\n",
    "\n",
    "loss_fn, optimizer"
   ]
  },
  {
   "cell_type": "markdown",
   "id": "6d7853c7",
   "metadata": {},
   "source": [
    "### 6.2 Functioning training and evaluation/testing loops\n",
    "\n",
    "Let's create a function for:\n",
    "\n",
    "* training loop - `train_step()`\n",
    "* testing loop - `test_step()`"
   ]
  },
  {
   "cell_type": "code",
   "execution_count": 93,
   "id": "3902915c",
   "metadata": {},
   "outputs": [],
   "source": [
    "def train_step(\n",
    "    model: torch.nn.Module,\n",
    "    data_loader: torch.utils.data.DataLoader,\n",
    "    loss_fn: torch.nn.Module,\n",
    "    optimizer: torch.optim.Optimizer,\n",
    "    accuracy_fn,\n",
    "    device: torch.device=device,\n",
    ") -> None:\n",
    "    \"\"\"Performs a training with model trying to learn data_loader\"\"\"\n",
    "    train_loss, train_acc = 0, 0\n",
    "    \n",
    "    # Put model into training mode\n",
    "    model = model.to(device)\n",
    "    \n",
    "    # Add a loop to loop through training data\n",
    "    for batch, (X_train, y_train) in enumerate(data_loader):\n",
    "        # Put data on target device\n",
    "        X_train, y_train = X_train.to(device), y_train.to(device)\n",
    "        \n",
    "        # 1. Forward pass\n",
    "        y_pred = model(X_train)\n",
    "        \n",
    "        # 2. Calculate loss and acc (per batch)\n",
    "        loss = loss_fn(y_pred, y_train)\n",
    "        train_loss += loss # accumulate train loss\n",
    "        \n",
    "        acc = accuracy_fn(\n",
    "            y_true=y_train, \n",
    "            y_pred=y_pred.argmax(dim=1) # logits -> prediction probabilites\n",
    "        )\n",
    "        train_acc += acc # accumulate train acc\n",
    "        \n",
    "        # 3. Optomizer zero grade\n",
    "        optimizer.zero_grad()\n",
    "        \n",
    "        # 4. Loss backawrd\n",
    "        loss.backward()\n",
    "        \n",
    "        # 5. Optimizer step (update the model's parameters once per batch)\n",
    "        optimizer.step() \n",
    "    \n",
    "    # Divide total train loss and acc by length of train dataloader\n",
    "    train_loss /= len(data_loader)\n",
    "    train_acc /= len(data_loader)\n",
    "    \n",
    "    # Print out what's happening\n",
    "    print(f\"Train loss: {train_loss:.4} | Train acc: {train_acc:.4f}%\")"
   ]
  },
  {
   "cell_type": "code",
   "execution_count": 94,
   "id": "c93922c1",
   "metadata": {},
   "outputs": [],
   "source": [
    "def test_step(\n",
    "    model: torch.nn.Module,\n",
    "    data_loader: torch.utils.data.DataLoader,\n",
    "    loss_fn: torch.nn.Module,\n",
    "    accuracy_fn,\n",
    "    device: torch.device=device,\n",
    ") -> None:\n",
    "    \"\"\"Performs a testing with model trying to learn data_loader\"\"\"\n",
    "    test_loss, test_acc = 0, 0\n",
    "    \n",
    "    model.to(device)\n",
    "    \n",
    "    model.eval()\n",
    "    \n",
    "    with torch.inference_mode():\n",
    "        for X_test, y_test in data_loader:\n",
    "            # Put data on target device\n",
    "            X_test, y_test = X_test.to(device), y_test.to(device)\n",
    "            \n",
    "            # 1. Forward pass\n",
    "            y_pred = model(X_test)\n",
    "            \n",
    "            # 2. Calculate loss and accuracy (accumlatively)\n",
    "            test_loss += loss_fn(y_pred, y_test)\n",
    "            test_acc += accuracy_fn(\n",
    "                y_true=y_test,\n",
    "                y_pred=y_pred.argmax(dim=1) # go from logits -> prediction labels\n",
    "            )\n",
    "            \n",
    "        # Calculate the loss average per batch\n",
    "        test_loss /= len(data_loader)\n",
    "        \n",
    "        # Calculate the loss average per batch\n",
    "        test_acc /= len(data_loader)\n",
    "        \n",
    "        # Print out what's happening\n",
    "        print(f\"Test loss: {test_loss:.4} | Test acc: {test_acc:.4f}%\")"
   ]
  },
  {
   "cell_type": "code",
   "execution_count": 95,
   "id": "fc1885fb",
   "metadata": {},
   "outputs": [
    {
     "data": {
      "application/vnd.jupyter.widget-view+json": {
       "model_id": "8cb743a568f645c6aa43ee1cdb6be617",
       "version_major": 2,
       "version_minor": 0
      },
      "text/plain": [
       "  0%|          | 0/3 [00:00<?, ?it/s]"
      ]
     },
     "metadata": {},
     "output_type": "display_data"
    },
    {
     "name": "stdout",
     "output_type": "stream",
     "text": [
      "Epoch: 0\n",
      "\n",
      "Train loss: 1.202 | Train acc: 63.3767%\n",
      "Test loss: 1.022 | Test acc: 70.8667%\n",
      "Epoch: 1\n",
      "\n",
      "Train loss: 0.7484 | Train acc: 78.6317%\n",
      "Test loss: 0.6051 | Test acc: 81.6317%\n",
      "Epoch: 2\n",
      "\n",
      "Train loss: 0.6053 | Train acc: 81.1950%\n",
      "Test loss: 0.6172 | Test acc: 80.8433%\n",
      "Train time on cpu: 10.911 seconds\n"
     ]
    }
   ],
   "source": [
    "torch.manual_seed(42)\n",
    "\n",
    "# Measure time \n",
    "train_timer_start_on_gpu = timer()\n",
    "\n",
    "# Set epochs\n",
    "epochs = 3\n",
    "\n",
    "# Create an optimiziation and evaluation loop using train_step() and test_step()\n",
    "for epoch in tqdm(range(epochs)):\n",
    "    print(f\"Epoch: {epoch}\\n\")\n",
    "    \n",
    "    train_step(\n",
    "        model=model_1,\n",
    "        data_loader=train_data_loader,\n",
    "        loss_fn=loss_fn,\n",
    "        optimizer=optimizer,\n",
    "        accuracy_fn=accuracy_fn,\n",
    "        device=device,\n",
    "    )\n",
    "    \n",
    "    test_step(\n",
    "        model=model_1,\n",
    "        data_loader=train_data_loader,\n",
    "        loss_fn=loss_fn,\n",
    "        accuracy_fn=accuracy_fn,\n",
    "        device=device,\n",
    "    )\n",
    "    \n",
    "train_timer_end_on_gpu = timer()\n",
    "\n",
    "total_train_time_model_1 = print_train_time(\n",
    "    start=train_timer_start_on_gpu,\n",
    "    end=train_timer_end_on_gpu,\n",
    "    device=device,\n",
    ")"
   ]
  },
  {
   "cell_type": "code",
   "execution_count": 96,
   "id": "e84b2adb",
   "metadata": {},
   "outputs": [
    {
     "data": {
      "application/vnd.jupyter.widget-view+json": {
       "model_id": "0c9010e1e7f94f9b91c496e46ad22539",
       "version_major": 2,
       "version_minor": 0
      },
      "text/plain": [
       "  0%|          | 0/313 [00:00<?, ?it/s]"
      ]
     },
     "metadata": {},
     "output_type": "display_data"
    },
    {
     "data": {
      "text/plain": [
       "{'model_name': 'FashionMNISTModelV1',\n",
       " 'model_loss': tensor(0.6557),\n",
       " 'model_acc': 79.85223642172524}"
      ]
     },
     "execution_count": 96,
     "metadata": {},
     "output_type": "execute_result"
    }
   ],
   "source": [
    "# Get model_1 results dictionary\n",
    "model_1_results = eval_model(\n",
    "    model=model_1,\n",
    "    data_loader=test_data_loader,\n",
    "    loss_fn=loss_fn,\n",
    "    accuracy_fn=accuracy_fn\n",
    ")\n",
    "\n",
    "model_1_results"
   ]
  },
  {
   "cell_type": "code",
   "execution_count": 97,
   "id": "5756057e",
   "metadata": {},
   "outputs": [
    {
     "data": {
      "text/plain": [
       "{'model_name': 'FashionMNISTModelV0',\n",
       " 'model_loss': tensor(0.4782),\n",
       " 'model_acc': 83.48642172523962}"
      ]
     },
     "execution_count": 97,
     "metadata": {},
     "output_type": "execute_result"
    }
   ],
   "source": [
    "model_0_results"
   ]
  },
  {
   "cell_type": "markdown",
   "id": "e69b2b44",
   "metadata": {},
   "source": [
    "## 7. Build a convolutional neural network (CNN) - model 2\n",
    "\n",
    "CNN's are also known ConvNets\n",
    "\n",
    "CNN's are know for their capabilities to find patterns in visual data\n",
    "\n",
    "To find out what's happening inside a CNN, see this website: https://poloclub.github.io/cnn-explainer/"
   ]
  },
  {
   "cell_type": "code",
   "execution_count": 98,
   "id": "501f836f",
   "metadata": {},
   "outputs": [],
   "source": [
    "# Create a convolutional neural network\n",
    "class FashionMNISTModelV2(nn.Module):\n",
    "    \"\"\"\n",
    "    Model architecture that replicates the TinyVGG model from CNN explainer website\n",
    "    \"\"\"\n",
    "    def __init__(self, in_shape: int, hidden_units: int, out_shape: int) -> None:\n",
    "        super().__init__()\n",
    "        \n",
    "        self.conv_block_1 = nn.Sequential(\n",
    "            # Create a conv layer\n",
    "            nn.Conv2d(\n",
    "                in_channels=in_shape,\n",
    "                out_channels=hidden_units,\n",
    "                kernel_size=(3, 3), # how big is the square that's going over the image\n",
    "                stride=1,\n",
    "                padding=1, # options = \"valid\" (no padding) or \"same\" (output has same shape as input) or int for specific number \n",
    "            ),\n",
    "            nn.ReLU(),\n",
    "            nn.Conv2d(\n",
    "                in_channels=hidden_units,\n",
    "                out_channels=hidden_units,\n",
    "                kernel_size=(3, 3),\n",
    "                stride=1,\n",
    "                padding=1,\n",
    "            ),\n",
    "            nn.ReLU(),\n",
    "            nn.MaxPool2d(\n",
    "                kernel_size=(2, 2),\n",
    "                stride=2,\n",
    "            )\n",
    "        )\n",
    "    \n",
    "        self.conv_block_2 = nn.Sequential(\n",
    "            nn.Conv2d(\n",
    "                in_channels=hidden_units,\n",
    "                out_channels=hidden_units,\n",
    "                kernel_size=(3, 3),\n",
    "                stride=1,\n",
    "                padding=1,\n",
    "            ),\n",
    "            nn.ReLU(),\n",
    "            nn.Conv2d(\n",
    "                in_channels=hidden_units,\n",
    "                out_channels=hidden_units,\n",
    "                kernel_size=(3, 3),\n",
    "                stride=1,\n",
    "                padding=1,\n",
    "            ),\n",
    "            nn.ReLU(),\n",
    "            nn.MaxPool2d(\n",
    "                kernel_size=(2, 2),\n",
    "                stride=2,\n",
    "            ),\n",
    "        )\n",
    "        \n",
    "        self.classifier = nn.Sequential(\n",
    "            nn.Flatten(),\n",
    "            nn.Linear(\n",
    "                in_features=hidden_units * 7 * 7, # there is a trick to calculate this...\n",
    "                out_features=out_shape,\n",
    "            )\n",
    "        )\n",
    "    \n",
    "    def forward(self, x: torch.Tensor) -> torch.Tensor:\n",
    "        z = self.conv_block_1(x)\n",
    "        # print(f\"Output shape of conv_block_1: {z.shape}\")\n",
    "        \n",
    "        z = self.conv_block_2(z)\n",
    "        # print(f\"Output shape of conv_block_2: {z.shape}\")\n",
    "        \n",
    "        z = self.classifier(z)\n",
    "        # print(f\"Output shape of classifier: {z.shape}\")\n",
    "        \n",
    "        return z"
   ]
  },
  {
   "cell_type": "code",
   "execution_count": 99,
   "id": "a254f609",
   "metadata": {},
   "outputs": [
    {
     "data": {
      "text/plain": [
       "FashionMNISTModelV2(\n",
       "  (conv_block_1): Sequential(\n",
       "    (0): Conv2d(1, 64, kernel_size=(3, 3), stride=(1, 1), padding=(1, 1))\n",
       "    (1): ReLU()\n",
       "    (2): Conv2d(64, 64, kernel_size=(3, 3), stride=(1, 1), padding=(1, 1))\n",
       "    (3): ReLU()\n",
       "    (4): MaxPool2d(kernel_size=(2, 2), stride=2, padding=0, dilation=1, ceil_mode=False)\n",
       "  )\n",
       "  (conv_block_2): Sequential(\n",
       "    (0): Conv2d(64, 64, kernel_size=(3, 3), stride=(1, 1), padding=(1, 1))\n",
       "    (1): ReLU()\n",
       "    (2): Conv2d(64, 64, kernel_size=(3, 3), stride=(1, 1), padding=(1, 1))\n",
       "    (3): ReLU()\n",
       "    (4): MaxPool2d(kernel_size=(2, 2), stride=2, padding=0, dilation=1, ceil_mode=False)\n",
       "  )\n",
       "  (classifier): Sequential(\n",
       "    (0): Flatten(start_dim=1, end_dim=-1)\n",
       "    (1): Linear(in_features=3136, out_features=10, bias=True)\n",
       "  )\n",
       ")"
      ]
     },
     "execution_count": 99,
     "metadata": {},
     "output_type": "execute_result"
    }
   ],
   "source": [
    "torch.manual_seed(42)\n",
    "model_2 = FashionMNISTModelV2(\n",
    "    in_shape=1,\n",
    "    out_shape=len(class_names),\n",
    "    hidden_units=64,\n",
    ").to(device)\n",
    "model_2"
   ]
  },
  {
   "cell_type": "code",
   "execution_count": 100,
   "id": "1561f036",
   "metadata": {},
   "outputs": [
    {
     "data": {
      "image/png": "[encoded data removed]",
      "text/plain": [
       "<Figure size 640x480 with 1 Axes>"
      ]
     },
     "metadata": {},
     "output_type": "display_data"
    }
   ],
   "source": [
    "plt.imshow(image.squeeze(), cmap=\"gray\")\n",
    "plt.axis(False)\n",
    "plt.show()"
   ]
  },
  {
   "cell_type": "code",
   "execution_count": 101,
   "id": "04ac212b",
   "metadata": {},
   "outputs": [
    {
     "data": {
      "text/plain": [
       "tensor([[-0.0039,  0.0135,  0.0136,  0.0265,  0.0249,  0.0150, -0.0071,  0.0043,\n",
       "         -0.0383,  0.0096]], grad_fn=<AddmmBackward0>)"
      ]
     },
     "execution_count": 101,
     "metadata": {},
     "output_type": "execute_result"
    }
   ],
   "source": [
    "# Pass image through model\n",
    "model_2(image.unsqueeze(dim=1))"
   ]
  },
  {
   "cell_type": "code",
   "execution_count": 102,
   "id": "4dd05aa1",
   "metadata": {},
   "outputs": [],
   "source": [
    "rand_image_tensor = torch.randn(size=(1, 1, 28, 28)).to(device)"
   ]
  },
  {
   "cell_type": "code",
   "execution_count": 103,
   "id": "2f8a02a3",
   "metadata": {},
   "outputs": [
    {
     "data": {
      "text/plain": [
       "tensor([[-0.0098, -0.0218,  0.0137,  0.0146,  0.0285,  0.0176, -0.0169, -0.0015,\n",
       "         -0.0949,  0.0560]], grad_fn=<AddmmBackward0>)"
      ]
     },
     "execution_count": 103,
     "metadata": {},
     "output_type": "execute_result"
    }
   ],
   "source": [
    "# Pass random tensor through model\n",
    "model_2(rand_image_tensor)"
   ]
  },
  {
   "cell_type": "markdown",
   "id": "646355a9",
   "metadata": {},
   "source": [
    "### 7.1 Stepping through `nn.Conv2d()`"
   ]
  },
  {
   "cell_type": "code",
   "execution_count": 104,
   "id": "a2b553f4",
   "metadata": {},
   "outputs": [
    {
     "name": "stdout",
     "output_type": "stream",
     "text": [
      "Image batch shape: torch.Size([1, 28, 28])\n",
      "Test image shape: torch.Size([3, 64, 64])\n",
      "Test image: tensor([[[ 1.9269,  1.4873,  0.9007,  ...,  1.8446, -1.1845,  1.3835],\n",
      "         [ 1.4451,  0.8564,  2.2181,  ...,  0.3399,  0.7200,  0.4114],\n",
      "         [ 1.9312,  1.0119, -1.4364,  ..., -0.5558,  0.7043,  0.7099],\n",
      "         ...,\n",
      "         [-0.5610, -0.4830,  0.4770,  ..., -0.2713, -0.9537, -0.6737],\n",
      "         [ 0.3076, -0.1277,  0.0366,  ..., -2.0060,  0.2824, -0.8111],\n",
      "         [-1.5486,  0.0485, -0.7712,  ..., -0.1403,  0.9416, -0.0118]],\n",
      "\n",
      "        [[-0.5197,  1.8524,  1.8365,  ...,  0.8935, -1.5114, -0.8515],\n",
      "         [ 2.0818,  1.0677, -1.4277,  ...,  1.6612, -2.6223, -0.4319],\n",
      "         [-0.1010, -0.4388, -1.9775,  ...,  0.2106,  0.2536, -0.7318],\n",
      "         ...,\n",
      "         [ 0.2779,  0.7342, -0.3736,  ..., -0.4601,  0.1815,  0.1850],\n",
      "         [ 0.7205, -0.2833,  0.0937,  ..., -0.1002, -2.3609,  2.2465],\n",
      "         [-1.3242, -0.1973,  0.2920,  ...,  0.5409,  0.6940,  1.8563]],\n",
      "\n",
      "        [[-0.7978,  1.0261,  1.1465,  ...,  1.2134,  0.9354, -0.0780],\n",
      "         [-1.4647, -1.9571,  0.1017,  ..., -1.9986, -0.7409,  0.7011],\n",
      "         [-1.3938,  0.8466, -1.7191,  ..., -1.1867,  0.1320,  0.3407],\n",
      "         ...,\n",
      "         [ 0.8206, -0.3745,  1.2499,  ..., -0.0676,  0.0385,  0.6335],\n",
      "         [-0.5589, -0.3393,  0.2347,  ...,  2.1181,  2.4569,  1.3083],\n",
      "         [-0.4092,  1.5199,  0.2401,  ..., -0.2558,  0.7870,  0.9924]]])\n"
     ]
    }
   ],
   "source": [
    "torch.manual_seed(42)\n",
    "\n",
    "# Create a batch of images\n",
    "images = torch.randn(size=(32, 3, 64, 64))\n",
    "test_image = images[0]\n",
    "\n",
    "print(f\"Image batch shape: {image.shape}\")\n",
    "print(f\"Test image shape: {test_image.shape}\")\n",
    "print(f\"Test image: {test_image}\")"
   ]
  },
  {
   "cell_type": "code",
   "execution_count": 105,
   "id": "379b0d05",
   "metadata": {},
   "outputs": [
    {
     "data": {
      "text/plain": [
       "tensor([[[ 1.3047,  1.4238,  0.9435,  ...,  0.3078,  0.4244, -0.3909],\n",
       "         [ 0.6132,  1.5396,  0.0516,  ...,  0.8711,  0.4256, -0.3416],\n",
       "         [ 1.0524,  0.3662,  1.0114,  ...,  0.2809, -0.2741,  0.3787],\n",
       "         ...,\n",
       "         [ 0.0377,  0.2981, -0.2432,  ..., -0.7283, -0.5767, -0.0783],\n",
       "         [-0.2693, -0.0386, -0.0781,  ...,  0.4228, -0.1802, -0.5140],\n",
       "         [ 0.5006, -0.5684,  0.1166,  ...,  0.5425, -0.3335,  0.7756]],\n",
       "\n",
       "        [[-0.1153,  0.5129, -0.7227,  ..., -0.6758,  0.4840, -0.8125],\n",
       "         [ 0.2266, -0.2840, -0.0319,  ...,  1.5599, -1.2449, -0.4410],\n",
       "         [-0.6666,  0.2753, -0.1262,  ...,  0.1999, -0.8856, -0.4292],\n",
       "         ...,\n",
       "         [-0.0647, -0.1984, -0.6386,  ..., -0.0585, -0.7833, -0.0764],\n",
       "         [ 0.2940, -0.6306, -0.2052,  ...,  0.2456, -0.7134,  0.7373],\n",
       "         [-0.1683, -0.8397,  0.2643,  ...,  0.2593, -0.5630,  0.1587]],\n",
       "\n",
       "        [[ 0.4864, -0.7476, -0.6414,  ...,  0.5477, -1.2156,  0.2989],\n",
       "         [-0.5791,  0.4414,  0.5100,  ...,  0.2638,  1.1258, -0.0662],\n",
       "         [ 0.6065,  0.8117,  0.3191,  ...,  0.2319,  0.5003,  0.0034],\n",
       "         ...,\n",
       "         [-0.7888,  0.2941,  0.4417,  ...,  0.4814, -0.4799,  0.6813],\n",
       "         [-0.2186,  0.6059, -0.0415,  ...,  0.2521, -0.4372, -0.9096],\n",
       "         [ 0.4489, -0.2549, -0.3202,  ..., -0.7820, -0.5369,  0.2537]],\n",
       "\n",
       "        ...,\n",
       "\n",
       "        [[-0.5501,  0.9690,  1.2804,  ...,  0.2162,  0.6271,  0.3134],\n",
       "         [ 0.7574, -0.2560, -0.0477,  ...,  0.7553, -0.7055, -0.0276],\n",
       "         [-0.1636,  1.5595, -0.2209,  ...,  0.7754,  0.0750,  0.0063],\n",
       "         ...,\n",
       "         [-0.1605, -0.3486, -0.7173,  ...,  0.7219,  0.1513, -0.7218],\n",
       "         [ 0.5251,  0.0119,  0.1017,  ..., -0.8127, -0.1257,  0.4847],\n",
       "         [-0.6399,  0.1466, -0.2109,  ...,  0.7455, -0.6983,  0.1332]],\n",
       "\n",
       "        [[ 0.1910, -1.2740, -2.1166,  ..., -0.8778, -0.0292, -0.3584],\n",
       "         [-0.1359,  0.3841,  1.1322,  ...,  0.0109,  0.6058, -0.0432],\n",
       "         [ 0.7342,  0.1664,  0.1873,  ...,  0.9096, -0.5399, -0.2297],\n",
       "         ...,\n",
       "         [-0.0607,  0.0535,  0.4411,  ..., -1.0056,  0.3759,  0.2856],\n",
       "         [ 0.1089,  0.3031, -0.1590,  ..., -0.4271, -0.4876, -0.2490],\n",
       "         [ 0.4154,  0.0436,  0.3085,  ..., -0.1570, -0.7712, -0.3026]],\n",
       "\n",
       "        [[-0.1319, -0.2679, -0.4623,  ...,  0.4089, -0.7995,  0.0225],\n",
       "         [-1.2177, -1.1865, -0.7280,  ..., -0.0542, -1.5949,  0.3016],\n",
       "         [-0.5843, -0.6345, -0.5920,  ..., -0.7963, -0.0647,  0.1041],\n",
       "         ...,\n",
       "         [ 0.3001, -0.2609, -0.2328,  ..., -0.8436, -0.7524,  0.2401],\n",
       "         [-0.2574, -1.1399, -0.1751,  ...,  0.3377,  0.3493,  1.2920],\n",
       "         [-0.6151,  0.4477,  0.0631,  ..., -0.5504,  0.0327, -0.3162]]],\n",
       "       grad_fn=<SqueezeBackward1>)"
      ]
     },
     "execution_count": 105,
     "metadata": {},
     "output_type": "execute_result"
    }
   ],
   "source": [
    "torch.manual_seed(42)\n",
    "# Create a single conv2d layer\n",
    "conv_layer = nn.Conv2d(\n",
    "    in_channels=3,\n",
    "    out_channels=10, \n",
    "    kernel_size=(3, 3),\n",
    "    stride=1,\n",
    "    padding=1,\n",
    ")\n",
    "\n",
    "# Pass the data through the convolutional layer\n",
    "conv_output = conv_layer(test_image)\n",
    "conv_output"
   ]
  },
  {
   "cell_type": "code",
   "execution_count": 106,
   "id": "91639700",
   "metadata": {},
   "outputs": [
    {
     "data": {
      "text/plain": [
       "(torch.Size([3, 64, 64]), torch.Size([10, 64, 64]))"
      ]
     },
     "execution_count": 106,
     "metadata": {},
     "output_type": "execute_result"
    }
   ],
   "source": [
    "test_image.shape, conv_output.shape"
   ]
  },
  {
   "cell_type": "markdown",
   "id": "e05de532",
   "metadata": {},
   "source": [
    "### 7.2 Stepping through `nn.MaxPool2d()`"
   ]
  },
  {
   "cell_type": "code",
   "execution_count": 107,
   "id": "65bc4d8a",
   "metadata": {},
   "outputs": [
    {
     "data": {
      "text/plain": [
       "tensor([[[ 1.9269,  1.4873,  0.9007,  ...,  1.8446, -1.1845,  1.3835],\n",
       "         [ 1.4451,  0.8564,  2.2181,  ...,  0.3399,  0.7200,  0.4114],\n",
       "         [ 1.9312,  1.0119, -1.4364,  ..., -0.5558,  0.7043,  0.7099],\n",
       "         ...,\n",
       "         [-0.5610, -0.4830,  0.4770,  ..., -0.2713, -0.9537, -0.6737],\n",
       "         [ 0.3076, -0.1277,  0.0366,  ..., -2.0060,  0.2824, -0.8111],\n",
       "         [-1.5486,  0.0485, -0.7712,  ..., -0.1403,  0.9416, -0.0118]],\n",
       "\n",
       "        [[-0.5197,  1.8524,  1.8365,  ...,  0.8935, -1.5114, -0.8515],\n",
       "         [ 2.0818,  1.0677, -1.4277,  ...,  1.6612, -2.6223, -0.4319],\n",
       "         [-0.1010, -0.4388, -1.9775,  ...,  0.2106,  0.2536, -0.7318],\n",
       "         ...,\n",
       "         [ 0.2779,  0.7342, -0.3736,  ..., -0.4601,  0.1815,  0.1850],\n",
       "         [ 0.7205, -0.2833,  0.0937,  ..., -0.1002, -2.3609,  2.2465],\n",
       "         [-1.3242, -0.1973,  0.2920,  ...,  0.5409,  0.6940,  1.8563]],\n",
       "\n",
       "        [[-0.7978,  1.0261,  1.1465,  ...,  1.2134,  0.9354, -0.0780],\n",
       "         [-1.4647, -1.9571,  0.1017,  ..., -1.9986, -0.7409,  0.7011],\n",
       "         [-1.3938,  0.8466, -1.7191,  ..., -1.1867,  0.1320,  0.3407],\n",
       "         ...,\n",
       "         [ 0.8206, -0.3745,  1.2499,  ..., -0.0676,  0.0385,  0.6335],\n",
       "         [-0.5589, -0.3393,  0.2347,  ...,  2.1181,  2.4569,  1.3083],\n",
       "         [-0.4092,  1.5199,  0.2401,  ..., -0.2558,  0.7870,  0.9924]]])"
      ]
     },
     "execution_count": 107,
     "metadata": {},
     "output_type": "execute_result"
    }
   ],
   "source": [
    "test_image"
   ]
  },
  {
   "cell_type": "code",
   "execution_count": 108,
   "id": "f5c2e39f",
   "metadata": {},
   "outputs": [
    {
     "name": "stdout",
     "output_type": "stream",
     "text": [
      "Test image original shape: torch.Size([3, 64, 64])\n",
      "Test image with unsqueezed dimenstion: torch.Size([1, 3, 64, 64])\n",
      "Shape after going through conv_layer(): torch.Size([1, 10, 64, 64])\n",
      "Shape after going thorugh conv_layer() and max_pool_layer(): torch.Size([1, 10, 32, 32])\n"
     ]
    }
   ],
   "source": [
    "# Print out original image shape without unsqueezed dimension\n",
    "print(f\"Test image original shape: {test_image.shape}\")\n",
    "print(f\"Test image with unsqueezed dimenstion: {test_image.unsqueeze(0).shape}\")\n",
    "\n",
    "# Create a sample nn.MaxPool2d layer\n",
    "max_pool_layer = nn.MaxPool2d(kernel_size=2)\n",
    "\n",
    "# Pass data through just the conv_layer\n",
    "test_image_through_conv = conv_layer(test_image.unsqueeze(dim=0))\n",
    "print(f\"Shape after going through conv_layer(): {test_image_through_conv.shape}\")\n",
    "\n",
    "# Pass data through max pool layer\n",
    "test_image_through_conv_and_max_pool = max_pool_layer(test_image_through_conv)\n",
    "print(f\"Shape after going thorugh conv_layer() and max_pool_layer(): {test_image_through_conv_and_max_pool.shape}\")"
   ]
  },
  {
   "cell_type": "code",
   "execution_count": 109,
   "id": "ff060525",
   "metadata": {},
   "outputs": [
    {
     "name": "stdout",
     "output_type": "stream",
     "text": [
      "Random tensor: tensor([[[[0.3367, 0.1288],\n",
      "          [0.2345, 0.2303]]]])\n",
      "Random tensor shape: torch.Size([1, 1, 2, 2])\n",
      "Max pool tensor: tensor([[[[0.3367]]]])\n",
      "Max pool tensor shape: torch.Size([1, 1, 1, 1])\n"
     ]
    }
   ],
   "source": [
    "torch.manual_seed(42)\n",
    "# Create a random tensor with a smiliar number of dimensions to our image\n",
    "random_tensor = torch.randn(size=(1, 1, 2, 2))\n",
    "print(f\"Random tensor: {random_tensor}\")\n",
    "print(f\"Random tensor shape: {random_tensor.shape}\")\n",
    "\n",
    "# Create a max pool layer\n",
    "max_pool_layer = nn.MaxPool2d(kernel_size=2)\n",
    "\n",
    "# Pass the random tensor thorugh the max pool layer\n",
    "max_pool_tensor = max_pool_layer(random_tensor)\n",
    "print(f\"Max pool tensor: {max_pool_tensor}\")\n",
    "print(f\"Max pool tensor shape: {max_pool_tensor.shape}\")"
   ]
  },
  {
   "cell_type": "markdown",
   "id": "f01d5ef8",
   "metadata": {},
   "source": [
    "### 7.3 Setup a loss function, optimizer and evaluation metrics for `model_2`"
   ]
  },
  {
   "cell_type": "code",
   "execution_count": 110,
   "id": "f9086b18",
   "metadata": {},
   "outputs": [],
   "source": [
    "# Setup loss function and optimizer\n",
    "loss_fn = nn.CrossEntropyLoss()\n",
    "optimizer = torch.optim.SGD(\n",
    "    params=model_2.parameters(),\n",
    "    lr=0.1\n",
    ")"
   ]
  },
  {
   "cell_type": "code",
   "execution_count": 111,
   "id": "93d57db8",
   "metadata": {},
   "outputs": [
    {
     "data": {
      "text/plain": [
       "(CrossEntropyLoss(),\n",
       " SGD (\n",
       " Parameter Group 0\n",
       "     dampening: 0\n",
       "     differentiable: False\n",
       "     foreach: None\n",
       "     fused: None\n",
       "     lr: 0.1\n",
       "     maximize: False\n",
       "     momentum: 0\n",
       "     nesterov: False\n",
       "     weight_decay: 0\n",
       " ))"
      ]
     },
     "execution_count": 111,
     "metadata": {},
     "output_type": "execute_result"
    }
   ],
   "source": [
    "loss_fn, optimizer"
   ]
  },
  {
   "cell_type": "code",
   "execution_count": 112,
   "id": "18e5f24b",
   "metadata": {},
   "outputs": [],
   "source": [
    "# Calculate accuracy (a classification metric)\n",
    "def accuracy_fn(y_true, y_pred):\n",
    "    correct = torch.eq(y_true, y_pred).sum().item() # torch.eq() calculates when two tensors are equal\n",
    "    acc = (correct / len(y_pred)) * 100\n",
    "    return acc"
   ]
  },
  {
   "cell_type": "code",
   "execution_count": 113,
   "id": "4b1253e0",
   "metadata": {},
   "outputs": [
    {
     "data": {
      "text/plain": [
       "OrderedDict([('conv_block_1.0.weight',\n",
       "              tensor([[[[ 0.2548,  0.2767, -0.0781],\n",
       "                        [ 0.3062, -0.0730,  0.0673],\n",
       "                        [-0.1623,  0.1958,  0.2938]]],\n",
       "              \n",
       "              \n",
       "                      [[[-0.2445,  0.2897,  0.0624],\n",
       "                        [ 0.2463,  0.0451,  0.1607],\n",
       "                        [-0.0471,  0.2570,  0.0493]]],\n",
       "              \n",
       "              \n",
       "                      [[[-0.1556,  0.0850, -0.1536],\n",
       "                        [-0.0391, -0.1354,  0.2211],\n",
       "                        [-0.2631, -0.1537, -0.0941]]],\n",
       "              \n",
       "              \n",
       "                      [[[-0.2004,  0.0315, -0.3292],\n",
       "                        [ 0.3010, -0.2832,  0.2573],\n",
       "                        [ 0.0555, -0.1082,  0.2060]]],\n",
       "              \n",
       "              \n",
       "                      [[[ 0.0520,  0.2693,  0.0364],\n",
       "                        [-0.1051,  0.0896, -0.0904],\n",
       "                        [ 0.1403,  0.2976,  0.1927]]],\n",
       "              \n",
       "              \n",
       "                      [[[-0.1457,  0.1924,  0.0596],\n",
       "                        [ 0.1693, -0.2032, -0.3300],\n",
       "                        [-0.1288, -0.2557,  0.2735]]],\n",
       "              \n",
       "              \n",
       "                      [[[ 0.0960,  0.1381,  0.1054],\n",
       "                        [-0.0058,  0.2609, -0.2368],\n",
       "                        [ 0.0210, -0.2275,  0.1028]]],\n",
       "              \n",
       "              \n",
       "                      [[[-0.1148,  0.1021, -0.0694],\n",
       "                        [ 0.2765, -0.1976, -0.1988],\n",
       "                        [-0.1988,  0.2998,  0.1111]]],\n",
       "              \n",
       "              \n",
       "                      [[[ 0.3208, -0.2751, -0.3306],\n",
       "                        [-0.2608, -0.2242,  0.1350],\n",
       "                        [ 0.1194,  0.2770, -0.1721]]],\n",
       "              \n",
       "              \n",
       "                      [[[-0.2272,  0.1769, -0.1347],\n",
       "                        [ 0.2023, -0.0791,  0.1907],\n",
       "                        [-0.2590, -0.1682,  0.1016]]],\n",
       "              \n",
       "              \n",
       "                      [[[ 0.0705, -0.0850,  0.1987],\n",
       "                        [ 0.2266, -0.2417, -0.1780],\n",
       "                        [ 0.3052, -0.1125, -0.1182]]],\n",
       "              \n",
       "              \n",
       "                      [[[-0.3225, -0.1909,  0.0833],\n",
       "                        [-0.0440, -0.2420,  0.0078],\n",
       "                        [-0.2277, -0.2828, -0.1836]]],\n",
       "              \n",
       "              \n",
       "                      [[[-0.2917, -0.2122,  0.3332],\n",
       "                        [ 0.0630,  0.1027, -0.3109],\n",
       "                        [-0.2189, -0.1110,  0.0521]]],\n",
       "              \n",
       "              \n",
       "                      [[[-0.2933, -0.1436, -0.1996],\n",
       "                        [ 0.0009, -0.1240, -0.0231],\n",
       "                        [-0.2259, -0.2288, -0.1945]]],\n",
       "              \n",
       "              \n",
       "                      [[[-0.1141, -0.2631,  0.2795],\n",
       "                        [-0.0662,  0.2868,  0.1039],\n",
       "                        [-0.2823,  0.2307, -0.0917]]],\n",
       "              \n",
       "              \n",
       "                      [[[-0.1278, -0.2767, -0.3314],\n",
       "                        [ 0.0954, -0.0728,  0.1298],\n",
       "                        [-0.2736,  0.2475, -0.2447]]],\n",
       "              \n",
       "              \n",
       "                      [[[-0.0576,  0.0696,  0.1721],\n",
       "                        [ 0.2691,  0.3037, -0.2643],\n",
       "                        [ 0.0839, -0.1434, -0.0365]]],\n",
       "              \n",
       "              \n",
       "                      [[[-0.2495,  0.3036, -0.2447],\n",
       "                        [ 0.1782,  0.1171,  0.1083],\n",
       "                        [-0.1802,  0.3030,  0.0733]]],\n",
       "              \n",
       "              \n",
       "                      [[[ 0.0429, -0.2938,  0.1399],\n",
       "                        [-0.0500, -0.1527,  0.2863],\n",
       "                        [ 0.0743, -0.1844, -0.1687]]],\n",
       "              \n",
       "              \n",
       "                      [[[-0.0159,  0.1861, -0.0852],\n",
       "                        [-0.1902, -0.1141, -0.2490],\n",
       "                        [ 0.1189,  0.2580, -0.3138]]],\n",
       "              \n",
       "              \n",
       "                      [[[ 0.0774,  0.1722,  0.0604],\n",
       "                        [-0.1187,  0.1740,  0.1752],\n",
       "                        [ 0.1246, -0.0586, -0.0883]]],\n",
       "              \n",
       "              \n",
       "                      [[[ 0.0357, -0.0589, -0.0993],\n",
       "                        [ 0.2131,  0.2865, -0.0330],\n",
       "                        [-0.0746,  0.0049, -0.0199]]],\n",
       "              \n",
       "              \n",
       "                      [[[ 0.0801,  0.0934, -0.3028],\n",
       "                        [-0.1230,  0.2807,  0.1299],\n",
       "                        [-0.0166, -0.2010, -0.2039]]],\n",
       "              \n",
       "              \n",
       "                      [[[-0.2986, -0.1087,  0.1126],\n",
       "                        [ 0.2125,  0.1539, -0.2946],\n",
       "                        [-0.2005, -0.0526,  0.3224]]],\n",
       "              \n",
       "              \n",
       "                      [[[ 0.0482, -0.0863,  0.1379],\n",
       "                        [-0.1270, -0.2158,  0.2433],\n",
       "                        [-0.1516, -0.0668, -0.3316]]],\n",
       "              \n",
       "              \n",
       "                      [[[ 0.2231,  0.2525,  0.1215],\n",
       "                        [-0.2324, -0.3290, -0.2707],\n",
       "                        [ 0.2486,  0.1600,  0.2805]]],\n",
       "              \n",
       "              \n",
       "                      [[[ 0.1746,  0.0844, -0.0033],\n",
       "                        [-0.2535, -0.2856, -0.3118],\n",
       "                        [ 0.1365, -0.1637, -0.0671]]],\n",
       "              \n",
       "              \n",
       "                      [[[-0.1918, -0.0607, -0.2346],\n",
       "                        [-0.2178,  0.1106, -0.0991],\n",
       "                        [ 0.2058, -0.1069, -0.2445]]],\n",
       "              \n",
       "              \n",
       "                      [[[-0.0588, -0.1616, -0.1020],\n",
       "                        [-0.3173,  0.1865, -0.2321],\n",
       "                        [ 0.1675,  0.1513,  0.2381]]],\n",
       "              \n",
       "              \n",
       "                      [[[-0.2557,  0.2397, -0.1576],\n",
       "                        [ 0.1237,  0.3130, -0.0470],\n",
       "                        [-0.0026, -0.0767, -0.2783]]],\n",
       "              \n",
       "              \n",
       "                      [[[ 0.1600, -0.3309,  0.2069],\n",
       "                        [ 0.2494,  0.3152, -0.0786],\n",
       "                        [-0.2739,  0.0749,  0.1841]]],\n",
       "              \n",
       "              \n",
       "                      [[[-0.3318, -0.0757, -0.1998],\n",
       "                        [-0.0292, -0.1641, -0.1363],\n",
       "                        [-0.1058, -0.3168,  0.2735]]],\n",
       "              \n",
       "              \n",
       "                      [[[ 0.2794, -0.0523, -0.0380],\n",
       "                        [-0.1360, -0.3010, -0.3244],\n",
       "                        [ 0.1239, -0.1830, -0.2143]]],\n",
       "              \n",
       "              \n",
       "                      [[[-0.0260, -0.1110, -0.1078],\n",
       "                        [ 0.0107, -0.0707, -0.1148],\n",
       "                        [-0.1596, -0.2713,  0.2795]]],\n",
       "              \n",
       "              \n",
       "                      [[[-0.1334,  0.0883, -0.1157],\n",
       "                        [ 0.0271,  0.3108,  0.1536],\n",
       "                        [-0.2889,  0.1323,  0.3164]]],\n",
       "              \n",
       "              \n",
       "                      [[[ 0.0877,  0.2235,  0.3286],\n",
       "                        [-0.0511,  0.0692, -0.2317],\n",
       "                        [-0.0687,  0.2469,  0.1709]]],\n",
       "              \n",
       "              \n",
       "                      [[[-0.2109, -0.2673, -0.2278],\n",
       "                        [-0.3290, -0.2572, -0.0824],\n",
       "                        [ 0.2250,  0.0558, -0.2535]]],\n",
       "              \n",
       "              \n",
       "                      [[[-0.2674,  0.1658, -0.2479],\n",
       "                        [-0.0410,  0.1599, -0.1543],\n",
       "                        [-0.0363, -0.0290, -0.0789]]],\n",
       "              \n",
       "              \n",
       "                      [[[-0.1690, -0.2971, -0.2695],\n",
       "                        [-0.1785,  0.3219, -0.1610],\n",
       "                        [-0.2238,  0.0808,  0.0919]]],\n",
       "              \n",
       "              \n",
       "                      [[[ 0.1826,  0.2534,  0.1856],\n",
       "                        [-0.3305,  0.0296,  0.2019],\n",
       "                        [-0.0308, -0.1964,  0.3178]]],\n",
       "              \n",
       "              \n",
       "                      [[[-0.1247, -0.1898, -0.3005],\n",
       "                        [ 0.0149,  0.1477,  0.0738],\n",
       "                        [ 0.0659, -0.2528, -0.3113]]],\n",
       "              \n",
       "              \n",
       "                      [[[ 0.0059,  0.3039,  0.1923],\n",
       "                        [-0.1941, -0.0433, -0.2457],\n",
       "                        [-0.1608,  0.0604,  0.1815]]],\n",
       "              \n",
       "              \n",
       "                      [[[ 0.2761, -0.3060,  0.2229],\n",
       "                        [-0.2351,  0.1248,  0.2821],\n",
       "                        [ 0.0047,  0.3033, -0.2840]]],\n",
       "              \n",
       "              \n",
       "                      [[[-0.1273,  0.1944, -0.0726],\n",
       "                        [-0.0682, -0.1389,  0.2298],\n",
       "                        [ 0.1635,  0.1068, -0.1873]]],\n",
       "              \n",
       "              \n",
       "                      [[[-0.2706,  0.0361,  0.0988],\n",
       "                        [-0.1539, -0.0933,  0.2251],\n",
       "                        [ 0.0266,  0.0150, -0.0820]]],\n",
       "              \n",
       "              \n",
       "                      [[[-0.3019, -0.3134, -0.1593],\n",
       "                        [-0.1694,  0.1039, -0.0970],\n",
       "                        [-0.1304,  0.3178,  0.1161]]],\n",
       "              \n",
       "              \n",
       "                      [[[ 0.2376, -0.1614, -0.1362],\n",
       "                        [ 0.1225, -0.2221, -0.2179],\n",
       "                        [-0.0161, -0.1219, -0.2499]]],\n",
       "              \n",
       "              \n",
       "                      [[[ 0.1977,  0.2681,  0.0541],\n",
       "                        [-0.0580, -0.3088, -0.1214],\n",
       "                        [ 0.0849,  0.1572, -0.0421]]],\n",
       "              \n",
       "              \n",
       "                      [[[-0.1318,  0.1857, -0.2655],\n",
       "                        [ 0.2107, -0.1293,  0.0051],\n",
       "                        [-0.0659,  0.0404, -0.1007]]],\n",
       "              \n",
       "              \n",
       "                      [[[ 0.2424, -0.0087,  0.2602],\n",
       "                        [ 0.3205, -0.1624, -0.2432],\n",
       "                        [ 0.2674,  0.2612, -0.2545]]],\n",
       "              \n",
       "              \n",
       "                      [[[-0.0258, -0.3287, -0.2729],\n",
       "                        [ 0.0644,  0.0887,  0.0707],\n",
       "                        [-0.0907,  0.3075,  0.0477]]],\n",
       "              \n",
       "              \n",
       "                      [[[-0.1967, -0.0189,  0.0800],\n",
       "                        [ 0.1167, -0.2357,  0.1249],\n",
       "                        [-0.1703, -0.2770, -0.1821]]],\n",
       "              \n",
       "              \n",
       "                      [[[ 0.3215,  0.2850,  0.2985],\n",
       "                        [ 0.1957,  0.2518, -0.0446],\n",
       "                        [-0.1834,  0.1666, -0.1727]]],\n",
       "              \n",
       "              \n",
       "                      [[[-0.2250, -0.1064,  0.0700],\n",
       "                        [ 0.1716, -0.1295, -0.1962],\n",
       "                        [ 0.0450, -0.1965, -0.2170]]],\n",
       "              \n",
       "              \n",
       "                      [[[ 0.1738, -0.0560,  0.3046],\n",
       "                        [ 0.3243,  0.0997,  0.1147],\n",
       "                        [ 0.0768,  0.0052, -0.0242]]],\n",
       "              \n",
       "              \n",
       "                      [[[ 0.0046,  0.1245,  0.3099],\n",
       "                        [-0.0864, -0.1409, -0.0807],\n",
       "                        [-0.1610,  0.0567,  0.2488]]],\n",
       "              \n",
       "              \n",
       "                      [[[ 0.2607,  0.1530, -0.2453],\n",
       "                        [-0.1789, -0.0732, -0.0614],\n",
       "                        [ 0.0274, -0.3060,  0.1037]]],\n",
       "              \n",
       "              \n",
       "                      [[[-0.2543, -0.2109, -0.2771],\n",
       "                        [ 0.2904, -0.3156,  0.2515],\n",
       "                        [-0.0112, -0.0388,  0.2085]]],\n",
       "              \n",
       "              \n",
       "                      [[[-0.0308,  0.2091,  0.2410],\n",
       "                        [-0.2894,  0.1283,  0.0629],\n",
       "                        [ 0.0717,  0.0487,  0.0912]]],\n",
       "              \n",
       "              \n",
       "                      [[[-0.1604, -0.0426,  0.3167],\n",
       "                        [ 0.2239, -0.0125, -0.3135],\n",
       "                        [ 0.0146, -0.2270,  0.2711]]],\n",
       "              \n",
       "              \n",
       "                      [[[-0.2024, -0.0241, -0.0740],\n",
       "                        [ 0.0593,  0.3137,  0.0317],\n",
       "                        [ 0.1931,  0.2587,  0.2691]]],\n",
       "              \n",
       "              \n",
       "                      [[[-0.1151, -0.0746,  0.1606],\n",
       "                        [-0.0910,  0.1561, -0.0728],\n",
       "                        [-0.2261,  0.1357,  0.0511]]],\n",
       "              \n",
       "              \n",
       "                      [[[ 0.1486,  0.3312,  0.2276],\n",
       "                        [ 0.3160,  0.0178, -0.2867],\n",
       "                        [-0.2338, -0.2071, -0.2937]]],\n",
       "              \n",
       "              \n",
       "                      [[[-0.1671, -0.3069, -0.3075],\n",
       "                        [-0.1992, -0.3286, -0.2046],\n",
       "                        [ 0.1271,  0.2780, -0.0992]]]])),\n",
       "             ('conv_block_1.0.bias',\n",
       "              tensor([-0.0970,  0.1780, -0.1645, -0.1576,  0.2054, -0.2904,  0.0408,  0.2945,\n",
       "                       0.0572,  0.0906, -0.1941, -0.0046,  0.0183,  0.0818,  0.1295,  0.2896,\n",
       "                      -0.2544,  0.0100, -0.1665, -0.2637, -0.0267, -0.2934,  0.2326,  0.0386,\n",
       "                      -0.1797,  0.1742, -0.3155, -0.1289, -0.0649, -0.2833, -0.2120, -0.0544,\n",
       "                       0.2529,  0.3219,  0.2121, -0.1990, -0.2181,  0.2909,  0.1179,  0.0089,\n",
       "                       0.0451, -0.2679, -0.1113,  0.3209, -0.0822, -0.0167, -0.2768, -0.1865,\n",
       "                      -0.0068, -0.2071, -0.0413,  0.1357, -0.3261,  0.0990, -0.2204, -0.1627,\n",
       "                       0.1280,  0.2650, -0.0911, -0.1369, -0.3014, -0.1719, -0.2919, -0.0763])),\n",
       "             ('conv_block_1.2.weight',\n",
       "              tensor([[[[ 8.5023e-03, -3.9036e-02,  3.6380e-02],\n",
       "                        [ 2.6141e-02, -4.0789e-02, -1.9901e-02],\n",
       "                        [ 1.3590e-02, -8.5608e-03, -4.5407e-03]],\n",
       "              \n",
       "                       [[-1.8813e-02,  3.3467e-02, -2.3292e-02],\n",
       "                        [ 3.4553e-02,  2.6884e-03,  8.3759e-03],\n",
       "                        [ 3.2505e-02, -6.8652e-03, -2.3723e-02]],\n",
       "              \n",
       "                       [[-6.7389e-03,  3.3794e-02, -3.0916e-02],\n",
       "                        [ 9.4575e-03, -4.0950e-02,  2.1846e-02],\n",
       "                        [ 1.5394e-02,  1.7663e-03,  1.7883e-02]],\n",
       "              \n",
       "                       ...,\n",
       "              \n",
       "                       [[ 2.7109e-02, -1.3818e-02,  3.3369e-02],\n",
       "                        [ 3.2898e-02, -3.1979e-02, -3.2176e-02],\n",
       "                        [-3.3711e-02, -2.2834e-02, -1.6220e-02]],\n",
       "              \n",
       "                       [[-3.1362e-03, -1.0133e-02, -2.1052e-02],\n",
       "                        [-1.3237e-02, -1.5073e-02,  4.0877e-02],\n",
       "                        [-1.5443e-02, -2.9833e-02,  1.7321e-02]],\n",
       "              \n",
       "                       [[-2.4067e-03,  3.1898e-02,  2.6035e-02],\n",
       "                        [ 3.8280e-02, -3.0515e-02,  2.6786e-02],\n",
       "                        [ 3.4968e-02, -2.0576e-02,  3.8299e-02]]],\n",
       "              \n",
       "              \n",
       "                      [[[ 3.1235e-02,  4.5630e-04,  2.0090e-02],\n",
       "                        [-1.4568e-02, -3.6341e-02,  1.0533e-02],\n",
       "                        [ 1.2422e-02, -2.7232e-02,  2.0208e-02]],\n",
       "              \n",
       "                       [[-3.5593e-02,  3.5859e-02,  4.0350e-02],\n",
       "                        [ 1.1344e-02, -2.6143e-02,  2.0278e-02],\n",
       "                        [ 7.1007e-03,  1.1330e-02,  1.3694e-02]],\n",
       "              \n",
       "                       [[ 3.1723e-02, -1.7910e-02, -9.3727e-03],\n",
       "                        [ 1.1363e-02,  4.5400e-03,  3.3599e-02],\n",
       "                        [-2.1885e-02, -1.5174e-03,  7.7855e-03]],\n",
       "              \n",
       "                       ...,\n",
       "              \n",
       "                       [[-1.3955e-02,  1.2650e-02,  2.9453e-02],\n",
       "                        [ 2.3210e-02,  2.3128e-02,  1.7286e-02],\n",
       "                        [-2.5843e-02, -3.3083e-02,  1.7272e-03]],\n",
       "              \n",
       "                       [[ 3.9566e-02,  2.3461e-03, -3.5837e-03],\n",
       "                        [-2.8281e-02, -2.0660e-02, -3.2119e-02],\n",
       "                        [ 3.3361e-02, -6.7887e-03, -3.6809e-02]],\n",
       "              \n",
       "                       [[ 4.4698e-03,  3.0237e-03, -5.1479e-03],\n",
       "                        [ 1.4915e-02,  2.2407e-02, -3.9184e-02],\n",
       "                        [-3.1920e-02, -2.0017e-03, -3.8631e-02]]],\n",
       "              \n",
       "              \n",
       "                      [[[-3.7848e-02,  3.6788e-02, -3.1691e-03],\n",
       "                        [-2.0600e-02, -1.4292e-02, -3.2530e-02],\n",
       "                        [ 3.2515e-02, -9.0350e-03, -2.3427e-02]],\n",
       "              \n",
       "                       [[-3.1601e-02,  2.4354e-02, -5.7596e-03],\n",
       "                        [-4.3774e-03, -1.0860e-02, -2.0113e-02],\n",
       "                        [ 7.4121e-03,  3.2057e-02, -2.4149e-02]],\n",
       "              \n",
       "                       [[ 1.9964e-03, -3.1688e-02, -1.9537e-02],\n",
       "                        [ 3.6574e-02,  4.3688e-04,  4.0138e-02],\n",
       "                        [-7.3002e-03, -2.2710e-02, -2.4895e-02]],\n",
       "              \n",
       "                       ...,\n",
       "              \n",
       "                       [[ 5.5829e-03, -2.6362e-02, -1.4988e-02],\n",
       "                        [ 2.0355e-02,  1.3002e-02,  8.0982e-04],\n",
       "                        [-5.4990e-03, -1.6212e-02, -1.4789e-02]],\n",
       "              \n",
       "                       [[-2.1979e-02,  6.8276e-03,  1.1702e-02],\n",
       "                        [ 3.1906e-02, -9.4131e-03,  2.9829e-03],\n",
       "                        [ 2.6929e-02,  1.8125e-02,  5.3537e-03]],\n",
       "              \n",
       "                       [[ 1.2803e-02,  2.1628e-03, -3.5741e-02],\n",
       "                        [ 1.6063e-03, -9.1075e-03,  3.7600e-02],\n",
       "                        [ 3.7609e-02,  8.2663e-03,  3.7242e-02]]],\n",
       "              \n",
       "              \n",
       "                      ...,\n",
       "              \n",
       "              \n",
       "                      [[[ 3.2618e-02,  3.9587e-02,  2.8482e-02],\n",
       "                        [-5.4359e-03,  1.5041e-02,  2.4441e-02],\n",
       "                        [ 1.9579e-02,  2.0476e-02,  3.9186e-02]],\n",
       "              \n",
       "                       [[ 3.9588e-02, -2.7388e-02, -3.3195e-02],\n",
       "                        [ 4.1083e-02,  7.5012e-03, -4.1216e-02],\n",
       "                        [ 1.3478e-04,  2.9627e-02,  9.8274e-03]],\n",
       "              \n",
       "                       [[-1.9978e-02, -3.0172e-02, -1.9576e-02],\n",
       "                        [ 2.7986e-02,  8.0023e-03,  2.0627e-03],\n",
       "                        [ 7.8074e-03, -7.1615e-03, -1.6136e-03]],\n",
       "              \n",
       "                       ...,\n",
       "              \n",
       "                       [[-2.0375e-02,  6.9525e-04, -3.1735e-02],\n",
       "                        [ 1.1574e-02, -3.6389e-02,  4.4459e-03],\n",
       "                        [ 1.8955e-02,  2.5098e-02, -3.7177e-03]],\n",
       "              \n",
       "                       [[ 1.5228e-02,  1.8052e-02,  3.4076e-02],\n",
       "                        [ 4.1627e-02,  3.8341e-02, -2.6043e-02],\n",
       "                        [ 4.3324e-03, -4.0594e-02,  1.9444e-02]],\n",
       "              \n",
       "                       [[ 2.4304e-02,  2.1029e-02,  9.1496e-03],\n",
       "                        [-3.4941e-02, -1.2763e-02,  1.4329e-02],\n",
       "                        [ 4.1014e-02, -1.5737e-02, -5.2657e-03]]],\n",
       "              \n",
       "              \n",
       "                      [[[ 2.1093e-02, -1.0547e-02,  7.0954e-03],\n",
       "                        [-1.0236e-02, -4.0989e-02,  1.8355e-02],\n",
       "                        [-3.1597e-03,  3.3019e-02,  4.3857e-03]],\n",
       "              \n",
       "                       [[-1.0679e-02,  3.3458e-03, -2.3569e-02],\n",
       "                        [ 1.8621e-02,  2.7323e-02, -1.0628e-02],\n",
       "                        [-4.0083e-02, -2.1794e-02, -7.9042e-03]],\n",
       "              \n",
       "                       [[ 3.4101e-02, -2.0153e-03,  2.6396e-02],\n",
       "                        [-6.1488e-03, -5.3689e-03,  2.2041e-02],\n",
       "                        [-3.7100e-02, -8.7438e-03,  3.8674e-02]],\n",
       "              \n",
       "                       ...,\n",
       "              \n",
       "                       [[-2.7265e-02, -3.2861e-02,  4.6981e-03],\n",
       "                        [ 3.4216e-02,  3.9015e-02,  4.0265e-02],\n",
       "                        [-8.6789e-03, -4.0848e-02, -1.2984e-02]],\n",
       "              \n",
       "                       [[-8.6611e-03, -1.9641e-02,  1.6065e-02],\n",
       "                        [ 4.0355e-02, -1.6203e-02,  3.9391e-02],\n",
       "                        [-4.1644e-02, -2.0914e-02,  2.8773e-02]],\n",
       "              \n",
       "                       [[ 1.2368e-02,  2.5640e-02, -2.9640e-02],\n",
       "                        [-1.9302e-02, -8.4299e-03,  3.8824e-02],\n",
       "                        [-4.1322e-02,  1.3150e-02,  2.8180e-02]]],\n",
       "              \n",
       "              \n",
       "                      [[[ 2.0320e-02,  2.4757e-02, -2.9215e-03],\n",
       "                        [ 8.6763e-03, -9.2422e-05, -2.2259e-02],\n",
       "                        [ 2.6174e-02, -4.0824e-02, -5.7563e-03]],\n",
       "              \n",
       "                       [[ 3.4654e-02, -3.0853e-02, -1.5151e-02],\n",
       "                        [-2.4016e-03,  4.1192e-02,  3.3371e-02],\n",
       "                        [ 2.3558e-02,  1.5365e-02, -5.2623e-03]],\n",
       "              \n",
       "                       [[ 3.6297e-02, -1.5542e-02,  2.2486e-02],\n",
       "                        [-2.5857e-02,  2.8871e-04, -2.4330e-02],\n",
       "                        [ 3.7076e-02, -1.9306e-02, -3.7589e-02]],\n",
       "              \n",
       "                       ...,\n",
       "              \n",
       "                       [[ 4.0509e-02, -1.5718e-02, -3.3647e-02],\n",
       "                        [ 3.0954e-02, -1.9008e-02, -2.5973e-02],\n",
       "                        [-1.7578e-02,  1.5535e-02, -3.1302e-03]],\n",
       "              \n",
       "                       [[ 1.9000e-02, -2.5173e-02,  2.6224e-03],\n",
       "                        [ 2.7723e-02, -1.1576e-02, -1.0791e-02],\n",
       "                        [-4.1244e-02,  3.9085e-02, -2.1472e-02]],\n",
       "              \n",
       "                       [[ 1.2346e-03, -2.8055e-02, -2.7353e-02],\n",
       "                        [ 3.1625e-02, -3.6325e-02,  3.8031e-02],\n",
       "                        [-4.1584e-02,  1.6012e-02,  2.3511e-02]]]])),\n",
       "             ('conv_block_1.2.bias',\n",
       "              tensor([ 9.0847e-05,  2.5891e-02, -2.3368e-02,  6.3847e-03,  7.1218e-03,\n",
       "                       3.5592e-04,  1.3226e-02,  2.5787e-02, -1.9929e-02,  9.5518e-03,\n",
       "                      -6.6952e-03, -4.2011e-03, -2.3976e-02, -2.7578e-02,  3.1207e-02,\n",
       "                      -2.6910e-02,  5.2050e-04,  4.1228e-02,  3.4886e-02, -3.8900e-02,\n",
       "                      -1.4289e-02,  1.8171e-02,  4.0508e-02, -2.8313e-03, -1.2693e-02,\n",
       "                      -3.3640e-02,  1.2786e-02, -4.4438e-03, -2.2675e-02, -4.1230e-02,\n",
       "                       3.2383e-03,  3.7075e-02, -1.0657e-02,  8.9271e-03,  3.9278e-02,\n",
       "                       1.5077e-02, -1.8619e-02, -8.8753e-03,  2.6845e-02, -2.2166e-02,\n",
       "                       2.2572e-02,  3.0506e-02, -1.1271e-02,  1.6040e-02,  3.4909e-02,\n",
       "                       3.0645e-02,  3.5019e-02, -4.4885e-03,  3.6656e-02,  3.6369e-05,\n",
       "                       4.0846e-03,  1.3903e-02,  3.8663e-02,  2.9773e-02, -2.5760e-03,\n",
       "                       1.0741e-02, -3.6126e-02,  3.0707e-02, -1.8744e-02, -3.0451e-03,\n",
       "                       2.4368e-03, -9.5675e-03, -1.6627e-02,  1.4533e-02])),\n",
       "             ('conv_block_2.0.weight',\n",
       "              tensor([[[[ 3.1910e-02, -3.2848e-02,  9.5516e-03],\n",
       "                        [-4.4873e-04,  3.3748e-02, -3.6712e-02],\n",
       "                        [-1.3876e-02, -2.1981e-02, -2.4157e-02]],\n",
       "              \n",
       "                       [[ 2.7730e-02,  3.7077e-02,  1.2620e-02],\n",
       "                        [-1.8727e-02, -3.1942e-02,  3.9209e-02],\n",
       "                        [-7.9318e-03,  1.3155e-03,  4.0499e-02]],\n",
       "              \n",
       "                       [[ 2.1127e-02,  1.9560e-02, -7.4941e-03],\n",
       "                        [-1.0475e-02,  1.3797e-02, -3.4478e-03],\n",
       "                        [-3.0463e-02,  5.5212e-03,  3.0433e-02]],\n",
       "              \n",
       "                       ...,\n",
       "              \n",
       "                       [[ 1.0935e-02,  2.0315e-03, -4.2959e-03],\n",
       "                        [-1.7220e-02, -3.8043e-02,  2.9584e-02],\n",
       "                        [-3.1002e-02,  3.8086e-02, -1.3840e-02]],\n",
       "              \n",
       "                       [[ 1.4430e-02,  1.6541e-02, -6.4465e-03],\n",
       "                        [-2.2216e-02, -2.5019e-02,  3.7312e-02],\n",
       "                        [-3.8132e-02,  3.8330e-02, -1.5217e-02]],\n",
       "              \n",
       "                       [[ 2.6450e-02, -3.3631e-02, -2.2238e-03],\n",
       "                        [-2.0135e-02, -2.2752e-02,  1.5309e-02],\n",
       "                        [ 2.8209e-02, -3.0802e-02,  1.9868e-02]]],\n",
       "              \n",
       "              \n",
       "                      [[[-3.4686e-02,  2.0201e-02,  1.8373e-02],\n",
       "                        [ 2.2562e-02,  3.0670e-02,  1.3784e-02],\n",
       "                        [ 4.0531e-02,  7.8252e-03,  3.5044e-02]],\n",
       "              \n",
       "                       [[ 8.1924e-03,  9.4392e-03, -2.6535e-02],\n",
       "                        [-7.4502e-03,  1.1046e-02, -1.5136e-02],\n",
       "                        [ 1.7911e-02,  1.1463e-02, -1.8678e-02]],\n",
       "              \n",
       "                       [[-2.5026e-02,  1.9379e-02, -2.9333e-02],\n",
       "                        [ 1.5225e-02, -2.5932e-02, -3.6305e-02],\n",
       "                        [ 3.9463e-04, -6.5788e-03,  1.5304e-02]],\n",
       "              \n",
       "                       ...,\n",
       "              \n",
       "                       [[ 2.1674e-02, -1.4163e-02, -2.8950e-02],\n",
       "                        [-6.3934e-03,  4.0294e-02, -1.7318e-02],\n",
       "                        [-2.9730e-02,  2.6562e-02, -2.8178e-03]],\n",
       "              \n",
       "                       [[-1.1829e-02,  2.6450e-02,  1.8236e-02],\n",
       "                        [ 1.3908e-02,  4.0041e-02, -3.6238e-02],\n",
       "                        [-1.4448e-02,  2.8864e-02, -3.5131e-02]],\n",
       "              \n",
       "                       [[-6.7065e-03,  1.3898e-02,  2.7654e-03],\n",
       "                        [ 8.4024e-03, -2.2597e-02,  1.2679e-02],\n",
       "                        [-2.7544e-02,  5.6325e-03, -5.5737e-03]]],\n",
       "              \n",
       "              \n",
       "                      [[[ 3.2265e-02, -3.8480e-02, -2.9502e-02],\n",
       "                        [ 3.6201e-02,  4.0974e-02, -1.3109e-03],\n",
       "                        [ 2.8793e-02, -6.4691e-03,  3.8095e-02]],\n",
       "              \n",
       "                       [[-2.2552e-02, -2.0356e-02,  5.6621e-03],\n",
       "                        [-1.8578e-02,  2.6818e-02, -1.3832e-02],\n",
       "                        [ 2.8520e-02, -3.5390e-02, -2.4937e-02]],\n",
       "              \n",
       "                       [[-1.9489e-02,  1.1220e-02,  4.1499e-02],\n",
       "                        [ 1.8125e-02, -3.3504e-02, -4.1035e-02],\n",
       "                        [ 1.7787e-02,  2.2540e-02,  3.0814e-02]],\n",
       "              \n",
       "                       ...,\n",
       "              \n",
       "                       [[-2.5349e-02,  1.9931e-02,  6.4072e-03],\n",
       "                        [-1.2137e-02,  8.0979e-03,  3.6041e-02],\n",
       "                        [-3.8224e-02,  2.6205e-02,  3.5017e-02]],\n",
       "              \n",
       "                       [[-2.7625e-02, -3.5976e-02,  3.1929e-03],\n",
       "                        [-3.0114e-02, -1.4216e-03,  3.9176e-04],\n",
       "                        [ 3.1196e-02,  1.6583e-03,  2.2340e-02]],\n",
       "              \n",
       "                       [[-2.7324e-02,  5.6466e-04,  7.4617e-03],\n",
       "                        [ 8.0264e-03, -2.7509e-04,  1.8569e-02],\n",
       "                        [-2.1862e-03, -9.5959e-03,  4.8516e-03]]],\n",
       "              \n",
       "              \n",
       "                      ...,\n",
       "              \n",
       "              \n",
       "                      [[[-3.6428e-02,  7.7831e-03, -7.9487e-03],\n",
       "                        [-2.9455e-02, -1.2260e-02,  1.4773e-02],\n",
       "                        [-3.8072e-03,  6.1168e-03, -1.6666e-02]],\n",
       "              \n",
       "                       [[ 1.4565e-02,  1.1431e-02, -4.1570e-02],\n",
       "                        [-6.9259e-03,  2.5407e-02,  3.8652e-02],\n",
       "                        [-3.7741e-02, -2.8172e-02, -1.8796e-02]],\n",
       "              \n",
       "                       [[ 2.7815e-02, -2.8695e-04,  2.1634e-02],\n",
       "                        [ 3.1182e-02,  1.5805e-02, -1.1073e-02],\n",
       "                        [-2.7733e-02,  6.1772e-03,  4.1231e-03]],\n",
       "              \n",
       "                       ...,\n",
       "              \n",
       "                       [[ 1.5843e-02, -2.0484e-02,  3.8513e-02],\n",
       "                        [-2.9233e-02,  3.3069e-02, -1.4078e-02],\n",
       "                        [-1.9605e-02,  1.1142e-02,  8.6142e-03]],\n",
       "              \n",
       "                       [[-3.5445e-02, -2.8879e-02,  2.3224e-02],\n",
       "                        [ 1.6839e-03,  2.1050e-03, -3.1040e-02],\n",
       "                        [ 2.8721e-02,  3.4392e-02,  2.8083e-02]],\n",
       "              \n",
       "                       [[-3.4567e-02, -3.3603e-02,  3.1216e-02],\n",
       "                        [-2.1829e-02, -3.5123e-02,  4.0063e-02],\n",
       "                        [-2.6286e-05, -4.3368e-03, -1.1368e-02]]],\n",
       "              \n",
       "              \n",
       "                      [[[ 3.7842e-02,  3.8080e-02, -9.3195e-03],\n",
       "                        [-3.7552e-02,  1.5182e-02, -2.4414e-02],\n",
       "                        [ 1.7873e-02, -3.3778e-02,  7.5908e-03]],\n",
       "              \n",
       "                       [[ 2.8927e-02, -4.0837e-02,  4.1257e-02],\n",
       "                        [ 9.8228e-03,  1.9113e-02,  1.9043e-02],\n",
       "                        [ 1.1066e-02, -7.1698e-03, -3.4172e-02]],\n",
       "              \n",
       "                       [[-2.3268e-02,  8.7166e-03,  4.0021e-02],\n",
       "                        [ 3.8777e-02, -3.3061e-02, -3.3383e-02],\n",
       "                        [ 1.1288e-02,  1.0928e-02,  1.2726e-02]],\n",
       "              \n",
       "                       ...,\n",
       "              \n",
       "                       [[-3.4935e-02, -3.9596e-02, -1.6346e-02],\n",
       "                        [ 1.9340e-02, -3.0740e-02, -1.7099e-02],\n",
       "                        [-5.1803e-03, -3.5737e-02,  3.1534e-02]],\n",
       "              \n",
       "                       [[-3.3333e-02,  3.6033e-02, -1.8603e-02],\n",
       "                        [-5.7044e-03, -4.0464e-02,  1.8373e-02],\n",
       "                        [-4.0819e-02,  9.3790e-04, -3.0480e-02]],\n",
       "              \n",
       "                       [[ 1.9697e-02, -2.5363e-02, -1.4677e-02],\n",
       "                        [ 6.7424e-03, -1.0397e-02, -7.2310e-04],\n",
       "                        [ 3.9954e-02, -6.3340e-03,  2.0991e-02]]],\n",
       "              \n",
       "              \n",
       "                      [[[-1.5884e-02,  2.1334e-03,  3.5633e-02],\n",
       "                        [ 7.0019e-03, -2.7289e-02,  3.8748e-02],\n",
       "                        [ 4.2007e-04, -3.2663e-02, -1.7207e-02]],\n",
       "              \n",
       "                       [[ 3.9111e-02, -7.5806e-03,  3.8611e-02],\n",
       "                        [-4.9263e-03,  2.7333e-02, -2.2957e-03],\n",
       "                        [ 3.8859e-02, -3.9516e-02, -3.2021e-02]],\n",
       "              \n",
       "                       [[ 2.7594e-02, -1.7171e-02,  1.9187e-02],\n",
       "                        [-1.3822e-03,  1.3699e-02, -5.6093e-03],\n",
       "                        [ 1.5500e-02, -1.9500e-02, -1.0040e-02]],\n",
       "              \n",
       "                       ...,\n",
       "              \n",
       "                       [[-3.2561e-02,  2.7615e-02,  3.3339e-02],\n",
       "                        [ 1.5528e-02,  2.4173e-02,  1.5674e-02],\n",
       "                        [ 3.0512e-02, -2.5878e-02,  3.0907e-02]],\n",
       "              \n",
       "                       [[ 8.6045e-03, -4.0935e-02,  7.7411e-03],\n",
       "                        [-3.6223e-02, -3.4765e-02, -8.2832e-03],\n",
       "                        [-2.1089e-02, -3.0889e-02,  1.9907e-02]],\n",
       "              \n",
       "                       [[ 5.8768e-03, -2.3039e-03, -2.6287e-02],\n",
       "                        [ 2.6876e-02, -3.3819e-02,  2.5457e-02],\n",
       "                        [-3.8271e-02, -3.7971e-02,  3.5857e-04]]]])),\n",
       "             ('conv_block_2.0.bias',\n",
       "              tensor([-0.0088,  0.0032,  0.0308,  0.0024, -0.0072, -0.0414, -0.0201, -0.0236,\n",
       "                      -0.0117, -0.0290,  0.0276,  0.0228, -0.0417,  0.0377,  0.0026, -0.0348,\n",
       "                      -0.0155, -0.0319,  0.0147,  0.0389,  0.0291, -0.0040, -0.0407, -0.0321,\n",
       "                      -0.0240,  0.0331,  0.0188, -0.0065,  0.0152, -0.0410, -0.0224, -0.0274,\n",
       "                      -0.0408,  0.0236, -0.0383,  0.0379, -0.0392,  0.0385,  0.0070,  0.0211,\n",
       "                       0.0151, -0.0182,  0.0051, -0.0038, -0.0062, -0.0351, -0.0069,  0.0029,\n",
       "                      -0.0033, -0.0131, -0.0338, -0.0406,  0.0221, -0.0028,  0.0256, -0.0389,\n",
       "                       0.0191,  0.0280,  0.0405,  0.0138,  0.0183, -0.0352,  0.0365,  0.0274])),\n",
       "             ('conv_block_2.2.weight',\n",
       "              tensor([[[[-2.1017e-02, -3.5335e-02, -2.8480e-02],\n",
       "                        [ 1.7076e-02, -1.3883e-02,  3.3149e-02],\n",
       "                        [-3.5954e-03,  1.7017e-02,  1.9920e-02]],\n",
       "              \n",
       "                       [[-1.5928e-02,  1.6098e-03,  4.8292e-03],\n",
       "                        [-1.8223e-02,  6.1994e-03, -1.5510e-02],\n",
       "                        [ 1.8061e-02, -1.6157e-02,  3.2949e-02]],\n",
       "              \n",
       "                       [[-3.5137e-03,  2.0327e-02,  3.4042e-02],\n",
       "                        [-2.9430e-02,  6.5710e-03, -1.9893e-02],\n",
       "                        [ 1.9760e-02, -3.6740e-02, -9.0440e-03]],\n",
       "              \n",
       "                       ...,\n",
       "              \n",
       "                       [[-1.8103e-02, -2.5094e-02,  3.0498e-02],\n",
       "                        [ 2.7903e-02,  4.7300e-04,  2.2405e-02],\n",
       "                        [-2.6271e-02, -2.9426e-02, -1.1048e-02]],\n",
       "              \n",
       "                       [[ 1.4922e-02,  4.0363e-02, -1.1502e-02],\n",
       "                        [ 3.6142e-02, -3.9633e-02,  2.5873e-03],\n",
       "                        [ 3.6207e-02,  2.0476e-03,  2.1808e-02]],\n",
       "              \n",
       "                       [[ 4.0563e-02,  4.1270e-02, -1.6726e-02],\n",
       "                        [ 5.2780e-03, -3.3864e-02,  2.2999e-02],\n",
       "                        [-1.0359e-02, -3.2083e-02,  2.6485e-02]]],\n",
       "              \n",
       "              \n",
       "                      [[[-8.1822e-05, -1.0279e-02,  4.0615e-02],\n",
       "                        [-2.8767e-02, -2.0963e-03, -2.4596e-02],\n",
       "                        [-1.4965e-02,  1.7836e-02,  1.4207e-02]],\n",
       "              \n",
       "                       [[-1.9758e-03,  3.9463e-02,  1.5389e-02],\n",
       "                        [-7.8478e-04,  1.8823e-02,  3.1764e-03],\n",
       "                        [-6.3115e-03, -3.7202e-02, -4.0705e-02]],\n",
       "              \n",
       "                       [[-2.2483e-02, -2.2157e-02,  1.9258e-02],\n",
       "                        [-2.1018e-02, -8.4229e-03, -3.3295e-02],\n",
       "                        [-2.9104e-02,  2.1384e-02, -6.0182e-03]],\n",
       "              \n",
       "                       ...,\n",
       "              \n",
       "                       [[-4.0224e-02,  3.2869e-02,  2.5692e-02],\n",
       "                        [-2.3724e-02, -3.2912e-02, -1.5425e-02],\n",
       "                        [-2.6718e-02,  3.7049e-02, -3.4890e-02]],\n",
       "              \n",
       "                       [[ 2.4102e-02,  6.6242e-03, -3.0949e-03],\n",
       "                        [-7.3521e-03,  8.6873e-03, -3.9584e-02],\n",
       "                        [-1.3819e-02, -7.4826e-03,  3.0524e-02]],\n",
       "              \n",
       "                       [[ 2.9374e-02, -3.3689e-02,  1.6543e-02],\n",
       "                        [-1.9728e-02, -2.2857e-02,  2.7891e-02],\n",
       "                        [ 2.6887e-02, -3.0726e-02,  3.4567e-02]]],\n",
       "              \n",
       "              \n",
       "                      [[[ 1.6582e-02, -3.0535e-02, -1.3413e-02],\n",
       "                        [ 3.5135e-03, -4.1621e-02, -1.7668e-02],\n",
       "                        [-3.2877e-04, -2.0942e-02,  1.0872e-02]],\n",
       "              \n",
       "                       [[ 3.9716e-02, -1.3830e-02,  3.1586e-02],\n",
       "                        [ 3.7944e-02, -3.0051e-02,  1.5819e-02],\n",
       "                        [ 1.7107e-02,  2.2688e-02,  1.0612e-02]],\n",
       "              \n",
       "                       [[ 7.2405e-03,  1.4096e-03,  3.3200e-02],\n",
       "                        [ 3.5867e-02,  5.4511e-03,  1.8506e-02],\n",
       "                        [ 2.2153e-05, -1.0606e-02, -4.1512e-02]],\n",
       "              \n",
       "                       ...,\n",
       "              \n",
       "                       [[-1.5429e-02, -1.1699e-02,  8.7095e-03],\n",
       "                        [ 1.5588e-02,  1.0116e-02, -3.6282e-02],\n",
       "                        [ 3.9972e-02, -6.5425e-03,  1.2105e-03]],\n",
       "              \n",
       "                       [[-1.2325e-03,  4.8485e-03,  9.8713e-03],\n",
       "                        [ 1.0377e-02, -7.4177e-03, -3.8501e-02],\n",
       "                        [ 2.8388e-02,  2.9139e-02,  2.8442e-02]],\n",
       "              \n",
       "                       [[-1.2442e-02,  1.1418e-03,  2.2785e-02],\n",
       "                        [ 3.7177e-02, -6.9256e-03,  2.2093e-02],\n",
       "                        [ 2.6676e-02, -6.3043e-03,  1.1570e-02]]],\n",
       "              \n",
       "              \n",
       "                      ...,\n",
       "              \n",
       "              \n",
       "                      [[[ 1.8812e-02,  4.0114e-02,  1.5814e-02],\n",
       "                        [-3.0045e-02, -3.8309e-02,  1.7351e-03],\n",
       "                        [-3.8679e-02, -2.1344e-02, -4.0922e-02]],\n",
       "              \n",
       "                       [[ 2.6271e-02,  3.8746e-02,  3.9324e-02],\n",
       "                        [-3.4399e-02, -2.8773e-02, -3.6070e-02],\n",
       "                        [ 2.1578e-02, -3.6404e-02,  2.7079e-02]],\n",
       "              \n",
       "                       [[-3.0730e-02,  1.5001e-02, -2.6270e-02],\n",
       "                        [-2.1184e-02,  7.5104e-03,  2.9882e-03],\n",
       "                        [ 3.8464e-02, -4.3308e-03, -4.4553e-03]],\n",
       "              \n",
       "                       ...,\n",
       "              \n",
       "                       [[-1.0412e-02,  3.2506e-04, -3.5784e-04],\n",
       "                        [ 3.8607e-02, -9.5099e-05, -3.6400e-02],\n",
       "                        [ 8.7995e-03, -3.8761e-02, -2.6274e-02]],\n",
       "              \n",
       "                       [[-2.3797e-04,  1.0472e-02,  2.2547e-02],\n",
       "                        [ 3.0464e-02, -2.8205e-02, -3.1154e-02],\n",
       "                        [-2.8705e-02, -3.5155e-02, -2.0799e-02]],\n",
       "              \n",
       "                       [[ 2.0347e-02,  8.3963e-03, -9.1840e-03],\n",
       "                        [-3.0716e-02,  3.4869e-02,  2.0462e-02],\n",
       "                        [-2.9291e-02, -3.8725e-02,  3.6097e-02]]],\n",
       "              \n",
       "              \n",
       "                      [[[ 3.2176e-02,  6.9862e-04,  3.1173e-02],\n",
       "                        [-1.6254e-02,  9.9380e-03,  3.1266e-02],\n",
       "                        [ 1.8702e-02, -4.3708e-03,  2.4939e-02]],\n",
       "              \n",
       "                       [[ 1.2939e-02, -3.2330e-02,  7.6407e-03],\n",
       "                        [ 2.1844e-02, -4.5565e-03,  1.3290e-03],\n",
       "                        [-3.3729e-02, -2.7077e-03,  1.3173e-02]],\n",
       "              \n",
       "                       [[-1.7363e-02,  7.5263e-03, -3.9267e-02],\n",
       "                        [-2.4051e-02,  1.1300e-03,  1.4903e-02],\n",
       "                        [ 1.1658e-02, -2.8341e-02, -1.6960e-02]],\n",
       "              \n",
       "                       ...,\n",
       "              \n",
       "                       [[ 3.3755e-02,  1.5810e-02,  2.0095e-02],\n",
       "                        [ 1.5301e-02,  2.5452e-02,  1.5152e-02],\n",
       "                        [-2.1844e-02, -1.0241e-02, -2.4060e-02]],\n",
       "              \n",
       "                       [[ 1.0219e-03,  1.4436e-02, -3.4319e-02],\n",
       "                        [ 3.7161e-02,  1.3391e-02, -3.3624e-02],\n",
       "                        [-1.7592e-02,  1.1442e-02, -1.7463e-02]],\n",
       "              \n",
       "                       [[-2.5999e-03,  1.8629e-02, -2.8454e-02],\n",
       "                        [ 3.7902e-03,  3.9019e-02,  1.7860e-02],\n",
       "                        [-1.2809e-02,  3.1236e-02, -1.5560e-02]]],\n",
       "              \n",
       "              \n",
       "                      [[[-3.6021e-02, -3.9979e-02, -2.1011e-02],\n",
       "                        [ 3.6725e-02, -1.7328e-02, -4.0903e-02],\n",
       "                        [-9.8103e-03,  3.7195e-02,  4.7391e-03]],\n",
       "              \n",
       "                       [[-9.8618e-03,  2.7650e-02, -2.3053e-02],\n",
       "                        [-2.7706e-02,  3.7233e-02,  2.6299e-02],\n",
       "                        [ 3.7443e-02, -5.0265e-03, -6.4160e-03]],\n",
       "              \n",
       "                       [[ 2.7300e-03, -3.0900e-02,  3.6899e-02],\n",
       "                        [ 1.3088e-02,  4.0681e-02,  4.0560e-02],\n",
       "                        [ 3.8683e-02,  1.4937e-02, -3.0374e-03]],\n",
       "              \n",
       "                       ...,\n",
       "              \n",
       "                       [[ 1.0578e-02, -1.5477e-02, -1.8110e-02],\n",
       "                        [ 2.2629e-02, -1.7647e-02, -3.6245e-02],\n",
       "                        [ 2.6330e-02, -2.1013e-02, -2.4607e-02]],\n",
       "              \n",
       "                       [[ 6.3182e-03, -7.7657e-03, -2.2914e-02],\n",
       "                        [-2.2714e-02, -1.6982e-02, -1.6545e-02],\n",
       "                        [ 1.4326e-02, -3.4815e-02, -3.0689e-02]],\n",
       "              \n",
       "                       [[-3.0622e-03,  5.1370e-03, -2.8103e-02],\n",
       "                        [ 3.5835e-02,  3.8342e-02,  2.0835e-02],\n",
       "                        [ 2.2112e-03, -9.6501e-03,  8.7862e-03]]]])),\n",
       "             ('conv_block_2.2.bias',\n",
       "              tensor([ 0.0322, -0.0182, -0.0228, -0.0033, -0.0227, -0.0266, -0.0181, -0.0150,\n",
       "                      -0.0401, -0.0015, -0.0128, -0.0283, -0.0290, -0.0265,  0.0084,  0.0017,\n",
       "                      -0.0066, -0.0231,  0.0082, -0.0346,  0.0396,  0.0183,  0.0097, -0.0211,\n",
       "                      -0.0223,  0.0157,  0.0032, -0.0169, -0.0395,  0.0201, -0.0139,  0.0247,\n",
       "                      -0.0380, -0.0004,  0.0040, -0.0295, -0.0089,  0.0015, -0.0314, -0.0075,\n",
       "                      -0.0394,  0.0107, -0.0216, -0.0059, -0.0263, -0.0145, -0.0103, -0.0033,\n",
       "                      -0.0280, -0.0364,  0.0078,  0.0077, -0.0397,  0.0149,  0.0011,  0.0265,\n",
       "                       0.0372,  0.0009,  0.0210,  0.0098,  0.0245, -0.0200,  0.0027, -0.0354])),\n",
       "             ('classifier.1.weight',\n",
       "              tensor([[ 5.7847e-03,  9.9525e-03,  1.6296e-02,  ..., -1.2392e-02,\n",
       "                       -1.2653e-02,  6.5333e-03],\n",
       "                      [ 7.0026e-03, -6.4349e-03, -7.9245e-03,  ..., -1.1731e-02,\n",
       "                       -5.0630e-03, -6.3898e-03],\n",
       "                      [-1.2785e-02, -1.5970e-02, -3.5421e-03,  ..., -4.6852e-03,\n",
       "                        1.3445e-02, -1.3492e-03],\n",
       "                      ...,\n",
       "                      [-3.4761e-03,  8.4854e-04,  1.6511e-03,  ..., -2.3702e-03,\n",
       "                        2.5682e-03,  7.9956e-03],\n",
       "                      [-4.8109e-03, -2.4473e-03,  3.4554e-03,  ...,  3.0139e-05,\n",
       "                       -3.1828e-03, -1.0805e-02],\n",
       "                      [-8.3341e-03,  4.6190e-03,  4.4081e-03,  ..., -1.7294e-02,\n",
       "                       -1.1829e-02, -4.7307e-03]])),\n",
       "             ('classifier.1.bias',\n",
       "              tensor([ 0.0081,  0.0077,  0.0033,  0.0090, -0.0053,  0.0073, -0.0082,  0.0176,\n",
       "                      -0.0111, -0.0106]))])"
      ]
     },
     "execution_count": 113,
     "metadata": {},
     "output_type": "execute_result"
    }
   ],
   "source": [
    "model_2.state_dict()"
   ]
  },
  {
   "cell_type": "markdown",
   "id": "1c6400cb",
   "metadata": {},
   "source": [
    "### 7.4 Training and testing `model_2` using our training and testing functions"
   ]
  },
  {
   "cell_type": "code",
   "execution_count": 119,
   "id": "4637143b",
   "metadata": {},
   "outputs": [],
   "source": [
    "device=\"mps\""
   ]
  },
  {
   "cell_type": "code",
   "execution_count": 120,
   "id": "f778a23b",
   "metadata": {},
   "outputs": [
    {
     "data": {
      "application/vnd.jupyter.widget-view+json": {
       "model_id": "78c3827af77e4bdab88c67d69fc55e8e",
       "version_major": 2,
       "version_minor": 0
      },
      "text/plain": [
       "  0%|          | 0/3 [00:00<?, ?it/s]"
      ]
     },
     "metadata": {},
     "output_type": "display_data"
    },
    {
     "name": "stdout",
     "output_type": "stream",
     "text": [
      "\n",
      "Epoch: 0\n",
      "\n",
      "Train loss: 0.2248 | Train acc: 91.9583%\n",
      "Test loss: 0.2415 | Test acc: 91.3538%\n",
      "\n",
      "Epoch: 1\n",
      "\n",
      "Train loss: 0.2034 | Train acc: 92.7350%\n",
      "Test loss: 0.2415 | Test acc: 91.2440%\n",
      "\n",
      "Epoch: 2\n",
      "\n",
      "Train loss: 0.1887 | Train acc: 93.1583%\n",
      "Test loss: 0.2474 | Test acc: 91.4736%\n",
      "Train time on mps: 76.306 seconds\n"
     ]
    }
   ],
   "source": [
    "torch.manual_seed(42)\n",
    "\n",
    "# Measure time\n",
    "start_time = timer()\n",
    "\n",
    "# Train and test model\n",
    "epoch = 3\n",
    "\n",
    "for epoch in tqdm(range(epoch)):\n",
    "    print(f\"\\nEpoch: {epoch}\\n\")\n",
    "    \n",
    "    train_step(\n",
    "        model=model_2,\n",
    "        data_loader=train_data_loader,\n",
    "        loss_fn=loss_fn,\n",
    "        optimizer=optimizer,\n",
    "        accuracy_fn=accuracy_fn,\n",
    "        device=device\n",
    "    )\n",
    "    \n",
    "    test_step(\n",
    "        model=model_2,\n",
    "        data_loader=test_data_loader,\n",
    "        loss_fn=loss_fn,\n",
    "        accuracy_fn=accuracy_fn,\n",
    "        device=device,\n",
    "    )\n",
    "\n",
    "# Measure time\n",
    "end_time = timer()\n",
    "\n",
    "total_train_time_model_2 = print_train_time(\n",
    "    start=start_time,\n",
    "    end=end_time,\n",
    "    device=device\n",
    ")"
   ]
  },
  {
   "cell_type": "code",
   "execution_count": 121,
   "id": "a76756e9",
   "metadata": {},
   "outputs": [
    {
     "data": {
      "application/vnd.jupyter.widget-view+json": {
       "model_id": "5d8b194d52ac40ad9d69e4f8357fb116",
       "version_major": 2,
       "version_minor": 0
      },
      "text/plain": [
       "  0%|          | 0/1875 [00:00<?, ?it/s]"
      ]
     },
     "metadata": {},
     "output_type": "display_data"
    },
    {
     "data": {
      "text/plain": [
       "{'model_name': 'FashionMNISTModelV2',\n",
       " 'model_loss': tensor(0.1653, device='mps:0'),\n",
       " 'model_acc': 94.015}"
      ]
     },
     "execution_count": 121,
     "metadata": {},
     "output_type": "execute_result"
    }
   ],
   "source": [
    "# Get model_2 results\n",
    "model_2_results = eval_model(\n",
    "    model=model_2,\n",
    "    data_loader=train_data_loader,\n",
    "    loss_fn=loss_fn,\n",
    "    accuracy_fn=accuracy_fn,\n",
    "    device=device,\n",
    ")\n",
    "model_2_results"
   ]
  },
  {
   "cell_type": "markdown",
   "id": "127e95e6",
   "metadata": {},
   "source": [
    "## 8. Compare model results and training time"
   ]
  },
  {
   "cell_type": "code",
   "execution_count": 122,
   "id": "f9eb657a",
   "metadata": {},
   "outputs": [
    {
     "data": {
      "text/html": [
       "<div>\n",
       "<style scoped>\n",
       "    .dataframe tbody tr th:only-of-type {\n",
       "        vertical-align: middle;\n",
       "    }\n",
       "\n",
       "    .dataframe tbody tr th {\n",
       "        vertical-align: top;\n",
       "    }\n",
       "\n",
       "    .dataframe thead th {\n",
       "        text-align: right;\n",
       "    }\n",
       "</style>\n",
       "<table border=\"1\" class=\"dataframe\">\n",
       "  <thead>\n",
       "    <tr style=\"text-align: right;\">\n",
       "      <th></th>\n",
       "      <th>model_name</th>\n",
       "      <th>model_loss</th>\n",
       "      <th>model_acc</th>\n",
       "    </tr>\n",
       "  </thead>\n",
       "  <tbody>\n",
       "    <tr>\n",
       "      <th>0</th>\n",
       "      <td>FashionMNISTModelV0</td>\n",
       "      <td>tensor(0.4782)</td>\n",
       "      <td>83.486422</td>\n",
       "    </tr>\n",
       "    <tr>\n",
       "      <th>1</th>\n",
       "      <td>FashionMNISTModelV1</td>\n",
       "      <td>tensor(0.6557)</td>\n",
       "      <td>79.852236</td>\n",
       "    </tr>\n",
       "    <tr>\n",
       "      <th>2</th>\n",
       "      <td>FashionMNISTModelV2</td>\n",
       "      <td>tensor(0.1653, device='mps:0')</td>\n",
       "      <td>94.015000</td>\n",
       "    </tr>\n",
       "  </tbody>\n",
       "</table>\n",
       "</div>"
      ],
      "text/plain": [
       "            model_name                      model_loss  model_acc\n",
       "0  FashionMNISTModelV0                  tensor(0.4782)  83.486422\n",
       "1  FashionMNISTModelV1                  tensor(0.6557)  79.852236\n",
       "2  FashionMNISTModelV2  tensor(0.1653, device='mps:0')  94.015000"
      ]
     },
     "execution_count": 122,
     "metadata": {},
     "output_type": "execute_result"
    }
   ],
   "source": [
    "import pandas as pd\n",
    "\n",
    "compare_results = pd.DataFrame(\n",
    "    [model_0_results, model_1_results, model_2_results]\n",
    ")\n",
    "compare_results"
   ]
  },
  {
   "cell_type": "code",
   "execution_count": 123,
   "id": "f7d71089",
   "metadata": {},
   "outputs": [
    {
     "data": {
      "text/html": [
       "<div>\n",
       "<style scoped>\n",
       "    .dataframe tbody tr th:only-of-type {\n",
       "        vertical-align: middle;\n",
       "    }\n",
       "\n",
       "    .dataframe tbody tr th {\n",
       "        vertical-align: top;\n",
       "    }\n",
       "\n",
       "    .dataframe thead th {\n",
       "        text-align: right;\n",
       "    }\n",
       "</style>\n",
       "<table border=\"1\" class=\"dataframe\">\n",
       "  <thead>\n",
       "    <tr style=\"text-align: right;\">\n",
       "      <th></th>\n",
       "      <th>model_name</th>\n",
       "      <th>model_loss</th>\n",
       "      <th>model_acc</th>\n",
       "      <th>training_time</th>\n",
       "    </tr>\n",
       "  </thead>\n",
       "  <tbody>\n",
       "    <tr>\n",
       "      <th>0</th>\n",
       "      <td>FashionMNISTModelV0</td>\n",
       "      <td>tensor(0.4782)</td>\n",
       "      <td>83.486422</td>\n",
       "      <td>7.397986</td>\n",
       "    </tr>\n",
       "    <tr>\n",
       "      <th>1</th>\n",
       "      <td>FashionMNISTModelV1</td>\n",
       "      <td>tensor(0.6557)</td>\n",
       "      <td>79.852236</td>\n",
       "      <td>10.910964</td>\n",
       "    </tr>\n",
       "    <tr>\n",
       "      <th>2</th>\n",
       "      <td>FashionMNISTModelV2</td>\n",
       "      <td>tensor(0.1653, device='mps:0')</td>\n",
       "      <td>94.015000</td>\n",
       "      <td>76.306189</td>\n",
       "    </tr>\n",
       "  </tbody>\n",
       "</table>\n",
       "</div>"
      ],
      "text/plain": [
       "            model_name                      model_loss  model_acc  \\\n",
       "0  FashionMNISTModelV0                  tensor(0.4782)  83.486422   \n",
       "1  FashionMNISTModelV1                  tensor(0.6557)  79.852236   \n",
       "2  FashionMNISTModelV2  tensor(0.1653, device='mps:0')  94.015000   \n",
       "\n",
       "   training_time  \n",
       "0       7.397986  \n",
       "1      10.910964  \n",
       "2      76.306189  "
      ]
     },
     "execution_count": 123,
     "metadata": {},
     "output_type": "execute_result"
    }
   ],
   "source": [
    "# Add training time to results comparison\n",
    "compare_results[\"training_time\"] = [\n",
    "    total_train_time_model_0, total_train_time_model_1, total_train_time_model_2\n",
    "]\n",
    "compare_results"
   ]
  },
  {
   "cell_type": "code",
   "execution_count": 124,
   "id": "02b7e931",
   "metadata": {},
   "outputs": [
    {
     "data": {
      "text/plain": [
       "Text(0, 0.5, 'model')"
      ]
     },
     "execution_count": 124,
     "metadata": {},
     "output_type": "execute_result"
    },
    {
     "data": {
      "image/png": "[encoded data removed]",
      "text/plain": [
       "<Figure size 640x480 with 1 Axes>"
      ]
     },
     "metadata": {},
     "output_type": "display_data"
    }
   ],
   "source": [
    "# Visualize our model results\n",
    "compare_results.set_index(\"model_name\")[\"model_acc\"].plot(kind=\"barh\")\n",
    "plt.xlabel(\"accuracy (%)\")\n",
    "plt.ylabel(\"model\")"
   ]
  },
  {
   "cell_type": "markdown",
   "id": "17f02d90",
   "metadata": {},
   "source": [
    "## 9. Make and evaluate random predictions with best model"
   ]
  },
  {
   "cell_type": "code",
   "execution_count": 125,
   "id": "ce700ad6",
   "metadata": {},
   "outputs": [],
   "source": [
    "def make_predictions(\n",
    "    model: torch.nn.Module,\n",
    "    data: list,\n",
    "    device: torch.device = \"cpu\"\n",
    "):\n",
    "    pred_probs = []\n",
    "    model.eval()\n",
    "    model.to(device)\n",
    "    \n",
    "    with torch.inference_mode():\n",
    "        for sample in data:\n",
    "            # Prepare the sample (add a batch dimension and pass to target device)\n",
    "            sample = torch.unsqueeze(sample, dim=0).to(device)\n",
    "            \n",
    "            # Forward pass (model outputs raw logits)\n",
    "            pred_logit = model(sample)\n",
    "            \n",
    "            # Get prediction probability (logit -> pred probabilities)\n",
    "            pred_prob = torch.softmax(pred_logit.squeeze(), dim=0)\n",
    "            \n",
    "            # Get pred_prob off the GPU for futher calculations\n",
    "            pred_probs.append(pred_prob.cpu())\n",
    "        \n",
    "    # Stack the preb_probs to trun list into a tensor\n",
    "    return torch.stack(pred_probs)\n",
    "            "
   ]
  },
  {
   "cell_type": "code",
   "execution_count": 127,
   "id": "796c869a",
   "metadata": {},
   "outputs": [
    {
     "data": {
      "text/plain": [
       "torch.Size([1, 28, 28])"
      ]
     },
     "execution_count": 127,
     "metadata": {},
     "output_type": "execute_result"
    }
   ],
   "source": [
    "import random\n",
    "random.seed(42)\n",
    "test_samples = []\n",
    "test_labels = []\n",
    "\n",
    "for sample, label in random.sample(list(test_data), k=9):\n",
    "    test_samples.append(sample)\n",
    "    test_labels.append(label)\n",
    "\n",
    "# View the first sample shape\n",
    "test_samples[0].shape"
   ]
  },
  {
   "cell_type": "code",
   "execution_count": 132,
   "id": "57b65939",
   "metadata": {},
   "outputs": [
    {
     "data": {
      "image/png": "[encoded data removed]",
      "text/plain": [
       "<Figure size 640x480 with 1 Axes>"
      ]
     },
     "metadata": {},
     "output_type": "display_data"
    }
   ],
   "source": [
    "plt.imshow(test_samples[0].squeeze(), cmap=\"grey\")\n",
    "plt.title(class_names[test_labels[0]])\n",
    "plt.axis(False)\n",
    "plt.show()"
   ]
  },
  {
   "cell_type": "code",
   "execution_count": 134,
   "id": "c0171482",
   "metadata": {},
   "outputs": [
    {
     "data": {
      "text/plain": [
       "tensor([[7.7249e-10, 4.0685e-12, 2.2187e-10, 1.2076e-13, 2.1919e-12, 1.0000e+00,\n",
       "         4.3108e-09, 1.6728e-09, 1.7653e-07, 6.6327e-07],\n",
       "        [6.7714e-03, 9.6826e-01, 8.4716e-04, 1.7651e-02, 4.3070e-03, 4.9743e-05,\n",
       "         1.9183e-03, 2.8834e-05, 4.9077e-05, 1.1592e-04],\n",
       "        [1.6841e-06, 1.0527e-09, 1.5725e-07, 2.2680e-07, 5.2217e-08, 3.2959e-06,\n",
       "         3.9476e-07, 9.9279e-01, 4.3897e-05, 7.1576e-03],\n",
       "        [6.3292e-05, 1.1739e-05, 9.2459e-03, 1.6125e-06, 9.9055e-01, 6.9702e-08,\n",
       "         1.2270e-04, 5.9019e-08, 1.5785e-06, 3.9474e-06],\n",
       "        [5.0484e-02, 4.3407e-06, 5.3791e-05, 9.2507e-01, 2.0969e-02, 2.5694e-05,\n",
       "         2.9751e-03, 4.0738e-05, 5.4731e-05, 3.2269e-04]])"
      ]
     },
     "execution_count": 134,
     "metadata": {},
     "output_type": "execute_result"
    }
   ],
   "source": [
    "# Make predictions\n",
    "pred_probs = make_predictions(\n",
    "    model=model_2,\n",
    "    data=test_samples\n",
    ")\n",
    "\n",
    "# View first two prediction probabilites\n",
    "pred_probs[:5]"
   ]
  },
  {
   "cell_type": "code",
   "execution_count": 135,
   "id": "3d8c1ded",
   "metadata": {},
   "outputs": [
    {
     "data": {
      "text/plain": [
       "tensor([5, 1, 7, 4, 3, 0, 4, 7, 1])"
      ]
     },
     "execution_count": 135,
     "metadata": {},
     "output_type": "execute_result"
    }
   ],
   "source": [
    "# Conver prediction probabilites to labels\n",
    "pred_classes = pred_probs.argmax(dim=1)\n",
    "pred_classes"
   ]
  },
  {
   "cell_type": "code",
   "execution_count": null,
   "id": "3f752296",
   "metadata": {},
   "outputs": [],
   "source": []
  }
 ],
 "metadata": {
  "kernelspec": {
   "display_name": ".venv",
   "language": "python",
   "name": "python3"
  },
  "language_info": {
   "codemirror_mode": {
    "name": "ipython",
    "version": 3
   },
   "file_extension": ".py",
   "mimetype": "text/x-python",
   "name": "python",
   "nbconvert_exporter": "python",
   "pygments_lexer": "ipython3",
   "version": "3.13.5"
  }
 },
 "nbformat": 4,
 "nbformat_minor": 5
}
