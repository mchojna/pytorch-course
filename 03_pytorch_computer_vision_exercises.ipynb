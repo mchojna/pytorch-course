{
 "cells": [
  {
   "cell_type": "markdown",
   "id": "89ac748a",
   "metadata": {},
   "source": [
    "## 03. PyTorch Computer Vision Exercises"
   ]
  },
  {
   "cell_type": "markdown",
   "id": "4393883c",
   "metadata": {},
   "source": [
    "The following is a collection of exercises based on computer vision fundamentals in PyTorch.\n",
    "\n",
    "They're a bunch of fun.\n",
    "\n",
    "You're going to get to write plenty of code!"
   ]
  },
  {
   "cell_type": "markdown",
   "id": "cbb54913",
   "metadata": {},
   "source": [
    "## Resources"
   ]
  },
  {
   "cell_type": "markdown",
   "id": "83969d49",
   "metadata": {},
   "source": [
    "1. These exercises are based on notebook 03 of the Learn PyTorch for Deep Learning course: https://www.learnpytorch.io/03_pytorch_computer_vision/\n",
    "\n",
    "2. See a live walkthrough of the solutions (errors and all) on YouTube: https://youtu.be/_PibmqpEyhA\n",
    "\n",
    "    - **Note:** Going through these exercises took me just over 3 hours of solid coding, so you should expect around the same.\n",
    "\n",
    "3. See other solutions on the course GitHub: https://github.com/mrdbourke/pytorch-deep-learning/tree/main/extras/solutions"
   ]
  },
  {
   "cell_type": "code",
   "execution_count": 1,
   "id": "ad41bdec",
   "metadata": {},
   "outputs": [
    {
     "name": "stdout",
     "output_type": "stream",
     "text": [
      "2.7.1\n"
     ]
    }
   ],
   "source": [
    "# Import torch\n",
    "import torch\n",
    "\n",
    "# Exercises require PyTorch > 1.10.0\n",
    "print(torch.__version__)\n",
    "\n",
    "# Setup device agnostic code\n",
    "device = \"cuda\" if torch.cuda.is_available() else (\n",
    "    \"mps\" if torch.mps.is_available() else \"cpu\"\n",
    ")"
   ]
  },
  {
   "cell_type": "markdown",
   "id": "dc9da156",
   "metadata": {},
   "source": [
    "## 5. Load the torchvision.datasets.MNIST() train and test datasets."
   ]
  },
  {
   "cell_type": "code",
   "execution_count": 2,
   "id": "ee8ea88d",
   "metadata": {},
   "outputs": [],
   "source": [
    "# Import dependencies\n",
    "from torchvision import datasets\n",
    "from torchvision.transforms import ToTensor\n",
    "\n",
    "# Create training dataset\n",
    "train_data = datasets.FashionMNIST(\n",
    "    root=\"data\",\n",
    "    train=True,\n",
    "    download=True,\n",
    "    transform=ToTensor(),\n",
    "    target_transform=None,\n",
    ")\n",
    "\n",
    "# Create testing dataset\n",
    "test_data = datasets.FashionMNIST(\n",
    "    root=\"data\",\n",
    "    train=False,\n",
    "    download=True,\n",
    "    transform=ToTensor(),\n",
    "    target_transform=None,\n",
    ")"
   ]
  },
  {
   "cell_type": "code",
   "execution_count": 3,
   "id": "990243a1",
   "metadata": {},
   "outputs": [
    {
     "data": {
      "text/plain": [
       "(60000, 10000)"
      ]
     },
     "execution_count": 3,
     "metadata": {},
     "output_type": "execute_result"
    }
   ],
   "source": [
    "# Check length\n",
    "len(train_data), len(test_data)"
   ]
  },
  {
   "cell_type": "code",
   "execution_count": 4,
   "id": "6c16f6c2",
   "metadata": {},
   "outputs": [
    {
     "data": {
      "text/plain": [
       "torch.Size([28, 28])"
      ]
     },
     "execution_count": 4,
     "metadata": {},
     "output_type": "execute_result"
    }
   ],
   "source": [
    "# Check sample shape\n",
    "train_data.data[0].shape"
   ]
  },
  {
   "cell_type": "code",
   "execution_count": 5,
   "id": "68d45331",
   "metadata": {},
   "outputs": [
    {
     "data": {
      "text/plain": [
       "torch.uint8"
      ]
     },
     "execution_count": 5,
     "metadata": {},
     "output_type": "execute_result"
    }
   ],
   "source": [
    "# Check data type\n",
    "train_data.data[0].dtype"
   ]
  },
  {
   "cell_type": "code",
   "execution_count": 6,
   "id": "071af31a",
   "metadata": {},
   "outputs": [
    {
     "data": {
      "text/plain": [
       "tensor([[  0,   0,   0,   0,   0,   0,   0,   0,   0,   0,   0,   0,   0,   0,\n",
       "           0,   0,   0,   0,   0,   0,   0,   0,   0,   0,   0,   0,   0,   0],\n",
       "        [  0,   0,   0,   0,   0,   0,   0,   0,   0,   0,   0,   0,   0,   0,\n",
       "           0,   0,   0,   0,   0,   0,   0,   0,   0,   0,   0,   0,   0,   0],\n",
       "        [  0,   0,   0,   0,   0,   0,   0,   0,   0,   0,   0,   0,   0,   0,\n",
       "           0,   0,   0,   0,   0,   0,   0,   0,   0,   0,   0,   0,   0,   0],\n",
       "        [  0,   0,   0,   0,   0,   0,   0,   0,   0,   0,   0,   0,   1,   0,\n",
       "           0,  13,  73,   0,   0,   1,   4,   0,   0,   0,   0,   1,   1,   0],\n",
       "        [  0,   0,   0,   0,   0,   0,   0,   0,   0,   0,   0,   0,   3,   0,\n",
       "          36, 136, 127,  62,  54,   0,   0,   0,   1,   3,   4,   0,   0,   3],\n",
       "        [  0,   0,   0,   0,   0,   0,   0,   0,   0,   0,   0,   0,   6,   0,\n",
       "         102, 204, 176, 134, 144, 123,  23,   0,   0,   0,   0,  12,  10,   0],\n",
       "        [  0,   0,   0,   0,   0,   0,   0,   0,   0,   0,   0,   0,   0,   0,\n",
       "         155, 236, 207, 178, 107, 156, 161, 109,  64,  23,  77, 130,  72,  15],\n",
       "        [  0,   0,   0,   0,   0,   0,   0,   0,   0,   0,   0,   1,   0,  69,\n",
       "         207, 223, 218, 216, 216, 163, 127, 121, 122, 146, 141,  88, 172,  66],\n",
       "        [  0,   0,   0,   0,   0,   0,   0,   0,   0,   1,   1,   1,   0, 200,\n",
       "         232, 232, 233, 229, 223, 223, 215, 213, 164, 127, 123, 196, 229,   0],\n",
       "        [  0,   0,   0,   0,   0,   0,   0,   0,   0,   0,   0,   0,   0, 183,\n",
       "         225, 216, 223, 228, 235, 227, 224, 222, 224, 221, 223, 245, 173,   0],\n",
       "        [  0,   0,   0,   0,   0,   0,   0,   0,   0,   0,   0,   0,   0, 193,\n",
       "         228, 218, 213, 198, 180, 212, 210, 211, 213, 223, 220, 243, 202,   0],\n",
       "        [  0,   0,   0,   0,   0,   0,   0,   0,   0,   1,   3,   0,  12, 219,\n",
       "         220, 212, 218, 192, 169, 227, 208, 218, 224, 212, 226, 197, 209,  52],\n",
       "        [  0,   0,   0,   0,   0,   0,   0,   0,   0,   0,   6,   0,  99, 244,\n",
       "         222, 220, 218, 203, 198, 221, 215, 213, 222, 220, 245, 119, 167,  56],\n",
       "        [  0,   0,   0,   0,   0,   0,   0,   0,   0,   4,   0,   0,  55, 236,\n",
       "         228, 230, 228, 240, 232, 213, 218, 223, 234, 217, 217, 209,  92,   0],\n",
       "        [  0,   0,   1,   4,   6,   7,   2,   0,   0,   0,   0,   0, 237, 226,\n",
       "         217, 223, 222, 219, 222, 221, 216, 223, 229, 215, 218, 255,  77,   0],\n",
       "        [  0,   3,   0,   0,   0,   0,   0,   0,   0,  62, 145, 204, 228, 207,\n",
       "         213, 221, 218, 208, 211, 218, 224, 223, 219, 215, 224, 244, 159,   0],\n",
       "        [  0,   0,   0,   0,  18,  44,  82, 107, 189, 228, 220, 222, 217, 226,\n",
       "         200, 205, 211, 230, 224, 234, 176, 188, 250, 248, 233, 238, 215,   0],\n",
       "        [  0,  57, 187, 208, 224, 221, 224, 208, 204, 214, 208, 209, 200, 159,\n",
       "         245, 193, 206, 223, 255, 255, 221, 234, 221, 211, 220, 232, 246,   0],\n",
       "        [  3, 202, 228, 224, 221, 211, 211, 214, 205, 205, 205, 220, 240,  80,\n",
       "         150, 255, 229, 221, 188, 154, 191, 210, 204, 209, 222, 228, 225,   0],\n",
       "        [ 98, 233, 198, 210, 222, 229, 229, 234, 249, 220, 194, 215, 217, 241,\n",
       "          65,  73, 106, 117, 168, 219, 221, 215, 217, 223, 223, 224, 229,  29],\n",
       "        [ 75, 204, 212, 204, 193, 205, 211, 225, 216, 185, 197, 206, 198, 213,\n",
       "         240, 195, 227, 245, 239, 223, 218, 212, 209, 222, 220, 221, 230,  67],\n",
       "        [ 48, 203, 183, 194, 213, 197, 185, 190, 194, 192, 202, 214, 219, 221,\n",
       "         220, 236, 225, 216, 199, 206, 186, 181, 177, 172, 181, 205, 206, 115],\n",
       "        [  0, 122, 219, 193, 179, 171, 183, 196, 204, 210, 213, 207, 211, 210,\n",
       "         200, 196, 194, 191, 195, 191, 198, 192, 176, 156, 167, 177, 210,  92],\n",
       "        [  0,   0,  74, 189, 212, 191, 175, 172, 175, 181, 185, 188, 189, 188,\n",
       "         193, 198, 204, 209, 210, 210, 211, 188, 188, 194, 192, 216, 170,   0],\n",
       "        [  2,   0,   0,   0,  66, 200, 222, 237, 239, 242, 246, 243, 244, 221,\n",
       "         220, 193, 191, 179, 182, 182, 181, 176, 166, 168,  99,  58,   0,   0],\n",
       "        [  0,   0,   0,   0,   0,   0,   0,  40,  61,  44,  72,  41,  35,   0,\n",
       "           0,   0,   0,   0,   0,   0,   0,   0,   0,   0,   0,   0,   0,   0],\n",
       "        [  0,   0,   0,   0,   0,   0,   0,   0,   0,   0,   0,   0,   0,   0,\n",
       "           0,   0,   0,   0,   0,   0,   0,   0,   0,   0,   0,   0,   0,   0],\n",
       "        [  0,   0,   0,   0,   0,   0,   0,   0,   0,   0,   0,   0,   0,   0,\n",
       "           0,   0,   0,   0,   0,   0,   0,   0,   0,   0,   0,   0,   0,   0]],\n",
       "       dtype=torch.uint8)"
      ]
     },
     "execution_count": 6,
     "metadata": {},
     "output_type": "execute_result"
    }
   ],
   "source": [
    "# Show sample data\n",
    "train_data.data[0]"
   ]
  },
  {
   "cell_type": "code",
   "execution_count": 7,
   "id": "4e88a5ce",
   "metadata": {},
   "outputs": [
    {
     "data": {
      "text/plain": [
       "tensor(9)"
      ]
     },
     "execution_count": 7,
     "metadata": {},
     "output_type": "execute_result"
    }
   ],
   "source": [
    "# Show sample label\n",
    "train_data.targets[0]"
   ]
  },
  {
   "cell_type": "markdown",
   "id": "7d589f92",
   "metadata": {},
   "source": [
    "## 6. Visualize at least 5 different samples of the MNIST training dataset."
   ]
  },
  {
   "cell_type": "code",
   "execution_count": 8,
   "id": "07412a11",
   "metadata": {},
   "outputs": [
    {
     "data": {
      "text/plain": [
       "['T-shirt/top',\n",
       " 'Trouser',\n",
       " 'Pullover',\n",
       " 'Dress',\n",
       " 'Coat',\n",
       " 'Sandal',\n",
       " 'Shirt',\n",
       " 'Sneaker',\n",
       " 'Bag',\n",
       " 'Ankle boot']"
      ]
     },
     "execution_count": 8,
     "metadata": {},
     "output_type": "execute_result"
    }
   ],
   "source": [
    "# Create labels list\n",
    "labels = list(train_data.class_to_idx.keys())\n",
    "labels"
   ]
  },
  {
   "cell_type": "code",
   "execution_count": 9,
   "id": "85455bfe",
   "metadata": {},
   "outputs": [
    {
     "data": {
      "image/png": "[encoded data removed]",
      "text/plain": [
       "<Figure size 900x900 with 5 Axes>"
      ]
     },
     "metadata": {},
     "output_type": "display_data"
    }
   ],
   "source": [
    "# Visualize 5 random data sample\n",
    "import random\n",
    "import matplotlib.pyplot as plt\n",
    "\n",
    "# Create random seed for reproducibility\n",
    "random.seed(42)\n",
    "\n",
    "fig = plt.figure(figsize=(9, 9))\n",
    "rows, cols = 1, 5\n",
    "\n",
    "for i in range(1, 6):\n",
    "    idx = random.choice(range(len(train_data)))\n",
    "    \n",
    "    fig.add_subplot(rows, cols, i)\n",
    "    plt.imshow(train_data.data[idx], cmap=\"gray\")\n",
    "    plt.title(labels[train_data.targets[idx]])\n",
    "    plt.axis(False)"
   ]
  },
  {
   "cell_type": "markdown",
   "id": "e3c4103d",
   "metadata": {},
   "source": [
    "## 7. Turn the MNIST train and test datasets into dataloaders using `torch.utils.data.DataLoader`, set the `batch_size=32`."
   ]
  },
  {
   "cell_type": "code",
   "execution_count": 10,
   "id": "2742fd09",
   "metadata": {},
   "outputs": [],
   "source": [
    "# Ensure all data is float32\n",
    "train_data.data = train_data.data.to(torch.float32)\n",
    "test_data.data = test_data.data.to(torch.float32)"
   ]
  },
  {
   "cell_type": "code",
   "execution_count": 11,
   "id": "508b98d2",
   "metadata": {},
   "outputs": [],
   "source": [
    "from torch.utils.data import DataLoader\n",
    "\n",
    "# Set global variable\n",
    "BATCH_SIZE=32\n",
    "\n",
    "# Create train dataloader\n",
    "train_dataloader = DataLoader(\n",
    "    dataset=train_data,\n",
    "    batch_size=BATCH_SIZE,\n",
    "    shuffle=True,\n",
    ")\n",
    "\n",
    "# Create test dataloader\n",
    "test_dataloader = DataLoader(\n",
    "    dataset=test_data,\n",
    "    batch_size=BATCH_SIZE,\n",
    "    shuffle=False\n",
    ")"
   ]
  },
  {
   "cell_type": "code",
   "execution_count": 12,
   "id": "ac74eca6",
   "metadata": {},
   "outputs": [
    {
     "data": {
      "text/plain": [
       "(1875, 313)"
      ]
     },
     "execution_count": 12,
     "metadata": {},
     "output_type": "execute_result"
    }
   ],
   "source": [
    "# Check length\n",
    "len(train_dataloader), len(test_dataloader)"
   ]
  },
  {
   "cell_type": "code",
   "execution_count": 13,
   "id": "ec95740b",
   "metadata": {},
   "outputs": [
    {
     "data": {
      "text/plain": [
       "(60000, 10016)"
      ]
     },
     "execution_count": 13,
     "metadata": {},
     "output_type": "execute_result"
    }
   ],
   "source": [
    "# Check length * batch size\n",
    "len(train_dataloader) * BATCH_SIZE, len(test_dataloader) * BATCH_SIZE"
   ]
  },
  {
   "cell_type": "markdown",
   "id": "a9382531",
   "metadata": {},
   "source": [
    "## 8. Recreate `model_2` used in notebook 03 (the same model from the CNN Explainer website, also known as TinyVGG) capable of fitting on the MNIST dataset."
   ]
  },
  {
   "cell_type": "code",
   "execution_count": 14,
   "id": "a949d025",
   "metadata": {},
   "outputs": [],
   "source": [
    "import torch\n",
    "from torch import nn\n",
    "\n",
    "# Create model\n",
    "class FMNISTModelExercise(nn.Module):\n",
    "    \n",
    "    def __init__(self, in_features: int, out_features: int, hidden_units: int):\n",
    "        super().__init__()\n",
    "        \n",
    "        self.conv_block_1 = nn.Sequential(\n",
    "            nn.Conv2d(\n",
    "                in_channels=in_features,\n",
    "                out_channels=hidden_units,\n",
    "                kernel_size=(3, 3),\n",
    "                stride=1,\n",
    "                padding=1,\n",
    "            ),\n",
    "            nn.Conv2d(\n",
    "                in_channels=hidden_units,\n",
    "                out_channels=hidden_units,\n",
    "                kernel_size=(3, 3),\n",
    "                stride=1,\n",
    "                padding=1,\n",
    "            ),\n",
    "            nn.ReLU(),\n",
    "            \n",
    "            nn.MaxPool2d(\n",
    "                kernel_size=(2, 2),\n",
    "                stride=2,\n",
    "            ),\n",
    "        )\n",
    "        \n",
    "        self.conv_block_2 = nn.Sequential(\n",
    "            nn.Conv2d(\n",
    "                in_channels=hidden_units,\n",
    "                out_channels=hidden_units,\n",
    "                kernel_size=(3, 3),\n",
    "                stride=1,\n",
    "                padding=1,\n",
    "            ),\n",
    "            nn.Conv2d(\n",
    "                in_channels=hidden_units,\n",
    "                out_channels=hidden_units,\n",
    "                kernel_size=(3, 3),\n",
    "                stride=1,\n",
    "                padding=1,\n",
    "            ),\n",
    "            nn.ReLU(),\n",
    "            \n",
    "            nn.Conv2d(\n",
    "                in_channels=hidden_units,\n",
    "                out_channels=hidden_units,\n",
    "                kernel_size=(3, 3),\n",
    "                stride=1,\n",
    "                padding=1,\n",
    "            ),\n",
    "            nn.Conv2d(\n",
    "                in_channels=hidden_units,\n",
    "                out_channels=hidden_units,\n",
    "                kernel_size=(3, 3),\n",
    "                stride=1,\n",
    "                padding=1,\n",
    "            ),\n",
    "            nn.ReLU(),\n",
    "            \n",
    "            nn.MaxPool2d(\n",
    "                kernel_size=(2, 2),\n",
    "                stride=2,\n",
    "            ),\n",
    "        )\n",
    "        \n",
    "        self.classifier = nn.Sequential(\n",
    "            nn.Flatten(),\n",
    "            nn.Linear(\n",
    "                in_features=hidden_units * 7 * 7,\n",
    "                out_features=out_features,\n",
    "            ),\n",
    "        )\n",
    "        \n",
    "        \n",
    "    def forward(self, x: torch.Tensor) -> torch.Tensor:\n",
    "        z1 = self.conv_block_1(x)\n",
    "        z2 = self.conv_block_2(z1)\n",
    "        z3 = self.classifier(z2)\n",
    "        \n",
    "        return z3"
   ]
  },
  {
   "cell_type": "code",
   "execution_count": 15,
   "id": "948a6eff",
   "metadata": {},
   "outputs": [
    {
     "data": {
      "text/plain": [
       "FMNISTModelExercise(\n",
       "  (conv_block_1): Sequential(\n",
       "    (0): Conv2d(1, 64, kernel_size=(3, 3), stride=(1, 1), padding=(1, 1))\n",
       "    (1): Conv2d(64, 64, kernel_size=(3, 3), stride=(1, 1), padding=(1, 1))\n",
       "    (2): ReLU()\n",
       "    (3): MaxPool2d(kernel_size=(2, 2), stride=2, padding=0, dilation=1, ceil_mode=False)\n",
       "  )\n",
       "  (conv_block_2): Sequential(\n",
       "    (0): Conv2d(64, 64, kernel_size=(3, 3), stride=(1, 1), padding=(1, 1))\n",
       "    (1): Conv2d(64, 64, kernel_size=(3, 3), stride=(1, 1), padding=(1, 1))\n",
       "    (2): ReLU()\n",
       "    (3): Conv2d(64, 64, kernel_size=(3, 3), stride=(1, 1), padding=(1, 1))\n",
       "    (4): Conv2d(64, 64, kernel_size=(3, 3), stride=(1, 1), padding=(1, 1))\n",
       "    (5): ReLU()\n",
       "    (6): MaxPool2d(kernel_size=(2, 2), stride=2, padding=0, dilation=1, ceil_mode=False)\n",
       "  )\n",
       "  (classifier): Sequential(\n",
       "    (0): Flatten(start_dim=1, end_dim=-1)\n",
       "    (1): Linear(in_features=3136, out_features=10, bias=True)\n",
       "  )\n",
       ")"
      ]
     },
     "execution_count": 15,
     "metadata": {},
     "output_type": "execute_result"
    }
   ],
   "source": [
    "# Create cpu model instance\n",
    "model_cpu = FMNISTModelExercise(\n",
    "    in_features = 1,\n",
    "    out_features=len(labels),\n",
    "    hidden_units=64,\n",
    ").to(\"cpu\")\n",
    "\n",
    "model_cpu"
   ]
  },
  {
   "cell_type": "code",
   "execution_count": 16,
   "id": "60d9d4ff",
   "metadata": {},
   "outputs": [
    {
     "data": {
      "text/plain": [
       "FMNISTModelExercise(\n",
       "  (conv_block_1): Sequential(\n",
       "    (0): Conv2d(1, 64, kernel_size=(3, 3), stride=(1, 1), padding=(1, 1))\n",
       "    (1): Conv2d(64, 64, kernel_size=(3, 3), stride=(1, 1), padding=(1, 1))\n",
       "    (2): ReLU()\n",
       "    (3): MaxPool2d(kernel_size=(2, 2), stride=2, padding=0, dilation=1, ceil_mode=False)\n",
       "  )\n",
       "  (conv_block_2): Sequential(\n",
       "    (0): Conv2d(64, 64, kernel_size=(3, 3), stride=(1, 1), padding=(1, 1))\n",
       "    (1): Conv2d(64, 64, kernel_size=(3, 3), stride=(1, 1), padding=(1, 1))\n",
       "    (2): ReLU()\n",
       "    (3): Conv2d(64, 64, kernel_size=(3, 3), stride=(1, 1), padding=(1, 1))\n",
       "    (4): Conv2d(64, 64, kernel_size=(3, 3), stride=(1, 1), padding=(1, 1))\n",
       "    (5): ReLU()\n",
       "    (6): MaxPool2d(kernel_size=(2, 2), stride=2, padding=0, dilation=1, ceil_mode=False)\n",
       "  )\n",
       "  (classifier): Sequential(\n",
       "    (0): Flatten(start_dim=1, end_dim=-1)\n",
       "    (1): Linear(in_features=3136, out_features=10, bias=True)\n",
       "  )\n",
       ")"
      ]
     },
     "execution_count": 16,
     "metadata": {},
     "output_type": "execute_result"
    }
   ],
   "source": [
    "# Create mps model instance\n",
    "model_mps = FMNISTModelExercise(\n",
    "    in_features = 1,\n",
    "    out_features=len(labels),\n",
    "    hidden_units=64,\n",
    ").to(\"mps\")\n",
    "\n",
    "model_mps"
   ]
  },
  {
   "cell_type": "markdown",
   "id": "37d9d512",
   "metadata": {},
   "source": [
    "## 9. Train the model you built in exercise 8. for 5 epochs on CPU and GPU and see how long it takes on each."
   ]
  },
  {
   "cell_type": "code",
   "execution_count": 17,
   "id": "1e851f8a",
   "metadata": {},
   "outputs": [],
   "source": [
    "# Create loss function, optimizer and evaluation metrics\n",
    "loss_fn_cpu = nn.CrossEntropyLoss()\n",
    "\n",
    "optimizer_cpu = torch.optim.SGD(\n",
    "    params=model_cpu.parameters(),\n",
    "    lr=0.1,\n",
    ")\n",
    "\n",
    "loss_fn_mps = nn.CrossEntropyLoss()\n",
    "\n",
    "optimizer_mps = torch.optim.SGD(\n",
    "    params=model_mps.parameters(),\n",
    "    lr=0.1,\n",
    ")\n",
    "\n",
    "def accuracy_fn(y_true, y_pred):\n",
    "    correct = torch.eq(y_true, y_pred).sum().item()\n",
    "    acc = correct / len(y_pred) * 100\n",
    "    return acc"
   ]
  },
  {
   "cell_type": "code",
   "execution_count": 18,
   "id": "40003212",
   "metadata": {},
   "outputs": [
    {
     "data": {
      "text/plain": [
       "(<function __main__.accuracy_fn(y_true, y_pred)>,\n",
       " CrossEntropyLoss(),\n",
       " SGD (\n",
       " Parameter Group 0\n",
       "     dampening: 0\n",
       "     differentiable: False\n",
       "     foreach: None\n",
       "     fused: None\n",
       "     lr: 0.1\n",
       "     maximize: False\n",
       "     momentum: 0\n",
       "     nesterov: False\n",
       "     weight_decay: 0\n",
       " ))"
      ]
     },
     "execution_count": 18,
     "metadata": {},
     "output_type": "execute_result"
    }
   ],
   "source": [
    "accuracy_fn, loss_fn_cpu, optimizer_cpu"
   ]
  },
  {
   "cell_type": "code",
   "execution_count": 19,
   "id": "7b0b17d2",
   "metadata": {},
   "outputs": [
    {
     "data": {
      "text/plain": [
       "(<function __main__.accuracy_fn(y_true, y_pred)>,\n",
       " CrossEntropyLoss(),\n",
       " SGD (\n",
       " Parameter Group 0\n",
       "     dampening: 0\n",
       "     differentiable: False\n",
       "     foreach: None\n",
       "     fused: None\n",
       "     lr: 0.1\n",
       "     maximize: False\n",
       "     momentum: 0\n",
       "     nesterov: False\n",
       "     weight_decay: 0\n",
       " ))"
      ]
     },
     "execution_count": 19,
     "metadata": {},
     "output_type": "execute_result"
    }
   ],
   "source": [
    "accuracy_fn, loss_fn_mps, optimizer_mps"
   ]
  },
  {
   "cell_type": "code",
   "execution_count": 20,
   "id": "e64eaab6",
   "metadata": {},
   "outputs": [],
   "source": [
    "# Create train step function\n",
    "def train_step(\n",
    "    model: nn.Module,\n",
    "    data_loader: torch.utils.data.DataLoader,\n",
    "    optimizer: torch.optim.Optimizer,\n",
    "    loss_fn: nn.Module,\n",
    "    accuracy_fn,\n",
    "    device=\"cpu\"\n",
    ") -> None:\n",
    "    \"\"\"Performs training with model\"\"\"\n",
    "    train_loss, train_acc = 0, 0\n",
    "    \n",
    "    # Put model on target device\n",
    "    model = model.to(device)\n",
    "    \n",
    "    for X_train, y_train in data_loader:\n",
    "        # Put data on target device and unsqueeze\n",
    "        X_train, y_train = X_train.to(device), y_train.to(device)\n",
    "        \n",
    "        # Turn on training mode\n",
    "        model.train()\n",
    "        \n",
    "        # 1. Forward pass\n",
    "        y_pred = model(X_train)\n",
    "        \n",
    "        # 2.1. Calculate loss\n",
    "        loss = loss_fn(y_pred, y_train)\n",
    "        train_loss += loss.item()\n",
    "        \n",
    "        # 2.2. Calculate acc\n",
    "        acc = accuracy_fn(\n",
    "            y_true=y_train, \n",
    "            y_pred=y_pred.argmax(dim=1) # logits -> prediction probabilities\n",
    "        )\n",
    "        train_acc += acc\n",
    "        \n",
    "        # 3. Optimizer zero grad\n",
    "        optimizer.zero_grad()\n",
    "        \n",
    "        # 4. Loss backwards\n",
    "        loss.backward()\n",
    "        \n",
    "        # 5. Optimizer step\n",
    "        optimizer.step()        \n",
    "    \n",
    "    # Divide total train loss and acc by length of train dataloader\n",
    "    train_loss /= len(data_loader)\n",
    "    train_acc /= len(data_loader)\n",
    "    \n",
    "    # Print out what's happening\n",
    "    print(f\"\\nTrain loss: {train_loss:.4} | Train acc: {train_acc:.4}%\\n\")"
   ]
  },
  {
   "cell_type": "code",
   "execution_count": 21,
   "id": "bfe0f4bd",
   "metadata": {},
   "outputs": [],
   "source": [
    "# Create test step function\n",
    "def test_step(\n",
    "    model: nn.Module,\n",
    "    data_loader: torch.utils.data.DataLoader,\n",
    "    loss_fn: nn.Module,\n",
    "    accuracy_fn,\n",
    "    device=\"cpu\"\n",
    ") -> None:\n",
    "    \"\"\"Performs testing with model\"\"\"\n",
    "    test_loss, test_acc = 0, 0\n",
    "    \n",
    "    # Put model on target device\n",
    "    model = model.to(device)\n",
    "    \n",
    "    # Turn on evaluation mode\n",
    "    model.eval()\n",
    "    \n",
    "    with torch.inference_mode():\n",
    "        for X_test, y_test in data_loader:\n",
    "            # Put data on target device and unsqueeze\n",
    "            X_test, y_test = X_test.to(device), y_test.to(device)\n",
    "            \n",
    "            # 1. Forward pass\n",
    "            y_pred = model(X_test)\n",
    "            \n",
    "            # 2.1 Calculate loss\n",
    "            test_loss += loss_fn(y_pred, y_test).item()\n",
    "            \n",
    "            # 2.2 Calculate accuracy\n",
    "            test_acc += accuracy_fn(\n",
    "                y_true=y_test,\n",
    "                y_pred=y_pred.argmax(dim=1) # logits -> prediction labels\n",
    "            )\n",
    "\n",
    "        # Divide total train loss and acc by length of train dataloader\n",
    "        test_loss /= len(data_loader)\n",
    "        test_acc /= len(data_loader)\n",
    "    \n",
    "    # Print out what's happening\n",
    "    print(f\"\\nTest loss: {test_loss:.4f} | Test acc: {test_acc:.4f}%\\n\")"
   ]
  },
  {
   "cell_type": "code",
   "execution_count": 22,
   "id": "27681d23",
   "metadata": {},
   "outputs": [
    {
     "data": {
      "application/vnd.jupyter.widget-view+json": {
       "model_id": "fc84bb6c75f742bbbe09303d1a5f4713",
       "version_major": 2,
       "version_minor": 0
      },
      "text/plain": [
       "  0%|          | 0/3 [00:00<?, ?it/s]"
      ]
     },
     "metadata": {},
     "output_type": "display_data"
    },
    {
     "name": "stdout",
     "output_type": "stream",
     "text": [
      "Epoch: 0\n",
      "\n",
      "\n",
      "Train loss: 1.287 | Train acc: 50.45%\n",
      "\n",
      "\n",
      "Test loss: 0.8901 | Test acc: 64.1474%\n",
      "\n",
      "Epoch: 1\n",
      "\n",
      "\n",
      "Train loss: 0.8529 | Train acc: 65.98%\n",
      "\n",
      "\n",
      "Test loss: 0.8507 | Test acc: 65.9844%\n",
      "\n",
      "Epoch: 2\n",
      "\n",
      "\n",
      "Train loss: 0.7933 | Train acc: 68.11%\n",
      "\n",
      "\n",
      "Test loss: 0.8244 | Test acc: 67.7117%\n",
      "\n",
      "\n",
      "Train time on mps: 131.448 seconds\n"
     ]
    }
   ],
   "source": [
    "from timeit import default_timer as timer\n",
    "from tqdm.auto import tqdm\n",
    "\n",
    "# Measure time\n",
    "start_time_mps = timer()\n",
    "\n",
    "# Set seed\n",
    "torch.manual_seed(42)\n",
    "\n",
    "# Set epochs\n",
    "epochs = 3\n",
    "\n",
    "# Create an optimiziation and evaluation loop using train_step() and test_step()\n",
    "for epoch in tqdm(range(epochs)):\n",
    "    print(f\"Epoch: {epoch}\\n\")\n",
    "    \n",
    "    train_step(\n",
    "        model=model_mps,\n",
    "        data_loader=train_dataloader,\n",
    "        loss_fn=loss_fn_mps,\n",
    "        optimizer=optimizer_mps,\n",
    "        accuracy_fn=accuracy_fn,\n",
    "        device=\"mps\",\n",
    "    )\n",
    "    \n",
    "    test_step(\n",
    "        model=model_mps,\n",
    "        data_loader=test_dataloader,\n",
    "        loss_fn=loss_fn_mps,\n",
    "        accuracy_fn=accuracy_fn,\n",
    "        device=\"mps\",\n",
    "    )\n",
    "\n",
    "# Measure time\n",
    "end_time_mps = timer()\n",
    "\n",
    "# Calculate time\n",
    "time_mps = end_time_mps - start_time_mps\n",
    "print(f\"\\nTrain time on mps: {time_mps:.3f} seconds\")"
   ]
  },
  {
   "cell_type": "code",
   "execution_count": 23,
   "id": "c385c124",
   "metadata": {},
   "outputs": [
    {
     "data": {
      "application/vnd.jupyter.widget-view+json": {
       "model_id": "cfe2e2502c194a6f96966cf9036113c1",
       "version_major": 2,
       "version_minor": 0
      },
      "text/plain": [
       "  0%|          | 0/3 [00:00<?, ?it/s]"
      ]
     },
     "metadata": {},
     "output_type": "display_data"
    },
    {
     "name": "stdout",
     "output_type": "stream",
     "text": [
      "Epoch: 0\n",
      "\n",
      "\n",
      "Train loss: 1.612 | Train acc: 37.51%\n",
      "\n",
      "\n",
      "Test loss: 0.9221 | Test acc: 63.4485%\n",
      "\n",
      "Epoch: 1\n",
      "\n",
      "\n",
      "Train loss: 0.868 | Train acc: 65.36%\n",
      "\n",
      "\n",
      "Test loss: 0.8483 | Test acc: 66.5435%\n",
      "\n",
      "Epoch: 2\n",
      "\n",
      "\n",
      "Train loss: 0.7968 | Train acc: 68.0%\n",
      "\n",
      "\n",
      "Test loss: 0.8130 | Test acc: 67.9613%\n",
      "\n",
      "\n",
      "Train time on cpu: 750.909 seconds\n"
     ]
    }
   ],
   "source": [
    "from timeit import default_timer as timer\n",
    "from tqdm.auto import tqdm\n",
    "\n",
    "# Measure time\n",
    "start_time_cpu = timer()\n",
    "\n",
    "# Set seed\n",
    "torch.manual_seed(42)\n",
    "\n",
    "# Set epochs\n",
    "epochs = 3\n",
    "\n",
    "# Create an optimiziation and evaluation loop using train_step() and test_step()\n",
    "for epoch in tqdm(range(epochs)):\n",
    "    print(f\"Epoch: {epoch}\\n\")\n",
    "    \n",
    "    train_step(\n",
    "        model=model_cpu,\n",
    "        data_loader=train_dataloader,\n",
    "        loss_fn=loss_fn_cpu,\n",
    "        optimizer=optimizer_cpu,\n",
    "        accuracy_fn=accuracy_fn,\n",
    "        device=\"cpu\",\n",
    "    )\n",
    "    \n",
    "    test_step(\n",
    "        model=model_cpu,\n",
    "        data_loader=test_dataloader,\n",
    "        loss_fn=loss_fn_cpu,\n",
    "        accuracy_fn=accuracy_fn,\n",
    "        device=\"cpu\",\n",
    "    )\n",
    "\n",
    "# Measure time\n",
    "end_time_cpu = timer()\n",
    "\n",
    "# Calculate time\n",
    "time_cpu = end_time_cpu - start_time_cpu\n",
    "print(f\"\\nTrain time on cpu: {time_cpu:.3f} seconds\")"
   ]
  },
  {
   "cell_type": "code",
   "execution_count": 24,
   "id": "7c5322b7",
   "metadata": {},
   "outputs": [],
   "source": [
    "def eval_model(\n",
    "    model: nn.Module,\n",
    "    data_loader: torch.utils.data.DataLoader,\n",
    "    loss_fn: nn.Module,\n",
    "    accuracy_fn,\n",
    "    device=\"cpu\",\n",
    ") -> dict:\n",
    "    \"\"\"Perform evaluation on test dataset\"\"\"\n",
    "    test_loss, test_acc = 0, 0\n",
    "    \n",
    "    start_time = timer()\n",
    "    \n",
    "    # Turn on evaluation mode\n",
    "    model.eval()\n",
    "    \n",
    "    # Turn on inference mode\n",
    "    with torch.inference_mode():\n",
    "        for X_test, y_test in data_loader:\n",
    "            # Put data on target device and unsqueeze\n",
    "            X_test, y_test = X_test.to(device), y_test.to(device)\n",
    "            \n",
    "            # 1. Forward pass\n",
    "            y_pred = model(X_test)\n",
    "            \n",
    "            # 2.1 Calculate loss\n",
    "            test_loss += loss_fn(y_pred, y_test).item()\n",
    "            \n",
    "            # 2.2 Calculate accuracy\n",
    "            test_acc += accuracy_fn(\n",
    "                y_true=y_test,\n",
    "                y_pred=y_pred.argmax(dim=1) # logits -> prediction labels\n",
    "            )\n",
    "\n",
    "        # Divide total train loss and acc by length of train dataloader\n",
    "        test_loss /= len(data_loader)\n",
    "        test_acc /= len(data_loader)\n",
    "    \n",
    "    end_time = timer()\n",
    "    \n",
    "    return {\n",
    "        \"name\": model.__class__.__name__,\n",
    "        \"test_loss\": test_loss,\n",
    "        \"test_acc\": test_acc,\n",
    "        \"test_time\": end_time-start_time\n",
    "    }"
   ]
  },
  {
   "cell_type": "code",
   "execution_count": 25,
   "id": "8416dec1",
   "metadata": {},
   "outputs": [
    {
     "data": {
      "text/plain": [
       "{'name': 'FMNISTModelExercise',\n",
       " 'test_loss': 0.8130359296410229,\n",
       " 'test_acc': 67.96126198083067,\n",
       " 'test_time': 10.700046708996524}"
      ]
     },
     "execution_count": 25,
     "metadata": {},
     "output_type": "execute_result"
    }
   ],
   "source": [
    "# Evaluate cpu model\n",
    "cpu_model_eval = eval_model(\n",
    "    model=model_cpu,\n",
    "    data_loader=test_dataloader,\n",
    "    loss_fn=loss_fn_cpu,\n",
    "    accuracy_fn=accuracy_fn,\n",
    "    device=\"cpu\"\n",
    ")\n",
    "\n",
    "cpu_model_eval"
   ]
  },
  {
   "cell_type": "code",
   "execution_count": 26,
   "id": "3f3572c4",
   "metadata": {},
   "outputs": [
    {
     "data": {
      "text/plain": [
       "{'name': 'FMNISTModelExercise',\n",
       " 'test_loss': 0.8243674772044721,\n",
       " 'test_acc': 67.71166134185303,\n",
       " 'test_time': 4.148564916002215}"
      ]
     },
     "execution_count": 26,
     "metadata": {},
     "output_type": "execute_result"
    }
   ],
   "source": [
    "# Evaluate mps model\n",
    "mps_model_eval = eval_model(\n",
    "    model=model_mps,\n",
    "    data_loader=test_dataloader,\n",
    "    loss_fn=loss_fn_cpu,\n",
    "    accuracy_fn=accuracy_fn,\n",
    "    device=\"mps\"\n",
    ")\n",
    "\n",
    "mps_model_eval"
   ]
  },
  {
   "cell_type": "code",
   "execution_count": 27,
   "id": "e410207c",
   "metadata": {},
   "outputs": [
    {
     "data": {
      "text/html": [
       "<div>\n",
       "<style scoped>\n",
       "    .dataframe tbody tr th:only-of-type {\n",
       "        vertical-align: middle;\n",
       "    }\n",
       "\n",
       "    .dataframe tbody tr th {\n",
       "        vertical-align: top;\n",
       "    }\n",
       "\n",
       "    .dataframe thead th {\n",
       "        text-align: right;\n",
       "    }\n",
       "</style>\n",
       "<table border=\"1\" class=\"dataframe\">\n",
       "  <thead>\n",
       "    <tr style=\"text-align: right;\">\n",
       "      <th></th>\n",
       "      <th>test_loss</th>\n",
       "      <th>test_acc</th>\n",
       "      <th>test_time</th>\n",
       "    </tr>\n",
       "    <tr>\n",
       "      <th>name</th>\n",
       "      <th></th>\n",
       "      <th></th>\n",
       "      <th></th>\n",
       "    </tr>\n",
       "  </thead>\n",
       "  <tbody>\n",
       "    <tr>\n",
       "      <th>FMNISTModelExercise</th>\n",
       "      <td>0.813036</td>\n",
       "      <td>67.961262</td>\n",
       "      <td>10.700047</td>\n",
       "    </tr>\n",
       "    <tr>\n",
       "      <th>FMNISTModelExercise</th>\n",
       "      <td>0.824367</td>\n",
       "      <td>67.711661</td>\n",
       "      <td>4.148565</td>\n",
       "    </tr>\n",
       "  </tbody>\n",
       "</table>\n",
       "</div>"
      ],
      "text/plain": [
       "                     test_loss   test_acc  test_time\n",
       "name                                                \n",
       "FMNISTModelExercise   0.813036  67.961262  10.700047\n",
       "FMNISTModelExercise   0.824367  67.711661   4.148565"
      ]
     },
     "execution_count": 27,
     "metadata": {},
     "output_type": "execute_result"
    }
   ],
   "source": [
    "import pandas as pd\n",
    "\n",
    "model_eval = pd.DataFrame([cpu_model_eval, mps_model_eval]).set_index(\"name\")\n",
    "\n",
    "model_eval"
   ]
  },
  {
   "cell_type": "markdown",
   "id": "f92bf128",
   "metadata": {},
   "source": [
    "## 10. Make predictions using your trained model and visualize at least 5 of them comparing the prediciton to the target label."
   ]
  },
  {
   "cell_type": "code",
   "execution_count": 28,
   "id": "4de8fbe0",
   "metadata": {},
   "outputs": [],
   "source": [
    "def make_predictions(\n",
    "    model: nn.Module,\n",
    "    dataset,\n",
    "    labels,\n",
    "    device=\"cpu\"\n",
    ") -> None:\n",
    "    \"\"\"Visualizes 5 random predictions from the dataset using the trained model.\"\"\"\n",
    "    # random.seed(42)\n",
    "\n",
    "    model.eval()\n",
    "    model.to(device)\n",
    "    \n",
    "    fig = plt.figure(figsize=(12, 4))\n",
    "\n",
    "    for i in range(5):\n",
    "        idx = random.randint(0, len(dataset) - 1)\n",
    "        img, true_label = dataset[idx]  # img shape: [1, 28, 28]\n",
    "        img = img.to(device)\n",
    "\n",
    "        # Add batch dimension: [1, 1, 28, 28]\n",
    "        img_batch = img.unsqueeze(0)\n",
    "\n",
    "        with torch.inference_mode():\n",
    "            pred_logits = model(img_batch)\n",
    "            pred_label = pred_logits.argmax(dim=1).item()\n",
    "\n",
    "        ax = fig.add_subplot(1, 5, i + 1)\n",
    "        ax.imshow(img.squeeze().cpu().numpy(), cmap=\"gray\")\n",
    "        ax.set_title(\n",
    "            f\"Pred: {labels[pred_label]}\\nTrue: {labels[true_label]}\",\n",
    "            fontsize=10,\n",
    "            color=\"g\" if pred_label == true_label else \"r\"\n",
    "        )\n",
    "        ax.axis(\"off\")\n",
    "    plt.show()"
   ]
  },
  {
   "cell_type": "code",
   "execution_count": 29,
   "id": "4fa7a6c4",
   "metadata": {},
   "outputs": [
    {
     "data": {
      "image/png": "[encoded data removed]",
      "text/plain": [
       "<Figure size 1200x400 with 5 Axes>"
      ]
     },
     "metadata": {},
     "output_type": "display_data"
    }
   ],
   "source": [
    "make_predictions(\n",
    "    model=model_mps, \n",
    "    dataset=test_data, \n",
    "    labels=labels, \n",
    "    device=\"mps\"\n",
    "    )"
   ]
  },
  {
   "cell_type": "markdown",
   "id": "74bc7279",
   "metadata": {},
   "source": [
    "## 11. Plot a confusion matrix comparing your model's predictions to the truth labels."
   ]
  },
  {
   "cell_type": "code",
   "execution_count": 30,
   "id": "7cf05741",
   "metadata": {},
   "outputs": [
    {
     "name": "stdout",
     "output_type": "stream",
     "text": [
      "0.23.4\n",
      "1.7.4\n"
     ]
    }
   ],
   "source": [
    "from mlxtend.plotting import plot_confusion_matrix\n",
    "import mlxtend\n",
    "print(mlxtend.__version__)\n",
    "\n",
    "from torchmetrics import ConfusionMatrix\n",
    "import torchmetrics\n",
    "print(torchmetrics.__version__)"
   ]
  },
  {
   "cell_type": "code",
   "execution_count": 31,
   "id": "f422fcbc",
   "metadata": {},
   "outputs": [
    {
     "data": {
      "application/vnd.jupyter.widget-view+json": {
       "model_id": "2e12984bcab84ca697f8f2c717a45d83",
       "version_major": 2,
       "version_minor": 0
      },
      "text/plain": [
       "Making predictions...:   0%|          | 0/313 [00:00<?, ?it/s]"
      ]
     },
     "metadata": {},
     "output_type": "display_data"
    },
    {
     "name": "stdout",
     "output_type": "stream",
     "text": [
      "tensor([7, 2, 1, 1, 2])\n"
     ]
    }
   ],
   "source": [
    "device = \"mps\"\n",
    "\n",
    "# 1. Make predictions with trained model\n",
    "y_preds = []\n",
    "model_mps.eval()\n",
    "with torch.inference_mode():\n",
    "    for X, y in tqdm(test_dataloader, desc=\"Making predictions...\"):\n",
    "        # Send the data and targets to target device\n",
    "        X, y = X.to(device), y.to(device)\n",
    "\n",
    "        # Do the forward pass\n",
    "        y_logits = model_mps(X)\n",
    "        \n",
    "        # Turn predictions from logits -> prediction probabilites -> prediction labels\n",
    "        y_pred = torch.softmax(y_logits.squeeze(), dim=0).argmax(dim=1)\n",
    "        \n",
    "        # Put prediction on CPU for evaluation\n",
    "        y_preds.append(y_pred.cpu())\n",
    "    \n",
    "# Concatenate list of predictions into a tensor\n",
    "# print(y_preds[:5])\n",
    "y_pred_tensor = torch.cat(y_preds)\n",
    "print(y_pred_tensor[:5])"
   ]
  },
  {
   "cell_type": "code",
   "execution_count": 32,
   "id": "ad4051b5",
   "metadata": {},
   "outputs": [],
   "source": [
    "# 2. Setup confusion instance and compare predictions to targets\n",
    "confmat = ConfusionMatrix(num_classes=len(labels), task=\"multiclass\", )\n",
    "confmat_tensor = confmat(\n",
    "    preds=y_pred_tensor,\n",
    "    target=test_data.targets\n",
    ")"
   ]
  },
  {
   "cell_type": "code",
   "execution_count": 33,
   "id": "149c2e36",
   "metadata": {},
   "outputs": [
    {
     "data": {
      "image/png": "[encoded data removed]",
      "text/plain": [
       "<Figure size 1000x700 with 1 Axes>"
      ]
     },
     "metadata": {},
     "output_type": "display_data"
    }
   ],
   "source": [
    "# 3. Plot the confusion matrix\n",
    "fig, ax = plot_confusion_matrix(\n",
    "    conf_mat=confmat_tensor.numpy(), # matplotlib likes working with numpy\n",
    "    class_names=labels,\n",
    "    figsize=(10, 7)\n",
    ")"
   ]
  },
  {
   "cell_type": "code",
   "execution_count": null,
   "id": "d94d8c25",
   "metadata": {},
   "outputs": [],
   "source": []
  }
 ],
 "metadata": {
  "kernelspec": {
   "display_name": ".venv",
   "language": "python",
   "name": "python3"
  },
  "language_info": {
   "codemirror_mode": {
    "name": "ipython",
    "version": 3
   },
   "file_extension": ".py",
   "mimetype": "text/x-python",
   "name": "python",
   "nbconvert_exporter": "python",
   "pygments_lexer": "ipython3",
   "version": "3.13.5"
  }
 },
 "nbformat": 4,
 "nbformat_minor": 5
}
