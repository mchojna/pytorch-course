{
 "cells": [
  {
   "cell_type": "markdown",
   "id": "7ce9532a",
   "metadata": {},
   "source": [
    "# 00. PyTorch Fundamentals Exercises"
   ]
  },
  {
   "cell_type": "markdown",
   "id": "b6e08187",
   "metadata": {},
   "source": [
    "## 1. Documentation reading\n",
    "A big part of deep learning (and learning to code in general) is getting familiar with the documentation of a certain framework you're using. We'll be using the PyTorch documentation a lot throughout the rest of this course. So I'd recommend spending 10-minutes reading the following (it's okay if you don't get some things for now, the focus is not yet full understanding, it's awareness):\n",
    "\n",
    "The documentation on torch.Tensor.\n",
    "\n",
    "The documentation on torch.cuda."
   ]
  },
  {
   "cell_type": "markdown",
   "id": "82e90731",
   "metadata": {},
   "source": [
    "## 2. Create a random tensor with shape `(7, 7)`"
   ]
  },
  {
   "cell_type": "code",
   "execution_count": 1,
   "id": "e01ed985",
   "metadata": {},
   "outputs": [],
   "source": [
    "# Import torch\n",
    "import torch"
   ]
  },
  {
   "cell_type": "code",
   "execution_count": 2,
   "id": "5933cb97",
   "metadata": {},
   "outputs": [
    {
     "data": {
      "text/plain": [
       "tensor([[0.4351, 0.7071, 0.0132, 0.4975, 0.3686, 0.1856, 0.5925],\n",
       "        [0.7363, 0.8581, 0.8052, 0.0816, 0.0121, 0.9903, 0.0866],\n",
       "        [0.1265, 0.2788, 0.6304, 0.7212, 0.0632, 0.4433, 0.4137],\n",
       "        [0.3019, 0.7043, 0.3981, 0.7323, 0.9564, 0.8900, 0.0461],\n",
       "        [0.0793, 0.2856, 0.5264, 0.2256, 0.7240, 0.3528, 0.5610],\n",
       "        [0.2556, 0.8208, 0.3576, 0.0960, 0.3941, 0.4079, 0.7174],\n",
       "        [0.7070, 0.1707, 0.6076, 0.2893, 0.8614, 0.8122, 0.4966]])"
      ]
     },
     "execution_count": 2,
     "metadata": {},
     "output_type": "execute_result"
    }
   ],
   "source": [
    "# Create random tensor\n",
    "tensor_a = torch.rand(size=(7,7))\n",
    "tensor_a"
   ]
  },
  {
   "cell_type": "code",
   "execution_count": 3,
   "id": "b742ef72",
   "metadata": {},
   "outputs": [
    {
     "data": {
      "text/plain": [
       "(torch.Size([7, 7]), torch.Size([7, 7]), 2)"
      ]
     },
     "execution_count": 3,
     "metadata": {},
     "output_type": "execute_result"
    }
   ],
   "source": [
    "tensor_a.size(), tensor_a.shape, tensor_a.ndim"
   ]
  },
  {
   "cell_type": "markdown",
   "id": "d4d06901",
   "metadata": {},
   "source": [
    "## 3. Perform a matrix multiplication on the tensor from 2 with another random tensor with shape `(1, 7)` (hint: you may have to transpose the second tensor)"
   ]
  },
  {
   "cell_type": "code",
   "execution_count": 4,
   "id": "1ec095b0",
   "metadata": {},
   "outputs": [
    {
     "data": {
      "text/plain": [
       "tensor([[0.9994, 0.7252, 0.2502, 0.0716, 0.9645, 0.0925, 0.1046]])"
      ]
     },
     "execution_count": 4,
     "metadata": {},
     "output_type": "execute_result"
    }
   ],
   "source": [
    "# Create another random tensor\n",
    "tensor_b = torch.rand(size=(1, 7))\n",
    "tensor_b"
   ]
  },
  {
   "cell_type": "code",
   "execution_count": 5,
   "id": "4e01332a",
   "metadata": {},
   "outputs": [
    {
     "data": {
      "text/plain": [
       "tensor([[1.4213],\n",
       "        [1.6776],\n",
       "        [0.6833],\n",
       "        [1.9741],\n",
       "        [1.2238],\n",
       "        [1.4399],\n",
       "        [1.9610]])"
      ]
     },
     "execution_count": 5,
     "metadata": {},
     "output_type": "execute_result"
    }
   ],
   "source": [
    "# Perform matrix multiplication \n",
    "tensor_a @ tensor_b.T"
   ]
  },
  {
   "cell_type": "code",
   "execution_count": 6,
   "id": "09c8cd90",
   "metadata": {},
   "outputs": [
    {
     "data": {
      "text/plain": [
       "tensor([[1.1961, 1.8183, 1.3877, 1.0460, 1.2863, 1.5412, 1.4212]])"
      ]
     },
     "execution_count": 6,
     "metadata": {},
     "output_type": "execute_result"
    }
   ],
   "source": [
    "# Perform matrix multiplication\n",
    "tensor_b @ tensor_a"
   ]
  },
  {
   "cell_type": "markdown",
   "id": "931546a2",
   "metadata": {},
   "source": [
    "## 4. Set the random seed to `0` and do 2 & 3 over again"
   ]
  },
  {
   "cell_type": "code",
   "execution_count": 7,
   "id": "8db30668",
   "metadata": {},
   "outputs": [],
   "source": [
    "# Set manual seed\n",
    "# Create two random tensors\n",
    "torch.manual_seed(42)\n",
    "tensor_a = torch.rand(size=(7, 7))\n",
    "\n",
    "# Set manual seed\n",
    "# Create two random tensors\n",
    "torch.manual_seed(42)\n",
    "tensor_b = torch.rand(size=(1, 7))"
   ]
  },
  {
   "cell_type": "code",
   "execution_count": 8,
   "id": "ef0df93a",
   "metadata": {},
   "outputs": [
    {
     "data": {
      "text/plain": [
       "tensor([[3.2618],\n",
       "        [3.4084],\n",
       "        [2.4866],\n",
       "        [1.4525],\n",
       "        [1.7079],\n",
       "        [2.7291],\n",
       "        [2.9204]])"
      ]
     },
     "execution_count": 8,
     "metadata": {},
     "output_type": "execute_result"
    }
   ],
   "source": [
    "# Matrix multiply tensors\n",
    "tensor_a @ tensor_b.T"
   ]
  },
  {
   "cell_type": "code",
   "execution_count": 9,
   "id": "8a85c0a8",
   "metadata": {},
   "outputs": [
    {
     "data": {
      "text/plain": [
       "tensor([[3.0938, 2.7098, 2.7137, 2.4572, 2.0022, 2.6702, 1.5846]])"
      ]
     },
     "execution_count": 9,
     "metadata": {},
     "output_type": "execute_result"
    }
   ],
   "source": [
    "# Matrix multiply tensors\n",
    "tensor_b @ tensor_a"
   ]
  },
  {
   "cell_type": "markdown",
   "id": "8e947f70",
   "metadata": {},
   "source": [
    "## 5. Speaking of random seeds, we saw how to set it with `torch.manual_seed()` but is there a GPU equivalent? (hint: you'll need to look into the documentation for torch.cuda for this one)\n",
    "\n",
    "- If there is, set the GPU random seed to 1234."
   ]
  },
  {
   "cell_type": "code",
   "execution_count": 10,
   "id": "1350a9e6",
   "metadata": {},
   "outputs": [],
   "source": [
    "# Set random seed on the GPU\n",
    "torch.cuda.manual_seed(1234)"
   ]
  },
  {
   "cell_type": "markdown",
   "id": "01bc2ce8",
   "metadata": {},
   "source": [
    "## 6. Create two random tensors of shape `(2, 3)` and send them both to the GPU (you'll need access to a GPU for this). Set `torch.manual_seed(1234)` when creating the tensors (this doesn't have to be the GPU random seed)"
   ]
  },
  {
   "cell_type": "code",
   "execution_count": 11,
   "id": "1f4b696c",
   "metadata": {},
   "outputs": [
    {
     "data": {
      "text/plain": [
       "False"
      ]
     },
     "execution_count": 11,
     "metadata": {},
     "output_type": "execute_result"
    }
   ],
   "source": [
    "# Check for access to GPU\n",
    "torch.cuda.is_available()"
   ]
  },
  {
   "cell_type": "code",
   "execution_count": 12,
   "id": "caa8df3d",
   "metadata": {},
   "outputs": [],
   "source": [
    "# Set manual seed\n",
    "# Create two random tensors\n",
    "torch.manual_seed(42)\n",
    "tensor_a = torch.rand(size=(3, 2), device=\"mps\")\n",
    "\n",
    "# Set manual seed\n",
    "# Create two random tensors\n",
    "torch.manual_seed(42)\n",
    "tensor_b = torch.rand(size=(3, 4), device=\"mps\")"
   ]
  },
  {
   "cell_type": "code",
   "execution_count": 13,
   "id": "d861ff23",
   "metadata": {},
   "outputs": [
    {
     "data": {
      "text/plain": [
       "(device(type='mps', index=0),\n",
       " tensor([[0.8172, 0.5881],\n",
       "         [0.5581, 0.7691],\n",
       "         [0.3394, 0.4560]], device='mps:0'))"
      ]
     },
     "execution_count": 13,
     "metadata": {},
     "output_type": "execute_result"
    }
   ],
   "source": [
    "tensor_a.device, tensor_a"
   ]
  },
  {
   "cell_type": "code",
   "execution_count": 14,
   "id": "f74ecba3",
   "metadata": {},
   "outputs": [
    {
     "data": {
      "text/plain": [
       "(device(type='mps', index=0),\n",
       " tensor([[8.1718e-01, 5.8811e-01, 5.5805e-01, 7.6914e-01],\n",
       "         [3.3936e-01, 4.5596e-01, 6.7508e-01, 4.4060e-04],\n",
       "         [4.0876e-01, 1.7912e-01, 5.9732e-01, 8.4722e-01]], device='mps:0'))"
      ]
     },
     "execution_count": 14,
     "metadata": {},
     "output_type": "execute_result"
    }
   ],
   "source": [
    "tensor_b.device, tensor_b"
   ]
  },
  {
   "cell_type": "markdown",
   "id": "b354122e",
   "metadata": {},
   "source": [
    "## 7. Perform a matrix multiplication on the tensors you created in 6 (again, you may have to adjust the shapes of one of the tensors)"
   ]
  },
  {
   "cell_type": "code",
   "execution_count": 15,
   "id": "bbe85aee",
   "metadata": {},
   "outputs": [
    {
     "data": {
      "text/plain": [
       "tensor([[0.9959, 0.7958, 1.0355, 0.9163],\n",
       "        [0.9280, 0.7782, 1.1198, 0.8390]], device='mps:0')"
      ]
     },
     "execution_count": 15,
     "metadata": {},
     "output_type": "execute_result"
    }
   ],
   "source": [
    "# Perform matmul on tensor_A and tensor_B\n",
    "tensor_a.T @ tensor_b"
   ]
  },
  {
   "cell_type": "code",
   "execution_count": 16,
   "id": "0936a8cc",
   "metadata": {},
   "outputs": [
    {
     "data": {
      "text/plain": [
       "tensor([[0.9959, 0.9280],\n",
       "        [0.7958, 0.7782],\n",
       "        [1.0355, 1.1198],\n",
       "        [0.9163, 0.8390]], device='mps:0')"
      ]
     },
     "execution_count": 16,
     "metadata": {},
     "output_type": "execute_result"
    }
   ],
   "source": [
    "# Perform matmul on tensor_B and tensor_A\n",
    "tensor_b.T @ tensor_a"
   ]
  },
  {
   "cell_type": "markdown",
   "id": "400cdfac",
   "metadata": {},
   "source": [
    "## 8. Find the maximum and minimum values of the output of 7"
   ]
  },
  {
   "cell_type": "code",
   "execution_count": 17,
   "id": "bf3c1193",
   "metadata": {},
   "outputs": [],
   "source": [
    "tensor_c = tensor_a.T @ tensor_b\n",
    "tensor_d = tensor_b.T @ tensor_a"
   ]
  },
  {
   "cell_type": "code",
   "execution_count": 18,
   "id": "6e7e03ca",
   "metadata": {},
   "outputs": [
    {
     "data": {
      "text/plain": [
       "(tensor(0.7782, device='mps:0'), tensor(0.7782, device='mps:0'))"
      ]
     },
     "execution_count": 18,
     "metadata": {},
     "output_type": "execute_result"
    }
   ],
   "source": [
    "# Find min\n",
    "torch.min(tensor_c), tensor_d.min()"
   ]
  },
  {
   "cell_type": "code",
   "execution_count": 19,
   "id": "4409be95",
   "metadata": {},
   "outputs": [
    {
     "data": {
      "text/plain": [
       "(tensor(1.1198, device='mps:0'), tensor(1.1198, device='mps:0'))"
      ]
     },
     "execution_count": 19,
     "metadata": {},
     "output_type": "execute_result"
    }
   ],
   "source": [
    "# Find max\n",
    "torch.max(tensor_c), tensor_d.max()"
   ]
  },
  {
   "cell_type": "markdown",
   "id": "46c57374",
   "metadata": {},
   "source": [
    "## 9. Find the maximum and minimum index values of the output of 7"
   ]
  },
  {
   "cell_type": "code",
   "execution_count": 20,
   "id": "622e64da",
   "metadata": {},
   "outputs": [
    {
     "data": {
      "text/plain": [
       "(tensor(5, device='mps:0'), tensor(3, device='mps:0'))"
      ]
     },
     "execution_count": 20,
     "metadata": {},
     "output_type": "execute_result"
    }
   ],
   "source": [
    "# Find arg min\n",
    "torch.argmin(tensor_c), tensor_d.argmin()"
   ]
  },
  {
   "cell_type": "code",
   "execution_count": 21,
   "id": "ddad1025",
   "metadata": {},
   "outputs": [
    {
     "data": {
      "text/plain": [
       "(tensor(5, device='mps:0'), tensor(5, device='mps:0'))"
      ]
     },
     "execution_count": 21,
     "metadata": {},
     "output_type": "execute_result"
    }
   ],
   "source": [
    "# Find arg max\n",
    "torch.argmax(tensor_d), tensor_d.argmax()"
   ]
  },
  {
   "cell_type": "markdown",
   "id": "4d275c7f",
   "metadata": {},
   "source": [
    "## 10. Make a random tensor with shape `(1, 1, 1, 10)` and then create a new tensor with all the `1` dimensions removed to be left with a tensor of shape `(10)`. Set the seed to `7` when you create it and print out the first tensor and it's shape as well as the second tensor and it's shape."
   ]
  },
  {
   "cell_type": "code",
   "execution_count": 22,
   "id": "51be55a1",
   "metadata": {},
   "outputs": [
    {
     "data": {
      "text/plain": [
       "(tensor([[[[0.5349, 0.1988, 0.6592, 0.6569, 0.2328, 0.4251, 0.2071, 0.6297,\n",
       "            0.3653, 0.8513]]]]),\n",
       " torch.Size([1, 1, 1, 10]))"
      ]
     },
     "execution_count": 22,
     "metadata": {},
     "output_type": "execute_result"
    }
   ],
   "source": [
    "# Set seed\n",
    "torch.manual_seed(7)\n",
    "\n",
    "# Create random tensor\n",
    "tensor = torch.rand(size=(1, 1, 1, 10))\n",
    "tensor, tensor.shape"
   ]
  },
  {
   "cell_type": "code",
   "execution_count": 23,
   "id": "aaee7963",
   "metadata": {},
   "outputs": [
    {
     "data": {
      "text/plain": [
       "(tensor([0.5349, 0.1988, 0.6592, 0.6569, 0.2328, 0.4251, 0.2071, 0.6297, 0.3653,\n",
       "         0.8513]),\n",
       " torch.Size([10]))"
      ]
     },
     "execution_count": 23,
     "metadata": {},
     "output_type": "execute_result"
    }
   ],
   "source": [
    "# Remove single dimensions\n",
    "new_tensor = tensor.squeeze()\n",
    "\n",
    "# Remove single dimensions\n",
    "new_tensor, new_tensor.shape"
   ]
  }
 ],
 "metadata": {
  "kernelspec": {
   "display_name": ".venv",
   "language": "python",
   "name": "python3"
  },
  "language_info": {
   "codemirror_mode": {
    "name": "ipython",
    "version": 3
   },
   "file_extension": ".py",
   "mimetype": "text/x-python",
   "name": "python",
   "nbconvert_exporter": "python",
   "pygments_lexer": "ipython3",
   "version": "3.13.5"
  }
 },
 "nbformat": 4,
 "nbformat_minor": 5
}
