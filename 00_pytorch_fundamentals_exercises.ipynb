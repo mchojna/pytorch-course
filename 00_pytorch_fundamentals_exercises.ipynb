{
 "cells": [
  {
   "cell_type": "markdown",
   "id": "7ce9532a",
   "metadata": {},
   "source": [
    "# 00. PyTorch Fundamentals Exercises"
   ]
  },
  {
   "cell_type": "code",
   "execution_count": 1,
   "id": "0bef8bdd",
   "metadata": {},
   "outputs": [],
   "source": [
    "import torch"
   ]
  },
  {
   "cell_type": "markdown",
   "id": "82e90731",
   "metadata": {},
   "source": [
    "## 2. Create a random tensor with shape (7, 7)."
   ]
  },
  {
   "cell_type": "code",
   "execution_count": null,
   "id": "5933cb97",
   "metadata": {},
   "outputs": [],
   "source": [
    "tensor_a = torch.rand(size=(7,7))"
   ]
  },
  {
   "cell_type": "code",
   "execution_count": 15,
   "id": "99c49266",
   "metadata": {},
   "outputs": [
    {
     "data": {
      "text/plain": [
       "tensor([[0.4469, 0.1021, 0.8554, 0.9649, 0.7089, 0.2647, 0.7631],\n",
       "        [0.5852, 0.2333, 0.6996, 0.8504, 0.0365, 0.9709, 0.3571],\n",
       "        [0.2294, 0.8510, 0.1562, 0.3806, 0.5530, 0.3396, 0.7596],\n",
       "        [0.7023, 0.7425, 0.6599, 0.9343, 0.0686, 0.1107, 0.1343],\n",
       "        [0.4567, 0.3110, 0.2525, 0.3155, 0.8958, 0.8123, 0.7344],\n",
       "        [0.8765, 0.1184, 0.3987, 0.7026, 0.4758, 0.8550, 0.9059],\n",
       "        [0.0347, 0.6774, 0.1075, 0.3589, 0.8070, 0.6648, 0.3280]])"
      ]
     },
     "execution_count": 15,
     "metadata": {},
     "output_type": "execute_result"
    }
   ],
   "source": [
    "tensor_a"
   ]
  },
  {
   "cell_type": "code",
   "execution_count": 16,
   "id": "b742ef72",
   "metadata": {},
   "outputs": [
    {
     "data": {
      "text/plain": [
       "(torch.Size([7, 7]), torch.Size([7, 7]), 2)"
      ]
     },
     "execution_count": 16,
     "metadata": {},
     "output_type": "execute_result"
    }
   ],
   "source": [
    "tensor_a.size(), tensor_a.shape, tensor_a.ndim"
   ]
  },
  {
   "cell_type": "markdown",
   "id": "d4d06901",
   "metadata": {},
   "source": [
    "## 3. Perform a matrix multiplication on the tensor from 2 with another random tensor with shape (1, 7) (hint: you may have to transpose the second tensor)."
   ]
  },
  {
   "cell_type": "code",
   "execution_count": null,
   "id": "1ec095b0",
   "metadata": {},
   "outputs": [],
   "source": [
    "tensor_b = torch.rand(size=(1, 7))"
   ]
  },
  {
   "cell_type": "code",
   "execution_count": 20,
   "id": "b6e62ef1",
   "metadata": {},
   "outputs": [
    {
     "data": {
      "text/plain": [
       "tensor([[0.1887, 0.3809, 0.0920, 0.5083, 0.5110, 0.0978, 0.6093]])"
      ]
     },
     "execution_count": 20,
     "metadata": {},
     "output_type": "execute_result"
    }
   ],
   "source": [
    "tensor_b"
   ]
  },
  {
   "cell_type": "code",
   "execution_count": 22,
   "id": "4e01332a",
   "metadata": {},
   "outputs": [
    {
     "data": {
      "text/plain": [
       "tensor([[1.5455],\n",
       "        [1.0271],\n",
       "        [1.3538],\n",
       "        [1.0787],\n",
       "        [1.3729],\n",
       "        [1.4830],\n",
       "        [1.1341]])"
      ]
     },
     "execution_count": 22,
     "metadata": {},
     "output_type": "execute_result"
    }
   ],
   "source": [
    "tensor_a @ tensor_b.T"
   ]
  },
  {
   "cell_type": "code",
   "execution_count": 23,
   "id": "09c8cd90",
   "metadata": {},
   "outputs": [
    {
     "data": {
      "text/plain": [
       "tensor([[1.0255, 1.1471, 1.0112, 1.4645, 1.2294, 1.4110, 1.0819]])"
      ]
     },
     "execution_count": 23,
     "metadata": {},
     "output_type": "execute_result"
    }
   ],
   "source": [
    "tensor_b @ tensor_a"
   ]
  },
  {
   "cell_type": "markdown",
   "id": "931546a2",
   "metadata": {},
   "source": [
    "## 4. Set the random seed to 0 and do 2 & 3 over again."
   ]
  },
  {
   "cell_type": "code",
   "execution_count": 36,
   "id": "8db30668",
   "metadata": {},
   "outputs": [],
   "source": [
    "torch.manual_seed(42)\n",
    "tensor_a = torch.rand(size=(7, 7))\n",
    "\n",
    "torch.manual_seed(42)\n",
    "tensor_b = torch.rand(size=(1, 7))"
   ]
  },
  {
   "cell_type": "code",
   "execution_count": 37,
   "id": "ef0df93a",
   "metadata": {},
   "outputs": [
    {
     "data": {
      "text/plain": [
       "tensor([[3.2618],\n",
       "        [3.4084],\n",
       "        [2.4866],\n",
       "        [1.4525],\n",
       "        [1.7079],\n",
       "        [2.7291],\n",
       "        [2.9204]])"
      ]
     },
     "execution_count": 37,
     "metadata": {},
     "output_type": "execute_result"
    }
   ],
   "source": [
    "tensor_a @ tensor_b.T"
   ]
  },
  {
   "cell_type": "code",
   "execution_count": 38,
   "id": "8a85c0a8",
   "metadata": {},
   "outputs": [
    {
     "data": {
      "text/plain": [
       "tensor([[3.0938, 2.7098, 2.7137, 2.4572, 2.0022, 2.6702, 1.5846]])"
      ]
     },
     "execution_count": 38,
     "metadata": {},
     "output_type": "execute_result"
    }
   ],
   "source": [
    "tensor_b @ tensor_a"
   ]
  },
  {
   "cell_type": "markdown",
   "id": "8e947f70",
   "metadata": {},
   "source": [
    "## 5. Speaking of random seeds, we saw how to set it with torch.manual_seed() but is there a GPU equivalent? (hint: you'll need to look into the documentation for torch.cuda for this one)"
   ]
  },
  {
   "cell_type": "code",
   "execution_count": 39,
   "id": "1350a9e6",
   "metadata": {},
   "outputs": [],
   "source": [
    "torch.cuda.manual_seed(42)"
   ]
  },
  {
   "cell_type": "markdown",
   "id": "01bc2ce8",
   "metadata": {},
   "source": [
    "## 6. Create two random tensors of shape (2, 3) and send them both to the GPU (you'll need access to a GPU for this). Set torch.manual_seed(1234) when creating the tensors (this doesn't have to be the GPU random seed). The output should be something like:"
   ]
  },
  {
   "cell_type": "code",
   "execution_count": 48,
   "id": "1f4b696c",
   "metadata": {},
   "outputs": [
    {
     "data": {
      "text/plain": [
       "False"
      ]
     },
     "execution_count": 48,
     "metadata": {},
     "output_type": "execute_result"
    }
   ],
   "source": [
    "torch.cuda.is_available()"
   ]
  },
  {
   "cell_type": "code",
   "execution_count": 51,
   "id": "caa8df3d",
   "metadata": {},
   "outputs": [],
   "source": [
    "torch.manual_seed(42)\n",
    "tensor_a = torch.rand(size=(3, 2), device=\"mps\")\n",
    "\n",
    "torch.manual_seed(42)\n",
    "tensor_b = torch.rand(size=(3, 4), device=\"mps\")"
   ]
  },
  {
   "cell_type": "code",
   "execution_count": 52,
   "id": "d861ff23",
   "metadata": {},
   "outputs": [
    {
     "data": {
      "text/plain": [
       "(device(type='mps', index=0),\n",
       " tensor([[0.8172, 0.5881],\n",
       "         [0.5581, 0.7691],\n",
       "         [0.3394, 0.4560]], device='mps:0'))"
      ]
     },
     "execution_count": 52,
     "metadata": {},
     "output_type": "execute_result"
    }
   ],
   "source": [
    "tensor_a.device, tensor_a"
   ]
  },
  {
   "cell_type": "code",
   "execution_count": 53,
   "id": "f74ecba3",
   "metadata": {},
   "outputs": [
    {
     "data": {
      "text/plain": [
       "(device(type='mps', index=0),\n",
       " tensor([[8.1718e-01, 5.8811e-01, 5.5805e-01, 7.6914e-01],\n",
       "         [3.3936e-01, 4.5596e-01, 6.7508e-01, 4.4060e-04],\n",
       "         [4.0876e-01, 1.7912e-01, 5.9732e-01, 8.4722e-01]], device='mps:0'))"
      ]
     },
     "execution_count": 53,
     "metadata": {},
     "output_type": "execute_result"
    }
   ],
   "source": [
    "tensor_b.device, tensor_b"
   ]
  },
  {
   "cell_type": "markdown",
   "id": "b354122e",
   "metadata": {},
   "source": [
    "## 7. Perform a matrix multiplication on the tensors you created in 6 (again, you may have to adjust the shapes of one of the tensors)."
   ]
  },
  {
   "cell_type": "code",
   "execution_count": 55,
   "id": "bbe85aee",
   "metadata": {},
   "outputs": [
    {
     "data": {
      "text/plain": [
       "tensor([[0.9959, 0.7958, 1.0355, 0.9163],\n",
       "        [0.9280, 0.7782, 1.1198, 0.8390]], device='mps:0')"
      ]
     },
     "execution_count": 55,
     "metadata": {},
     "output_type": "execute_result"
    }
   ],
   "source": [
    "tensor_a.T @ tensor_b"
   ]
  },
  {
   "cell_type": "code",
   "execution_count": 59,
   "id": "0936a8cc",
   "metadata": {},
   "outputs": [
    {
     "data": {
      "text/plain": [
       "tensor([[0.9959, 0.9280],\n",
       "        [0.7958, 0.7782],\n",
       "        [1.0355, 1.1198],\n",
       "        [0.9163, 0.8390]], device='mps:0')"
      ]
     },
     "execution_count": 59,
     "metadata": {},
     "output_type": "execute_result"
    }
   ],
   "source": [
    "tensor_b.T @ tensor_a"
   ]
  },
  {
   "cell_type": "markdown",
   "id": "400cdfac",
   "metadata": {},
   "source": [
    "## 8. Find the maximum and minimum values of the output of 7."
   ]
  },
  {
   "cell_type": "code",
   "execution_count": 60,
   "id": "bf3c1193",
   "metadata": {},
   "outputs": [],
   "source": [
    "tensor_c = tensor_a.T @ tensor_b\n",
    "tensor_d = tensor_b.T @ tensor_a"
   ]
  },
  {
   "cell_type": "code",
   "execution_count": 63,
   "id": "6e7e03ca",
   "metadata": {},
   "outputs": [
    {
     "data": {
      "text/plain": [
       "(tensor(0.7782, device='mps:0'), tensor(0.7782, device='mps:0'))"
      ]
     },
     "execution_count": 63,
     "metadata": {},
     "output_type": "execute_result"
    }
   ],
   "source": [
    "torch.min(tensor_c), tensor_d.min()"
   ]
  },
  {
   "cell_type": "code",
   "execution_count": 64,
   "id": "4409be95",
   "metadata": {},
   "outputs": [
    {
     "data": {
      "text/plain": [
       "(tensor(1.1198, device='mps:0'), tensor(1.1198, device='mps:0'))"
      ]
     },
     "execution_count": 64,
     "metadata": {},
     "output_type": "execute_result"
    }
   ],
   "source": [
    "torch.max(tensor_c), tensor_d.max()"
   ]
  },
  {
   "cell_type": "markdown",
   "id": "46c57374",
   "metadata": {},
   "source": [
    "## 9. Find the maximum and minimum index values of the output of 7."
   ]
  },
  {
   "cell_type": "code",
   "execution_count": 66,
   "id": "622e64da",
   "metadata": {},
   "outputs": [
    {
     "data": {
      "text/plain": [
       "(tensor(5, device='mps:0'), tensor(3, device='mps:0'))"
      ]
     },
     "execution_count": 66,
     "metadata": {},
     "output_type": "execute_result"
    }
   ],
   "source": [
    "torch.argmin(tensor_c), tensor_d.argmin()"
   ]
  },
  {
   "cell_type": "code",
   "execution_count": 67,
   "id": "ddad1025",
   "metadata": {},
   "outputs": [
    {
     "data": {
      "text/plain": [
       "(tensor(5, device='mps:0'), tensor(5, device='mps:0'))"
      ]
     },
     "execution_count": 67,
     "metadata": {},
     "output_type": "execute_result"
    }
   ],
   "source": [
    "torch.argmax(tensor_d), tensor_d.argmax()"
   ]
  },
  {
   "cell_type": "markdown",
   "id": "4d275c7f",
   "metadata": {},
   "source": [
    "## 10. Make a random tensor with shape (1, 1, 1, 10) and then create a new tensor with all the 1 dimensions removed to be left with a tensor of shape (10). Set the seed to 7 when you create it and print out the first tensor and it's shape as well as the second tensor and it's shape."
   ]
  },
  {
   "cell_type": "code",
   "execution_count": 74,
   "id": "51be55a1",
   "metadata": {},
   "outputs": [
    {
     "data": {
      "text/plain": [
       "(tensor([[[[0.5349, 0.1988, 0.6592, 0.6569, 0.2328, 0.4251, 0.2071, 0.6297,\n",
       "            0.3653, 0.8513]]]]),\n",
       " torch.Size([1, 1, 1, 10]))"
      ]
     },
     "execution_count": 74,
     "metadata": {},
     "output_type": "execute_result"
    }
   ],
   "source": [
    "torch.manual_seed(7)\n",
    "tensor = torch.rand(size=(1, 1, 1, 10))\n",
    "tensor, tensor.shape"
   ]
  },
  {
   "cell_type": "code",
   "execution_count": 75,
   "id": "aaee7963",
   "metadata": {},
   "outputs": [
    {
     "data": {
      "text/plain": [
       "(tensor([0.5349, 0.1988, 0.6592, 0.6569, 0.2328, 0.4251, 0.2071, 0.6297, 0.3653,\n",
       "         0.8513]),\n",
       " torch.Size([10]))"
      ]
     },
     "execution_count": 75,
     "metadata": {},
     "output_type": "execute_result"
    }
   ],
   "source": [
    "new_tensor = tensor.squeeze()\n",
    "new_tensor, new_tensor.shape"
   ]
  },
  {
   "cell_type": "code",
   "execution_count": null,
   "id": "e40638f9",
   "metadata": {},
   "outputs": [],
   "source": []
  }
 ],
 "metadata": {
  "kernelspec": {
   "display_name": "pytorch-course (3.11.12)",
   "language": "python",
   "name": "python3"
  },
  "language_info": {
   "codemirror_mode": {
    "name": "ipython",
    "version": 3
   },
   "file_extension": ".py",
   "mimetype": "text/x-python",
   "name": "python",
   "nbconvert_exporter": "python",
   "pygments_lexer": "ipython3",
   "version": "3.11.12"
  }
 },
 "nbformat": 4,
 "nbformat_minor": 5
}
