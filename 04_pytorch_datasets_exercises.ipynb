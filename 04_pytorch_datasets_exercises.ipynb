{
 "cells": [
  {
   "cell_type": "markdown",
   "id": "7435eba8",
   "metadata": {},
   "source": [
    "# 04. PyTorch Custom Datasets Exercises"
   ]
  },
  {
   "cell_type": "markdown",
   "id": "81525de8",
   "metadata": {},
   "source": []
  }
 ],
 "metadata": {
  "language_info": {
   "name": "python"
  }
 },
 "nbformat": 4,
 "nbformat_minor": 5
}
