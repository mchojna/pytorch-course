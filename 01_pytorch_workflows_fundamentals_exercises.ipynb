{
 "cells": [
  {
   "cell_type": "markdown",
   "id": "944bb7e4",
   "metadata": {},
   "source": [
    "# 01. PyTorch Workflow Fundamentals Exercises\n",
    "\n",
    "Resource: See the exercises notebooks templates and solutions on the course GitHub."
   ]
  },
  {
   "cell_type": "code",
   "execution_count": 2,
   "id": "78daae21",
   "metadata": {},
   "outputs": [
    {
     "name": "stdout",
     "output_type": "stream",
     "text": [
      "2.7.1\n"
     ]
    }
   ],
   "source": [
    "import torch\n",
    "from torch import nn\n",
    "import matplotlib.pyplot as plt\n",
    "\n",
    "print(torch.__version__)"
   ]
  },
  {
   "cell_type": "code",
   "execution_count": 3,
   "id": "bc7b9972",
   "metadata": {},
   "outputs": [],
   "source": [
    "device = \"cuda\" if torch.cuda.is_available() else \"mps\""
   ]
  },
  {
   "cell_type": "markdown",
   "id": "1d1ebedf",
   "metadata": {},
   "source": [
    "## 1. Create a straight line dataset using the linear regression formula (weight * X + bias).\n",
    "\n",
    "- Set `weight=0.3` and `bias=0.9` there should be at least 100 datapoints total.\n",
    "- Split the data into 80% training, 20% testing.\n",
    "- Plot the training and testing data so it becomes visual."
   ]
  },
  {
   "cell_type": "code",
   "execution_count": 7,
   "id": "807e8829",
   "metadata": {},
   "outputs": [],
   "source": [
    "weight = 0.3\n",
    "bias = 0.9\n",
    "\n",
    "start = 0\n",
    "end = 1\n",
    "step = 0.01\n",
    "X = torch.arange(start=start, end=end, step=step, device=device)\n",
    "y = weight * X + bias"
   ]
  },
  {
   "cell_type": "code",
   "execution_count": 8,
   "id": "24f70be7",
   "metadata": {},
   "outputs": [
    {
     "data": {
      "text/plain": [
       "(80, 80, 20, 20)"
      ]
     },
     "execution_count": 8,
     "metadata": {},
     "output_type": "execute_result"
    }
   ],
   "source": [
    "size = int(0.8 * len(X))\n",
    "\n",
    "X_train, y_train = X[:size], y[:size]\n",
    "X_test, y_test = X[size:], y[size:]\n",
    "\n",
    "len(X_train), len(y_train), len(X_test), len(y_test)"
   ]
  },
  {
   "cell_type": "code",
   "execution_count": 26,
   "id": "f93f0604",
   "metadata": {},
   "outputs": [
    {
     "data": {
      "text/plain": [
       "(device(type='mps', index=0),\n",
       " device(type='mps', index=0),\n",
       " device(type='mps', index=0),\n",
       " device(type='mps', index=0))"
      ]
     },
     "execution_count": 26,
     "metadata": {},
     "output_type": "execute_result"
    }
   ],
   "source": [
    "X_train.device, y_train.device, X_test.device, y_test.device"
   ]
  },
  {
   "cell_type": "code",
   "execution_count": 44,
   "id": "f0afbfa4",
   "metadata": {},
   "outputs": [],
   "source": [
    "def plot(X_train, y_train, X_test, y_test, predictions) -> None:\n",
    "    plt.figure(figsize=(10, 7))\n",
    "    \n",
    "    plt.scatter(X_train, y_train, c=\"b\", s=4, label=\"Training data\")\n",
    "    \n",
    "    plt.scatter(X_test, y_test, c=\"g\", s=4, label=\"Testing data\")\n",
    "\n",
    "    if predictions is not None:\n",
    "        plt.scatter(X_test, predictions, c=\"r\", s=4, label=\"Predictions\")\n",
    "    \n",
    "    plt.legend(prop={\"size\": 14});\n",
    "    plt.show()"
   ]
  },
  {
   "cell_type": "markdown",
   "id": "365f30ef",
   "metadata": {},
   "source": [
    "## 2. Build a PyTorch model by subclassing `nn.Module`.\n",
    "\n",
    "- Inside should be a randomly initialized `nn.Parameter()` with `requires_grad=True`, one for `weights` and one for `bias`.\n",
    "- Implement the `forward()` method to compute the linear regression function you used to create the dataset in 1.\n",
    "- Once you've constructed the model, make an instance of it and check its `state_dict()`.\n",
    "- Note: If you'd like to use `nn.Linear()` instead of `nn.Parameter()` you can."
   ]
  },
  {
   "cell_type": "code",
   "execution_count": 47,
   "id": "a78ba1bb",
   "metadata": {},
   "outputs": [],
   "source": [
    "class MLModel(nn.Module):\n",
    "    def __init__(self):\n",
    "        super().__init__()\n",
    "\n",
    "        self.weight = nn.Parameter(\n",
    "            torch.randn(1,\n",
    "                requires_grad=True,\n",
    "                dtype=torch.float\n",
    "            ),\n",
    "            requires_grad=True\n",
    "            )\n",
    "        self.bias = nn.Parameter(\n",
    "            torch.randn(1,\n",
    "                requires_grad=True,\n",
    "                dtype=torch.float\n",
    "                ),\n",
    "            requires_grad=True\n",
    "            )\n",
    "    \n",
    "    def forward(self, x: torch.Tensor) -> torch.Tensor:\n",
    "        return self.weight * x + self.bias"
   ]
  },
  {
   "cell_type": "code",
   "execution_count": 48,
   "id": "a7677224",
   "metadata": {},
   "outputs": [],
   "source": [
    "model = MLModel()"
   ]
  },
  {
   "cell_type": "code",
   "execution_count": 49,
   "id": "9a34140b",
   "metadata": {},
   "outputs": [
    {
     "data": {
      "text/plain": [
       "OrderedDict([('weight', tensor([-0.0221])), ('bias', tensor([0.8306]))])"
      ]
     },
     "execution_count": 49,
     "metadata": {},
     "output_type": "execute_result"
    }
   ],
   "source": [
    "model.state_dict()"
   ]
  },
  {
   "cell_type": "code",
   "execution_count": 50,
   "id": "a4de480c",
   "metadata": {},
   "outputs": [
    {
     "data": {
      "text/plain": [
       "[Parameter containing:\n",
       " tensor([-0.0221], requires_grad=True),\n",
       " Parameter containing:\n",
       " tensor([0.8306], requires_grad=True)]"
      ]
     },
     "execution_count": 50,
     "metadata": {},
     "output_type": "execute_result"
    }
   ],
   "source": [
    "list(model.parameters())"
   ]
  },
  {
   "cell_type": "code",
   "execution_count": 51,
   "id": "e84fe076",
   "metadata": {},
   "outputs": [
    {
     "data": {
      "text/plain": [
       "MLModel()"
      ]
     },
     "execution_count": 51,
     "metadata": {},
     "output_type": "execute_result"
    }
   ],
   "source": [
    "model.to(device)"
   ]
  },
  {
   "cell_type": "code",
   "execution_count": 52,
   "id": "2931bc28",
   "metadata": {},
   "outputs": [
    {
     "data": {
      "text/plain": [
       "device(type='mps', index=0)"
      ]
     },
     "execution_count": 52,
     "metadata": {},
     "output_type": "execute_result"
    }
   ],
   "source": [
    "next(model.parameters()).device"
   ]
  },
  {
   "cell_type": "markdown",
   "id": "9c454641",
   "metadata": {},
   "source": [
    "## 3. Create a loss function and optimizer using `nn.L1Loss()` and `torch.optim.SGD(params, lr)` respectively.\n",
    "\n",
    "- Set the learning rate of the optimizer to be 0.01 and the parameters to optimize should be the model parameters from the model you created in 2.\n",
    "- Write a training loop to perform the appropriate training steps for 300 epochs.\n",
    "- The training loop should test the model on the test dataset every 20 epochs."
   ]
  },
  {
   "cell_type": "code",
   "execution_count": 53,
   "id": "44b8942c",
   "metadata": {},
   "outputs": [],
   "source": [
    "loss_fn = nn.L1Loss()\n",
    "optimizer = torch.optim.SGD(\n",
    "    params=model.parameters(),\n",
    "    lr=0.01\n",
    ")"
   ]
  },
  {
   "cell_type": "code",
   "execution_count": 54,
   "id": "99c5d9ad",
   "metadata": {},
   "outputs": [
    {
     "data": {
      "text/plain": [
       "(L1Loss(),\n",
       " SGD (\n",
       " Parameter Group 0\n",
       "     dampening: 0\n",
       "     differentiable: False\n",
       "     foreach: None\n",
       "     fused: None\n",
       "     lr: 0.01\n",
       "     maximize: False\n",
       "     momentum: 0\n",
       "     nesterov: False\n",
       "     weight_decay: 0\n",
       " ))"
      ]
     },
     "execution_count": 54,
     "metadata": {},
     "output_type": "execute_result"
    }
   ],
   "source": [
    "loss_fn, optimizer"
   ]
  },
  {
   "cell_type": "code",
   "execution_count": 55,
   "id": "52750a04",
   "metadata": {},
   "outputs": [
    {
     "name": "stdout",
     "output_type": "stream",
     "text": [
      "Epoch: 0 | Loss: 0.19663843512535095 | Test loss: 0.34413665533065796\n",
      "Epoch: 20 | Loss: 0.05233875662088394 | Test loss: 0.14232368767261505\n",
      "Epoch: 40 | Loss: 0.04117400199174881 | Test loss: 0.09764361381530762\n",
      "Epoch: 60 | Loss: 0.034296996891498566 | Test loss: 0.08028418570756912\n",
      "Epoch: 80 | Loss: 0.027445798739790916 | Test loss: 0.0639566108584404\n",
      "Epoch: 100 | Loss: 0.020593849942088127 | Test loss: 0.04762909933924675\n",
      "Epoch: 120 | Loss: 0.013742429204285145 | Test loss: 0.031645454466342926\n",
      "Epoch: 140 | Loss: 0.006891225464642048 | Test loss: 0.01531787496060133\n",
      "Epoch: 160 | Loss: 0.0081739267334342 | Test loss: 0.0068209110759198666\n",
      "Epoch: 180 | Loss: 0.0081739267334342 | Test loss: 0.0068209110759198666\n",
      "Epoch: 200 | Loss: 0.0081739267334342 | Test loss: 0.0068209110759198666\n",
      "Epoch: 220 | Loss: 0.0081739267334342 | Test loss: 0.0068209110759198666\n",
      "Epoch: 240 | Loss: 0.0081739267334342 | Test loss: 0.0068209110759198666\n",
      "Epoch: 260 | Loss: 0.0081739267334342 | Test loss: 0.0068209110759198666\n",
      "Epoch: 280 | Loss: 0.0081739267334342 | Test loss: 0.0068209110759198666\n"
     ]
    }
   ],
   "source": [
    "epochs = 300\n",
    "\n",
    "for epoch in range(epochs):\n",
    "    model.train()\n",
    "\n",
    "    y_pred = model(X_train)\n",
    "\n",
    "    loss = loss_fn(y_pred, y_train)\n",
    "\n",
    "    optimizer.zero_grad()\n",
    "\n",
    "    loss.backward()\n",
    "\n",
    "    optimizer.step()\n",
    "\n",
    "    model.eval()\n",
    "\n",
    "    if epoch % 20 == 0:\n",
    "        model.eval()\n",
    "\n",
    "        with torch.inference_mode():\n",
    "            test_pred = model(X_test)\n",
    "\n",
    "            test_loss = loss_fn(test_pred, y_test)\n",
    "        \n",
    "        print(f\"Epoch: {epoch} | Loss: {loss} | Test loss: {test_loss}\")"
   ]
  },
  {
   "cell_type": "code",
   "execution_count": 56,
   "id": "e5a592b0",
   "metadata": {},
   "outputs": [
    {
     "data": {
      "text/plain": [
       "OrderedDict([('weight', tensor([0.2971], device='mps:0')),\n",
       "             ('bias', tensor([0.9093], device='mps:0'))])"
      ]
     },
     "execution_count": 56,
     "metadata": {},
     "output_type": "execute_result"
    }
   ],
   "source": [
    "model.state_dict()"
   ]
  },
  {
   "cell_type": "code",
   "execution_count": 57,
   "id": "6dafd7e4",
   "metadata": {},
   "outputs": [
    {
     "data": {
      "text/plain": [
       "(0.3, 0.9)"
      ]
     },
     "execution_count": 57,
     "metadata": {},
     "output_type": "execute_result"
    }
   ],
   "source": [
    "weight, bias"
   ]
  },
  {
   "cell_type": "markdown",
   "id": "287a9970",
   "metadata": {},
   "source": [
    "## 4. Make predictions with the trained model on the test data.\n",
    "\n",
    "- Visualize these predictions against the original training and testing data (note: you may need to make sure the predictions are not on the GPU if you want to use non-CUDA-enabled libraries such as matplotlib to plot)."
   ]
  },
  {
   "cell_type": "code",
   "execution_count": 58,
   "id": "98f3ceee",
   "metadata": {},
   "outputs": [],
   "source": [
    "model.eval()\n",
    "\n",
    "with torch.inference_mode():\n",
    "    new_pred = model(X_test)"
   ]
  },
  {
   "cell_type": "code",
   "execution_count": 59,
   "id": "45d587f3",
   "metadata": {},
   "outputs": [
    {
     "data": {
      "image/png": "[encoded data removed]",
      "text/plain": [
       "<Figure size 1000x700 with 1 Axes>"
      ]
     },
     "metadata": {},
     "output_type": "display_data"
    }
   ],
   "source": [
    "plot(\n",
    "    X_train.cpu(), \n",
    "    y_train.cpu(), \n",
    "    X_test.cpu(), \n",
    "    y_test.cpu(), \n",
    "    new_pred.cpu()\n",
    ")"
   ]
  },
  {
   "cell_type": "markdown",
   "id": "2a5df45f",
   "metadata": {},
   "source": [
    "## 5. Save your trained model's `state_dict()` to file.\n",
    "\n",
    "- Create a new instance of your model class you made in 2. and load in the `state_dict()` you just saved to it.\n",
    "- Perform predictions on your test data with the loaded model and confirm they match the original model predictions from 4."
   ]
  },
  {
   "cell_type": "code",
   "execution_count": 60,
   "id": "d6f6af35",
   "metadata": {},
   "outputs": [
    {
     "name": "stdout",
     "output_type": "stream",
     "text": [
      "Saving model to: models/01_pytorch_workflows_exercises_model.ipynb\n"
     ]
    }
   ],
   "source": [
    "from pathlib import Path\n",
    "\n",
    "MODEL_PATH = Path(\"models\")\n",
    "MODEL_PATH.mkdir(parents=True, exist_ok=True)\n",
    "\n",
    "MODEL_NAME = \"01_pytorch_workflows_exercises_model.ipynb\"\n",
    "MODEL_SAVE_PATH = MODEL_PATH / MODEL_NAME\n",
    "\n",
    "print(f\"Saving model to: {MODEL_SAVE_PATH}\")\n",
    "\n",
    "torch.save(\n",
    "    obj=model.state_dict(),\n",
    "    f=MODEL_SAVE_PATH\n",
    ")"
   ]
  },
  {
   "cell_type": "code",
   "execution_count": 63,
   "id": "db7b3d46",
   "metadata": {},
   "outputs": [
    {
     "data": {
      "text/plain": [
       "device(type='mps', index=0)"
      ]
     },
     "execution_count": 63,
     "metadata": {},
     "output_type": "execute_result"
    }
   ],
   "source": [
    "loaded_model = MLModel()\n",
    "\n",
    "loaded_model.load_state_dict(\n",
    "    torch.load(MODEL_SAVE_PATH)\n",
    ")\n",
    "\n",
    "loaded_model.to(device)\n",
    "next(loaded_model.parameters()).device"
   ]
  },
  {
   "cell_type": "code",
   "execution_count": 70,
   "id": "159896c8",
   "metadata": {},
   "outputs": [
    {
     "data": {
      "text/plain": [
       "tensor([True, True, True, True, True, True, True, True, True, True, True, True,\n",
       "        True, True, True, True, True, True, True, True], device='mps:0')"
      ]
     },
     "execution_count": 70,
     "metadata": {},
     "output_type": "execute_result"
    }
   ],
   "source": [
    "loaded_model.eval()\n",
    "with torch.inference_mode():\n",
    "    loaded_model_pred = loaded_model(X_test)\n",
    "\n",
    "new_pred == loaded_model_pred"
   ]
  }
 ],
 "metadata": {
  "kernelspec": {
   "display_name": ".venv",
   "language": "python",
   "name": "python3"
  },
  "language_info": {
   "codemirror_mode": {
    "name": "ipython",
    "version": 3
   },
   "file_extension": ".py",
   "mimetype": "text/x-python",
   "name": "python",
   "nbconvert_exporter": "python",
   "pygments_lexer": "ipython3",
   "version": "3.13.5"
  }
 },
 "nbformat": 4,
 "nbformat_minor": 5
}
