{
 "cells": [
  {
   "cell_type": "markdown",
   "id": "32dd0498",
   "metadata": {},
   "source": [
    "# 02. Neural Network Classification with PyTorch Exercises\n",
    "\n",
    "Resources: https://www.learnpytorch.io/02_pytorch_classification/"
   ]
  },
  {
   "cell_type": "code",
   "execution_count": null,
   "id": "81a0fcd7",
   "metadata": {},
   "outputs": [],
   "source": []
  },
  {
   "cell_type": "code",
   "execution_count": null,
   "id": "c357ee72",
   "metadata": {},
   "outputs": [],
   "source": []
  }
 ],
 "metadata": {
  "language_info": {
   "name": "python"
  }
 },
 "nbformat": 4,
 "nbformat_minor": 5
}
