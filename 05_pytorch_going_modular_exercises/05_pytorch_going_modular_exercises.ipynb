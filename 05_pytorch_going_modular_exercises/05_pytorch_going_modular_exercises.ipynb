{
 "cells": [
  {
   "cell_type": "markdown",
   "id": "5f0850aa",
   "metadata": {},
   "source": [
    "# 05. PyTorch Going Modular Exercises"
   ]
  },
  {
   "cell_type": "markdown",
   "id": "d0b1c680",
   "metadata": {},
   "source": [
    "## Resources"
   ]
  },
  {
   "cell_type": "markdown",
   "id": "4efa9246",
   "metadata": {},
   "source": [
    "These exercises/solutions are based on section 05. PyTorch Going Modular of the Learn PyTorch for Deep Learning course by Zero to Mastery: https://www.learnpytorch.io/05_pytorch_going_modular/"
   ]
  },
  {
   "cell_type": "markdown",
   "id": "dafb159e",
   "metadata": {},
   "source": [
    "## 1. Turn the code to get the data into a Python script"
   ]
  },
  {
   "cell_type": "markdown",
   "id": "a35699ae",
   "metadata": {},
   "source": [
    "When you run the script using python `get_data.py` it should check if the data already exists and skip downloading if it does.\n",
    "If the data download is successful, you should be able to access the `pizza_steak_sushi` images from the data directory."
   ]
  },
  {
   "cell_type": "code",
   "execution_count": 41,
   "id": "0aca905d",
   "metadata": {},
   "outputs": [
    {
     "name": "stdout",
     "output_type": "stream",
     "text": [
      "Overwriting src/get_data.py\n"
     ]
    }
   ],
   "source": [
    "%%writefile src/get_data.py\n",
    "\"\"\"\n",
    "Contains function to download data\n",
    "\"\"\"\n",
    "\n",
    "import os\n",
    "import requests\n",
    "import zipfile\n",
    "from pathlib import Path\n",
    "\n",
    "\n",
    "def get_data(\n",
    "    data_dir_str: str = \"data/\",\n",
    "    image_path_str: str = \"pizza_steak_sushi\",\n",
    "    data_url_str: str = \"https://github.com/mrdbourke/pytorch-deep-learning/raw/main/data/pizza_steak_sushi.zip\",\n",
    "    file_name_str: str = \"pizza_steak_sushi.zip\"\n",
    ") -> None:\n",
    "    \"\"\"Downloads data from GitHub\n",
    "\n",
    "    Args:\n",
    "        data_dir_str (str, optional): Path do data directory.\n",
    "            Defaults to \"../data/\".\n",
    "        image_path_str (str, optional): Name of the folder where data will\n",
    "            be stored. Defaults to \"pizza_steak_sushi\".\n",
    "        data_url_str (_type_, optional): Link to site from where data will\n",
    "            be downloaded. Defaults to \"https://github.com/mrdbourke/ \\\n",
    "            pytorch-deep-learning/raw/main/data/pizza_steak_sushi.zip\".\n",
    "        file_name_str (str, optional): Name of the downloaded file.\n",
    "            Defaults to \"pizza_steak_sushi.zip\".\n",
    "    \"\"\"\n",
    "    \n",
    "    # Setup path to data folder\n",
    "    data_dir = Path(data_dir_str)\n",
    "    image_path = data_dir / image_path_str\n",
    "    \n",
    "    # Check if data folder exists\n",
    "    if image_path.exists():\n",
    "        print(f\"{image_path} exists...\")\n",
    "    else:\n",
    "        print(f\"{image_path} does not exists, creating...\")\n",
    "        image_path.mkdir(parents=True, exist_ok=True)\n",
    "    \n",
    "    # Check if data is already downloaded\n",
    "    if len(list(image_path.glob(\"*/*/*\"))) == 0:\n",
    "        \n",
    "        # Download data\n",
    "        with open(data_dir / file_name_str, \"wb\") as f:\n",
    "            print(f\"Downloading {file_name_str}...\")\n",
    "            request = requests.get(data_url_str)\n",
    "            f.write(request.content)\n",
    "        \n",
    "        # Unzip data\n",
    "        with zipfile.ZipFile(data_dir / file_name_str, \"r\") as z:\n",
    "            print(f\"Extracting {file_name_str}...\")\n",
    "            z.extractall(image_path)\n",
    "            \n",
    "        # Remove zip file\n",
    "        print(f\"Deleting {file_name_str}...\")\n",
    "        os.remove(data_dir / file_name_str)\n",
    "    else:\n",
    "        print(f\"Data in {image_path} already exits, skipping downloading and unzipping...\")\n",
    "        \n",
    "    print(\"Finished getting data...\")\n",
    "    \n",
    "if __name__==\"__main__\":\n",
    "    get_data()"
   ]
  },
  {
   "cell_type": "code",
   "execution_count": 42,
   "id": "1dfef1c2",
   "metadata": {},
   "outputs": [
    {
     "name": "stdout",
     "output_type": "stream",
     "text": [
      "data/pizza_steak_sushi does not exists, creating...\n",
      "Downloading pizza_steak_sushi.zip...\n",
      "Extracting pizza_steak_sushi.zip...\n",
      "Deleting pizza_steak_sushi.zip...\n",
      "Finished getting data...\n"
     ]
    }
   ],
   "source": [
    "!python src/get_data.py"
   ]
  },
  {
   "cell_type": "code",
   "execution_count": null,
   "id": "6748bd90",
   "metadata": {},
   "outputs": [],
   "source": []
  }
 ],
 "metadata": {
  "kernelspec": {
   "display_name": ".venv",
   "language": "python",
   "name": "python3"
  },
  "language_info": {
   "codemirror_mode": {
    "name": "ipython",
    "version": 3
   },
   "file_extension": ".py",
   "mimetype": "text/x-python",
   "name": "python",
   "nbconvert_exporter": "python",
   "pygments_lexer": "ipython3",
   "version": "3.13.5"
  }
 },
 "nbformat": 4,
 "nbformat_minor": 5
}
