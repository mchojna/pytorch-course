{
 "cells": [
  {
   "cell_type": "markdown",
   "id": "5f0850aa",
   "metadata": {},
   "source": [
    "# 05. PyTorch Going Modular Exercises"
   ]
  },
  {
   "cell_type": "markdown",
   "id": "d0b1c680",
   "metadata": {},
   "source": [
    "## Resources"
   ]
  },
  {
   "cell_type": "markdown",
   "id": "4efa9246",
   "metadata": {},
   "source": [
    "These exercises/solutions are based on section 05. PyTorch Going Modular of the Learn PyTorch for Deep Learning course by Zero to Mastery: https://www.learnpytorch.io/05_pytorch_going_modular/"
   ]
  },
  {
   "cell_type": "markdown",
   "id": "dafb159e",
   "metadata": {},
   "source": [
    "## 1. Turn the code to get the data into a Python script"
   ]
  },
  {
   "cell_type": "markdown",
   "id": "a35699ae",
   "metadata": {},
   "source": [
    "When you run the script using python `get_data.py` it should check if the data already exists and skip downloading if it does.\n",
    "If the data download is successful, you should be able to access the `pizza_steak_sushi` images from the data directory."
   ]
  },
  {
   "cell_type": "code",
   "execution_count": 41,
   "id": "0aca905d",
   "metadata": {},
   "outputs": [
    {
     "name": "stdout",
     "output_type": "stream",
     "text": [
      "Overwriting src/get_data.py\n"
     ]
    }
   ],
   "source": [
    "%%writefile src/get_data.py\n",
    "\"\"\"\n",
    "Contains function to download data\n",
    "\"\"\"\n",
    "\n",
    "import os\n",
    "import requests\n",
    "import zipfile\n",
    "from pathlib import Path\n",
    "\n",
    "\n",
    "def get_data(\n",
    "    data_dir_str: str = \"data/\",\n",
    "    image_path_str: str = \"pizza_steak_sushi\",\n",
    "    data_url_str: str = \"https://github.com/mrdbourke/pytorch-deep-learning/raw/main/data/pizza_steak_sushi.zip\",\n",
    "    file_name_str: str = \"pizza_steak_sushi.zip\"\n",
    ") -> None:\n",
    "    \"\"\"Downloads data from GitHub\n",
    "\n",
    "    Args:\n",
    "        data_dir_str (str, optional): Path do data directory.\n",
    "            Defaults to \"../data/\".\n",
    "        image_path_str (str, optional): Name of the folder where data will\n",
    "            be stored. Defaults to \"pizza_steak_sushi\".\n",
    "        data_url_str (_type_, optional): Link to site from where data will\n",
    "            be downloaded. Defaults to \"https://github.com/mrdbourke/ \\\n",
    "            pytorch-deep-learning/raw/main/data/pizza_steak_sushi.zip\".\n",
    "        file_name_str (str, optional): Name of the downloaded file.\n",
    "            Defaults to \"pizza_steak_sushi.zip\".\n",
    "    \"\"\"\n",
    "    \n",
    "    # Setup path to data folder\n",
    "    data_dir = Path(data_dir_str)\n",
    "    image_path = data_dir / image_path_str\n",
    "    \n",
    "    # Check if data folder exists\n",
    "    if image_path.exists():\n",
    "        print(f\"{image_path} exists...\")\n",
    "    else:\n",
    "        print(f\"{image_path} does not exists, creating...\")\n",
    "        image_path.mkdir(parents=True, exist_ok=True)\n",
    "    \n",
    "    # Check if data is already downloaded\n",
    "    if len(list(image_path.glob(\"*/*/*\"))) == 0:\n",
    "        \n",
    "        # Download data\n",
    "        with open(data_dir / file_name_str, \"wb\") as f:\n",
    "            print(f\"Downloading {file_name_str}...\")\n",
    "            request = requests.get(data_url_str)\n",
    "            f.write(request.content)\n",
    "        \n",
    "        # Unzip data\n",
    "        with zipfile.ZipFile(data_dir / file_name_str, \"r\") as z:\n",
    "            print(f\"Extracting {file_name_str}...\")\n",
    "            z.extractall(image_path)\n",
    "            \n",
    "        # Remove zip file\n",
    "        print(f\"Deleting {file_name_str}...\")\n",
    "        os.remove(data_dir / file_name_str)\n",
    "    else:\n",
    "        print(f\"Data in {image_path} already exits, skipping downloading and unzipping...\")\n",
    "        \n",
    "    print(\"Finished getting data...\")\n",
    "    \n",
    "if __name__==\"__main__\":\n",
    "    get_data()"
   ]
  },
  {
   "cell_type": "code",
   "execution_count": null,
   "id": "1dfef1c2",
   "metadata": {},
   "outputs": [
    {
     "name": "stdout",
     "output_type": "stream",
     "text": [
      "data/pizza_steak_sushi does not exists, creating...\n",
      "Downloading pizza_steak_sushi.zip...\n",
      "Extracting pizza_steak_sushi.zip...\n",
      "Deleting pizza_steak_sushi.zip...\n",
      "Finished getting data...\n"
     ]
    }
   ],
   "source": [
    "# Example running of get_data.py\n",
    "!python src/get_data.py"
   ]
  },
  {
   "cell_type": "markdown",
   "id": "9cc73010",
   "metadata": {},
   "source": [
    "## 2. Create Datasets and DataLoaders"
   ]
  },
  {
   "cell_type": "markdown",
   "id": "4d6c516c",
   "metadata": {},
   "source": []
  },
  {
   "cell_type": "markdown",
   "id": "c8d59995",
   "metadata": {},
   "source": [
    "## 3. Create a model (TinyVGG)"
   ]
  },
  {
   "cell_type": "markdown",
   "id": "f9506862",
   "metadata": {},
   "source": []
  },
  {
   "cell_type": "markdown",
   "id": "b3184a41",
   "metadata": {},
   "source": [
    "## 4. Turn training and testing functions into scripts"
   ]
  },
  {
   "cell_type": "markdown",
   "id": "6eb8c64e",
   "metadata": {},
   "source": []
  },
  {
   "cell_type": "markdown",
   "id": "6748bd90",
   "metadata": {},
   "source": [
    "## 5. Turn saving functions into scripts"
   ]
  },
  {
   "cell_type": "markdown",
   "id": "fcb2c125",
   "metadata": {},
   "source": []
  },
  {
   "cell_type": "markdown",
   "id": "45ba86c5",
   "metadata": {},
   "source": [
    "## 6. Train evaluate and save model"
   ]
  },
  {
   "cell_type": "markdown",
   "id": "b95b061b",
   "metadata": {},
   "source": []
  },
  {
   "cell_type": "markdown",
   "id": "65994d2a",
   "metadata": {},
   "source": [
    "## 7. Use `argparse` module to be able to send the `train.py` custom hyperparameter values for training procedures"
   ]
  },
  {
   "cell_type": "markdown",
   "id": "f6382824",
   "metadata": {},
   "source": [
    "Add an argument flag for using a different:\n",
    "- Training/testing directory\n",
    "- Learning rate\n",
    "- Batch size\n",
    "- Number of epochs to train for\n",
    "- Number of hidden units in the TinyVGG model\n",
    "    - Keep the default values for each of the above arguments as what they already are\n",
    "\n",
    "For example, you should be able to run something similar to the following line to train a TinyVGG model with a learning rate of 0.003 and a batch size of 64 for 20 epochs: `python train.py --learning_rate 0.003 batch_size 64 num_epochs 20`"
   ]
  },
  {
   "cell_type": "markdown",
   "id": "ee208183",
   "metadata": {},
   "source": [
    "## 8. Create a Python script to predict on a target image given a file path with a saved model"
   ]
  },
  {
   "cell_type": "markdown",
   "id": "185bcad7",
   "metadata": {},
   "source": [
    "- For example, you should be able to run the command python `predict.py` `some_image.jpeg` and have a trained PyTorch model predict on the image and return its prediction.\n",
    "- You may also have to write code to load in a trained model."
   ]
  },
  {
   "cell_type": "markdown",
   "id": "675974b8",
   "metadata": {},
   "source": []
  }
 ],
 "metadata": {
  "kernelspec": {
   "display_name": ".venv",
   "language": "python",
   "name": "python3"
  },
  "language_info": {
   "codemirror_mode": {
    "name": "ipython",
    "version": 3
   },
   "file_extension": ".py",
   "mimetype": "text/x-python",
   "name": "python",
   "nbconvert_exporter": "python",
   "pygments_lexer": "ipython3",
   "version": "3.13.5"
  }
 },
 "nbformat": 4,
 "nbformat_minor": 5
}
