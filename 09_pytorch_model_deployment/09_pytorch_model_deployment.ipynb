{
 "cells": [
  {
   "cell_type": "markdown",
   "id": "f1c315ab",
   "metadata": {},
   "source": [
    "# 09. PyTorch Model Deployment\n",
    "\n",
    "What is model deployment?\n",
    "\n",
    "Machine learning model deployment is the act of making your machine learning model(s) available to someone or something else\n"
   ]
  },
  {
   "cell_type": "markdown",
   "id": "f7fb54ab",
   "metadata": {},
   "source": [
    "## Resources\n",
    "\n",
    "Link: https://www.learnpytorch.io/09_pytorch_model_deployment/"
   ]
  },
  {
   "cell_type": "markdown",
   "id": "5660c8d8",
   "metadata": {},
   "source": [
    "## 0. Get setup"
   ]
  },
  {
   "cell_type": "code",
   "execution_count": 9,
   "id": "33ef99d8",
   "metadata": {},
   "outputs": [],
   "source": [
    "import torch\n",
    "import torchvision\n",
    "\n",
    "from torch import nn\n",
    "from torchinfo import summary\n",
    "\n",
    "import numpy as np\n",
    "import pandas as pd\n",
    "\n",
    "import matplotlib.pyplot as plt\n",
    "\n",
    "from src import setup_data, get_data, helper_functions, utils, engine, predictions"
   ]
  },
  {
   "cell_type": "code",
   "execution_count": 10,
   "id": "b258d415",
   "metadata": {},
   "outputs": [
    {
     "data": {
      "text/plain": [
       "'mps'"
      ]
     },
     "execution_count": 10,
     "metadata": {},
     "output_type": "execute_result"
    }
   ],
   "source": [
    "device = \"cuda\" if torch.cuda.is_available() else (\n",
    "    \"mps\" if torch.mps.is_available() else \"cpu\"\n",
    ")\n",
    "\n",
    "device"
   ]
  },
  {
   "cell_type": "markdown",
   "id": "27cc5aaa",
   "metadata": {},
   "source": [
    "## 1. Geting data\n",
    "\n",
    "The dataset we're going to use for deploying a FoodVision Mini model is...\n",
    "\n",
    "Pizza, steak, sushi 20% dataset (pizza steak, sushi, classes from Food101, random 20% samples)"
   ]
  },
  {
   "cell_type": "code",
   "execution_count": null,
   "id": "6ed049c4",
   "metadata": {},
   "outputs": [
    {
     "name": "stdout",
     "output_type": "stream",
     "text": [
      "data/pizza_steak_sushi_20_percent does not exists, creating...\n",
      "Downloading pizza_steak_sushi_20_percent.zip...\n",
      "Extracting pizza_steak_sushi_20_percent.zip...\n",
      "Deleting pizza_steak_sushi_20_percent.zip...\n",
      "Finished getting data...\n"
     ]
    }
   ],
   "source": [
    "get_data.get_data(data_dir_str=\"data/\",\n",
    "                                         image_path_str=\"pizza_steak_sushi_20_percent\",\n",
    "                                         data_url_str=\"https://github.com/mrdbourke/pytorch-deep-learning/raw/main/data/pizza_steak_sushi_20_percent.zip\",\n",
    "                                         file_name_str=\"pizza_steak_sushi_20_percent.zip\")"
   ]
  },
  {
   "cell_type": "code",
   "execution_count": 16,
   "id": "0893fd2f",
   "metadata": {},
   "outputs": [],
   "source": [
    "# Setup training and testing paths\n",
    "from pathlib import Path\n",
    "\n",
    "train_dir = Path(\"data\") / \"pizza_steak_sushi_20_percent\" / \"train\"\n",
    "test_dir = Path(\"data\") / \"pizza_steak_sushi_20_percent\" / \"test\""
   ]
  },
  {
   "cell_type": "code",
   "execution_count": 17,
   "id": "5bb4439d",
   "metadata": {},
   "outputs": [
    {
     "data": {
      "text/plain": [
       "(PosixPath('data/pizza_steak_sushi_20_percent/train'),\n",
       " PosixPath('data/pizza_steak_sushi_20_percent/test'))"
      ]
     },
     "execution_count": 17,
     "metadata": {},
     "output_type": "execute_result"
    }
   ],
   "source": [
    "train_dir, test_dir"
   ]
  },
  {
   "cell_type": "code",
   "execution_count": null,
   "id": "b5ca8ad7",
   "metadata": {},
   "outputs": [],
   "source": []
  }
 ],
 "metadata": {
  "kernelspec": {
   "display_name": ".venv",
   "language": "python",
   "name": "python3"
  },
  "language_info": {
   "codemirror_mode": {
    "name": "ipython",
    "version": 3
   },
   "file_extension": ".py",
   "mimetype": "text/x-python",
   "name": "python",
   "nbconvert_exporter": "python",
   "pygments_lexer": "ipython3",
   "version": "3.13.5"
  }
 },
 "nbformat": 4,
 "nbformat_minor": 5
}
