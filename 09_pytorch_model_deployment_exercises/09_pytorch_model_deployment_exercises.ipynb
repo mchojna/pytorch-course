{
 "cells": [
  {
   "cell_type": "markdown",
   "id": "5e9b3077",
   "metadata": {},
   "source": [
    "# 09. PyTorch Model Deployment Exercise Solutions\n",
    "\n",
    "## Resources\n",
    "\n",
    "These exercises are based on https://www.learnpytorch.io/09_pytorch_model_deployment/ of the Learn PyTorch for Deep Learning course by Zero to Mastery"
   ]
  },
  {
   "cell_type": "markdown",
   "id": "6db73e01",
   "metadata": {},
   "source": [
    "### Get various imports and helper functions"
   ]
  },
  {
   "cell_type": "code",
   "execution_count": 1,
   "id": "c73059bf",
   "metadata": {},
   "outputs": [
    {
     "name": "stdout",
     "output_type": "stream",
     "text": [
      "torch version: 2.7.1+cu126\n",
      "torchvision version: 0.22.1+cu126\n"
     ]
    }
   ],
   "source": [
    "import torch\n",
    "import torchvision\n",
    "print(f\"torch version: {torch.__version__}\")\n",
    "print(f\"torchvision version: {torchvision.__version__}\")"
   ]
  },
  {
   "cell_type": "code",
   "execution_count": 2,
   "id": "5e706cc3",
   "metadata": {},
   "outputs": [],
   "source": [
    "# Continue with regular imports\n",
    "import matplotlib.pyplot as plt\n",
    "import torch\n",
    "import torchvision\n",
    "\n",
    "from torch import nn\n",
    "from torchvision import transforms\n",
    "\n",
    "from torchinfo import summary\n",
    "\n",
    "from src import setup_data, engine\n",
    "from src.helper_functions import download_data, set_seeds, plot_loss_curves"
   ]
  },
  {
   "cell_type": "code",
   "execution_count": 3,
   "id": "caf20326",
   "metadata": {},
   "outputs": [
    {
     "data": {
      "text/plain": [
       "'cuda'"
      ]
     },
     "execution_count": 3,
     "metadata": {},
     "output_type": "execute_result"
    }
   ],
   "source": [
    "device = \"cuda\" if torch.cuda.is_available() else \"cpu\"\n",
    "device"
   ]
  },
  {
   "cell_type": "markdown",
   "id": "442a5a12",
   "metadata": {},
   "source": [
    "### Get data\n",
    "\n",
    "Want to download the data we've been using in PyTorch Model Deployment: https://www.learnpytorch.io/09_pytorch_model_deployment/#1-getting-data"
   ]
  },
  {
   "cell_type": "code",
   "execution_count": 4,
   "id": "99312b50",
   "metadata": {},
   "outputs": [
    {
     "name": "stdout",
     "output_type": "stream",
     "text": [
      "[INFO] Did not find data/pizza_steak_sushi_20_percent directory, creating one...\n",
      "[INFO] Downloading pizza_steak_sushi_20_percent.zip from https://github.com/mrdbourke/pytorch-deep-learning/raw/main/data/pizza_steak_sushi_20_percent.zip...\n",
      "[INFO] Unzipping pizza_steak_sushi_20_percent.zip data...\n"
     ]
    },
    {
     "data": {
      "text/plain": [
       "PosixPath('data/pizza_steak_sushi_20_percent')"
      ]
     },
     "execution_count": 4,
     "metadata": {},
     "output_type": "execute_result"
    }
   ],
   "source": [
    "# Download pizza, steak, sushi images from GitHub\n",
    "image_path = download_data(source=\"https://github.com/mrdbourke/pytorch-deep-learning/raw/main/data/pizza_steak_sushi_20_percent.zip\",\n",
    "                           destination=\"pizza_steak_sushi_20_percent\")\n",
    "image_path"
   ]
  },
  {
   "cell_type": "code",
   "execution_count": 5,
   "id": "0a1e9a06",
   "metadata": {},
   "outputs": [],
   "source": [
    "# Setup directory paths to train and test images\n",
    "train_dir = image_path / \"train\"\n",
    "test_dir = image_path / \"test\""
   ]
  },
  {
   "cell_type": "markdown",
   "id": "6cefd950",
   "metadata": {},
   "source": [
    "### Preprocess data"
   ]
  },
  {
   "cell_type": "code",
   "execution_count": 6,
   "id": "9978903d",
   "metadata": {},
   "outputs": [
    {
     "name": "stdout",
     "output_type": "stream",
     "text": [
      "Manually created transforms: Compose(\n",
      "    Resize(size=(224, 224), interpolation=bilinear, max_size=None, antialias=True)\n",
      "    ToTensor()\n",
      ")\n"
     ]
    }
   ],
   "source": [
    "# Create image size (from Table 3 in the ViT paper) \n",
    "IMG_SIZE = 224\n",
    "\n",
    "# Create transform pipeline manually\n",
    "manual_transforms = transforms.Compose([\n",
    "    transforms.Resize((IMG_SIZE, IMG_SIZE)),\n",
    "    transforms.ToTensor(),\n",
    "])           \n",
    "print(f\"Manually created transforms: {manual_transforms}\")"
   ]
  },
  {
   "cell_type": "code",
   "execution_count": 7,
   "id": "c6724057",
   "metadata": {},
   "outputs": [
    {
     "data": {
      "text/plain": [
       "(<torch.utils.data.dataloader.DataLoader at 0x76be18d0bf10>,\n",
       " <torch.utils.data.dataloader.DataLoader at 0x76be18d0bf50>,\n",
       " ['pizza', 'steak', 'sushi'])"
      ]
     },
     "execution_count": 7,
     "metadata": {},
     "output_type": "execute_result"
    }
   ],
   "source": [
    "# Set the batch size\n",
    "BATCH_SIZE = 32 # this is lower than the ViT paper but it's because we're starting small\n",
    "\n",
    "# Create data loaders\n",
    "train_dataloader, test_dataloader, class_names = setup_data.create_dataloaders(\n",
    "    train_dir=train_dir,\n",
    "    test_dir=test_dir,\n",
    "    transform=manual_transforms, # use manually created transforms\n",
    "    batch_size=BATCH_SIZE\n",
    ")\n",
    "\n",
    "train_dataloader, test_dataloader, class_names"
   ]
  },
  {
   "cell_type": "code",
   "execution_count": 8,
   "id": "cc5cef77",
   "metadata": {},
   "outputs": [
    {
     "data": {
      "text/plain": [
       "(torch.Size([3, 224, 224]), tensor(2))"
      ]
     },
     "execution_count": 8,
     "metadata": {},
     "output_type": "execute_result"
    }
   ],
   "source": [
    "# Get a batch of images\n",
    "image_batch, label_batch = next(iter(train_dataloader))\n",
    "\n",
    "# Get a single image from the batch\n",
    "image, label = image_batch[0], label_batch[0]\n",
    "\n",
    "# View the batch shapes\n",
    "image.shape, label"
   ]
  },
  {
   "cell_type": "code",
   "execution_count": 9,
   "id": "836e9e3f",
   "metadata": {},
   "outputs": [
    {
     "data": {
      "image/png": "[encoded data removed]",
      "text/plain": [
       "<Figure size 640x480 with 1 Axes>"
      ]
     },
     "metadata": {},
     "output_type": "display_data"
    }
   ],
   "source": [
    "# Plot image with matplotlib\n",
    "plt.imshow(image.permute(1, 2, 0)) # rearrange image dimensions to suit matplotlib [color_channels, height, width] -> [height, width, color_channels]\n",
    "plt.title(class_names[label])\n",
    "plt.axis(False);"
   ]
  },
  {
   "cell_type": "markdown",
   "id": "8f68acbb",
   "metadata": {},
   "source": [
    "## Exercise 1. Make and time predictions with both feature extractor models on the test dataset using the GPU (`device=\"cuda\"`). \n",
    "\n",
    "* Compare the model's prediction times on GPU vs CPU - does this close the gap between them? As in, does making predictions on the GPU make the ViT feature extractor prediction times closer to the EffNetB2 feature extractor prediction times?\n",
    "* You'll find code to do these steps in [section 5. Making predictions with our trained models and timing them](https://www.learnpytorch.io/09_pytorch_model_deployment/#5-making-predictions-with-our-trained-models-and-timing-them) and [section 6. Comparing model results, prediction times and size](https://www.learnpytorch.io/09_pytorch_model_deployment/#6-comparing-model-results-prediction-times-and-size)."
   ]
  },
  {
   "cell_type": "markdown",
   "id": "1cc30d6c",
   "metadata": {},
   "source": [
    "### EffNetB2 "
   ]
  },
  {
   "cell_type": "code",
   "execution_count": 15,
   "id": "ebaba427",
   "metadata": {},
   "outputs": [],
   "source": [
    "def create_effnetb2_model(num_classes:int=3, \n",
    "                          seed:int=42):\n",
    "    \"\"\"Creates an EfficientNetB2 feature extractor model and transforms.\n",
    "\n",
    "    Args:\n",
    "        num_classes (int, optional): number of classes in the classifier head. \n",
    "            Defaults to 3.\n",
    "        seed (int, optional): random seed value. Defaults to 42.\n",
    "\n",
    "    Returns:\n",
    "        model (torch.nn.Module): EffNetB2 feature extractor model. \n",
    "        transforms (torchvision.transforms): EffNetB2 image transforms.\n",
    "    \"\"\"\n",
    "    # 1, 2, 3. Create EffNetB2 pretrained weights, transforms and model\n",
    "    weights = torchvision.models.EfficientNet_B2_Weights.DEFAULT\n",
    "    transforms = weights.transforms()\n",
    "    model = torchvision.models.efficientnet_b2(weights=weights).to(device)\n",
    "\n",
    "    # 4. Freeze all layers in base model\n",
    "    for param in model.parameters():\n",
    "        param.requires_grad = False\n",
    "\n",
    "    # 5. Change classifier head with random seed for reproducibility\n",
    "    torch.manual_seed(seed)\n",
    "    model.classifier = nn.Sequential(\n",
    "        nn.Dropout(p=0.3, inplace=True),\n",
    "        nn.Linear(in_features=1408, out_features=num_classes),\n",
    "    ).to(device)\n",
    "    \n",
    "    return model, transforms"
   ]
  },
  {
   "cell_type": "code",
   "execution_count": 16,
   "id": "cb616fd6",
   "metadata": {},
   "outputs": [
    {
     "data": {
      "text/plain": [
       "ImageClassification(\n",
       "    crop_size=[288]\n",
       "    resize_size=[288]\n",
       "    mean=[0.485, 0.456, 0.406]\n",
       "    std=[0.229, 0.224, 0.225]\n",
       "    interpolation=InterpolationMode.BICUBIC\n",
       ")"
      ]
     },
     "execution_count": 16,
     "metadata": {},
     "output_type": "execute_result"
    }
   ],
   "source": [
    "effnetb2, effnetb2_transforms = create_effnetb2_model()\n",
    "# effnetb2\n",
    "effnetb2_transforms"
   ]
  },
  {
   "cell_type": "code",
   "execution_count": 17,
   "id": "fc4b41d2",
   "metadata": {},
   "outputs": [
    {
     "data": {
      "text/plain": [
       "(PosixPath('data/pizza_steak_sushi_20_percent/train'),\n",
       " PosixPath('data/pizza_steak_sushi_20_percent/test'))"
      ]
     },
     "execution_count": 17,
     "metadata": {},
     "output_type": "execute_result"
    }
   ],
   "source": [
    "train_dir, test_dir"
   ]
  },
  {
   "cell_type": "code",
   "execution_count": 18,
   "id": "b397bc98",
   "metadata": {},
   "outputs": [
    {
     "data": {
      "text/plain": [
       "(15, 5, ['pizza', 'steak', 'sushi'])"
      ]
     },
     "execution_count": 18,
     "metadata": {},
     "output_type": "execute_result"
    }
   ],
   "source": [
    "# Create dataloaders for EffNetB2 \n",
    "BATCH_SIZE = 32\n",
    "train_dataloader_effnetb2, test_dataloader_effnetb2, class_names = setup_data.create_dataloaders(train_dir=train_dir,\n",
    "                                                                                                 test_dir=test_dir,\n",
    "                                                                                                 transform=effnetb2_transforms,\n",
    "                                                                                                 batch_size=BATCH_SIZE)\n",
    "\n",
    "len(train_dataloader_effnetb2), len(test_dataloader_effnetb2), class_names"
   ]
  },
  {
   "cell_type": "code",
   "execution_count": 19,
   "id": "81c5109c",
   "metadata": {},
   "outputs": [
    {
     "data": {
      "application/vnd.jupyter.widget-view+json": {
       "model_id": "fb036234d3b64d5b80f63b7b29704ab1",
       "version_major": 2,
       "version_minor": 0
      },
      "text/plain": [
       "  0%|          | 0/10 [00:00<?, ?it/s]"
      ]
     },
     "metadata": {},
     "output_type": "display_data"
    },
    {
     "name": "stdout",
     "output_type": "stream",
     "text": [
      "Epoch: 1 | train_loss: 0.9843 | train_acc: 0.5667 | test_loss: 0.7410 | test_acc: 0.9347\n",
      "Epoch: 2 | train_loss: 0.7171 | train_acc: 0.8396 | test_loss: 0.5877 | test_acc: 0.9409\n",
      "Epoch: 3 | train_loss: 0.5878 | train_acc: 0.8938 | test_loss: 0.4901 | test_acc: 0.9563\n",
      "Epoch: 4 | train_loss: 0.4481 | train_acc: 0.9125 | test_loss: 0.4349 | test_acc: 0.9409\n",
      "Epoch: 5 | train_loss: 0.4302 | train_acc: 0.9062 | test_loss: 0.3921 | test_acc: 0.9443\n",
      "Epoch: 6 | train_loss: 0.4400 | train_acc: 0.8875 | test_loss: 0.3523 | test_acc: 0.9597\n",
      "Epoch: 7 | train_loss: 0.4253 | train_acc: 0.8792 | test_loss: 0.3267 | test_acc: 0.9563\n",
      "Epoch: 8 | train_loss: 0.3900 | train_acc: 0.8979 | test_loss: 0.3461 | test_acc: 0.9352\n",
      "Epoch: 9 | train_loss: 0.3769 | train_acc: 0.8771 | test_loss: 0.3130 | test_acc: 0.9131\n",
      "Epoch: 10 | train_loss: 0.3769 | train_acc: 0.8625 | test_loss: 0.2814 | test_acc: 0.9688\n"
     ]
    }
   ],
   "source": [
    "# Train EffNetB2 feature extractor\n",
    "from src import engine\n",
    "\n",
    "optimizer = torch.optim.Adam(params=effnetb2.parameters(), lr=1e-3)\n",
    "\n",
    "loss_fn = torch.nn.CrossEntropyLoss()\n",
    "\n",
    "set_seeds()\n",
    "effnetb2_results = engine.train(model=effnetb2,\n",
    "                                train_dataloader=train_dataloader_effnetb2,\n",
    "                                test_dataloader=test_dataloader_effnetb2,\n",
    "                                epochs=10,\n",
    "                                optimizer=optimizer,\n",
    "                                loss_fn=loss_fn,\n",
    "                                device=device)"
   ]
  },
  {
   "cell_type": "code",
   "execution_count": null,
   "id": "85750d21",
   "metadata": {},
   "outputs": [],
   "source": [
    "# With label_smoothing=0.1\n",
    "# Epoch: 1 | train_loss: 1.0005 | train_acc: 0.5708 | test_loss: 0.7872 | test_acc: 0.9347\n",
    "# Epoch: 2 | train_loss: 0.7704 | train_acc: 0.8500 | test_loss: 0.6603 | test_acc: 0.9409\n",
    "# Epoch: 3 | train_loss: 0.6679 | train_acc: 0.8896 | test_loss: 0.5883 | test_acc: 0.9500\n",
    "# Epoch: 4 | train_loss: 0.5608 | train_acc: 0.9146 | test_loss: 0.5522 | test_acc: 0.9318\n",
    "# Epoch: 5 | train_loss: 0.5528 | train_acc: 0.9125 | test_loss: 0.5239 | test_acc: 0.9352\n",
    "# Epoch: 6 | train_loss: 0.5718 | train_acc: 0.8875 | test_loss: 0.4973 | test_acc: 0.9597\n",
    "# Epoch: 7 | train_loss: 0.5609 | train_acc: 0.8854 | test_loss: 0.4864 | test_acc: 0.9472\n",
    "# Epoch: 8 | train_loss: 0.5457 | train_acc: 0.8958 | test_loss: 0.5050 | test_acc: 0.9318\n",
    "# Epoch: 9 | train_loss: 0.5338 | train_acc: 0.8896 | test_loss: 0.4809 | test_acc: 0.9193\n",
    "# Epoch: 10 | train_loss: 0.5417 | train_acc: 0.8500 | test_loss: 0.4654 | test_acc: 0.9625\n",
    "\n",
    "# Without label_smoothing=0.1\n",
    "# Epoch: 1 | train_loss: 0.9856 | train_acc: 0.5604 | test_loss: 0.7408 | test_acc: 0.9347\n",
    "# Epoch: 2 | train_loss: 0.7175 | train_acc: 0.8438 | test_loss: 0.5869 | test_acc: 0.9409\n",
    "# Epoch: 3 | train_loss: 0.5876 | train_acc: 0.8917 | test_loss: 0.4909 | test_acc: 0.9500\n",
    "# Epoch: 4 | train_loss: 0.4474 | train_acc: 0.9062 | test_loss: 0.4355 | test_acc: 0.9409\n",
    "# Epoch: 5 | train_loss: 0.4290 | train_acc: 0.9104 | test_loss: 0.3915 | test_acc: 0.9443\n",
    "# Epoch: 6 | train_loss: 0.4381 | train_acc: 0.8896 | test_loss: 0.3512 | test_acc: 0.9688\n",
    "# Epoch: 7 | train_loss: 0.4245 | train_acc: 0.8771 | test_loss: 0.3268 | test_acc: 0.9563\n",
    "# Epoch: 8 | train_loss: 0.3897 | train_acc: 0.8958 | test_loss: 0.3457 | test_acc: 0.9381\n",
    "# Epoch: 9 | train_loss: 0.3749 | train_acc: 0.8812 | test_loss: 0.3129 | test_acc: 0.9131\n",
    "# Epoch: 10 | train_loss: 0.3757 | train_acc: 0.8604 | test_loss: 0.2813 | test_acc: 0.9688"
   ]
  },
  {
   "cell_type": "code",
   "execution_count": null,
   "id": "58ce90aa",
   "metadata": {},
   "outputs": [
    {
     "data": {
      "image/png": "[encoded data removed]",
      "text/plain": [
       "<Figure size 1080x504 with 2 Axes>"
      ]
     },
     "metadata": {},
     "output_type": "display_data"
    }
   ],
   "source": [
    "plot_loss_curves(effnetb2_results)"
   ]
  },
  {
   "cell_type": "markdown",
   "id": "cb73edd3",
   "metadata": {},
   "source": [
    "### Preparing and training ViT feature extractor"
   ]
  },
  {
   "cell_type": "code",
   "execution_count": 20,
   "id": "5b26f319",
   "metadata": {},
   "outputs": [],
   "source": [
    "def create_vit_model(num_classes:int=3, \n",
    "                     seed:int=42):\n",
    "    \"\"\"Creates a ViT-B/16 feature extractor model and transforms.\n",
    "\n",
    "    Args:\n",
    "        num_classes (int, optional): number of target classes. Defaults to 3.\n",
    "        seed (int, optional): random seed value for output layer. Defaults to 42.\n",
    "\n",
    "    Returns:\n",
    "        model (torch.nn.Module): ViT-B/16 feature extractor model. \n",
    "        transforms (torchvision.transforms): ViT-B/16 image transforms.\n",
    "    \"\"\"\n",
    "    # Create ViT_B_16 pretrained weights, transforms and model\n",
    "    weights = torchvision.models.ViT_B_16_Weights.DEFAULT\n",
    "    transforms = weights.transforms()\n",
    "    model = torchvision.models.vit_b_16(weights=weights).to(device)\n",
    "\n",
    "    # Freeze all layers in model\n",
    "    for param in model.parameters():\n",
    "        param.requires_grad = False\n",
    "\n",
    "    # Change classifier head to suit our needs (this will be trainable)\n",
    "    torch.manual_seed(seed)\n",
    "    model.heads = nn.Sequential(nn.Linear(in_features=768, # keep this the same as original model\n",
    "                                          out_features=num_classes)).to(device) # update to reflect target number of classes\n",
    "    \n",
    "    return model, transforms"
   ]
  },
  {
   "cell_type": "code",
   "execution_count": 21,
   "id": "9519927b",
   "metadata": {},
   "outputs": [
    {
     "data": {
      "text/plain": [
       "ImageClassification(\n",
       "    crop_size=[224]\n",
       "    resize_size=[256]\n",
       "    mean=[0.485, 0.456, 0.406]\n",
       "    std=[0.229, 0.224, 0.225]\n",
       "    interpolation=InterpolationMode.BILINEAR\n",
       ")"
      ]
     },
     "execution_count": 21,
     "metadata": {},
     "output_type": "execute_result"
    }
   ],
   "source": [
    "vit, vit_transforms = create_vit_model()\n",
    "# vit\n",
    "vit_transforms"
   ]
  },
  {
   "cell_type": "code",
   "execution_count": 22,
   "id": "89eadc53",
   "metadata": {},
   "outputs": [
    {
     "data": {
      "text/plain": [
       "(15, 5, ['pizza', 'steak', 'sushi'])"
      ]
     },
     "execution_count": 22,
     "metadata": {},
     "output_type": "execute_result"
    }
   ],
   "source": [
    "# Create dataloaders for ViT\n",
    "BATCH_SIZE = 32\n",
    "train_dataloader_vit, test_dataloader_vit, class_names = setup_data.create_dataloaders(train_dir=train_dir,\n",
    "                                                                                                 test_dir=test_dir,\n",
    "                                                                                                 transform=vit_transforms,\n",
    "                                                                                                 batch_size=BATCH_SIZE)\n",
    "\n",
    "len(train_dataloader_vit), len(test_dataloader_vit), class_names"
   ]
  },
  {
   "cell_type": "code",
   "execution_count": 23,
   "id": "9348e5c8",
   "metadata": {},
   "outputs": [
    {
     "data": {
      "application/vnd.jupyter.widget-view+json": {
       "model_id": "01a0200da9914e8db06d409b2d5d8bdf",
       "version_major": 2,
       "version_minor": 0
      },
      "text/plain": [
       "  0%|          | 0/10 [00:00<?, ?it/s]"
      ]
     },
     "metadata": {},
     "output_type": "display_data"
    },
    {
     "name": "stdout",
     "output_type": "stream",
     "text": [
      "Epoch: 1 | train_loss: 0.7020 | train_acc: 0.7521 | test_loss: 0.2714 | test_acc: 0.9381\n",
      "Epoch: 2 | train_loss: 0.2532 | train_acc: 0.9062 | test_loss: 0.1672 | test_acc: 0.9602\n",
      "Epoch: 3 | train_loss: 0.1764 | train_acc: 0.9542 | test_loss: 0.1273 | test_acc: 0.9693\n",
      "Epoch: 4 | train_loss: 0.1276 | train_acc: 0.9625 | test_loss: 0.1074 | test_acc: 0.9722\n",
      "Epoch: 5 | train_loss: 0.1159 | train_acc: 0.9646 | test_loss: 0.0953 | test_acc: 0.9784\n",
      "Epoch: 6 | train_loss: 0.1273 | train_acc: 0.9375 | test_loss: 0.0832 | test_acc: 0.9722\n",
      "Epoch: 7 | train_loss: 0.0897 | train_acc: 0.9771 | test_loss: 0.0845 | test_acc: 0.9784\n",
      "Epoch: 8 | train_loss: 0.0919 | train_acc: 0.9812 | test_loss: 0.0764 | test_acc: 0.9722\n",
      "Epoch: 9 | train_loss: 0.0922 | train_acc: 0.9792 | test_loss: 0.0734 | test_acc: 0.9784\n",
      "Epoch: 10 | train_loss: 0.0658 | train_acc: 0.9833 | test_loss: 0.0644 | test_acc: 0.9847\n"
     ]
    }
   ],
   "source": [
    "# Train ViT feature extractor\n",
    "optimizer = torch.optim.Adam(params=vit.parameters(), lr=1e-3)\n",
    "\n",
    "loss_fn = torch.nn.CrossEntropyLoss()\n",
    "\n",
    "set_seeds()\n",
    "vit_results = engine.train(model=vit,\n",
    "                                train_dataloader=train_dataloader_vit,\n",
    "                                test_dataloader=test_dataloader_vit,\n",
    "                                epochs=10,\n",
    "                                optimizer=optimizer,\n",
    "                                loss_fn=loss_fn,\n",
    "                                device=device)"
   ]
  },
  {
   "cell_type": "code",
   "execution_count": 24,
   "id": "1fe1a202",
   "metadata": {},
   "outputs": [
    {
     "data": {
      "image/png": "[encoded data removed]",
      "text/plain": [
       "<Figure size 1500x700 with 2 Axes>"
      ]
     },
     "metadata": {},
     "output_type": "display_data"
    }
   ],
   "source": [
    "plot_loss_curves(vit_results)"
   ]
  },
  {
   "cell_type": "markdown",
   "id": "8808fb9c",
   "metadata": {},
   "source": [
    "### Get all the images from the test path\n",
    "\n",
    "Want to make predictions acrosss the test dataset images and time them on GPU to see if they're faster on GPU or CPU..."
   ]
  },
  {
   "cell_type": "code",
   "execution_count": 25,
   "id": "cad153b9",
   "metadata": {},
   "outputs": [
    {
     "data": {
      "text/plain": [
       "150"
      ]
     },
     "execution_count": 25,
     "metadata": {},
     "output_type": "execute_result"
    }
   ],
   "source": [
    "from pathlib import Path\n",
    "test_image_paths = list(Path(test_dir).glob(\"*/*.jpg\"))\n",
    "len(test_image_paths)"
   ]
  },
  {
   "cell_type": "code",
   "execution_count": 26,
   "id": "ac308de6",
   "metadata": {},
   "outputs": [
    {
     "data": {
      "text/plain": [
       "[PosixPath('data/pizza_steak_sushi_20_percent/test/steak/40947.jpg'),\n",
       " PosixPath('data/pizza_steak_sushi_20_percent/test/steak/413497.jpg'),\n",
       " PosixPath('data/pizza_steak_sushi_20_percent/test/steak/3479599.jpg'),\n",
       " PosixPath('data/pizza_steak_sushi_20_percent/test/steak/3063435.jpg'),\n",
       " PosixPath('data/pizza_steak_sushi_20_percent/test/steak/1848936.jpg')]"
      ]
     },
     "execution_count": 26,
     "metadata": {},
     "output_type": "execute_result"
    }
   ],
   "source": [
    "test_image_paths[:5]"
   ]
  },
  {
   "cell_type": "markdown",
   "id": "bf5f6405",
   "metadata": {},
   "source": [
    "### Get function for making predictions and timing them"
   ]
  },
  {
   "cell_type": "code",
   "execution_count": 27,
   "id": "ad17e581",
   "metadata": {},
   "outputs": [
    {
     "data": {
      "text/plain": [
       "['pizza', 'steak', 'sushi']"
      ]
     },
     "execution_count": 27,
     "metadata": {},
     "output_type": "execute_result"
    }
   ],
   "source": [
    "class_names"
   ]
  },
  {
   "cell_type": "code",
   "execution_count": 28,
   "id": "8b9d6ccb",
   "metadata": {},
   "outputs": [
    {
     "data": {
      "text/plain": [
       "'cuda'"
      ]
     },
     "execution_count": 28,
     "metadata": {},
     "output_type": "execute_result"
    }
   ],
   "source": [
    "\"cuda\" if torch.cuda.is_available() else \"cpu\""
   ]
  },
  {
   "cell_type": "code",
   "execution_count": 29,
   "id": "62ad6b1a",
   "metadata": {},
   "outputs": [],
   "source": [
    "import pathlib\n",
    "import torch\n",
    "\n",
    "from PIL import Image\n",
    "from timeit import default_timer as timer \n",
    "from tqdm.auto import tqdm\n",
    "from typing import List, Dict\n",
    "\n",
    "# 1. Create a function to return a list of dictionaries with sample, truth label, prediction, prediction probability and prediction time\n",
    "def pred_and_store(paths: List[pathlib.Path], \n",
    "                   model: torch.nn.Module,\n",
    "                   transform: torchvision.transforms, \n",
    "                   class_names: List[str], \n",
    "                   device: str = \"cuda\" if torch.cuda.is_available() else \"cpu\") -> List[Dict]:\n",
    "    \n",
    "    # 2. Create an empty list to store prediction dictionaires\n",
    "    pred_list = []\n",
    "    \n",
    "    # 3. Loop through target paths\n",
    "    for path in tqdm(paths):\n",
    "        \n",
    "        # 4. Create empty dictionary to store prediction information for each sample\n",
    "        pred_dict = {}\n",
    "\n",
    "        # 5. Get the sample path and ground truth class name\n",
    "        pred_dict[\"image_path\"] = path\n",
    "        class_name = path.parent.stem\n",
    "        pred_dict[\"class_name\"] = class_name\n",
    "        \n",
    "        # 6. Start the prediction timer\n",
    "        start_time = timer()\n",
    "        \n",
    "        # 7. Open image path\n",
    "        img = Image.open(path)\n",
    "        \n",
    "        # 8. Transform the image, add batch dimension and put image on target device\n",
    "        transformed_image = transform(img).unsqueeze(0).to(device) \n",
    "        \n",
    "        # 9. Prepare model for inference by sending it to target device and turning on eval() mode\n",
    "        model = model.to(device)\n",
    "        model.eval()\n",
    "        \n",
    "        # 10. Get prediction probability, predicition label and prediction class\n",
    "        with torch.inference_mode():\n",
    "            pred_logit = model(transformed_image) # perform inference on target sample \n",
    "            pred_prob = torch.softmax(pred_logit, dim=1) # turn logits into prediction probabilities\n",
    "            pred_label = torch.argmax(pred_prob, dim=1) # turn prediction probabilities into prediction label\n",
    "            pred_class = class_names[pred_label.cpu()] # hardcode prediction class to be on CPU\n",
    "\n",
    "            # 11. Make sure things in the dictionary are on CPU (required for inspecting predictions later on) \n",
    "            pred_dict[\"pred_prob\"] = round(pred_prob.max().cpu().item(), 4)\n",
    "            pred_dict[\"pred_class\"] = pred_class\n",
    "            \n",
    "            # 12. End the timer and calculate time per pred\n",
    "            end_time = timer()\n",
    "            pred_dict[\"time_for_pred\"] = round(end_time-start_time, 4)\n",
    "\n",
    "        # 13. Does the pred match the true label?\n",
    "        pred_dict[\"correct\"] = class_name == pred_class\n",
    "\n",
    "        # 14. Add the dictionary to the list of preds\n",
    "        pred_list.append(pred_dict)\n",
    "    \n",
    "    # 15. Return list of prediction dictionaries\n",
    "    return pred_list"
   ]
  },
  {
   "cell_type": "code",
   "execution_count": 30,
   "id": "d6d7e499",
   "metadata": {},
   "outputs": [
    {
     "data": {
      "text/plain": [
       "ImageClassification(\n",
       "    crop_size=[288]\n",
       "    resize_size=[288]\n",
       "    mean=[0.485, 0.456, 0.406]\n",
       "    std=[0.229, 0.224, 0.225]\n",
       "    interpolation=InterpolationMode.BICUBIC\n",
       ")"
      ]
     },
     "execution_count": 30,
     "metadata": {},
     "output_type": "execute_result"
    }
   ],
   "source": [
    "effnetb2_transforms"
   ]
  },
  {
   "cell_type": "markdown",
   "id": "5874533f",
   "metadata": {},
   "source": [
    "### Make and time predictions on CPU"
   ]
  },
  {
   "cell_type": "code",
   "execution_count": 31,
   "id": "05cd934c",
   "metadata": {},
   "outputs": [
    {
     "data": {
      "application/vnd.jupyter.widget-view+json": {
       "model_id": "9e7d9a479afb400aac2a67ba350b5e73",
       "version_major": 2,
       "version_minor": 0
      },
      "text/plain": [
       "  0%|          | 0/150 [00:00<?, ?it/s]"
      ]
     },
     "metadata": {},
     "output_type": "display_data"
    }
   ],
   "source": [
    "# Make and time predictions on CPU\n",
    "effnetb2_preds_on_cpu = pred_and_store(paths=test_image_paths, \n",
    "                                       model=effnetb2,\n",
    "                                       transform=effnetb2_transforms,\n",
    "                                       class_names=class_names,\n",
    "                                       device=\"cpu\")"
   ]
  },
  {
   "cell_type": "code",
   "execution_count": 32,
   "id": "25cc6585",
   "metadata": {},
   "outputs": [
    {
     "data": {
      "application/vnd.jupyter.widget-view+json": {
       "model_id": "7359ecda2ffe441f8238252b6dc3d031",
       "version_major": 2,
       "version_minor": 0
      },
      "text/plain": [
       "  0%|          | 0/150 [00:00<?, ?it/s]"
      ]
     },
     "metadata": {},
     "output_type": "display_data"
    }
   ],
   "source": [
    "# Make and time predictions on CPU\n",
    "vit_preds_on_cpu = pred_and_store(paths=test_image_paths, \n",
    "                                       model=vit,\n",
    "                                       transform=vit_transforms,\n",
    "                                       class_names=class_names,\n",
    "                                       device=\"cpu\")"
   ]
  },
  {
   "cell_type": "markdown",
   "id": "0e81c139",
   "metadata": {},
   "source": [
    "### Make and time predictions on GPU"
   ]
  },
  {
   "cell_type": "code",
   "execution_count": 33,
   "id": "0fb40600",
   "metadata": {},
   "outputs": [
    {
     "data": {
      "application/vnd.jupyter.widget-view+json": {
       "model_id": "ad143c478eb64c4d8375df6f47cfeed4",
       "version_major": 2,
       "version_minor": 0
      },
      "text/plain": [
       "  0%|          | 0/150 [00:00<?, ?it/s]"
      ]
     },
     "metadata": {},
     "output_type": "display_data"
    },
    {
     "data": {
      "application/vnd.jupyter.widget-view+json": {
       "model_id": "a55f883d37574351bb3e4a5543bb3101",
       "version_major": 2,
       "version_minor": 0
      },
      "text/plain": [
       "  0%|          | 0/150 [00:00<?, ?it/s]"
      ]
     },
     "metadata": {},
     "output_type": "display_data"
    }
   ],
   "source": [
    "# Make and time predictions on GPU\n",
    "effnetb2_preds_on_gpu = pred_and_store(paths=test_image_paths, \n",
    "                                       model=effnetb2,\n",
    "                                       transform=effnetb2_transforms,\n",
    "                                       class_names=class_names,\n",
    "                                       device=\"cuda\")\n",
    "\n",
    "vit_preds_on_gpu = pred_and_store(paths=test_image_paths, \n",
    "                                  model=vit,\n",
    "                                  transform=vit_transforms,\n",
    "                                  class_names=class_names,\n",
    "                                  device=\"cuda\")"
   ]
  },
  {
   "cell_type": "markdown",
   "id": "3b33e755",
   "metadata": {},
   "source": [
    "### Comparing prediction times on CPU and GPU"
   ]
  },
  {
   "cell_type": "code",
   "execution_count": 34,
   "id": "3e909fa3",
   "metadata": {},
   "outputs": [
    {
     "data": {
      "text/plain": [
       "np.float64(0.040217333333333334)"
      ]
     },
     "execution_count": 34,
     "metadata": {},
     "output_type": "execute_result"
    }
   ],
   "source": [
    "import pandas as pd\n",
    "\n",
    "def get_mean_pred_time(input):\n",
    "    df = pd.DataFrame(input)\n",
    "    return df.time_for_pred.mean()\n",
    "\n",
    "effnetb2_cpu_pred_time = get_mean_pred_time(effnetb2_preds_on_cpu)\n",
    "effnetb2_cpu_pred_time"
   ]
  },
  {
   "cell_type": "code",
   "execution_count": 35,
   "id": "75bfd183",
   "metadata": {},
   "outputs": [
    {
     "data": {
      "application/vnd.microsoft.datawrangler.viewer.v0+json": {
       "columns": [
        {
         "name": "index",
         "rawType": "int64",
         "type": "integer"
        },
        {
         "name": "effnetb2_cpu",
         "rawType": "float64",
         "type": "float"
        },
        {
         "name": "vit_cpu",
         "rawType": "float64",
         "type": "float"
        },
        {
         "name": "effnetb2_gpu",
         "rawType": "float64",
         "type": "float"
        },
        {
         "name": "vit_gpu",
         "rawType": "float64",
         "type": "float"
        }
       ],
       "ref": "0d331a23-6137-4589-b3cb-cc6509fd029c",
       "rows": [
        [
         "0",
         "0.040217333333333334",
         "0.113232",
         "0.012443333333333332",
         "0.015812"
        ]
       ],
       "shape": {
        "columns": 4,
        "rows": 1
       }
      },
      "text/html": [
       "<div>\n",
       "<style scoped>\n",
       "    .dataframe tbody tr th:only-of-type {\n",
       "        vertical-align: middle;\n",
       "    }\n",
       "\n",
       "    .dataframe tbody tr th {\n",
       "        vertical-align: top;\n",
       "    }\n",
       "\n",
       "    .dataframe thead th {\n",
       "        text-align: right;\n",
       "    }\n",
       "</style>\n",
       "<table border=\"1\" class=\"dataframe\">\n",
       "  <thead>\n",
       "    <tr style=\"text-align: right;\">\n",
       "      <th></th>\n",
       "      <th>effnetb2_cpu</th>\n",
       "      <th>vit_cpu</th>\n",
       "      <th>effnetb2_gpu</th>\n",
       "      <th>vit_gpu</th>\n",
       "    </tr>\n",
       "  </thead>\n",
       "  <tbody>\n",
       "    <tr>\n",
       "      <th>0</th>\n",
       "      <td>0.040217</td>\n",
       "      <td>0.113232</td>\n",
       "      <td>0.012443</td>\n",
       "      <td>0.015812</td>\n",
       "    </tr>\n",
       "  </tbody>\n",
       "</table>\n",
       "</div>"
      ],
      "text/plain": [
       "   effnetb2_cpu   vit_cpu  effnetb2_gpu   vit_gpu\n",
       "0      0.040217  0.113232      0.012443  0.015812"
      ]
     },
     "execution_count": 35,
     "metadata": {},
     "output_type": "execute_result"
    }
   ],
   "source": [
    "effnetb2_gpu_pred_time = get_mean_pred_time(effnetb2_preds_on_gpu)\n",
    "vit_cpu_pred_time = get_mean_pred_time(vit_preds_on_cpu)\n",
    "vit_gpu_pred_time = get_mean_pred_time(vit_preds_on_gpu)\n",
    "\n",
    "pred_times = {\"effnetb2_cpu\": effnetb2_cpu_pred_time,\n",
    "              \"vit_cpu\": vit_cpu_pred_time,\n",
    "              \"effnetb2_gpu\": effnetb2_gpu_pred_time,\n",
    "              \"vit_gpu\": vit_gpu_pred_time}\n",
    "\n",
    "pred_times_df = pd.DataFrame(pred_times, index=[0])\n",
    "pred_times_df"
   ]
  },
  {
   "cell_type": "markdown",
   "id": "b5670c5f",
   "metadata": {},
   "source": [
    "## Exercise 2. The ViT feature extractor seems to have more learning capacity (due to more parameters) than EffNetB2, how does it go on the larger 20% split of the entire Food101 dataset?\n",
    "\n",
    "* Train a ViT feature extractor on the 20% Food101 dataset for 5 epochs, just like we did with EffNetB2 in section."
   ]
  },
  {
   "cell_type": "markdown",
   "id": "7795f88f",
   "metadata": {},
   "source": [
    "### Create ViT feature extractor for Food101"
   ]
  },
  {
   "cell_type": "code",
   "execution_count": 36,
   "id": "a81ee1ba",
   "metadata": {},
   "outputs": [
    {
     "data": {
      "text/plain": [
       "============================================================================================================================================\n",
       "Layer (type (var_name))                                      Input Shape          Output Shape         Param #              Trainable\n",
       "============================================================================================================================================\n",
       "VisionTransformer (VisionTransformer)                        [1, 3, 224, 224]     [1, 101]             768                  Partial\n",
       "├─Conv2d (conv_proj)                                         [1, 3, 224, 224]     [1, 768, 14, 14]     (590,592)            False\n",
       "├─Encoder (encoder)                                          [1, 197, 768]        [1, 197, 768]        151,296              False\n",
       "│    └─Dropout (dropout)                                     [1, 197, 768]        [1, 197, 768]        --                   --\n",
       "│    └─Sequential (layers)                                   [1, 197, 768]        [1, 197, 768]        --                   False\n",
       "│    │    └─EncoderBlock (encoder_layer_0)                   [1, 197, 768]        [1, 197, 768]        (7,087,872)          False\n",
       "│    │    └─EncoderBlock (encoder_layer_1)                   [1, 197, 768]        [1, 197, 768]        (7,087,872)          False\n",
       "│    │    └─EncoderBlock (encoder_layer_2)                   [1, 197, 768]        [1, 197, 768]        (7,087,872)          False\n",
       "│    │    └─EncoderBlock (encoder_layer_3)                   [1, 197, 768]        [1, 197, 768]        (7,087,872)          False\n",
       "│    │    └─EncoderBlock (encoder_layer_4)                   [1, 197, 768]        [1, 197, 768]        (7,087,872)          False\n",
       "│    │    └─EncoderBlock (encoder_layer_5)                   [1, 197, 768]        [1, 197, 768]        (7,087,872)          False\n",
       "│    │    └─EncoderBlock (encoder_layer_6)                   [1, 197, 768]        [1, 197, 768]        (7,087,872)          False\n",
       "│    │    └─EncoderBlock (encoder_layer_7)                   [1, 197, 768]        [1, 197, 768]        (7,087,872)          False\n",
       "│    │    └─EncoderBlock (encoder_layer_8)                   [1, 197, 768]        [1, 197, 768]        (7,087,872)          False\n",
       "│    │    └─EncoderBlock (encoder_layer_9)                   [1, 197, 768]        [1, 197, 768]        (7,087,872)          False\n",
       "│    │    └─EncoderBlock (encoder_layer_10)                  [1, 197, 768]        [1, 197, 768]        (7,087,872)          False\n",
       "│    │    └─EncoderBlock (encoder_layer_11)                  [1, 197, 768]        [1, 197, 768]        (7,087,872)          False\n",
       "│    └─LayerNorm (ln)                                        [1, 197, 768]        [1, 197, 768]        (1,536)              False\n",
       "├─Sequential (heads)                                         [1, 768]             [1, 101]             --                   True\n",
       "│    └─Linear (0)                                            [1, 768]             [1, 101]             77,669               True\n",
       "============================================================================================================================================\n",
       "Total params: 85,876,325\n",
       "Trainable params: 77,669\n",
       "Non-trainable params: 85,798,656\n",
       "Total mult-adds (Units.MEGABYTES): 172.54\n",
       "============================================================================================================================================\n",
       "Input size (MB): 0.60\n",
       "Forward/backward pass size (MB): 104.09\n",
       "Params size (MB): 229.50\n",
       "Estimated Total Size (MB): 334.19\n",
       "============================================================================================================================================"
      ]
     },
     "execution_count": 36,
     "metadata": {},
     "output_type": "execute_result"
    }
   ],
   "source": [
    "# Create another ViT feature model instance\n",
    "vit_food101_20_percent, vit_transforms = create_vit_model(num_classes=101)\n",
    "\n",
    "# Print ViT model summary (uncomment for full output) \n",
    "summary(vit_food101_20_percent, \n",
    "        input_size=(1, 3, 224, 224),\n",
    "        col_names=[\"input_size\", \"output_size\", \"num_params\", \"trainable\"],\n",
    "        col_width=20,\n",
    "        row_settings=[\"var_names\"])"
   ]
  },
  {
   "cell_type": "markdown",
   "id": "4ba8024a",
   "metadata": {},
   "source": [
    "### Create Food101 data transforms "
   ]
  },
  {
   "cell_type": "code",
   "execution_count": 37,
   "id": "a768da55",
   "metadata": {},
   "outputs": [
    {
     "data": {
      "text/plain": [
       "Compose(\n",
       "    TrivialAugmentWide(num_magnitude_bins=31, interpolation=InterpolationMode.NEAREST, fill=None)\n",
       "    ImageClassification(\n",
       "    crop_size=[224]\n",
       "    resize_size=[256]\n",
       "    mean=[0.485, 0.456, 0.406]\n",
       "    std=[0.229, 0.224, 0.225]\n",
       "    interpolation=InterpolationMode.BILINEAR\n",
       ")\n",
       ")"
      ]
     },
     "execution_count": 37,
     "metadata": {},
     "output_type": "execute_result"
    }
   ],
   "source": [
    "# Create Food101 training data transforms (only perform data augmentation on the training images)\n",
    "food101_train_transforms = torchvision.transforms.Compose([\n",
    "    torchvision.transforms.TrivialAugmentWide(),\n",
    "    vit_transforms,\n",
    "])\n",
    "\n",
    "food101_train_transforms"
   ]
  },
  {
   "cell_type": "code",
   "execution_count": 38,
   "id": "3a82c72d",
   "metadata": {},
   "outputs": [
    {
     "name": "stderr",
     "output_type": "stream",
     "text": [
      "100%|██████████| 5.00G/5.00G [29:45<00:00, 2.80MB/s]  \n"
     ]
    }
   ],
   "source": [
    "from torchvision import datasets\n",
    "\n",
    "# Setup data directory\n",
    "from pathlib import Path\n",
    "data_dir = Path(\"data\")\n",
    "\n",
    "# Get training data (~750 images x 101 food classes)\n",
    "train_data = datasets.Food101(root=data_dir, # path to download data to\n",
    "                              split=\"train\", # dataset split to get\n",
    "                              transform=food101_train_transforms, # perform data augmentation on training data\n",
    "                              download=True) # want to download?\n",
    "\n",
    "# Get testing data (~250 images x 101 food classes)\n",
    "test_data = datasets.Food101(root=data_dir,\n",
    "                             split=\"test\",\n",
    "                             transform=vit_transforms, # perform normal ViT transforms on test data\n",
    "                             download=True)"
   ]
  },
  {
   "cell_type": "code",
   "execution_count": 39,
   "id": "26e556fc",
   "metadata": {},
   "outputs": [
    {
     "data": {
      "text/plain": [
       "['apple_pie',\n",
       " 'baby_back_ribs',\n",
       " 'baklava',\n",
       " 'beef_carpaccio',\n",
       " 'beef_tartare',\n",
       " 'beet_salad',\n",
       " 'beignets',\n",
       " 'bibimbap',\n",
       " 'bread_pudding',\n",
       " 'breakfast_burrito']"
      ]
     },
     "execution_count": 39,
     "metadata": {},
     "output_type": "execute_result"
    }
   ],
   "source": [
    "# Get Food101 class names\n",
    "food101_class_names = train_data.classes\n",
    "\n",
    "# View the first 10\n",
    "food101_class_names[:10]"
   ]
  },
  {
   "cell_type": "markdown",
   "id": "7f310e0a",
   "metadata": {},
   "source": [
    "### Create Food101 20% data splits\n",
    "\n",
    "Want to split whole Food101 dataset into: \n",
    "* Train set: 20% of whole original Food101 train dataset\n",
    "* Test set: 20% of whole original Food101 test dataset"
   ]
  },
  {
   "cell_type": "code",
   "execution_count": 40,
   "id": "eb9c3c25",
   "metadata": {},
   "outputs": [],
   "source": [
    "def split_dataset(dataset:torchvision.datasets, split_size:float=0.2, seed:int=42):\n",
    "    \"\"\"Randomly splits a given dataset into two proportions based on split_size and seed.\n",
    "\n",
    "    Args:\n",
    "        dataset (torchvision.datasets): A PyTorch Dataset, typically one from torchvision.datasets.\n",
    "        split_size (float, optional): How much of the dataset should be split? \n",
    "            E.g. split_size=0.2 means there will be a 20% split and an 80% split. Defaults to 0.2.\n",
    "        seed (int, optional): Seed for random generator. Defaults to 42.\n",
    "\n",
    "    Returns:\n",
    "        tuple: (random_split_1, random_split_2) where random_split_1 is of size split_size*len(dataset) and \n",
    "            random_split_2 is of size (1-split_size)*len(dataset).\n",
    "    \"\"\"\n",
    "    # Create split lengths based on original dataset length\n",
    "    length_1 = int(len(dataset) * split_size) # desired length\n",
    "    length_2 = len(dataset) - length_1 # remaining length\n",
    "        \n",
    "    # Print out info\n",
    "    print(f\"[INFO] Splitting dataset of length {len(dataset)} into splits of size: {length_1} ({int(split_size*100)}%), {length_2} ({int((1-split_size)*100)}%)\")\n",
    "    \n",
    "    # Create splits with given random seed\n",
    "    random_split_1, random_split_2 = torch.utils.data.random_split(dataset, \n",
    "                                                                   lengths=[length_1, length_2],\n",
    "                                                                   generator=torch.manual_seed(seed)) # set the random seed for reproducible splits\n",
    "    return random_split_1, random_split_2"
   ]
  },
  {
   "cell_type": "code",
   "execution_count": 41,
   "id": "9b39a0e6",
   "metadata": {},
   "outputs": [
    {
     "name": "stdout",
     "output_type": "stream",
     "text": [
      "[INFO] Splitting dataset of length 75750 into splits of size: 15150 (20%), 60600 (80%)\n",
      "[INFO] Splitting dataset of length 25250 into splits of size: 5050 (20%), 20200 (80%)\n"
     ]
    },
    {
     "data": {
      "text/plain": [
       "(15150, 5050)"
      ]
     },
     "execution_count": 41,
     "metadata": {},
     "output_type": "execute_result"
    }
   ],
   "source": [
    "# Create training 20% split of Food101\n",
    "train_data_food101_20_percent, _ = split_dataset(dataset=train_data,\n",
    "                                                 split_size=0.2)\n",
    "\n",
    "# Create testing 20% split of Food101\n",
    "test_data_food101_20_percent, _ = split_dataset(dataset=test_data,\n",
    "                                                split_size=0.2)\n",
    "\n",
    "len(train_data_food101_20_percent), len(test_data_food101_20_percent)"
   ]
  },
  {
   "cell_type": "markdown",
   "id": "e6161d46",
   "metadata": {},
   "source": [
    "### Create DataLoaders for Food101 20 percent data"
   ]
  },
  {
   "cell_type": "code",
   "execution_count": 42,
   "id": "347e7e86",
   "metadata": {},
   "outputs": [
    {
     "data": {
      "text/plain": [
       "(474, 158)"
      ]
     },
     "execution_count": 42,
     "metadata": {},
     "output_type": "execute_result"
    }
   ],
   "source": [
    "# Turn torch Datasets into DataLoaders\n",
    "from torch.utils.data import DataLoader\n",
    "\n",
    "BATCH_SIZE = 32\n",
    "NUM_WORKERS = 2\n",
    "train_dataloader_food101 = DataLoader(train_data_food101_20_percent,\n",
    "                                      batch_size=BATCH_SIZE,\n",
    "                                      shuffle=True,\n",
    "                                      num_workers=NUM_WORKERS)\n",
    "\n",
    "test_dataloader_food101 = DataLoader(test_data_food101_20_percent,\n",
    "                                     batch_size=BATCH_SIZE,\n",
    "                                     shuffle=False,\n",
    "                                     num_workers=NUM_WORKERS)\n",
    "\n",
    "len(train_dataloader_food101), len(test_dataloader_food101)"
   ]
  },
  {
   "cell_type": "markdown",
   "id": "26281218",
   "metadata": {},
   "source": [
    "### Train ViT feature extractor on 20% of Food101 data\n",
    "\n",
    "**Note:** The cell below may take 15 mins to run on Google Colab (due to ~15,000 training images and ~5000 testing images)."
   ]
  },
  {
   "cell_type": "code",
   "execution_count": 43,
   "id": "168c63a7",
   "metadata": {},
   "outputs": [
    {
     "data": {
      "application/vnd.jupyter.widget-view+json": {
       "model_id": "1c9ba33e5b954563b049a4488ff98ad3",
       "version_major": 2,
       "version_minor": 0
      },
      "text/plain": [
       "  0%|          | 0/5 [00:00<?, ?it/s]"
      ]
     },
     "metadata": {},
     "output_type": "display_data"
    },
    {
     "name": "stdout",
     "output_type": "stream",
     "text": [
      "Epoch: 1 | train_loss: 2.8532 | train_acc: 0.4279 | test_loss: 2.0665 | test_acc: 0.6253\n",
      "Epoch: 2 | train_loss: 2.2210 | train_acc: 0.5930 | test_loss: 1.9248 | test_acc: 0.6657\n",
      "Epoch: 3 | train_loss: 2.0587 | train_acc: 0.6439 | test_loss: 1.8675 | test_acc: 0.6983\n",
      "Epoch: 4 | train_loss: 1.9557 | train_acc: 0.6811 | test_loss: 1.8514 | test_acc: 0.6989\n",
      "Epoch: 5 | train_loss: 1.8883 | train_acc: 0.7010 | test_loss: 1.8297 | test_acc: 0.7074\n"
     ]
    }
   ],
   "source": [
    "# Loss function\n",
    "loss_fn = torch.nn.CrossEntropyLoss(label_smoothing=0.1)\n",
    "\n",
    "# Optimizer \n",
    "optimizer = torch.optim.Adam(params=vit_food101_20_percent.parameters(),\n",
    "                             lr=1e-3)\n",
    "\n",
    "# Train the model\n",
    "set_seeds()\n",
    "vit_food101_20_percent_results = engine.train(model=vit_food101_20_percent,\n",
    "                                              train_dataloader=train_dataloader_food101,\n",
    "                                              test_dataloader=test_dataloader_food101,\n",
    "                                              epochs=5,\n",
    "                                              optimizer=optimizer,\n",
    "                                              loss_fn=loss_fn,\n",
    "                                              device=device)"
   ]
  },
  {
   "cell_type": "markdown",
   "id": "64433f43",
   "metadata": {},
   "source": [
    "## Exercise 3. Make predictions across the 20% Food101 test dataset with the ViT feature extractor from exercise 2 and find the \"most wrong\" predictions\n",
    "* The predictions will be the ones with the highest prediction probability but with the wrong predicted label.\n",
    "* Write a sentence or two about why you think the model got these predictions wrong.\n",
    "\n"
   ]
  },
  {
   "cell_type": "code",
   "execution_count": 44,
   "id": "02d1c3c1",
   "metadata": {},
   "outputs": [
    {
     "data": {
      "application/vnd.jupyter.widget-view+json": {
       "model_id": "712a082aa9e54bfd9f2fd18324749def",
       "version_major": 2,
       "version_minor": 0
      },
      "text/plain": [
       "  0%|          | 0/5050 [00:00<?, ?it/s]"
      ]
     },
     "metadata": {},
     "output_type": "display_data"
    }
   ],
   "source": [
    "# Loop through test DataLoader (with batch size 1)\n",
    "# Make prediction with model\n",
    "# Store prediction and prediction probability to dictionary\n",
    "# Append dictionary to list\n",
    "# Inspect list\n",
    "\n",
    "# Easy way: set up batch size of 1 of test data loader - from Sali1997s\n",
    "# Create batch size of 1 (predict on 1 image at a time)\n",
    "test_dataloader_food101_batch_size_1 = DataLoader(test_data_food101_20_percent,\n",
    "                                                  batch_size=1,\n",
    "                                                  shuffle=False,\n",
    "                                                  num_workers=NUM_WORKERS)\n",
    "\n",
    "# Prepare model (do this outside the loop)\n",
    "vit_food101_20_percent = vit_food101_20_percent.to(device)\n",
    "vit_food101_20_percent.eval()\n",
    "\n",
    "# Loop through test DataLoader with batch size 1 and make predictions on each image\n",
    "# store predictions and truth values to a dictionary and then append dictionary to list for inspection later\n",
    "vit_food101_pred_list = []\n",
    "for X, y in tqdm(test_dataloader_food101_batch_size_1):\n",
    "  # Send data to target device\n",
    "  X, y = X.to(device), y.to(device)\n",
    "  \n",
    "  # Create empty prediction dictionary (each sample gets a dictionary)\n",
    "  pred_dict = {} \n",
    "\n",
    "  # Make predictions\n",
    "  with torch.inference_mode():\n",
    "    pred_probs = torch.softmax(vit_food101_20_percent(X), dim=1)\n",
    "    pred_labels = torch.argmax(pred_probs, dim=1)\n",
    "    pred_dict[\"pred_prob\"] = torch.max(pred_probs).cpu().numpy()\n",
    "    pred_dict[\"pred_label\"] = pred_labels.cpu().numpy()[0]\n",
    "    pred_dict[\"label\"] = y.cpu().numpy()[0]\n",
    "  \n",
    "  vit_food101_pred_list.append(pred_dict)"
   ]
  },
  {
   "cell_type": "code",
   "execution_count": 45,
   "id": "f0f5e74a",
   "metadata": {},
   "outputs": [
    {
     "data": {
      "text/plain": [
       "['apple_pie', 'baby_back_ribs', 'baklava', 'beef_carpaccio', 'beef_tartare']"
      ]
     },
     "execution_count": 45,
     "metadata": {},
     "output_type": "execute_result"
    }
   ],
   "source": [
    "food101_class_names[:5]"
   ]
  },
  {
   "cell_type": "code",
   "execution_count": 46,
   "id": "e1bcfca3",
   "metadata": {},
   "outputs": [
    {
     "data": {
      "application/vnd.microsoft.datawrangler.viewer.v0+json": {
       "columns": [
        {
         "name": "index",
         "rawType": "int64",
         "type": "integer"
        },
        {
         "name": "pred_prob",
         "rawType": "object",
         "type": "unknown"
        },
        {
         "name": "pred_label",
         "rawType": "int64",
         "type": "integer"
        },
        {
         "name": "label",
         "rawType": "int64",
         "type": "integer"
        },
        {
         "name": "is_correct",
         "rawType": "bool",
         "type": "boolean"
        },
        {
         "name": "pred_class",
         "rawType": "object",
         "type": "string"
        },
        {
         "name": "label_class",
         "rawType": "object",
         "type": "string"
        }
       ],
       "ref": "4fbadd30-8b01-47e4-b23e-4d0ef48909b2",
       "rows": [
        [
         "0",
         "0.79621464",
         "72",
         "72",
         "True",
         "pancakes",
         "pancakes"
        ],
        [
         "1",
         "0.6283406",
         "57",
         "57",
         "True",
         "hummus",
         "hummus"
        ],
        [
         "2",
         "0.19189471",
         "80",
         "80",
         "True",
         "pulled_pork_sandwich",
         "pulled_pork_sandwich"
        ],
        [
         "3",
         "0.57399577",
         "51",
         "51",
         "True",
         "guacamole",
         "guacamole"
        ],
        [
         "4",
         "0.820624",
         "1",
         "1",
         "True",
         "baby_back_ribs",
         "baby_back_ribs"
        ]
       ],
       "shape": {
        "columns": 6,
        "rows": 5
       }
      },
      "text/html": [
       "<div>\n",
       "<style scoped>\n",
       "    .dataframe tbody tr th:only-of-type {\n",
       "        vertical-align: middle;\n",
       "    }\n",
       "\n",
       "    .dataframe tbody tr th {\n",
       "        vertical-align: top;\n",
       "    }\n",
       "\n",
       "    .dataframe thead th {\n",
       "        text-align: right;\n",
       "    }\n",
       "</style>\n",
       "<table border=\"1\" class=\"dataframe\">\n",
       "  <thead>\n",
       "    <tr style=\"text-align: right;\">\n",
       "      <th></th>\n",
       "      <th>pred_prob</th>\n",
       "      <th>pred_label</th>\n",
       "      <th>label</th>\n",
       "      <th>is_correct</th>\n",
       "      <th>pred_class</th>\n",
       "      <th>label_class</th>\n",
       "    </tr>\n",
       "  </thead>\n",
       "  <tbody>\n",
       "    <tr>\n",
       "      <th>0</th>\n",
       "      <td>0.79621464</td>\n",
       "      <td>72</td>\n",
       "      <td>72</td>\n",
       "      <td>True</td>\n",
       "      <td>pancakes</td>\n",
       "      <td>pancakes</td>\n",
       "    </tr>\n",
       "    <tr>\n",
       "      <th>1</th>\n",
       "      <td>0.6283406</td>\n",
       "      <td>57</td>\n",
       "      <td>57</td>\n",
       "      <td>True</td>\n",
       "      <td>hummus</td>\n",
       "      <td>hummus</td>\n",
       "    </tr>\n",
       "    <tr>\n",
       "      <th>2</th>\n",
       "      <td>0.19189471</td>\n",
       "      <td>80</td>\n",
       "      <td>80</td>\n",
       "      <td>True</td>\n",
       "      <td>pulled_pork_sandwich</td>\n",
       "      <td>pulled_pork_sandwich</td>\n",
       "    </tr>\n",
       "    <tr>\n",
       "      <th>3</th>\n",
       "      <td>0.57399577</td>\n",
       "      <td>51</td>\n",
       "      <td>51</td>\n",
       "      <td>True</td>\n",
       "      <td>guacamole</td>\n",
       "      <td>guacamole</td>\n",
       "    </tr>\n",
       "    <tr>\n",
       "      <th>4</th>\n",
       "      <td>0.820624</td>\n",
       "      <td>1</td>\n",
       "      <td>1</td>\n",
       "      <td>True</td>\n",
       "      <td>baby_back_ribs</td>\n",
       "      <td>baby_back_ribs</td>\n",
       "    </tr>\n",
       "  </tbody>\n",
       "</table>\n",
       "</div>"
      ],
      "text/plain": [
       "    pred_prob  pred_label  label  is_correct            pred_class  \\\n",
       "0  0.79621464          72     72        True              pancakes   \n",
       "1   0.6283406          57     57        True                hummus   \n",
       "2  0.19189471          80     80        True  pulled_pork_sandwich   \n",
       "3  0.57399577          51     51        True             guacamole   \n",
       "4    0.820624           1      1        True        baby_back_ribs   \n",
       "\n",
       "            label_class  \n",
       "0              pancakes  \n",
       "1                hummus  \n",
       "2  pulled_pork_sandwich  \n",
       "3             guacamole  \n",
       "4        baby_back_ribs  "
      ]
     },
     "execution_count": 46,
     "metadata": {},
     "output_type": "execute_result"
    }
   ],
   "source": [
    "# Create DataFrame with various columns\n",
    "pred_df_20_percent = pd.DataFrame(vit_food101_pred_list)\n",
    "\n",
    "# Create a column for if the prediction is correct\n",
    "pred_df_20_percent[\"is_correct\"] = pred_df_20_percent[\"pred_label\"] == pred_df_20_percent[\"label\"]\n",
    "\n",
    "# Create class name columns (e.g. pred_label=72 -> pred_class=\"pancakes\")\n",
    "pred_df_20_percent[\"pred_class\"] = pred_df_20_percent[\"pred_label\"].apply(lambda x: food101_class_names[x])\n",
    "pred_df_20_percent[\"label_class\"] = pred_df_20_percent[\"label\"].apply(lambda x: food101_class_names[x])\n",
    "pred_df_20_percent.head()"
   ]
  },
  {
   "cell_type": "code",
   "execution_count": 47,
   "id": "9b5a362a",
   "metadata": {},
   "outputs": [
    {
     "data": {
      "application/vnd.microsoft.datawrangler.viewer.v0+json": {
       "columns": [
        {
         "name": "index",
         "rawType": "int64",
         "type": "integer"
        },
        {
         "name": "pred_prob",
         "rawType": "object",
         "type": "unknown"
        },
        {
         "name": "pred_label",
         "rawType": "int64",
         "type": "integer"
        },
        {
         "name": "label",
         "rawType": "int64",
         "type": "integer"
        },
        {
         "name": "is_correct",
         "rawType": "bool",
         "type": "boolean"
        },
        {
         "name": "pred_class",
         "rawType": "object",
         "type": "string"
        },
        {
         "name": "label_class",
         "rawType": "object",
         "type": "string"
        }
       ],
       "ref": "22a80a64-9251-4669-85b7-d9b89c1345dc",
       "rows": [
        [
         "3107",
         "0.98346436",
         "52",
         "32",
         "False",
         "gyoza",
         "dumplings"
        ],
        [
         "1306",
         "0.94416654",
         "71",
         "44",
         "False",
         "paella",
         "fried_rice"
        ],
        [
         "2848",
         "0.9293415",
         "41",
         "8",
         "False",
         "french_onion_soup",
         "bread_pudding"
        ],
        [
         "708",
         "0.9063187",
         "9",
         "12",
         "False",
         "breakfast_burrito",
         "cannoli"
        ],
        [
         "1726",
         "0.880832",
         "68",
         "43",
         "False",
         "onion_rings",
         "fried_calamari"
        ],
        [
         "3436",
         "0.8750317",
         "45",
         "58",
         "False",
         "frozen_yogurt",
         "ice_cream"
        ],
        [
         "2287",
         "0.86358017",
         "38",
         "28",
         "False",
         "fish_and_chips",
         "croque_madame"
        ],
        [
         "3209",
         "0.8574046",
         "9",
         "36",
         "False",
         "breakfast_burrito",
         "falafel"
        ],
        [
         "1338",
         "0.85387856",
         "15",
         "51",
         "False",
         "ceviche",
         "guacamole"
        ],
        [
         "1872",
         "0.8461688",
         "79",
         "37",
         "False",
         "prime_rib",
         "filet_mignon"
        ]
       ],
       "shape": {
        "columns": 6,
        "rows": 10
       }
      },
      "text/html": [
       "<div>\n",
       "<style scoped>\n",
       "    .dataframe tbody tr th:only-of-type {\n",
       "        vertical-align: middle;\n",
       "    }\n",
       "\n",
       "    .dataframe tbody tr th {\n",
       "        vertical-align: top;\n",
       "    }\n",
       "\n",
       "    .dataframe thead th {\n",
       "        text-align: right;\n",
       "    }\n",
       "</style>\n",
       "<table border=\"1\" class=\"dataframe\">\n",
       "  <thead>\n",
       "    <tr style=\"text-align: right;\">\n",
       "      <th></th>\n",
       "      <th>pred_prob</th>\n",
       "      <th>pred_label</th>\n",
       "      <th>label</th>\n",
       "      <th>is_correct</th>\n",
       "      <th>pred_class</th>\n",
       "      <th>label_class</th>\n",
       "    </tr>\n",
       "  </thead>\n",
       "  <tbody>\n",
       "    <tr>\n",
       "      <th>3107</th>\n",
       "      <td>0.98346436</td>\n",
       "      <td>52</td>\n",
       "      <td>32</td>\n",
       "      <td>False</td>\n",
       "      <td>gyoza</td>\n",
       "      <td>dumplings</td>\n",
       "    </tr>\n",
       "    <tr>\n",
       "      <th>1306</th>\n",
       "      <td>0.94416654</td>\n",
       "      <td>71</td>\n",
       "      <td>44</td>\n",
       "      <td>False</td>\n",
       "      <td>paella</td>\n",
       "      <td>fried_rice</td>\n",
       "    </tr>\n",
       "    <tr>\n",
       "      <th>2848</th>\n",
       "      <td>0.9293415</td>\n",
       "      <td>41</td>\n",
       "      <td>8</td>\n",
       "      <td>False</td>\n",
       "      <td>french_onion_soup</td>\n",
       "      <td>bread_pudding</td>\n",
       "    </tr>\n",
       "    <tr>\n",
       "      <th>708</th>\n",
       "      <td>0.9063187</td>\n",
       "      <td>9</td>\n",
       "      <td>12</td>\n",
       "      <td>False</td>\n",
       "      <td>breakfast_burrito</td>\n",
       "      <td>cannoli</td>\n",
       "    </tr>\n",
       "    <tr>\n",
       "      <th>1726</th>\n",
       "      <td>0.880832</td>\n",
       "      <td>68</td>\n",
       "      <td>43</td>\n",
       "      <td>False</td>\n",
       "      <td>onion_rings</td>\n",
       "      <td>fried_calamari</td>\n",
       "    </tr>\n",
       "    <tr>\n",
       "      <th>3436</th>\n",
       "      <td>0.8750317</td>\n",
       "      <td>45</td>\n",
       "      <td>58</td>\n",
       "      <td>False</td>\n",
       "      <td>frozen_yogurt</td>\n",
       "      <td>ice_cream</td>\n",
       "    </tr>\n",
       "    <tr>\n",
       "      <th>2287</th>\n",
       "      <td>0.86358017</td>\n",
       "      <td>38</td>\n",
       "      <td>28</td>\n",
       "      <td>False</td>\n",
       "      <td>fish_and_chips</td>\n",
       "      <td>croque_madame</td>\n",
       "    </tr>\n",
       "    <tr>\n",
       "      <th>3209</th>\n",
       "      <td>0.8574046</td>\n",
       "      <td>9</td>\n",
       "      <td>36</td>\n",
       "      <td>False</td>\n",
       "      <td>breakfast_burrito</td>\n",
       "      <td>falafel</td>\n",
       "    </tr>\n",
       "    <tr>\n",
       "      <th>1338</th>\n",
       "      <td>0.85387856</td>\n",
       "      <td>15</td>\n",
       "      <td>51</td>\n",
       "      <td>False</td>\n",
       "      <td>ceviche</td>\n",
       "      <td>guacamole</td>\n",
       "    </tr>\n",
       "    <tr>\n",
       "      <th>1872</th>\n",
       "      <td>0.8461688</td>\n",
       "      <td>79</td>\n",
       "      <td>37</td>\n",
       "      <td>False</td>\n",
       "      <td>prime_rib</td>\n",
       "      <td>filet_mignon</td>\n",
       "    </tr>\n",
       "  </tbody>\n",
       "</table>\n",
       "</div>"
      ],
      "text/plain": [
       "       pred_prob  pred_label  label  is_correct         pred_class  \\\n",
       "3107  0.98346436          52     32       False              gyoza   \n",
       "1306  0.94416654          71     44       False             paella   \n",
       "2848   0.9293415          41      8       False  french_onion_soup   \n",
       "708    0.9063187           9     12       False  breakfast_burrito   \n",
       "1726    0.880832          68     43       False        onion_rings   \n",
       "3436   0.8750317          45     58       False      frozen_yogurt   \n",
       "2287  0.86358017          38     28       False     fish_and_chips   \n",
       "3209   0.8574046           9     36       False  breakfast_burrito   \n",
       "1338  0.85387856          15     51       False            ceviche   \n",
       "1872   0.8461688          79     37       False          prime_rib   \n",
       "\n",
       "         label_class  \n",
       "3107       dumplings  \n",
       "1306      fried_rice  \n",
       "2848   bread_pudding  \n",
       "708          cannoli  \n",
       "1726  fried_calamari  \n",
       "3436       ice_cream  \n",
       "2287   croque_madame  \n",
       "3209         falafel  \n",
       "1338       guacamole  \n",
       "1872    filet_mignon  "
      ]
     },
     "execution_count": 47,
     "metadata": {},
     "output_type": "execute_result"
    }
   ],
   "source": [
    "# Get top 10 samples that are \"most wrong\", e.g. highest pred_prob but wrong prediction - why??\n",
    "pred_df_20_percent[pred_df_20_percent[\"is_correct\"] == False].sort_values(\"pred_prob\", ascending=False)[:10]"
   ]
  },
  {
   "cell_type": "markdown",
   "id": "a015f0f5",
   "metadata": {},
   "source": [
    "## Exercise 4. Evaluate the ViT feature extractor across the whole Food101 test dataset rather than just the 20% version, how does it perform?\n",
    "* Does it beat the original Food101 paper's best result of 56.4% accuracy?"
   ]
  },
  {
   "cell_type": "code",
   "execution_count": 48,
   "id": "3fef4b02",
   "metadata": {},
   "outputs": [
    {
     "data": {
      "text/plain": [
       "25250"
      ]
     },
     "execution_count": 48,
     "metadata": {},
     "output_type": "execute_result"
    }
   ],
   "source": [
    "# Check length of Food101 test data\n",
    "len(test_data)"
   ]
  },
  {
   "cell_type": "code",
   "execution_count": 49,
   "id": "2a943c65",
   "metadata": {},
   "outputs": [
    {
     "data": {
      "text/plain": [
       "25250"
      ]
     },
     "execution_count": 49,
     "metadata": {},
     "output_type": "execute_result"
    }
   ],
   "source": [
    "# Turn Food101 test data into DataLoader\n",
    "# Easy way: set up batch size of 1 of test data loader - from Sali1997s\n",
    "# Create batch size of 1 (predict on 1 image at a time)\n",
    "test_dataloader_food101_all_data_batch_size_1 = DataLoader(test_data,\n",
    "                                                           batch_size=1,\n",
    "                                                           shuffle=False,\n",
    "                                                           num_workers=NUM_WORKERS)\n",
    "\n",
    "len(test_dataloader_food101_all_data_batch_size_1)"
   ]
  },
  {
   "cell_type": "code",
   "execution_count": 50,
   "id": "a0689b77",
   "metadata": {},
   "outputs": [
    {
     "data": {
      "application/vnd.jupyter.widget-view+json": {
       "model_id": "8c01ed1915c343b1a1ac404ae87b735f",
       "version_major": 2,
       "version_minor": 0
      },
      "text/plain": [
       "  0%|          | 0/25250 [00:00<?, ?it/s]"
      ]
     },
     "metadata": {},
     "output_type": "display_data"
    }
   ],
   "source": [
    "# Prepare model (do this outside the loop)\n",
    "vit_food101_20_percent = vit_food101_20_percent.to(device)\n",
    "vit_food101_20_percent.eval()\n",
    "\n",
    "# Loop through test DataLoader with batch size 1 and make predictions on each image\n",
    "# store predictions and truth values to a dictionary and then append dictionary to list for inspection later\n",
    "vit_food101_all_test_data_pred_list = []\n",
    "for X, y in tqdm(test_dataloader_food101_all_data_batch_size_1):\n",
    "  # Send data to target device\n",
    "  X, y = X.to(device), y.to(device)\n",
    "  \n",
    "  # Create empty prediction dictionary (each sample gets a dictionary)\n",
    "  pred_dict = {} \n",
    "\n",
    "  # Make predictions\n",
    "  with torch.inference_mode():\n",
    "    pred_probs = torch.softmax(vit_food101_20_percent(X), dim=1)\n",
    "    pred_labels = torch.argmax(pred_probs, dim=1)\n",
    "    pred_dict[\"pred_prob\"] = torch.max(pred_probs).cpu().numpy()\n",
    "    pred_dict[\"pred_label\"] = pred_labels.cpu().numpy()[0]\n",
    "    pred_dict[\"label\"] = y.cpu().numpy()[0]\n",
    "  \n",
    "  vit_food101_all_test_data_pred_list.append(pred_dict)"
   ]
  },
  {
   "cell_type": "code",
   "execution_count": 51,
   "id": "12e5b2be",
   "metadata": {},
   "outputs": [
    {
     "data": {
      "application/vnd.microsoft.datawrangler.viewer.v0+json": {
       "columns": [
        {
         "name": "is_correct",
         "rawType": "bool",
         "type": "boolean"
        },
        {
         "name": "count",
         "rawType": "int64",
         "type": "integer"
        }
       ],
       "ref": "738c27a6-f5b0-44c5-abed-0eefbe7f41f3",
       "rows": [
        [
         "True",
         "17847"
        ],
        [
         "False",
         "7403"
        ]
       ],
       "shape": {
        "columns": 1,
        "rows": 2
       }
      },
      "text/plain": [
       "is_correct\n",
       "True     17847\n",
       "False     7403\n",
       "Name: count, dtype: int64"
      ]
     },
     "execution_count": 51,
     "metadata": {},
     "output_type": "execute_result"
    }
   ],
   "source": [
    "# Evalaute model on entire test set\n",
    "food101_all_test_data_df = pd.DataFrame(vit_food101_all_test_data_pred_list)\n",
    "food101_all_test_data_df[\"is_correct\"] = food101_all_test_data_df[\"pred_label\"] == food101_all_test_data_df[\"label\"]\n",
    "food101_all_test_data_df.is_correct.value_counts()"
   ]
  },
  {
   "cell_type": "code",
   "execution_count": 52,
   "id": "03abf04b",
   "metadata": {},
   "outputs": [
    {
     "name": "stdout",
     "output_type": "stream",
     "text": [
      "Accuracy of ViT model on all of Food101 test data: 0.29318811881188117\n"
     ]
    },
    {
     "name": "stderr",
     "output_type": "stream",
     "text": [
      "/tmp/ipykernel_10052/3109009526.py:2: FutureWarning: Series.__getitem__ treating keys as positions is deprecated. In a future version, integer keys will always be treated as labels (consistent with DataFrame behavior). To access a value by position, use `ser.iloc[pos]`\n",
      "  print(f\"Accuracy of ViT model on all of Food101 test data: {food101_all_test_data_df.is_correct.value_counts()[1] / len(food101_all_test_data_df)}\")\n"
     ]
    }
   ],
   "source": [
    "# Calculate accuracy across Food101 all test\n",
    "print(f\"Accuracy of ViT model on all of Food101 test data: {food101_all_test_data_df.is_correct.value_counts()[1] / len(food101_all_test_data_df)}\")"
   ]
  },
  {
   "cell_type": "code",
   "execution_count": null,
   "id": "051d9b89",
   "metadata": {},
   "outputs": [],
   "source": []
  },
  {
   "cell_type": "code",
   "execution_count": null,
   "id": "3d286c6b",
   "metadata": {},
   "outputs": [],
   "source": []
  }
 ],
 "metadata": {
  "kernelspec": {
   "display_name": ".venv",
   "language": "python",
   "name": "python3"
  },
  "language_info": {
   "codemirror_mode": {
    "name": "ipython",
    "version": 3
   },
   "file_extension": ".py",
   "mimetype": "text/x-python",
   "name": "python",
   "nbconvert_exporter": "python",
   "pygments_lexer": "ipython3",
   "version": "3.11.13"
  }
 },
 "nbformat": 4,
 "nbformat_minor": 5
}
