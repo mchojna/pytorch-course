{
 "cells": [
  {
   "cell_type": "markdown",
   "id": "4fc0dd78",
   "metadata": {},
   "source": [
    "## 00. PyTorch Fundamentals\n",
    "\n",
    "Resource notebook: https://www.learnpytorch.io/00_pytorch_fundamentals/"
   ]
  },
  {
   "cell_type": "code",
   "execution_count": 1,
   "metadata": {},
   "outputs": [
    {
     "name": "stdout",
     "output_type": "stream",
     "text": [
      "2.7.1\n"
     ]
    }
   ],
   "source": [
    "import torch\n",
    "import pandas as pd\n",
    "import numpy as np\n",
    "import matplotlib.pyplot as plt\n",
    "\n",
    "print(torch.__version__)"
   ]
  },
  {
   "cell_type": "markdown",
   "id": "14ec2e70",
   "metadata": {},
   "source": [
    "## Introduction to Tensors\n",
    "\n",
    "Link: https://docs.pytorch.org/docs/stable/tensors.html"
   ]
  },
  {
   "cell_type": "markdown",
   "id": "f3453f99",
   "metadata": {},
   "source": [
    "### Creating tensors"
   ]
  },
  {
   "cell_type": "code",
   "execution_count": 2,
   "id": "a656c38f",
   "metadata": {},
   "outputs": [
    {
     "data": {
      "text/plain": [
       "tensor(7)"
      ]
     },
     "execution_count": 2,
     "metadata": {},
     "output_type": "execute_result"
    }
   ],
   "source": [
    "# scalar\n",
    "scalar = torch.tensor(7)\n",
    "scalar"
   ]
  },
  {
   "cell_type": "code",
   "execution_count": 3,
   "id": "9d3c0f2a",
   "metadata": {},
   "outputs": [
    {
     "data": {
      "text/plain": [
       "0"
      ]
     },
     "execution_count": 3,
     "metadata": {},
     "output_type": "execute_result"
    }
   ],
   "source": [
    "scalar.ndim"
   ]
  },
  {
   "cell_type": "code",
   "execution_count": 4,
   "id": "2cab8a71",
   "metadata": {},
   "outputs": [
    {
     "data": {
      "text/plain": [
       "7"
      ]
     },
     "execution_count": 4,
     "metadata": {},
     "output_type": "execute_result"
    }
   ],
   "source": [
    "scalar.item()"
   ]
  },
  {
   "cell_type": "code",
   "execution_count": 5,
   "id": "0b533209",
   "metadata": {},
   "outputs": [
    {
     "data": {
      "text/plain": [
       "tensor([7, 7])"
      ]
     },
     "execution_count": 5,
     "metadata": {},
     "output_type": "execute_result"
    }
   ],
   "source": [
    "# vector\n",
    "vector = torch.tensor([7, 7])\n",
    "vector"
   ]
  },
  {
   "cell_type": "code",
   "execution_count": 6,
   "id": "4ba0f64f",
   "metadata": {},
   "outputs": [
    {
     "data": {
      "text/plain": [
       "1"
      ]
     },
     "execution_count": 6,
     "metadata": {},
     "output_type": "execute_result"
    }
   ],
   "source": [
    "vector.ndim"
   ]
  },
  {
   "cell_type": "code",
   "execution_count": 7,
   "id": "4d17002f",
   "metadata": {},
   "outputs": [
    {
     "data": {
      "text/plain": [
       "torch.Size([2])"
      ]
     },
     "execution_count": 7,
     "metadata": {},
     "output_type": "execute_result"
    }
   ],
   "source": [
    "vector.shape"
   ]
  },
  {
   "cell_type": "code",
   "execution_count": 8,
   "id": "e20164c2",
   "metadata": {},
   "outputs": [
    {
     "data": {
      "text/plain": [
       "tensor([[ 7,  8],\n",
       "        [ 9, 10]])"
      ]
     },
     "execution_count": 8,
     "metadata": {},
     "output_type": "execute_result"
    }
   ],
   "source": [
    "# matrix\n",
    "matrix = torch.tensor([[7, 8], \n",
    "                       [9, 10]])\n",
    "matrix"
   ]
  },
  {
   "cell_type": "code",
   "execution_count": 9,
   "id": "ea5c2415",
   "metadata": {},
   "outputs": [
    {
     "data": {
      "text/plain": [
       "2"
      ]
     },
     "execution_count": 9,
     "metadata": {},
     "output_type": "execute_result"
    }
   ],
   "source": [
    "matrix.ndim"
   ]
  },
  {
   "cell_type": "code",
   "execution_count": 10,
   "id": "a2c06e5e",
   "metadata": {},
   "outputs": [
    {
     "data": {
      "text/plain": [
       "torch.Size([2, 2])"
      ]
     },
     "execution_count": 10,
     "metadata": {},
     "output_type": "execute_result"
    }
   ],
   "source": [
    "matrix.shape"
   ]
  },
  {
   "cell_type": "code",
   "execution_count": 11,
   "id": "2cf9dc21",
   "metadata": {},
   "outputs": [
    {
     "data": {
      "text/plain": [
       "tensor([7, 8])"
      ]
     },
     "execution_count": 11,
     "metadata": {},
     "output_type": "execute_result"
    }
   ],
   "source": [
    "matrix[0]"
   ]
  },
  {
   "cell_type": "code",
   "execution_count": 12,
   "id": "0551008d",
   "metadata": {},
   "outputs": [
    {
     "data": {
      "text/plain": [
       "tensor([ 9, 10])"
      ]
     },
     "execution_count": 12,
     "metadata": {},
     "output_type": "execute_result"
    }
   ],
   "source": [
    "matrix[1]"
   ]
  },
  {
   "cell_type": "code",
   "execution_count": 13,
   "id": "21b0f8f9",
   "metadata": {},
   "outputs": [
    {
     "data": {
      "text/plain": [
       "tensor([[[1, 2, 3],\n",
       "         [4, 5, 6],\n",
       "         [7, 8, 9]]])"
      ]
     },
     "execution_count": 13,
     "metadata": {},
     "output_type": "execute_result"
    }
   ],
   "source": [
    "# tensor\n",
    "tensor = torch.tensor([[[1, 2, 3],\n",
    "                        [4, 5, 6],\n",
    "                        [7, 8, 9]]])\n",
    "tensor"
   ]
  },
  {
   "cell_type": "code",
   "execution_count": 14,
   "id": "c85f3790",
   "metadata": {},
   "outputs": [
    {
     "data": {
      "text/plain": [
       "3"
      ]
     },
     "execution_count": 14,
     "metadata": {},
     "output_type": "execute_result"
    }
   ],
   "source": [
    "tensor.ndim"
   ]
  },
  {
   "cell_type": "code",
   "execution_count": 15,
   "id": "a0478769",
   "metadata": {},
   "outputs": [
    {
     "data": {
      "text/plain": [
       "torch.Size([1, 3, 3])"
      ]
     },
     "execution_count": 15,
     "metadata": {},
     "output_type": "execute_result"
    }
   ],
   "source": [
    "tensor.shape"
   ]
  },
  {
   "cell_type": "code",
   "execution_count": 16,
   "id": "ff639039",
   "metadata": {},
   "outputs": [
    {
     "data": {
      "text/plain": [
       "tensor([[1, 2, 3],\n",
       "        [4, 5, 6],\n",
       "        [7, 8, 9]])"
      ]
     },
     "execution_count": 16,
     "metadata": {},
     "output_type": "execute_result"
    }
   ],
   "source": [
    "tensor[0]"
   ]
  },
  {
   "cell_type": "code",
   "execution_count": 17,
   "id": "fa03ef7e",
   "metadata": {},
   "outputs": [
    {
     "data": {
      "text/plain": [
       "tensor([4, 5, 6])"
      ]
     },
     "execution_count": 17,
     "metadata": {},
     "output_type": "execute_result"
    }
   ],
   "source": [
    "tensor[0][1]"
   ]
  },
  {
   "cell_type": "code",
   "execution_count": 18,
   "id": "9688222e",
   "metadata": {},
   "outputs": [
    {
     "data": {
      "text/plain": [
       "tensor(6)"
      ]
     },
     "execution_count": 18,
     "metadata": {},
     "output_type": "execute_result"
    }
   ],
   "source": [
    "tensor[0][1][2]"
   ]
  },
  {
   "cell_type": "markdown",
   "id": "7aec46f5",
   "metadata": {},
   "source": [
    "### Random tensors"
   ]
  },
  {
   "cell_type": "code",
   "execution_count": 19,
   "id": "78ad7f59",
   "metadata": {},
   "outputs": [
    {
     "data": {
      "text/plain": [
       "tensor([[0.6600, 0.3630, 0.4246, 0.3353],\n",
       "        [0.7734, 0.8054, 0.4783, 0.8588],\n",
       "        [0.8588, 0.8325, 0.9544, 0.7341]])"
      ]
     },
     "execution_count": 19,
     "metadata": {},
     "output_type": "execute_result"
    }
   ],
   "source": [
    "# Create a random tensor of size / shape (3, 4)\n",
    "random_tensor = torch.rand(3, 4)\n",
    "random_tensor"
   ]
  },
  {
   "cell_type": "code",
   "execution_count": 20,
   "id": "59136206",
   "metadata": {},
   "outputs": [
    {
     "data": {
      "text/plain": [
       "2"
      ]
     },
     "execution_count": 20,
     "metadata": {},
     "output_type": "execute_result"
    }
   ],
   "source": [
    "random_tensor.ndim"
   ]
  },
  {
   "cell_type": "code",
   "execution_count": 21,
   "id": "37f8d1c4",
   "metadata": {},
   "outputs": [
    {
     "data": {
      "text/plain": [
       "tensor([[[0.6559, 0.8455, 0.4565],\n",
       "         [0.7860, 0.3010, 0.3781],\n",
       "         [0.2872, 0.8197, 0.0738]],\n",
       "\n",
       "        [[0.9075, 0.5706, 0.4562],\n",
       "         [0.1998, 0.0831, 0.3648],\n",
       "         [0.0394, 0.5895, 0.6627]],\n",
       "\n",
       "        [[0.7817, 0.8049, 0.2082],\n",
       "         [0.6576, 0.5872, 0.5963],\n",
       "         [0.9689, 0.1450, 0.7034]]])"
      ]
     },
     "execution_count": 21,
     "metadata": {},
     "output_type": "execute_result"
    }
   ],
   "source": [
    "random_tensor = torch.rand(3, 3, 3)\n",
    "random_tensor"
   ]
  },
  {
   "cell_type": "code",
   "execution_count": 22,
   "id": "3464bac6",
   "metadata": {},
   "outputs": [
    {
     "data": {
      "text/plain": [
       "tensor([[[0.3796, 0.9756, 0.2624],\n",
       "         [0.4727, 0.8908, 0.7700]]])"
      ]
     },
     "execution_count": 22,
     "metadata": {},
     "output_type": "execute_result"
    }
   ],
   "source": [
    "torch.rand(size=(1, 2, 3))"
   ]
  },
  {
   "cell_type": "code",
   "execution_count": 23,
   "id": "ce7dc199",
   "metadata": {},
   "outputs": [
    {
     "data": {
      "text/plain": [
       "(torch.Size([224, 224, 3]), 3)"
      ]
     },
     "execution_count": 23,
     "metadata": {},
     "output_type": "execute_result"
    }
   ],
   "source": [
    "random_image_size_tensor = torch.rand(size=(224, 224, 3))\n",
    "random_image_size_tensor.shape, random_image_size_tensor.ndim"
   ]
  },
  {
   "cell_type": "markdown",
   "id": "06297596",
   "metadata": {},
   "source": [
    "### Zeros and ones"
   ]
  },
  {
   "cell_type": "code",
   "execution_count": 24,
   "id": "29fd5d57",
   "metadata": {},
   "outputs": [
    {
     "data": {
      "text/plain": [
       "tensor([[0.7107, 0.7929, 0.0545, 0.2425],\n",
       "        [0.3116, 0.7630, 0.7956, 0.7726],\n",
       "        [0.3124, 0.1015, 0.3025, 0.3299]])"
      ]
     },
     "execution_count": 24,
     "metadata": {},
     "output_type": "execute_result"
    }
   ],
   "source": [
    "random_tensor = torch.rand(size=(3, 4))\n",
    "random_tensor"
   ]
  },
  {
   "cell_type": "code",
   "execution_count": 25,
   "id": "a0cd91a0",
   "metadata": {},
   "outputs": [
    {
     "data": {
      "text/plain": [
       "tensor([[0., 0., 0., 0.],\n",
       "        [0., 0., 0., 0.],\n",
       "        [0., 0., 0., 0.]])"
      ]
     },
     "execution_count": 25,
     "metadata": {},
     "output_type": "execute_result"
    }
   ],
   "source": [
    "# tensor of zeros\n",
    "zeros = torch.zeros(size=(3, 4))\n",
    "zeros"
   ]
  },
  {
   "cell_type": "code",
   "execution_count": 26,
   "id": "bce9348e",
   "metadata": {},
   "outputs": [
    {
     "data": {
      "text/plain": [
       "tensor([[0., 0., 0., 0.],\n",
       "        [0., 0., 0., 0.],\n",
       "        [0., 0., 0., 0.]])"
      ]
     },
     "execution_count": 26,
     "metadata": {},
     "output_type": "execute_result"
    }
   ],
   "source": [
    "zeros * random_tensor"
   ]
  },
  {
   "cell_type": "code",
   "execution_count": 27,
   "id": "4dd6e0fc",
   "metadata": {},
   "outputs": [],
   "source": [
    "# tensor of ones\n",
    "ones = torch.ones(size=(3, 4))"
   ]
  },
  {
   "cell_type": "code",
   "execution_count": 28,
   "id": "32cc9743",
   "metadata": {},
   "outputs": [
    {
     "data": {
      "text/plain": [
       "torch.float32"
      ]
     },
     "execution_count": 28,
     "metadata": {},
     "output_type": "execute_result"
    }
   ],
   "source": [
    "ones.dtype"
   ]
  },
  {
   "cell_type": "code",
   "execution_count": 29,
   "id": "c94d96cf",
   "metadata": {},
   "outputs": [
    {
     "data": {
      "text/plain": [
       "tensor([[0.7107, 0.7929, 0.0545, 0.2425],\n",
       "        [0.3116, 0.7630, 0.7956, 0.7726],\n",
       "        [0.3124, 0.1015, 0.3025, 0.3299]])"
      ]
     },
     "execution_count": 29,
     "metadata": {},
     "output_type": "execute_result"
    }
   ],
   "source": [
    "ones * random_tensor"
   ]
  },
  {
   "cell_type": "markdown",
   "id": "46d70153",
   "metadata": {},
   "source": [
    "### Creating a range of tensors and tensors-like"
   ]
  },
  {
   "cell_type": "code",
   "execution_count": 30,
   "id": "447e3045",
   "metadata": {},
   "outputs": [
    {
     "name": "stderr",
     "output_type": "stream",
     "text": [
      "/var/folders/zd/7ryz379j2dz9shhk8m8k4zx40000gn/T/ipykernel_3183/616276269.py:1: UserWarning: torch.range is deprecated and will be removed in a future release because its behavior is inconsistent with Python's range builtin. Instead, use torch.arange, which produces values in [start, end).\n",
      "  torch.range(2, 8)\n"
     ]
    },
    {
     "data": {
      "text/plain": [
       "tensor([2., 3., 4., 5., 6., 7., 8.])"
      ]
     },
     "execution_count": 30,
     "metadata": {},
     "output_type": "execute_result"
    }
   ],
   "source": [
    "torch.range(2, 8)"
   ]
  },
  {
   "cell_type": "code",
   "execution_count": 31,
   "id": "43d2ac48",
   "metadata": {},
   "outputs": [
    {
     "data": {
      "text/plain": [
       "tensor([0, 1, 2, 3, 4, 5, 6, 7, 8, 9])"
      ]
     },
     "execution_count": 31,
     "metadata": {},
     "output_type": "execute_result"
    }
   ],
   "source": [
    "torch.arange(0, 10)"
   ]
  },
  {
   "cell_type": "code",
   "execution_count": 32,
   "id": "69814b7f",
   "metadata": {},
   "outputs": [],
   "source": [
    "one_to_ten = torch.arange(1, 11)"
   ]
  },
  {
   "cell_type": "code",
   "execution_count": 33,
   "id": "d6377683",
   "metadata": {},
   "outputs": [
    {
     "data": {
      "text/plain": [
       "tensor([  0,  99, 198, 297, 396, 495, 594, 693, 792, 891, 990])"
      ]
     },
     "execution_count": 33,
     "metadata": {},
     "output_type": "execute_result"
    }
   ],
   "source": [
    "torch.arange(start=0, end=1000, step=99)"
   ]
  },
  {
   "cell_type": "code",
   "execution_count": 34,
   "id": "25104565",
   "metadata": {},
   "outputs": [
    {
     "data": {
      "text/plain": [
       "tensor([0, 0, 0, 0, 0, 0, 0, 0, 0, 0])"
      ]
     },
     "execution_count": 34,
     "metadata": {},
     "output_type": "execute_result"
    }
   ],
   "source": [
    "ten_zeres = torch.zeros_like(input=one_to_ten)\n",
    "ten_zeres"
   ]
  },
  {
   "cell_type": "markdown",
   "id": "d8b3d0f7",
   "metadata": {},
   "source": [
    "### Tensor datatypes"
   ]
  },
  {
   "cell_type": "code",
   "execution_count": 35,
   "id": "77313d3b",
   "metadata": {},
   "outputs": [
    {
     "data": {
      "text/plain": [
       "torch.float32"
      ]
     },
     "execution_count": 35,
     "metadata": {},
     "output_type": "execute_result"
    }
   ],
   "source": [
    "float_32_tensor = torch.tensor([3.0 , 6.0, 9.0], \n",
    "                               dtype=torch.float32)\n",
    "float_32_tensor.dtype"
   ]
  },
  {
   "cell_type": "code",
   "execution_count": 36,
   "id": "5dfa9e2b",
   "metadata": {},
   "outputs": [
    {
     "data": {
      "text/plain": [
       "torch.float16"
      ]
     },
     "execution_count": 36,
     "metadata": {},
     "output_type": "execute_result"
    }
   ],
   "source": [
    "float_16_tensor = torch.tensor([3.0 , 6.0, 9.0], \n",
    "                               dtype=torch.float16, # datatype of tensor\n",
    "                               device=\"mps\",\n",
    "                               requires_grad=False)\n",
    "float_16_tensor.dtype"
   ]
  },
  {
   "cell_type": "code",
   "execution_count": 37,
   "id": "c6a5df81",
   "metadata": {},
   "outputs": [
    {
     "data": {
      "text/plain": [
       "tensor([3., 6., 9.], dtype=torch.float64)"
      ]
     },
     "execution_count": 37,
     "metadata": {},
     "output_type": "execute_result"
    }
   ],
   "source": [
    "float_64_tensor = float_32_tensor.type(torch.float64)\n",
    "float_64_tensor"
   ]
  },
  {
   "cell_type": "code",
   "execution_count": 38,
   "id": "5e19a2a1",
   "metadata": {},
   "outputs": [
    {
     "data": {
      "text/plain": [
       "(torch.Size([3]), device(type='mps', index=0), torch.float16)"
      ]
     },
     "execution_count": 38,
     "metadata": {},
     "output_type": "execute_result"
    }
   ],
   "source": [
    "float_16_tensor.shape, float_16_tensor.device, float_16_tensor.dtype"
   ]
  },
  {
   "cell_type": "code",
   "execution_count": 39,
   "id": "5aaee2d8",
   "metadata": {},
   "outputs": [
    {
     "data": {
      "text/plain": [
       "tensor([ 9., 36., 81.], dtype=torch.float64)"
      ]
     },
     "execution_count": 39,
     "metadata": {},
     "output_type": "execute_result"
    }
   ],
   "source": [
    "float_64_tensor * float_32_tensor"
   ]
  },
  {
   "cell_type": "code",
   "execution_count": 40,
   "id": "fa28bef5",
   "metadata": {},
   "outputs": [
    {
     "data": {
      "text/plain": [
       "tensor([ 9., 36., 81.], dtype=torch.float64)"
      ]
     },
     "execution_count": 40,
     "metadata": {},
     "output_type": "execute_result"
    }
   ],
   "source": [
    "float_32_tensor * float_64_tensor"
   ]
  },
  {
   "cell_type": "code",
   "execution_count": 41,
   "id": "e73ac400",
   "metadata": {},
   "outputs": [
    {
     "data": {
      "text/plain": [
       "tensor([3, 6, 9], dtype=torch.int32)"
      ]
     },
     "execution_count": 41,
     "metadata": {},
     "output_type": "execute_result"
    }
   ],
   "source": [
    "int_32_tensor = torch.tensor([3, 6, 9], dtype=torch.int32)\n",
    "int_32_tensor"
   ]
  },
  {
   "cell_type": "code",
   "execution_count": 42,
   "id": "32d10e0f",
   "metadata": {},
   "outputs": [
    {
     "data": {
      "text/plain": [
       "tensor([ 9., 36., 81.])"
      ]
     },
     "execution_count": 42,
     "metadata": {},
     "output_type": "execute_result"
    }
   ],
   "source": [
    "float_32_tensor * int_32_tensor"
   ]
  },
  {
   "cell_type": "markdown",
   "id": "2c06c4e3",
   "metadata": {},
   "source": [
    "### Manipulating tensors"
   ]
  },
  {
   "cell_type": "code",
   "execution_count": 43,
   "id": "1636ab5d",
   "metadata": {},
   "outputs": [],
   "source": [
    "a = torch.rand(size=(3, 3))\n",
    "b = torch.rand(size=(3, 3))"
   ]
  },
  {
   "cell_type": "code",
   "execution_count": 44,
   "id": "7ba10590",
   "metadata": {},
   "outputs": [
    {
     "data": {
      "text/plain": [
       "tensor([[0.8322, 0.8629, 0.1062],\n",
       "        [0.7747, 0.0017, 0.4262],\n",
       "        [0.8406, 0.3604, 0.8764]])"
      ]
     },
     "execution_count": 44,
     "metadata": {},
     "output_type": "execute_result"
    }
   ],
   "source": [
    "a"
   ]
  },
  {
   "cell_type": "code",
   "execution_count": 45,
   "id": "33c87f63",
   "metadata": {},
   "outputs": [
    {
     "data": {
      "text/plain": [
       "tensor([[0.4688, 0.6669, 0.1535],\n",
       "        [0.1584, 0.6911, 0.3957],\n",
       "        [0.1947, 0.3910, 0.8002]])"
      ]
     },
     "execution_count": 45,
     "metadata": {},
     "output_type": "execute_result"
    }
   ],
   "source": [
    "b"
   ]
  },
  {
   "cell_type": "code",
   "execution_count": 46,
   "id": "ab278826",
   "metadata": {},
   "outputs": [
    {
     "data": {
      "text/plain": [
       "tensor([[20.8322, 20.8629, 20.1062],\n",
       "        [20.7747, 20.0017, 20.4262],\n",
       "        [20.8406, 20.3604, 20.8764]])"
      ]
     },
     "execution_count": 46,
     "metadata": {},
     "output_type": "execute_result"
    }
   ],
   "source": [
    "a + 20"
   ]
  },
  {
   "cell_type": "code",
   "execution_count": 47,
   "id": "cf9f5b0f",
   "metadata": {},
   "outputs": [
    {
     "data": {
      "text/plain": [
       "tensor([[10.8322, 10.8629, 10.1062],\n",
       "        [10.7747, 10.0017, 10.4262],\n",
       "        [10.8406, 10.3604, 10.8764]])"
      ]
     },
     "execution_count": 47,
     "metadata": {},
     "output_type": "execute_result"
    }
   ],
   "source": [
    "torch.add(a, 10)"
   ]
  },
  {
   "cell_type": "code",
   "execution_count": 48,
   "id": "7dd5729d",
   "metadata": {},
   "outputs": [
    {
     "data": {
      "text/plain": [
       "tensor([[1.3010, 1.5298, 0.2598],\n",
       "        [0.9331, 0.6929, 0.8219],\n",
       "        [1.0353, 0.7514, 1.6766]])"
      ]
     },
     "execution_count": 48,
     "metadata": {},
     "output_type": "execute_result"
    }
   ],
   "source": [
    "a + b"
   ]
  },
  {
   "cell_type": "code",
   "execution_count": 49,
   "id": "97b3cfa1",
   "metadata": {},
   "outputs": [
    {
     "data": {
      "text/plain": [
       "tensor([[-9.1678, -9.1371, -9.8938],\n",
       "        [-9.2253, -9.9983, -9.5738],\n",
       "        [-9.1594, -9.6396, -9.1236]])"
      ]
     },
     "execution_count": 49,
     "metadata": {},
     "output_type": "execute_result"
    }
   ],
   "source": [
    "a - 10"
   ]
  },
  {
   "cell_type": "code",
   "execution_count": 50,
   "id": "70d8c1c7",
   "metadata": {},
   "outputs": [
    {
     "data": {
      "text/plain": [
       "tensor([[-9.1678, -9.1371, -9.8938],\n",
       "        [-9.2253, -9.9983, -9.5738],\n",
       "        [-9.1594, -9.6396, -9.1236]])"
      ]
     },
     "execution_count": 50,
     "metadata": {},
     "output_type": "execute_result"
    }
   ],
   "source": [
    "torch.sub(a, 10)"
   ]
  },
  {
   "cell_type": "code",
   "execution_count": 51,
   "id": "f28404fa",
   "metadata": {},
   "outputs": [
    {
     "data": {
      "text/plain": [
       "tensor([[ 0.3634,  0.1961, -0.0473],\n",
       "        [ 0.6163, -0.6894,  0.0305],\n",
       "        [ 0.6459, -0.0306,  0.0762]])"
      ]
     },
     "execution_count": 51,
     "metadata": {},
     "output_type": "execute_result"
    }
   ],
   "source": [
    "a - b"
   ]
  },
  {
   "cell_type": "code",
   "execution_count": 52,
   "id": "d98b7b96",
   "metadata": {},
   "outputs": [
    {
     "data": {
      "text/plain": [
       "tensor([[8.3217, 8.6293, 1.0624],\n",
       "        [7.7471, 0.0172, 4.2616],\n",
       "        [8.4059, 3.6037, 8.7642]])"
      ]
     },
     "execution_count": 52,
     "metadata": {},
     "output_type": "execute_result"
    }
   ],
   "source": [
    "a * 10"
   ]
  },
  {
   "cell_type": "code",
   "execution_count": 53,
   "id": "df91db63",
   "metadata": {},
   "outputs": [
    {
     "data": {
      "text/plain": [
       "tensor([[8.3217, 8.6293, 1.0624],\n",
       "        [7.7471, 0.0172, 4.2616],\n",
       "        [8.4059, 3.6037, 8.7642]])"
      ]
     },
     "execution_count": 53,
     "metadata": {},
     "output_type": "execute_result"
    }
   ],
   "source": [
    "torch.mul(a, 10)"
   ]
  },
  {
   "cell_type": "code",
   "execution_count": 54,
   "id": "5b45e2d2",
   "metadata": {},
   "outputs": [
    {
     "data": {
      "text/plain": [
       "tensor([[0.3901, 0.5755, 0.0163],\n",
       "        [0.1227, 0.0012, 0.1686],\n",
       "        [0.1637, 0.1409, 0.7013]])"
      ]
     },
     "execution_count": 54,
     "metadata": {},
     "output_type": "execute_result"
    }
   ],
   "source": [
    "a * b"
   ]
  },
  {
   "cell_type": "code",
   "execution_count": 55,
   "id": "665e5f0f",
   "metadata": {},
   "outputs": [
    {
     "data": {
      "text/plain": [
       "tensor([[0.0832, 0.0863, 0.0106],\n",
       "        [0.0775, 0.0002, 0.0426],\n",
       "        [0.0841, 0.0360, 0.0876]])"
      ]
     },
     "execution_count": 55,
     "metadata": {},
     "output_type": "execute_result"
    }
   ],
   "source": [
    "a / 10"
   ]
  },
  {
   "cell_type": "code",
   "execution_count": 56,
   "id": "de78b0bd",
   "metadata": {},
   "outputs": [
    {
     "data": {
      "text/plain": [
       "tensor([[0.0832, 0.0863, 0.0106],\n",
       "        [0.0775, 0.0002, 0.0426],\n",
       "        [0.0841, 0.0360, 0.0876]])"
      ]
     },
     "execution_count": 56,
     "metadata": {},
     "output_type": "execute_result"
    }
   ],
   "source": [
    "torch.div(a, 10)"
   ]
  },
  {
   "cell_type": "code",
   "execution_count": 57,
   "id": "1653d99c",
   "metadata": {},
   "outputs": [
    {
     "data": {
      "text/plain": [
       "tensor([[1.7751e+00, 1.2940e+00, 6.9201e-01],\n",
       "        [4.8912e+00, 2.4833e-03, 1.0770e+00],\n",
       "        [4.3173e+00, 9.2163e-01, 1.0952e+00]])"
      ]
     },
     "execution_count": 57,
     "metadata": {},
     "output_type": "execute_result"
    }
   ],
   "source": [
    "a / b"
   ]
  },
  {
   "cell_type": "code",
   "execution_count": 58,
   "id": "fbd568cc",
   "metadata": {},
   "outputs": [
    {
     "data": {
      "text/plain": [
       "tensor([[0.5475, 1.1929, 0.5542],\n",
       "        [0.4464, 0.6845, 0.4606],\n",
       "        [0.6218, 1.1523, 0.9730]])"
      ]
     },
     "execution_count": 58,
     "metadata": {},
     "output_type": "execute_result"
    }
   ],
   "source": [
    "torch.matmul(a, b)"
   ]
  },
  {
   "cell_type": "code",
   "execution_count": 59,
   "id": "460d1ffa",
   "metadata": {},
   "outputs": [
    {
     "data": {
      "text/plain": [
       "tensor([[0.5475, 1.1929, 0.5542],\n",
       "        [0.4464, 0.6845, 0.4606],\n",
       "        [0.6218, 1.1523, 0.9730]])"
      ]
     },
     "execution_count": 59,
     "metadata": {},
     "output_type": "execute_result"
    }
   ],
   "source": [
    "a @ b"
   ]
  },
  {
   "cell_type": "code",
   "execution_count": 60,
   "id": "3f93cbcc",
   "metadata": {},
   "outputs": [
    {
     "data": {
      "text/plain": [
       "tensor([[6.9251e-01, 7.4465e-01, 1.1287e-02],\n",
       "        [6.0017e-01, 2.9457e-06, 1.8161e-01],\n",
       "        [7.0659e-01, 1.2986e-01, 7.6811e-01]])"
      ]
     },
     "execution_count": 60,
     "metadata": {},
     "output_type": "execute_result"
    }
   ],
   "source": [
    "a ** 2"
   ]
  },
  {
   "cell_type": "code",
   "execution_count": 61,
   "id": "a4e3e5ba",
   "metadata": {},
   "outputs": [
    {
     "data": {
      "text/plain": [
       "tensor([[0.9122, 0.9289, 0.3259],\n",
       "        [0.8802, 0.0414, 0.6528],\n",
       "        [0.9168, 0.6003, 0.9362]])"
      ]
     },
     "execution_count": 61,
     "metadata": {},
     "output_type": "execute_result"
    }
   ],
   "source": [
    "a ** (1 / 2)"
   ]
  },
  {
   "cell_type": "code",
   "execution_count": 62,
   "id": "6ad63876",
   "metadata": {},
   "outputs": [],
   "source": [
    "a = torch.tensor([1, 2, 3])\n",
    "b = torch.tensor([1, 2, 3])"
   ]
  },
  {
   "cell_type": "code",
   "execution_count": 63,
   "id": "dc8d9aa5",
   "metadata": {},
   "outputs": [
    {
     "name": "stdout",
     "output_type": "stream",
     "text": [
      "CPU times: user 116 μs, sys: 25 μs, total: 141 μs\n",
      "Wall time: 147 μs\n"
     ]
    },
    {
     "data": {
      "text/plain": [
       "tensor(2)"
      ]
     },
     "execution_count": 63,
     "metadata": {},
     "output_type": "execute_result"
    }
   ],
   "source": [
    "%%time\n",
    "value = 0\n",
    "for i in range(len(tensor)):\n",
    "    value += a[i] + b[i]\n",
    "value"
   ]
  },
  {
   "cell_type": "code",
   "execution_count": 64,
   "id": "d5d13809",
   "metadata": {},
   "outputs": [
    {
     "name": "stdout",
     "output_type": "stream",
     "text": [
      "CPU times: user 594 μs, sys: 1.19 ms, total: 1.78 ms\n",
      "Wall time: 1.19 ms\n"
     ]
    },
    {
     "data": {
      "text/plain": [
       "tensor(14)"
      ]
     },
     "execution_count": 64,
     "metadata": {},
     "output_type": "execute_result"
    }
   ],
   "source": [
    "%%time\n",
    "torch.matmul(a, b)"
   ]
  },
  {
   "cell_type": "code",
   "execution_count": 65,
   "id": "85141c6b",
   "metadata": {},
   "outputs": [
    {
     "name": "stdout",
     "output_type": "stream",
     "text": [
      "CPU times: user 37 μs, sys: 7 μs, total: 44 μs\n",
      "Wall time: 48.2 μs\n"
     ]
    },
    {
     "data": {
      "text/plain": [
       "tensor(14)"
      ]
     },
     "execution_count": 65,
     "metadata": {},
     "output_type": "execute_result"
    }
   ],
   "source": [
    "%%time\n",
    "a @ b"
   ]
  },
  {
   "cell_type": "code",
   "execution_count": 66,
   "id": "425a416d",
   "metadata": {},
   "outputs": [
    {
     "ename": "RuntimeError",
     "evalue": "mat1 and mat2 shapes cannot be multiplied (3x2 and 3x2)",
     "output_type": "error",
     "traceback": [
      "\u001b[31m---------------------------------------------------------------------------\u001b[39m",
      "\u001b[31mRuntimeError\u001b[39m                              Traceback (most recent call last)",
      "\u001b[36mCell\u001b[39m\u001b[36m \u001b[39m\u001b[32mIn[66]\u001b[39m\u001b[32m, line 1\u001b[39m\n\u001b[32m----> \u001b[39m\u001b[32m1\u001b[39m \u001b[43mtorch\u001b[49m\u001b[43m.\u001b[49m\u001b[43mrand\u001b[49m\u001b[43m(\u001b[49m\u001b[43m[\u001b[49m\u001b[32;43m3\u001b[39;49m\u001b[43m,\u001b[49m\u001b[43m \u001b[49m\u001b[32;43m2\u001b[39;49m\u001b[43m]\u001b[49m\u001b[43m)\u001b[49m\u001b[43m \u001b[49m\u001b[43m@\u001b[49m\u001b[43m \u001b[49m\u001b[43mtorch\u001b[49m\u001b[43m.\u001b[49m\u001b[43mrand\u001b[49m\u001b[43m(\u001b[49m\u001b[43m[\u001b[49m\u001b[32;43m3\u001b[39;49m\u001b[43m,\u001b[49m\u001b[43m \u001b[49m\u001b[32;43m2\u001b[39;49m\u001b[43m]\u001b[49m\u001b[43m)\u001b[49m\n",
      "\u001b[31mRuntimeError\u001b[39m: mat1 and mat2 shapes cannot be multiplied (3x2 and 3x2)"
     ]
    }
   ],
   "source": [
    "torch.rand([3, 2]) @ torch.rand([3, 2])"
   ]
  },
  {
   "cell_type": "code",
   "execution_count": 67,
   "id": "52d34f7c",
   "metadata": {},
   "outputs": [
    {
     "data": {
      "text/plain": [
       "tensor([[0.1792, 0.0845, 0.9678],\n",
       "        [0.3586, 0.1265, 1.4809],\n",
       "        [0.3186, 0.1221, 1.4194]])"
      ]
     },
     "execution_count": 67,
     "metadata": {},
     "output_type": "execute_result"
    }
   ],
   "source": [
    "torch.rand([3, 2]) @ torch.rand([2, 3])"
   ]
  },
  {
   "cell_type": "code",
   "execution_count": 68,
   "id": "bf9f7044",
   "metadata": {},
   "outputs": [
    {
     "data": {
      "text/plain": [
       "tensor([[1.0994, 1.1815],\n",
       "        [1.7455, 1.0099]])"
      ]
     },
     "execution_count": 68,
     "metadata": {},
     "output_type": "execute_result"
    }
   ],
   "source": [
    "torch.rand([2, 3]) @ torch.rand([3, 2])"
   ]
  },
  {
   "cell_type": "code",
   "execution_count": 69,
   "id": "20bc2ad6",
   "metadata": {},
   "outputs": [
    {
     "data": {
      "text/plain": [
       "tensor([[0.9159, 0.3542, 0.1957],\n",
       "        [0.7924, 0.8684, 0.4709],\n",
       "        [0.8384, 0.6378, 0.5718],\n",
       "        [0.7424, 0.6263, 0.8524]])"
      ]
     },
     "execution_count": 69,
     "metadata": {},
     "output_type": "execute_result"
    }
   ],
   "source": [
    "a = torch.rand([4, 3])\n",
    "a"
   ]
  },
  {
   "cell_type": "code",
   "execution_count": 70,
   "id": "2832483a",
   "metadata": {},
   "outputs": [
    {
     "data": {
      "text/plain": [
       "tensor([[0.9159, 0.7924, 0.8384, 0.7424],\n",
       "        [0.3542, 0.8684, 0.6378, 0.6263],\n",
       "        [0.1957, 0.4709, 0.5718, 0.8524]])"
      ]
     },
     "execution_count": 70,
     "metadata": {},
     "output_type": "execute_result"
    }
   ],
   "source": [
    "b = a.T\n",
    "b"
   ]
  },
  {
   "cell_type": "code",
   "execution_count": 71,
   "id": "01be1ab5",
   "metadata": {},
   "outputs": [
    {
     "data": {
      "text/plain": [
       "(torch.Size([4, 3]), torch.Size([3, 4]))"
      ]
     },
     "execution_count": 71,
     "metadata": {},
     "output_type": "execute_result"
    }
   ],
   "source": [
    "a.shape, b.shape"
   ]
  },
  {
   "cell_type": "code",
   "execution_count": 72,
   "id": "e6945ac7",
   "metadata": {},
   "outputs": [
    {
     "data": {
      "text/plain": [
       "tensor([[0.9159, 0.3542, 0.1957],\n",
       "        [0.7924, 0.8684, 0.4709],\n",
       "        [0.8384, 0.6378, 0.5718],\n",
       "        [0.7424, 0.6263, 0.8524]])"
      ]
     },
     "execution_count": 72,
     "metadata": {},
     "output_type": "execute_result"
    }
   ],
   "source": [
    "b.T"
   ]
  },
  {
   "cell_type": "code",
   "execution_count": 73,
   "id": "d79228bb",
   "metadata": {},
   "outputs": [
    {
     "data": {
      "text/plain": [
       "tensor([[1.0026, 1.1255, 1.1057, 1.0686],\n",
       "        [1.1255, 1.6038, 1.4875, 1.5336],\n",
       "        [1.1057, 1.4875, 1.4367, 1.5093],\n",
       "        [1.0686, 1.5336, 1.5093, 1.6700]])"
      ]
     },
     "execution_count": 73,
     "metadata": {},
     "output_type": "execute_result"
    }
   ],
   "source": [
    "torch.mm(a, a.T)"
   ]
  },
  {
   "cell_type": "markdown",
   "id": "754c64e0",
   "metadata": {},
   "source": [
    "### Tensor aggregation"
   ]
  },
  {
   "cell_type": "code",
   "execution_count": 80,
   "id": "3f87267f",
   "metadata": {},
   "outputs": [
    {
     "data": {
      "text/plain": [
       "(tensor([ 0, 10, 20, 30, 40, 50, 60, 70, 80, 90]), torch.int64)"
      ]
     },
     "execution_count": 80,
     "metadata": {},
     "output_type": "execute_result"
    }
   ],
   "source": [
    "tensor = torch.arange(0, 100, 10)\n",
    "tensor, tensor.dtype"
   ]
  },
  {
   "cell_type": "code",
   "execution_count": 77,
   "id": "717c6517",
   "metadata": {},
   "outputs": [
    {
     "data": {
      "text/plain": [
       "(tensor(0), tensor(0))"
      ]
     },
     "execution_count": 77,
     "metadata": {},
     "output_type": "execute_result"
    }
   ],
   "source": [
    "torch.min(tensor), tensor.min()"
   ]
  },
  {
   "cell_type": "code",
   "execution_count": 78,
   "id": "9e7f8f6f",
   "metadata": {},
   "outputs": [
    {
     "data": {
      "text/plain": [
       "(tensor(90), tensor(90))"
      ]
     },
     "execution_count": 78,
     "metadata": {},
     "output_type": "execute_result"
    }
   ],
   "source": [
    "torch.max(tensor), tensor.max()"
   ]
  },
  {
   "cell_type": "code",
   "execution_count": 82,
   "id": "3bb0d792",
   "metadata": {},
   "outputs": [
    {
     "data": {
      "text/plain": [
       "(tensor(45.), tensor(45.))"
      ]
     },
     "execution_count": 82,
     "metadata": {},
     "output_type": "execute_result"
    }
   ],
   "source": [
    "torch.mean(tensor.type(torch.float32)), tensor.type(torch.float32).mean()"
   ]
  },
  {
   "cell_type": "code",
   "execution_count": 83,
   "id": "fbcab4d0",
   "metadata": {},
   "outputs": [
    {
     "data": {
      "text/plain": [
       "(tensor(450), tensor(450))"
      ]
     },
     "execution_count": 83,
     "metadata": {},
     "output_type": "execute_result"
    }
   ],
   "source": [
    "torch.sum(tensor), tensor.sum()"
   ]
  },
  {
   "cell_type": "markdown",
   "id": "9de58966",
   "metadata": {},
   "source": [
    "### Finiding positions"
   ]
  },
  {
   "cell_type": "code",
   "execution_count": 86,
   "id": "d23e2613",
   "metadata": {},
   "outputs": [
    {
     "data": {
      "text/plain": [
       "tensor([ 0, 10, 20, 30, 40, 50, 60, 70, 80, 90])"
      ]
     },
     "execution_count": 86,
     "metadata": {},
     "output_type": "execute_result"
    }
   ],
   "source": [
    "tensor"
   ]
  },
  {
   "cell_type": "code",
   "execution_count": 84,
   "id": "529ff8fd",
   "metadata": {},
   "outputs": [
    {
     "data": {
      "text/plain": [
       "(tensor(9), tensor(9))"
      ]
     },
     "execution_count": 84,
     "metadata": {},
     "output_type": "execute_result"
    }
   ],
   "source": [
    "torch.argmax(tensor), tensor.argmax()"
   ]
  },
  {
   "cell_type": "code",
   "execution_count": 87,
   "id": "34f4e5f6",
   "metadata": {},
   "outputs": [
    {
     "data": {
      "text/plain": [
       "tensor(90)"
      ]
     },
     "execution_count": 87,
     "metadata": {},
     "output_type": "execute_result"
    }
   ],
   "source": [
    "tensor[tensor.argmax()]"
   ]
  },
  {
   "cell_type": "code",
   "execution_count": 85,
   "id": "ac164153",
   "metadata": {},
   "outputs": [
    {
     "data": {
      "text/plain": [
       "(tensor(0), tensor(0))"
      ]
     },
     "execution_count": 85,
     "metadata": {},
     "output_type": "execute_result"
    }
   ],
   "source": [
    "torch.argmin(tensor), tensor.argmin()"
   ]
  },
  {
   "cell_type": "code",
   "execution_count": 88,
   "id": "1b8c6536",
   "metadata": {},
   "outputs": [
    {
     "data": {
      "text/plain": [
       "tensor(0)"
      ]
     },
     "execution_count": 88,
     "metadata": {},
     "output_type": "execute_result"
    }
   ],
   "source": [
    "tensor[torch.argmin(tensor)]"
   ]
  },
  {
   "cell_type": "markdown",
   "id": "6a497aae",
   "metadata": {},
   "source": [
    "### Reshaping, starcking, squeezing and unsqueezing tensors"
   ]
  },
  {
   "cell_type": "code",
   "execution_count": 90,
   "id": "22b4c43f",
   "metadata": {},
   "outputs": [
    {
     "data": {
      "text/plain": [
       "tensor([[0.1637, 0.5733, 0.5623, 0.6498, 0.2153],\n",
       "        [0.4352, 0.4406, 0.6680, 0.5569, 0.0643],\n",
       "        [0.2426, 0.5575, 0.8442, 0.8379, 0.2307]])"
      ]
     },
     "execution_count": 90,
     "metadata": {},
     "output_type": "execute_result"
    }
   ],
   "source": [
    "a = torch.rand(size=[3, 5])\n",
    "a"
   ]
  },
  {
   "cell_type": "code",
   "execution_count": 91,
   "id": "b7478088",
   "metadata": {},
   "outputs": [
    {
     "data": {
      "text/plain": [
       "torch.Size([3, 5])"
      ]
     },
     "execution_count": 91,
     "metadata": {},
     "output_type": "execute_result"
    }
   ],
   "source": [
    "a.shape"
   ]
  },
  {
   "cell_type": "code",
   "execution_count": 100,
   "id": "07d8480d",
   "metadata": {},
   "outputs": [
    {
     "data": {
      "text/plain": [
       "(tensor([[0.1637, 0.5733, 0.5623, 0.6498, 0.2153, 0.4352, 0.4406, 0.6680, 0.5569,\n",
       "          0.0643, 0.2426, 0.5575, 0.8442, 0.8379, 0.2307]]),\n",
       " torch.Size([1, 15]))"
      ]
     },
     "execution_count": 100,
     "metadata": {},
     "output_type": "execute_result"
    }
   ],
   "source": [
    "a_reshaped = a.reshape(1, 15)\n",
    "a_reshaped, a_reshaped.shape"
   ]
  },
  {
   "cell_type": "code",
   "execution_count": 101,
   "id": "4a3e04d5",
   "metadata": {},
   "outputs": [
    {
     "data": {
      "text/plain": [
       "(tensor([[0.1637, 0.5733, 0.5623],\n",
       "         [0.6498, 0.2153, 0.4352],\n",
       "         [0.4406, 0.6680, 0.5569],\n",
       "         [0.0643, 0.2426, 0.5575],\n",
       "         [0.8442, 0.8379, 0.2307]]),\n",
       " torch.Size([5, 3]))"
      ]
     },
     "execution_count": 101,
     "metadata": {},
     "output_type": "execute_result"
    }
   ],
   "source": [
    "a_reshaped = a.reshape(5, 3)\n",
    "a_reshaped, a_reshaped.shape"
   ]
  },
  {
   "cell_type": "code",
   "execution_count": 102,
   "id": "6ec1d9b3",
   "metadata": {},
   "outputs": [
    {
     "data": {
      "text/plain": [
       "(tensor([[0.1637],\n",
       "         [0.5733],\n",
       "         [0.5623],\n",
       "         [0.6498],\n",
       "         [0.2153],\n",
       "         [0.4352],\n",
       "         [0.4406],\n",
       "         [0.6680],\n",
       "         [0.5569],\n",
       "         [0.0643],\n",
       "         [0.2426],\n",
       "         [0.5575],\n",
       "         [0.8442],\n",
       "         [0.8379],\n",
       "         [0.2307]]),\n",
       " torch.Size([15, 1]))"
      ]
     },
     "execution_count": 102,
     "metadata": {},
     "output_type": "execute_result"
    }
   ],
   "source": [
    "a_reshaped = a.reshape(15, 1)\n",
    "a_reshaped, a_reshaped.shape"
   ]
  },
  {
   "cell_type": "code",
   "execution_count": null,
   "id": "87b094e6",
   "metadata": {},
   "outputs": [
    {
     "data": {
      "text/plain": [
       "(tensor([[0.1637, 0.5733, 0.5623, 0.6498, 0.2153],\n",
       "         [0.4352, 0.4406, 0.6680, 0.5569, 0.0643],\n",
       "         [0.2426, 0.5575, 0.8442, 0.8379, 0.2307]]),\n",
       " torch.Size([3, 5]))"
      ]
     },
     "execution_count": 104,
     "metadata": {},
     "output_type": "execute_result"
    }
   ],
   "source": [
    "b = a.view(3, 5) # chaning b changes a - a view of a tensor shares the same memory as the original input\n",
    "b, b.shape"
   ]
  },
  {
   "cell_type": "code",
   "execution_count": 108,
   "id": "2c3aee9e",
   "metadata": {},
   "outputs": [
    {
     "data": {
      "text/plain": [
       "(tensor([[19.0000, 19.0000,  0.5623,  0.6498,  0.2153],\n",
       "         [ 0.4352,  0.4406,  0.6680,  0.5569,  0.0643],\n",
       "         [ 0.2426,  0.5575,  0.8442,  0.8379,  0.2307]]),\n",
       " tensor([[19.0000, 19.0000,  0.5623,  0.6498,  0.2153],\n",
       "         [ 0.4352,  0.4406,  0.6680,  0.5569,  0.0643],\n",
       "         [ 0.2426,  0.5575,  0.8442,  0.8379,  0.2307]]))"
      ]
     },
     "execution_count": 108,
     "metadata": {},
     "output_type": "execute_result"
    }
   ],
   "source": [
    "b[0][0] = 19\n",
    "a, b"
   ]
  },
  {
   "cell_type": "code",
   "execution_count": 109,
   "id": "27e6deb9",
   "metadata": {},
   "outputs": [
    {
     "data": {
      "text/plain": [
       "tensor([[[19.0000, 19.0000,  0.5623,  0.6498,  0.2153],\n",
       "         [ 0.4352,  0.4406,  0.6680,  0.5569,  0.0643],\n",
       "         [ 0.2426,  0.5575,  0.8442,  0.8379,  0.2307]],\n",
       "\n",
       "        [[19.0000, 19.0000,  0.5623,  0.6498,  0.2153],\n",
       "         [ 0.4352,  0.4406,  0.6680,  0.5569,  0.0643],\n",
       "         [ 0.2426,  0.5575,  0.8442,  0.8379,  0.2307]],\n",
       "\n",
       "        [[19.0000, 19.0000,  0.5623,  0.6498,  0.2153],\n",
       "         [ 0.4352,  0.4406,  0.6680,  0.5569,  0.0643],\n",
       "         [ 0.2426,  0.5575,  0.8442,  0.8379,  0.2307]],\n",
       "\n",
       "        [[19.0000, 19.0000,  0.5623,  0.6498,  0.2153],\n",
       "         [ 0.4352,  0.4406,  0.6680,  0.5569,  0.0643],\n",
       "         [ 0.2426,  0.5575,  0.8442,  0.8379,  0.2307]]])"
      ]
     },
     "execution_count": 109,
     "metadata": {},
     "output_type": "execute_result"
    }
   ],
   "source": [
    "a_stacked = torch.stack([a, a, a, a], dim=0)\n",
    "a_stacked"
   ]
  },
  {
   "cell_type": "code",
   "execution_count": 110,
   "id": "b8d37bc5",
   "metadata": {},
   "outputs": [
    {
     "data": {
      "text/plain": [
       "tensor([[[19.0000, 19.0000,  0.5623,  0.6498,  0.2153],\n",
       "         [19.0000, 19.0000,  0.5623,  0.6498,  0.2153],\n",
       "         [19.0000, 19.0000,  0.5623,  0.6498,  0.2153],\n",
       "         [19.0000, 19.0000,  0.5623,  0.6498,  0.2153]],\n",
       "\n",
       "        [[ 0.4352,  0.4406,  0.6680,  0.5569,  0.0643],\n",
       "         [ 0.4352,  0.4406,  0.6680,  0.5569,  0.0643],\n",
       "         [ 0.4352,  0.4406,  0.6680,  0.5569,  0.0643],\n",
       "         [ 0.4352,  0.4406,  0.6680,  0.5569,  0.0643]],\n",
       "\n",
       "        [[ 0.2426,  0.5575,  0.8442,  0.8379,  0.2307],\n",
       "         [ 0.2426,  0.5575,  0.8442,  0.8379,  0.2307],\n",
       "         [ 0.2426,  0.5575,  0.8442,  0.8379,  0.2307],\n",
       "         [ 0.2426,  0.5575,  0.8442,  0.8379,  0.2307]]])"
      ]
     },
     "execution_count": 110,
     "metadata": {},
     "output_type": "execute_result"
    }
   ],
   "source": [
    "a_stacked = torch.stack([a, a, a, a], dim=1)\n",
    "a_stacked"
   ]
  },
  {
   "cell_type": "code",
   "execution_count": 119,
   "id": "029a8e66",
   "metadata": {},
   "outputs": [
    {
     "data": {
      "text/plain": [
       "(tensor([[[0.5032, 0.9342, 0.5729]]]), torch.Size([1, 1, 3]))"
      ]
     },
     "execution_count": 119,
     "metadata": {},
     "output_type": "execute_result"
    }
   ],
   "source": [
    "b = torch.rand(size=[1, 1, 3])\n",
    "b, b.shape"
   ]
  },
  {
   "cell_type": "code",
   "execution_count": 122,
   "id": "d75d4128",
   "metadata": {},
   "outputs": [
    {
     "data": {
      "text/plain": [
       "(tensor([0.5032, 0.9342, 0.5729]), torch.Size([3]))"
      ]
     },
     "execution_count": 122,
     "metadata": {},
     "output_type": "execute_result"
    }
   ],
   "source": [
    "c = b.squeeze()\n",
    "c, c.shape"
   ]
  },
  {
   "cell_type": "code",
   "execution_count": 127,
   "id": "7a6afd42",
   "metadata": {},
   "outputs": [
    {
     "data": {
      "text/plain": [
       "(tensor([[[0.5032, 0.9342, 0.5729]]]), torch.Size([1, 1, 3]))"
      ]
     },
     "execution_count": 127,
     "metadata": {},
     "output_type": "execute_result"
    }
   ],
   "source": [
    "d = c.unsqueeze(dim=0).unsqueeze(dim=0)\n",
    "d, d.shape"
   ]
  },
  {
   "cell_type": "code",
   "execution_count": 129,
   "id": "4414660b",
   "metadata": {},
   "outputs": [
    {
     "data": {
      "text/plain": [
       "(tensor([[0.5032, 0.9342, 0.5729]]), torch.Size([1, 3]))"
      ]
     },
     "execution_count": 129,
     "metadata": {},
     "output_type": "execute_result"
    }
   ],
   "source": [
    "e = c.unsqueeze(dim=-2)\n",
    "e, e.shape"
   ]
  },
  {
   "cell_type": "code",
   "execution_count": 131,
   "id": "ab49bc86",
   "metadata": {},
   "outputs": [
    {
     "data": {
      "text/plain": [
       "(tensor([[0.5032],\n",
       "         [0.9342],\n",
       "         [0.5729]]),\n",
       " torch.Size([3, 1]))"
      ]
     },
     "execution_count": 131,
     "metadata": {},
     "output_type": "execute_result"
    }
   ],
   "source": [
    "f = c.unsqueeze(dim=1)\n",
    "f, f.shape"
   ]
  },
  {
   "cell_type": "code",
   "execution_count": 134,
   "id": "1fd29151",
   "metadata": {},
   "outputs": [
    {
     "data": {
      "text/plain": [
       "(tensor([[[0.0940, 0.3308, 0.8919],\n",
       "          [0.8775, 0.4826, 0.6377],\n",
       "          [0.6533, 0.5490, 0.7981],\n",
       "          ...,\n",
       "          [0.4844, 0.1111, 0.4884],\n",
       "          [0.2140, 0.4797, 0.8995],\n",
       "          [0.8036, 0.5318, 0.2188]],\n",
       " \n",
       "         [[0.1062, 0.9507, 0.6354],\n",
       "          [0.2769, 0.5269, 0.5970],\n",
       "          [0.4646, 0.6012, 0.3301],\n",
       "          ...,\n",
       "          [0.7391, 0.8804, 0.4651],\n",
       "          [0.3475, 0.1501, 0.7923],\n",
       "          [0.1009, 0.3170, 0.7256]],\n",
       " \n",
       "         [[0.4053, 0.1485, 0.8565],\n",
       "          [0.2042, 0.7752, 0.6535],\n",
       "          [0.7438, 0.6963, 0.9354],\n",
       "          ...,\n",
       "          [0.7185, 0.6266, 0.0259],\n",
       "          [0.8534, 0.8278, 0.6321],\n",
       "          [0.7207, 0.8888, 0.7017]],\n",
       " \n",
       "         ...,\n",
       " \n",
       "         [[0.3789, 0.1034, 0.7356],\n",
       "          [0.9113, 0.6219, 0.1620],\n",
       "          [0.2701, 0.5990, 0.4077],\n",
       "          ...,\n",
       "          [0.0103, 0.7444, 0.2604],\n",
       "          [0.9726, 0.4518, 0.8826],\n",
       "          [0.2691, 0.8161, 0.1025]],\n",
       " \n",
       "         [[0.6089, 0.0661, 0.0293],\n",
       "          [0.8705, 0.0684, 0.8037],\n",
       "          [0.5669, 0.7318, 0.5502],\n",
       "          ...,\n",
       "          [0.1768, 0.1944, 0.8403],\n",
       "          [0.5972, 0.4968, 0.6947],\n",
       "          [0.4586, 0.2009, 0.4557]],\n",
       " \n",
       "         [[0.9704, 0.3137, 0.9488],\n",
       "          [0.7565, 0.6765, 0.3851],\n",
       "          [0.4853, 0.7386, 0.4382],\n",
       "          ...,\n",
       "          [0.8906, 0.6687, 0.9787],\n",
       "          [0.8181, 0.8829, 0.8337],\n",
       "          [0.2227, 0.8745, 0.5526]]]),\n",
       " torch.Size([224, 224, 3]))"
      ]
     },
     "execution_count": 134,
     "metadata": {},
     "output_type": "execute_result"
    }
   ],
   "source": [
    "y = torch.rand(size=(224, 224, 3))\n",
    "y, y.shape"
   ]
  },
  {
   "cell_type": "code",
   "execution_count": 140,
   "id": "ea01d0bf",
   "metadata": {},
   "outputs": [
    {
     "data": {
      "text/plain": [
       "(tensor([[[0.0940, 0.8775, 0.6533,  ..., 0.4844, 0.2140, 0.8036],\n",
       "          [0.1062, 0.2769, 0.4646,  ..., 0.7391, 0.3475, 0.1009],\n",
       "          [0.4053, 0.2042, 0.7438,  ..., 0.7185, 0.8534, 0.7207],\n",
       "          ...,\n",
       "          [0.3789, 0.9113, 0.2701,  ..., 0.0103, 0.9726, 0.2691],\n",
       "          [0.6089, 0.8705, 0.5669,  ..., 0.1768, 0.5972, 0.4586],\n",
       "          [0.9704, 0.7565, 0.4853,  ..., 0.8906, 0.8181, 0.2227]],\n",
       " \n",
       "         [[0.3308, 0.4826, 0.5490,  ..., 0.1111, 0.4797, 0.5318],\n",
       "          [0.9507, 0.5269, 0.6012,  ..., 0.8804, 0.1501, 0.3170],\n",
       "          [0.1485, 0.7752, 0.6963,  ..., 0.6266, 0.8278, 0.8888],\n",
       "          ...,\n",
       "          [0.1034, 0.6219, 0.5990,  ..., 0.7444, 0.4518, 0.8161],\n",
       "          [0.0661, 0.0684, 0.7318,  ..., 0.1944, 0.4968, 0.2009],\n",
       "          [0.3137, 0.6765, 0.7386,  ..., 0.6687, 0.8829, 0.8745]],\n",
       " \n",
       "         [[0.8919, 0.6377, 0.7981,  ..., 0.4884, 0.8995, 0.2188],\n",
       "          [0.6354, 0.5970, 0.3301,  ..., 0.4651, 0.7923, 0.7256],\n",
       "          [0.8565, 0.6535, 0.9354,  ..., 0.0259, 0.6321, 0.7017],\n",
       "          ...,\n",
       "          [0.7356, 0.1620, 0.4077,  ..., 0.2604, 0.8826, 0.1025],\n",
       "          [0.0293, 0.8037, 0.5502,  ..., 0.8403, 0.6947, 0.4557],\n",
       "          [0.9488, 0.3851, 0.4382,  ..., 0.9787, 0.8337, 0.5526]]]),\n",
       " torch.Size([3, 224, 224]))"
      ]
     },
     "execution_count": 140,
     "metadata": {},
     "output_type": "execute_result"
    }
   ],
   "source": [
    "z = y.permute((2, 0, 1))\n",
    "z, z.shape"
   ]
  },
  {
   "cell_type": "code",
   "execution_count": null,
   "id": "f3e39aec",
   "metadata": {},
   "outputs": [],
   "source": []
  }
 ],
 "metadata": {
  "kernelspec": {
   "display_name": "pytorch-course (3.11.12)",
   "language": "python",
   "name": "python3"
  },
  "language_info": {
   "codemirror_mode": {
    "name": "ipython",
    "version": 3
   },
   "file_extension": ".py",
   "mimetype": "text/x-python",
   "name": "python",
   "nbconvert_exporter": "python",
   "pygments_lexer": "ipython3",
   "version": "3.11.12"
  }
 },
 "nbformat": 4,
 "nbformat_minor": 5
}
