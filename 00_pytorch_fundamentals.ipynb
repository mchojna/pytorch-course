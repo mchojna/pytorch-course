{
 "cells": [
  {
   "cell_type": "markdown",
   "id": "4fc0dd78",
   "metadata": {},
   "source": [
    "# 00. PyTorch Fundamentals\n",
    "\n",
    "Resource notebook: https://www.learnpytorch.io/00_pytorch_fundamentals/"
   ]
  },
  {
   "cell_type": "code",
   "execution_count": 2,
   "metadata": {},
   "outputs": [
    {
     "name": "stdout",
     "output_type": "stream",
     "text": [
      "2.7.1\n"
     ]
    }
   ],
   "source": [
    "import torch\n",
    "import pandas as pd\n",
    "import numpy as np\n",
    "import matplotlib.pyplot as plt\n",
    "\n",
    "print(torch.__version__)"
   ]
  },
  {
   "cell_type": "markdown",
   "id": "14ec2e70",
   "metadata": {},
   "source": [
    "## Introduction to Tensors\n",
    "\n",
    "Link: https://docs.pytorch.org/docs/stable/tensors.html"
   ]
  },
  {
   "cell_type": "markdown",
   "id": "f3453f99",
   "metadata": {},
   "source": [
    "### Creating tensors"
   ]
  },
  {
   "cell_type": "code",
   "execution_count": 3,
   "id": "a656c38f",
   "metadata": {},
   "outputs": [
    {
     "data": {
      "text/plain": [
       "tensor(7)"
      ]
     },
     "execution_count": 3,
     "metadata": {},
     "output_type": "execute_result"
    }
   ],
   "source": [
    "# scalar\n",
    "scalar = torch.tensor(7)\n",
    "scalar"
   ]
  },
  {
   "cell_type": "code",
   "execution_count": 4,
   "id": "9d3c0f2a",
   "metadata": {},
   "outputs": [
    {
     "data": {
      "text/plain": [
       "0"
      ]
     },
     "execution_count": 4,
     "metadata": {},
     "output_type": "execute_result"
    }
   ],
   "source": [
    "scalar.ndim"
   ]
  },
  {
   "cell_type": "code",
   "execution_count": 5,
   "id": "2cab8a71",
   "metadata": {},
   "outputs": [
    {
     "data": {
      "text/plain": [
       "7"
      ]
     },
     "execution_count": 5,
     "metadata": {},
     "output_type": "execute_result"
    }
   ],
   "source": [
    "scalar.item()"
   ]
  },
  {
   "cell_type": "code",
   "execution_count": 6,
   "id": "0b533209",
   "metadata": {},
   "outputs": [
    {
     "data": {
      "text/plain": [
       "tensor([7, 7])"
      ]
     },
     "execution_count": 6,
     "metadata": {},
     "output_type": "execute_result"
    }
   ],
   "source": [
    "# vector\n",
    "vector = torch.tensor([7, 7])\n",
    "vector"
   ]
  },
  {
   "cell_type": "code",
   "execution_count": 7,
   "id": "4ba0f64f",
   "metadata": {},
   "outputs": [
    {
     "data": {
      "text/plain": [
       "1"
      ]
     },
     "execution_count": 7,
     "metadata": {},
     "output_type": "execute_result"
    }
   ],
   "source": [
    "vector.ndim"
   ]
  },
  {
   "cell_type": "code",
   "execution_count": 8,
   "id": "4d17002f",
   "metadata": {},
   "outputs": [
    {
     "data": {
      "text/plain": [
       "torch.Size([2])"
      ]
     },
     "execution_count": 8,
     "metadata": {},
     "output_type": "execute_result"
    }
   ],
   "source": [
    "vector.shape"
   ]
  },
  {
   "cell_type": "code",
   "execution_count": 9,
   "id": "e20164c2",
   "metadata": {},
   "outputs": [
    {
     "data": {
      "text/plain": [
       "tensor([[ 7,  8],\n",
       "        [ 9, 10]])"
      ]
     },
     "execution_count": 9,
     "metadata": {},
     "output_type": "execute_result"
    }
   ],
   "source": [
    "# matrix\n",
    "matrix = torch.tensor([[7, 8], \n",
    "                       [9, 10]])\n",
    "matrix"
   ]
  },
  {
   "cell_type": "code",
   "execution_count": 10,
   "id": "ea5c2415",
   "metadata": {},
   "outputs": [
    {
     "data": {
      "text/plain": [
       "2"
      ]
     },
     "execution_count": 10,
     "metadata": {},
     "output_type": "execute_result"
    }
   ],
   "source": [
    "matrix.ndim"
   ]
  },
  {
   "cell_type": "code",
   "execution_count": 11,
   "id": "a2c06e5e",
   "metadata": {},
   "outputs": [
    {
     "data": {
      "text/plain": [
       "torch.Size([2, 2])"
      ]
     },
     "execution_count": 11,
     "metadata": {},
     "output_type": "execute_result"
    }
   ],
   "source": [
    "matrix.shape"
   ]
  },
  {
   "cell_type": "code",
   "execution_count": 12,
   "id": "2cf9dc21",
   "metadata": {},
   "outputs": [
    {
     "data": {
      "text/plain": [
       "tensor([7, 8])"
      ]
     },
     "execution_count": 12,
     "metadata": {},
     "output_type": "execute_result"
    }
   ],
   "source": [
    "matrix[0]"
   ]
  },
  {
   "cell_type": "code",
   "execution_count": 13,
   "id": "0551008d",
   "metadata": {},
   "outputs": [
    {
     "data": {
      "text/plain": [
       "tensor([ 9, 10])"
      ]
     },
     "execution_count": 13,
     "metadata": {},
     "output_type": "execute_result"
    }
   ],
   "source": [
    "matrix[1]"
   ]
  },
  {
   "cell_type": "code",
   "execution_count": 14,
   "id": "21b0f8f9",
   "metadata": {},
   "outputs": [
    {
     "data": {
      "text/plain": [
       "tensor([[[1, 2, 3],\n",
       "         [4, 5, 6],\n",
       "         [7, 8, 9]]])"
      ]
     },
     "execution_count": 14,
     "metadata": {},
     "output_type": "execute_result"
    }
   ],
   "source": [
    "# tensor\n",
    "tensor = torch.tensor([[[1, 2, 3],\n",
    "                        [4, 5, 6],\n",
    "                        [7, 8, 9]]])\n",
    "tensor"
   ]
  },
  {
   "cell_type": "code",
   "execution_count": 15,
   "id": "c85f3790",
   "metadata": {},
   "outputs": [
    {
     "data": {
      "text/plain": [
       "3"
      ]
     },
     "execution_count": 15,
     "metadata": {},
     "output_type": "execute_result"
    }
   ],
   "source": [
    "tensor.ndim"
   ]
  },
  {
   "cell_type": "code",
   "execution_count": 16,
   "id": "a0478769",
   "metadata": {},
   "outputs": [
    {
     "data": {
      "text/plain": [
       "torch.Size([1, 3, 3])"
      ]
     },
     "execution_count": 16,
     "metadata": {},
     "output_type": "execute_result"
    }
   ],
   "source": [
    "tensor.shape"
   ]
  },
  {
   "cell_type": "code",
   "execution_count": 17,
   "id": "ff639039",
   "metadata": {},
   "outputs": [
    {
     "data": {
      "text/plain": [
       "tensor([[1, 2, 3],\n",
       "        [4, 5, 6],\n",
       "        [7, 8, 9]])"
      ]
     },
     "execution_count": 17,
     "metadata": {},
     "output_type": "execute_result"
    }
   ],
   "source": [
    "tensor[0]"
   ]
  },
  {
   "cell_type": "code",
   "execution_count": 18,
   "id": "fa03ef7e",
   "metadata": {},
   "outputs": [
    {
     "data": {
      "text/plain": [
       "tensor([4, 5, 6])"
      ]
     },
     "execution_count": 18,
     "metadata": {},
     "output_type": "execute_result"
    }
   ],
   "source": [
    "tensor[0][1]"
   ]
  },
  {
   "cell_type": "code",
   "execution_count": 19,
   "id": "9688222e",
   "metadata": {},
   "outputs": [
    {
     "data": {
      "text/plain": [
       "tensor(6)"
      ]
     },
     "execution_count": 19,
     "metadata": {},
     "output_type": "execute_result"
    }
   ],
   "source": [
    "tensor[0][1][2]"
   ]
  },
  {
   "cell_type": "markdown",
   "id": "7aec46f5",
   "metadata": {},
   "source": [
    "### Random tensors"
   ]
  },
  {
   "cell_type": "code",
   "execution_count": 20,
   "id": "78ad7f59",
   "metadata": {},
   "outputs": [
    {
     "data": {
      "text/plain": [
       "tensor([[0.6869, 0.4846, 0.1864, 0.3579],\n",
       "        [0.2866, 0.8728, 0.6828, 0.1713],\n",
       "        [0.7771, 0.5591, 0.8641, 0.7686]])"
      ]
     },
     "execution_count": 20,
     "metadata": {},
     "output_type": "execute_result"
    }
   ],
   "source": [
    "# Create a random tensor of size / shape (3, 4)\n",
    "random_tensor = torch.rand(3, 4)\n",
    "random_tensor"
   ]
  },
  {
   "cell_type": "code",
   "execution_count": 21,
   "id": "59136206",
   "metadata": {},
   "outputs": [
    {
     "data": {
      "text/plain": [
       "2"
      ]
     },
     "execution_count": 21,
     "metadata": {},
     "output_type": "execute_result"
    }
   ],
   "source": [
    "random_tensor.ndim"
   ]
  },
  {
   "cell_type": "code",
   "execution_count": 22,
   "id": "37f8d1c4",
   "metadata": {},
   "outputs": [
    {
     "data": {
      "text/plain": [
       "tensor([[[0.1689, 0.4022, 0.3806],\n",
       "         [0.0050, 0.6690, 0.9851],\n",
       "         [0.6915, 0.6308, 0.2730]],\n",
       "\n",
       "        [[0.3535, 0.0875, 0.7243],\n",
       "         [0.6584, 0.7245, 0.7163],\n",
       "         [0.1230, 0.1688, 0.1537]],\n",
       "\n",
       "        [[0.2314, 0.6647, 0.1766],\n",
       "         [0.9320, 0.3840, 0.4957],\n",
       "         [0.4870, 0.5938, 0.6958]]])"
      ]
     },
     "execution_count": 22,
     "metadata": {},
     "output_type": "execute_result"
    }
   ],
   "source": [
    "random_tensor = torch.rand(3, 3, 3)\n",
    "random_tensor"
   ]
  },
  {
   "cell_type": "code",
   "execution_count": 23,
   "id": "3464bac6",
   "metadata": {},
   "outputs": [
    {
     "data": {
      "text/plain": [
       "tensor([[[0.3752, 0.1266, 0.9738],\n",
       "         [0.2583, 0.1045, 0.6233]]])"
      ]
     },
     "execution_count": 23,
     "metadata": {},
     "output_type": "execute_result"
    }
   ],
   "source": [
    "torch.rand(size=(1, 2, 3))"
   ]
  },
  {
   "cell_type": "code",
   "execution_count": 24,
   "id": "ce7dc199",
   "metadata": {},
   "outputs": [
    {
     "data": {
      "text/plain": [
       "(torch.Size([224, 224, 3]), 3)"
      ]
     },
     "execution_count": 24,
     "metadata": {},
     "output_type": "execute_result"
    }
   ],
   "source": [
    "random_image_size_tensor = torch.rand(size=(224, 224, 3))\n",
    "random_image_size_tensor.shape, random_image_size_tensor.ndim"
   ]
  },
  {
   "cell_type": "markdown",
   "id": "06297596",
   "metadata": {},
   "source": [
    "### Zeros and ones"
   ]
  },
  {
   "cell_type": "code",
   "execution_count": 25,
   "id": "29fd5d57",
   "metadata": {},
   "outputs": [
    {
     "data": {
      "text/plain": [
       "tensor([[0.4638, 0.0918, 0.1664, 0.2505],\n",
       "        [0.2235, 0.5241, 0.1086, 0.6499],\n",
       "        [0.1203, 0.5928, 0.1143, 0.6991]])"
      ]
     },
     "execution_count": 25,
     "metadata": {},
     "output_type": "execute_result"
    }
   ],
   "source": [
    "random_tensor = torch.rand(size=(3, 4))\n",
    "random_tensor"
   ]
  },
  {
   "cell_type": "code",
   "execution_count": 26,
   "id": "a0cd91a0",
   "metadata": {},
   "outputs": [
    {
     "data": {
      "text/plain": [
       "tensor([[0., 0., 0., 0.],\n",
       "        [0., 0., 0., 0.],\n",
       "        [0., 0., 0., 0.]])"
      ]
     },
     "execution_count": 26,
     "metadata": {},
     "output_type": "execute_result"
    }
   ],
   "source": [
    "# tensor of zeros\n",
    "zeros = torch.zeros(size=(3, 4))\n",
    "zeros"
   ]
  },
  {
   "cell_type": "code",
   "execution_count": 27,
   "id": "bce9348e",
   "metadata": {},
   "outputs": [
    {
     "data": {
      "text/plain": [
       "tensor([[0., 0., 0., 0.],\n",
       "        [0., 0., 0., 0.],\n",
       "        [0., 0., 0., 0.]])"
      ]
     },
     "execution_count": 27,
     "metadata": {},
     "output_type": "execute_result"
    }
   ],
   "source": [
    "zeros * random_tensor"
   ]
  },
  {
   "cell_type": "code",
   "execution_count": 28,
   "id": "4dd6e0fc",
   "metadata": {},
   "outputs": [],
   "source": [
    "# tensor of ones\n",
    "ones = torch.ones(size=(3, 4))"
   ]
  },
  {
   "cell_type": "code",
   "execution_count": 29,
   "id": "32cc9743",
   "metadata": {},
   "outputs": [
    {
     "data": {
      "text/plain": [
       "torch.float32"
      ]
     },
     "execution_count": 29,
     "metadata": {},
     "output_type": "execute_result"
    }
   ],
   "source": [
    "ones.dtype"
   ]
  },
  {
   "cell_type": "code",
   "execution_count": 30,
   "id": "c94d96cf",
   "metadata": {},
   "outputs": [
    {
     "data": {
      "text/plain": [
       "tensor([[0.4638, 0.0918, 0.1664, 0.2505],\n",
       "        [0.2235, 0.5241, 0.1086, 0.6499],\n",
       "        [0.1203, 0.5928, 0.1143, 0.6991]])"
      ]
     },
     "execution_count": 30,
     "metadata": {},
     "output_type": "execute_result"
    }
   ],
   "source": [
    "ones * random_tensor"
   ]
  },
  {
   "cell_type": "markdown",
   "id": "46d70153",
   "metadata": {},
   "source": [
    "### Creating a range of tensors and tensors-like"
   ]
  },
  {
   "cell_type": "code",
   "execution_count": 31,
   "id": "447e3045",
   "metadata": {},
   "outputs": [
    {
     "name": "stderr",
     "output_type": "stream",
     "text": [
      "/var/folders/zd/7ryz379j2dz9shhk8m8k4zx40000gn/T/ipykernel_16459/616276269.py:1: UserWarning: torch.range is deprecated and will be removed in a future release because its behavior is inconsistent with Python's range builtin. Instead, use torch.arange, which produces values in [start, end).\n",
      "  torch.range(2, 8)\n"
     ]
    },
    {
     "data": {
      "text/plain": [
       "tensor([2., 3., 4., 5., 6., 7., 8.])"
      ]
     },
     "execution_count": 31,
     "metadata": {},
     "output_type": "execute_result"
    }
   ],
   "source": [
    "torch.range(2, 8)"
   ]
  },
  {
   "cell_type": "code",
   "execution_count": 32,
   "id": "43d2ac48",
   "metadata": {},
   "outputs": [
    {
     "data": {
      "text/plain": [
       "tensor([0, 1, 2, 3, 4, 5, 6, 7, 8, 9])"
      ]
     },
     "execution_count": 32,
     "metadata": {},
     "output_type": "execute_result"
    }
   ],
   "source": [
    "torch.arange(0, 10)"
   ]
  },
  {
   "cell_type": "code",
   "execution_count": 33,
   "id": "69814b7f",
   "metadata": {},
   "outputs": [],
   "source": [
    "one_to_ten = torch.arange(1, 11)"
   ]
  },
  {
   "cell_type": "code",
   "execution_count": 34,
   "id": "d6377683",
   "metadata": {},
   "outputs": [
    {
     "data": {
      "text/plain": [
       "tensor([  0,  99, 198, 297, 396, 495, 594, 693, 792, 891, 990])"
      ]
     },
     "execution_count": 34,
     "metadata": {},
     "output_type": "execute_result"
    }
   ],
   "source": [
    "torch.arange(start=0, end=1000, step=99)"
   ]
  },
  {
   "cell_type": "code",
   "execution_count": 35,
   "id": "25104565",
   "metadata": {},
   "outputs": [
    {
     "data": {
      "text/plain": [
       "tensor([0, 0, 0, 0, 0, 0, 0, 0, 0, 0])"
      ]
     },
     "execution_count": 35,
     "metadata": {},
     "output_type": "execute_result"
    }
   ],
   "source": [
    "ten_zeres = torch.zeros_like(input=one_to_ten)\n",
    "ten_zeres"
   ]
  },
  {
   "cell_type": "markdown",
   "id": "d8b3d0f7",
   "metadata": {},
   "source": [
    "### Tensor datatypes"
   ]
  },
  {
   "cell_type": "code",
   "execution_count": 36,
   "id": "77313d3b",
   "metadata": {},
   "outputs": [
    {
     "data": {
      "text/plain": [
       "torch.float32"
      ]
     },
     "execution_count": 36,
     "metadata": {},
     "output_type": "execute_result"
    }
   ],
   "source": [
    "float_32_tensor = torch.tensor([3.0 , 6.0, 9.0], \n",
    "                               dtype=torch.float32)\n",
    "float_32_tensor.dtype"
   ]
  },
  {
   "cell_type": "code",
   "execution_count": 37,
   "id": "5dfa9e2b",
   "metadata": {},
   "outputs": [
    {
     "data": {
      "text/plain": [
       "torch.float16"
      ]
     },
     "execution_count": 37,
     "metadata": {},
     "output_type": "execute_result"
    }
   ],
   "source": [
    "float_16_tensor = torch.tensor([3.0 , 6.0, 9.0], \n",
    "                               dtype=torch.float16, # datatype of tensor\n",
    "                               device=\"mps\",\n",
    "                               requires_grad=False)\n",
    "float_16_tensor.dtype"
   ]
  },
  {
   "cell_type": "code",
   "execution_count": 38,
   "id": "c6a5df81",
   "metadata": {},
   "outputs": [
    {
     "data": {
      "text/plain": [
       "tensor([3., 6., 9.], dtype=torch.float64)"
      ]
     },
     "execution_count": 38,
     "metadata": {},
     "output_type": "execute_result"
    }
   ],
   "source": [
    "float_64_tensor = float_32_tensor.type(torch.float64)\n",
    "float_64_tensor"
   ]
  },
  {
   "cell_type": "code",
   "execution_count": 39,
   "id": "5e19a2a1",
   "metadata": {},
   "outputs": [
    {
     "data": {
      "text/plain": [
       "(torch.Size([3]), device(type='mps', index=0), torch.float16)"
      ]
     },
     "execution_count": 39,
     "metadata": {},
     "output_type": "execute_result"
    }
   ],
   "source": [
    "float_16_tensor.shape, float_16_tensor.device, float_16_tensor.dtype"
   ]
  },
  {
   "cell_type": "code",
   "execution_count": 40,
   "id": "5aaee2d8",
   "metadata": {},
   "outputs": [
    {
     "data": {
      "text/plain": [
       "tensor([ 9., 36., 81.], dtype=torch.float64)"
      ]
     },
     "execution_count": 40,
     "metadata": {},
     "output_type": "execute_result"
    }
   ],
   "source": [
    "float_64_tensor * float_32_tensor"
   ]
  },
  {
   "cell_type": "code",
   "execution_count": 41,
   "id": "fa28bef5",
   "metadata": {},
   "outputs": [
    {
     "data": {
      "text/plain": [
       "tensor([ 9., 36., 81.], dtype=torch.float64)"
      ]
     },
     "execution_count": 41,
     "metadata": {},
     "output_type": "execute_result"
    }
   ],
   "source": [
    "float_32_tensor * float_64_tensor"
   ]
  },
  {
   "cell_type": "code",
   "execution_count": 42,
   "id": "e73ac400",
   "metadata": {},
   "outputs": [
    {
     "data": {
      "text/plain": [
       "tensor([3, 6, 9], dtype=torch.int32)"
      ]
     },
     "execution_count": 42,
     "metadata": {},
     "output_type": "execute_result"
    }
   ],
   "source": [
    "int_32_tensor = torch.tensor([3, 6, 9], dtype=torch.int32)\n",
    "int_32_tensor"
   ]
  },
  {
   "cell_type": "code",
   "execution_count": 43,
   "id": "32d10e0f",
   "metadata": {},
   "outputs": [
    {
     "data": {
      "text/plain": [
       "tensor([ 9., 36., 81.])"
      ]
     },
     "execution_count": 43,
     "metadata": {},
     "output_type": "execute_result"
    }
   ],
   "source": [
    "float_32_tensor * int_32_tensor"
   ]
  },
  {
   "cell_type": "markdown",
   "id": "2c06c4e3",
   "metadata": {},
   "source": [
    "### Manipulating tensors"
   ]
  },
  {
   "cell_type": "code",
   "execution_count": 44,
   "id": "1636ab5d",
   "metadata": {},
   "outputs": [],
   "source": [
    "a = torch.rand(size=(3, 3))\n",
    "b = torch.rand(size=(3, 3))"
   ]
  },
  {
   "cell_type": "code",
   "execution_count": 45,
   "id": "7ba10590",
   "metadata": {},
   "outputs": [
    {
     "data": {
      "text/plain": [
       "tensor([[0.7788, 0.6335, 0.4818],\n",
       "        [0.4589, 0.3148, 0.8821],\n",
       "        [0.6855, 0.6127, 0.8287]])"
      ]
     },
     "execution_count": 45,
     "metadata": {},
     "output_type": "execute_result"
    }
   ],
   "source": [
    "a"
   ]
  },
  {
   "cell_type": "code",
   "execution_count": 46,
   "id": "33c87f63",
   "metadata": {},
   "outputs": [
    {
     "data": {
      "text/plain": [
       "tensor([[0.5112, 0.0920, 0.4313],\n",
       "        [0.3756, 0.1527, 0.7083],\n",
       "        [0.2629, 0.9744, 0.4822]])"
      ]
     },
     "execution_count": 46,
     "metadata": {},
     "output_type": "execute_result"
    }
   ],
   "source": [
    "b"
   ]
  },
  {
   "cell_type": "code",
   "execution_count": 47,
   "id": "ab278826",
   "metadata": {},
   "outputs": [
    {
     "data": {
      "text/plain": [
       "tensor([[20.7788, 20.6335, 20.4818],\n",
       "        [20.4589, 20.3148, 20.8821],\n",
       "        [20.6855, 20.6127, 20.8287]])"
      ]
     },
     "execution_count": 47,
     "metadata": {},
     "output_type": "execute_result"
    }
   ],
   "source": [
    "a + 20"
   ]
  },
  {
   "cell_type": "code",
   "execution_count": 48,
   "id": "cf9f5b0f",
   "metadata": {},
   "outputs": [
    {
     "data": {
      "text/plain": [
       "tensor([[10.7788, 10.6335, 10.4818],\n",
       "        [10.4589, 10.3148, 10.8821],\n",
       "        [10.6855, 10.6127, 10.8287]])"
      ]
     },
     "execution_count": 48,
     "metadata": {},
     "output_type": "execute_result"
    }
   ],
   "source": [
    "torch.add(a, 10)"
   ]
  },
  {
   "cell_type": "code",
   "execution_count": 49,
   "id": "7dd5729d",
   "metadata": {},
   "outputs": [
    {
     "data": {
      "text/plain": [
       "tensor([[1.2900, 0.7255, 0.9131],\n",
       "        [0.8345, 0.4675, 1.5905],\n",
       "        [0.9484, 1.5871, 1.3109]])"
      ]
     },
     "execution_count": 49,
     "metadata": {},
     "output_type": "execute_result"
    }
   ],
   "source": [
    "a + b"
   ]
  },
  {
   "cell_type": "code",
   "execution_count": 50,
   "id": "97b3cfa1",
   "metadata": {},
   "outputs": [
    {
     "data": {
      "text/plain": [
       "tensor([[-9.2212, -9.3665, -9.5182],\n",
       "        [-9.5411, -9.6852, -9.1179],\n",
       "        [-9.3145, -9.3873, -9.1713]])"
      ]
     },
     "execution_count": 50,
     "metadata": {},
     "output_type": "execute_result"
    }
   ],
   "source": [
    "a - 10"
   ]
  },
  {
   "cell_type": "code",
   "execution_count": 51,
   "id": "70d8c1c7",
   "metadata": {},
   "outputs": [
    {
     "data": {
      "text/plain": [
       "tensor([[-9.2212, -9.3665, -9.5182],\n",
       "        [-9.5411, -9.6852, -9.1179],\n",
       "        [-9.3145, -9.3873, -9.1713]])"
      ]
     },
     "execution_count": 51,
     "metadata": {},
     "output_type": "execute_result"
    }
   ],
   "source": [
    "torch.sub(a, 10)"
   ]
  },
  {
   "cell_type": "code",
   "execution_count": 52,
   "id": "f28404fa",
   "metadata": {},
   "outputs": [
    {
     "data": {
      "text/plain": [
       "tensor([[ 0.2675,  0.5415,  0.0505],\n",
       "        [ 0.0833,  0.1621,  0.1738],\n",
       "        [ 0.4225, -0.3617,  0.3465]])"
      ]
     },
     "execution_count": 52,
     "metadata": {},
     "output_type": "execute_result"
    }
   ],
   "source": [
    "a - b"
   ]
  },
  {
   "cell_type": "code",
   "execution_count": 53,
   "id": "d98b7b96",
   "metadata": {},
   "outputs": [
    {
     "data": {
      "text/plain": [
       "tensor([[7.7877, 6.3350, 4.8180],\n",
       "        [4.5888, 3.1482, 8.8211],\n",
       "        [6.8546, 6.1271, 8.2866]])"
      ]
     },
     "execution_count": 53,
     "metadata": {},
     "output_type": "execute_result"
    }
   ],
   "source": [
    "a * 10"
   ]
  },
  {
   "cell_type": "code",
   "execution_count": 54,
   "id": "df91db63",
   "metadata": {},
   "outputs": [
    {
     "data": {
      "text/plain": [
       "tensor([[7.7877, 6.3350, 4.8180],\n",
       "        [4.5888, 3.1482, 8.8211],\n",
       "        [6.8546, 6.1271, 8.2866]])"
      ]
     },
     "execution_count": 54,
     "metadata": {},
     "output_type": "execute_result"
    }
   ],
   "source": [
    "torch.mul(a, 10)"
   ]
  },
  {
   "cell_type": "code",
   "execution_count": 55,
   "id": "5b45e2d2",
   "metadata": {},
   "outputs": [
    {
     "data": {
      "text/plain": [
       "tensor([[0.3981, 0.0583, 0.2078],\n",
       "        [0.1723, 0.0481, 0.6248],\n",
       "        [0.1802, 0.5970, 0.3996]])"
      ]
     },
     "execution_count": 55,
     "metadata": {},
     "output_type": "execute_result"
    }
   ],
   "source": [
    "a * b"
   ]
  },
  {
   "cell_type": "code",
   "execution_count": 56,
   "id": "665e5f0f",
   "metadata": {},
   "outputs": [
    {
     "data": {
      "text/plain": [
       "tensor([[0.0779, 0.0633, 0.0482],\n",
       "        [0.0459, 0.0315, 0.0882],\n",
       "        [0.0685, 0.0613, 0.0829]])"
      ]
     },
     "execution_count": 56,
     "metadata": {},
     "output_type": "execute_result"
    }
   ],
   "source": [
    "a / 10"
   ]
  },
  {
   "cell_type": "code",
   "execution_count": 57,
   "id": "de78b0bd",
   "metadata": {},
   "outputs": [
    {
     "data": {
      "text/plain": [
       "tensor([[0.0779, 0.0633, 0.0482],\n",
       "        [0.0459, 0.0315, 0.0882],\n",
       "        [0.0685, 0.0613, 0.0829]])"
      ]
     },
     "execution_count": 57,
     "metadata": {},
     "output_type": "execute_result"
    }
   ],
   "source": [
    "torch.div(a, 10)"
   ]
  },
  {
   "cell_type": "code",
   "execution_count": 58,
   "id": "1653d99c",
   "metadata": {},
   "outputs": [
    {
     "data": {
      "text/plain": [
       "tensor([[1.5233, 6.8855, 1.1170],\n",
       "        [1.2218, 2.0618, 1.2453],\n",
       "        [2.6070, 0.6288, 1.7185]])"
      ]
     },
     "execution_count": 58,
     "metadata": {},
     "output_type": "execute_result"
    }
   ],
   "source": [
    "a / b"
   ]
  },
  {
   "cell_type": "code",
   "execution_count": 59,
   "id": "fbd568cc",
   "metadata": {},
   "outputs": [
    {
     "data": {
      "text/plain": [
       "tensor([[0.7627, 0.6379, 1.0170],\n",
       "        [0.5848, 0.9498, 0.8463],\n",
       "        [0.7984, 0.9641, 1.1292]])"
      ]
     },
     "execution_count": 59,
     "metadata": {},
     "output_type": "execute_result"
    }
   ],
   "source": [
    "torch.matmul(a, b)"
   ]
  },
  {
   "cell_type": "code",
   "execution_count": 60,
   "id": "460d1ffa",
   "metadata": {},
   "outputs": [
    {
     "data": {
      "text/plain": [
       "tensor([[0.7627, 0.6379, 1.0170],\n",
       "        [0.5848, 0.9498, 0.8463],\n",
       "        [0.7984, 0.9641, 1.1292]])"
      ]
     },
     "execution_count": 60,
     "metadata": {},
     "output_type": "execute_result"
    }
   ],
   "source": [
    "a @ b"
   ]
  },
  {
   "cell_type": "code",
   "execution_count": 61,
   "id": "3f93cbcc",
   "metadata": {},
   "outputs": [
    {
     "data": {
      "text/plain": [
       "tensor([[0.6065, 0.4013, 0.2321],\n",
       "        [0.2106, 0.0991, 0.7781],\n",
       "        [0.4699, 0.3754, 0.6867]])"
      ]
     },
     "execution_count": 61,
     "metadata": {},
     "output_type": "execute_result"
    }
   ],
   "source": [
    "a ** 2"
   ]
  },
  {
   "cell_type": "code",
   "execution_count": 62,
   "id": "a4e3e5ba",
   "metadata": {},
   "outputs": [
    {
     "data": {
      "text/plain": [
       "tensor([[0.8825, 0.7959, 0.6941],\n",
       "        [0.6774, 0.5611, 0.9392],\n",
       "        [0.8279, 0.7828, 0.9103]])"
      ]
     },
     "execution_count": 62,
     "metadata": {},
     "output_type": "execute_result"
    }
   ],
   "source": [
    "a ** (1 / 2)"
   ]
  },
  {
   "cell_type": "code",
   "execution_count": 63,
   "id": "6ad63876",
   "metadata": {},
   "outputs": [],
   "source": [
    "a = torch.tensor([1, 2, 3])\n",
    "b = torch.tensor([1, 2, 3])"
   ]
  },
  {
   "cell_type": "code",
   "execution_count": 64,
   "id": "dc8d9aa5",
   "metadata": {},
   "outputs": [
    {
     "name": "stdout",
     "output_type": "stream",
     "text": [
      "CPU times: user 128 μs, sys: 8 μs, total: 136 μs\n",
      "Wall time: 149 μs\n"
     ]
    },
    {
     "data": {
      "text/plain": [
       "tensor(2)"
      ]
     },
     "execution_count": 64,
     "metadata": {},
     "output_type": "execute_result"
    }
   ],
   "source": [
    "%%time\n",
    "value = 0\n",
    "for i in range(len(tensor)):\n",
    "    value += a[i] + b[i]\n",
    "value"
   ]
  },
  {
   "cell_type": "code",
   "execution_count": 65,
   "id": "d5d13809",
   "metadata": {},
   "outputs": [
    {
     "name": "stdout",
     "output_type": "stream",
     "text": [
      "CPU times: user 686 μs, sys: 967 μs, total: 1.65 ms\n",
      "Wall time: 1.07 ms\n"
     ]
    },
    {
     "data": {
      "text/plain": [
       "tensor(14)"
      ]
     },
     "execution_count": 65,
     "metadata": {},
     "output_type": "execute_result"
    }
   ],
   "source": [
    "%%time\n",
    "torch.matmul(a, b)"
   ]
  },
  {
   "cell_type": "code",
   "execution_count": 66,
   "id": "85141c6b",
   "metadata": {},
   "outputs": [
    {
     "name": "stdout",
     "output_type": "stream",
     "text": [
      "CPU times: user 172 μs, sys: 87 μs, total: 259 μs\n",
      "Wall time: 316 μs\n"
     ]
    },
    {
     "data": {
      "text/plain": [
       "tensor(14)"
      ]
     },
     "execution_count": 66,
     "metadata": {},
     "output_type": "execute_result"
    }
   ],
   "source": [
    "%%time\n",
    "a @ b"
   ]
  },
  {
   "cell_type": "code",
   "execution_count": 67,
   "id": "425a416d",
   "metadata": {},
   "outputs": [
    {
     "ename": "RuntimeError",
     "evalue": "mat1 and mat2 shapes cannot be multiplied (3x2 and 3x2)",
     "output_type": "error",
     "traceback": [
      "\u001b[31m---------------------------------------------------------------------------\u001b[39m",
      "\u001b[31mRuntimeError\u001b[39m                              Traceback (most recent call last)",
      "\u001b[36mCell\u001b[39m\u001b[36m \u001b[39m\u001b[32mIn[67]\u001b[39m\u001b[32m, line 1\u001b[39m\n\u001b[32m----> \u001b[39m\u001b[32m1\u001b[39m \u001b[43mtorch\u001b[49m\u001b[43m.\u001b[49m\u001b[43mrand\u001b[49m\u001b[43m(\u001b[49m\u001b[43m[\u001b[49m\u001b[32;43m3\u001b[39;49m\u001b[43m,\u001b[49m\u001b[43m \u001b[49m\u001b[32;43m2\u001b[39;49m\u001b[43m]\u001b[49m\u001b[43m)\u001b[49m\u001b[43m \u001b[49m\u001b[43m@\u001b[49m\u001b[43m \u001b[49m\u001b[43mtorch\u001b[49m\u001b[43m.\u001b[49m\u001b[43mrand\u001b[49m\u001b[43m(\u001b[49m\u001b[43m[\u001b[49m\u001b[32;43m3\u001b[39;49m\u001b[43m,\u001b[49m\u001b[43m \u001b[49m\u001b[32;43m2\u001b[39;49m\u001b[43m]\u001b[49m\u001b[43m)\u001b[49m\n",
      "\u001b[31mRuntimeError\u001b[39m: mat1 and mat2 shapes cannot be multiplied (3x2 and 3x2)"
     ]
    }
   ],
   "source": [
    "torch.rand([3, 2]) @ torch.rand([3, 2])"
   ]
  },
  {
   "cell_type": "code",
   "execution_count": 68,
   "id": "52d34f7c",
   "metadata": {},
   "outputs": [
    {
     "data": {
      "text/plain": [
       "tensor([[0.8174, 0.1542, 0.4586],\n",
       "        [0.3415, 0.3195, 0.4275],\n",
       "        [0.5816, 0.1993, 0.4091]])"
      ]
     },
     "execution_count": 68,
     "metadata": {},
     "output_type": "execute_result"
    }
   ],
   "source": [
    "torch.rand([3, 2]) @ torch.rand([2, 3])"
   ]
  },
  {
   "cell_type": "code",
   "execution_count": 69,
   "id": "bf9f7044",
   "metadata": {},
   "outputs": [
    {
     "data": {
      "text/plain": [
       "tensor([[0.2331, 0.6071],\n",
       "        [0.2846, 0.8141]])"
      ]
     },
     "execution_count": 69,
     "metadata": {},
     "output_type": "execute_result"
    }
   ],
   "source": [
    "torch.rand([2, 3]) @ torch.rand([3, 2])"
   ]
  },
  {
   "cell_type": "code",
   "execution_count": 70,
   "id": "20bc2ad6",
   "metadata": {},
   "outputs": [
    {
     "data": {
      "text/plain": [
       "tensor([[0.7832, 0.1297, 0.3613],\n",
       "        [0.0096, 0.9618, 0.5739],\n",
       "        [0.7290, 0.7452, 0.8634],\n",
       "        [0.7764, 0.9741, 0.0931]])"
      ]
     },
     "execution_count": 70,
     "metadata": {},
     "output_type": "execute_result"
    }
   ],
   "source": [
    "a = torch.rand([4, 3])\n",
    "a"
   ]
  },
  {
   "cell_type": "code",
   "execution_count": 71,
   "id": "2832483a",
   "metadata": {},
   "outputs": [
    {
     "data": {
      "text/plain": [
       "tensor([[0.7832, 0.0096, 0.7290, 0.7764],\n",
       "        [0.1297, 0.9618, 0.7452, 0.9741],\n",
       "        [0.3613, 0.5739, 0.8634, 0.0931]])"
      ]
     },
     "execution_count": 71,
     "metadata": {},
     "output_type": "execute_result"
    }
   ],
   "source": [
    "b = a.T\n",
    "b"
   ]
  },
  {
   "cell_type": "code",
   "execution_count": 72,
   "id": "01be1ab5",
   "metadata": {},
   "outputs": [
    {
     "data": {
      "text/plain": [
       "(torch.Size([4, 3]), torch.Size([3, 4]))"
      ]
     },
     "execution_count": 72,
     "metadata": {},
     "output_type": "execute_result"
    }
   ],
   "source": [
    "a.shape, b.shape"
   ]
  },
  {
   "cell_type": "code",
   "execution_count": 73,
   "id": "e6945ac7",
   "metadata": {},
   "outputs": [
    {
     "data": {
      "text/plain": [
       "tensor([[0.7832, 0.1297, 0.3613],\n",
       "        [0.0096, 0.9618, 0.5739],\n",
       "        [0.7290, 0.7452, 0.8634],\n",
       "        [0.7764, 0.9741, 0.0931]])"
      ]
     },
     "execution_count": 73,
     "metadata": {},
     "output_type": "execute_result"
    }
   ],
   "source": [
    "b.T"
   ]
  },
  {
   "cell_type": "code",
   "execution_count": 74,
   "id": "d79228bb",
   "metadata": {},
   "outputs": [
    {
     "data": {
      "text/plain": [
       "tensor([[0.7608, 0.3396, 0.9796, 0.7680],\n",
       "        [0.3396, 1.2545, 1.2192, 0.9978],\n",
       "        [0.9796, 1.2192, 1.8322, 1.3722],\n",
       "        [0.7680, 0.9978, 1.3722, 1.5603]])"
      ]
     },
     "execution_count": 74,
     "metadata": {},
     "output_type": "execute_result"
    }
   ],
   "source": [
    "torch.mm(a, a.T)"
   ]
  },
  {
   "cell_type": "markdown",
   "id": "754c64e0",
   "metadata": {},
   "source": [
    "### Tensor aggregation"
   ]
  },
  {
   "cell_type": "code",
   "execution_count": 75,
   "id": "3f87267f",
   "metadata": {},
   "outputs": [
    {
     "data": {
      "text/plain": [
       "(tensor([ 0, 10, 20, 30, 40, 50, 60, 70, 80, 90]), torch.int64)"
      ]
     },
     "execution_count": 75,
     "metadata": {},
     "output_type": "execute_result"
    }
   ],
   "source": [
    "tensor = torch.arange(0, 100, 10)\n",
    "tensor, tensor.dtype"
   ]
  },
  {
   "cell_type": "code",
   "execution_count": 76,
   "id": "717c6517",
   "metadata": {},
   "outputs": [
    {
     "data": {
      "text/plain": [
       "(tensor(0), tensor(0))"
      ]
     },
     "execution_count": 76,
     "metadata": {},
     "output_type": "execute_result"
    }
   ],
   "source": [
    "torch.min(tensor), tensor.min()"
   ]
  },
  {
   "cell_type": "code",
   "execution_count": 77,
   "id": "9e7f8f6f",
   "metadata": {},
   "outputs": [
    {
     "data": {
      "text/plain": [
       "(tensor(90), tensor(90))"
      ]
     },
     "execution_count": 77,
     "metadata": {},
     "output_type": "execute_result"
    }
   ],
   "source": [
    "torch.max(tensor), tensor.max()"
   ]
  },
  {
   "cell_type": "code",
   "execution_count": 78,
   "id": "3bb0d792",
   "metadata": {},
   "outputs": [
    {
     "data": {
      "text/plain": [
       "(tensor(45.), tensor(45.))"
      ]
     },
     "execution_count": 78,
     "metadata": {},
     "output_type": "execute_result"
    }
   ],
   "source": [
    "torch.mean(tensor.type(torch.float32)), tensor.type(torch.float32).mean()"
   ]
  },
  {
   "cell_type": "code",
   "execution_count": 79,
   "id": "fbcab4d0",
   "metadata": {},
   "outputs": [
    {
     "data": {
      "text/plain": [
       "(tensor(450), tensor(450))"
      ]
     },
     "execution_count": 79,
     "metadata": {},
     "output_type": "execute_result"
    }
   ],
   "source": [
    "torch.sum(tensor), tensor.sum()"
   ]
  },
  {
   "cell_type": "markdown",
   "id": "9de58966",
   "metadata": {},
   "source": [
    "### Finiding positions"
   ]
  },
  {
   "cell_type": "code",
   "execution_count": 80,
   "id": "d23e2613",
   "metadata": {},
   "outputs": [
    {
     "data": {
      "text/plain": [
       "tensor([ 0, 10, 20, 30, 40, 50, 60, 70, 80, 90])"
      ]
     },
     "execution_count": 80,
     "metadata": {},
     "output_type": "execute_result"
    }
   ],
   "source": [
    "tensor"
   ]
  },
  {
   "cell_type": "code",
   "execution_count": 81,
   "id": "529ff8fd",
   "metadata": {},
   "outputs": [
    {
     "data": {
      "text/plain": [
       "(tensor(9), tensor(9))"
      ]
     },
     "execution_count": 81,
     "metadata": {},
     "output_type": "execute_result"
    }
   ],
   "source": [
    "torch.argmax(tensor), tensor.argmax()"
   ]
  },
  {
   "cell_type": "code",
   "execution_count": 82,
   "id": "34f4e5f6",
   "metadata": {},
   "outputs": [
    {
     "data": {
      "text/plain": [
       "tensor(90)"
      ]
     },
     "execution_count": 82,
     "metadata": {},
     "output_type": "execute_result"
    }
   ],
   "source": [
    "tensor[tensor.argmax()]"
   ]
  },
  {
   "cell_type": "code",
   "execution_count": 83,
   "id": "ac164153",
   "metadata": {},
   "outputs": [
    {
     "data": {
      "text/plain": [
       "(tensor(0), tensor(0))"
      ]
     },
     "execution_count": 83,
     "metadata": {},
     "output_type": "execute_result"
    }
   ],
   "source": [
    "torch.argmin(tensor), tensor.argmin()"
   ]
  },
  {
   "cell_type": "code",
   "execution_count": 84,
   "id": "1b8c6536",
   "metadata": {},
   "outputs": [
    {
     "data": {
      "text/plain": [
       "tensor(0)"
      ]
     },
     "execution_count": 84,
     "metadata": {},
     "output_type": "execute_result"
    }
   ],
   "source": [
    "tensor[torch.argmin(tensor)]"
   ]
  },
  {
   "cell_type": "markdown",
   "id": "6a497aae",
   "metadata": {},
   "source": [
    "### Reshaping, starcking, squeezing and unsqueezing tensors"
   ]
  },
  {
   "cell_type": "code",
   "execution_count": 85,
   "id": "22b4c43f",
   "metadata": {},
   "outputs": [
    {
     "data": {
      "text/plain": [
       "tensor([[0.1852, 0.5829, 0.5286, 0.6473, 0.6967],\n",
       "        [0.7241, 0.9977, 0.7668, 0.5249, 0.2183],\n",
       "        [0.9343, 0.2792, 0.9495, 0.3656, 0.4781]])"
      ]
     },
     "execution_count": 85,
     "metadata": {},
     "output_type": "execute_result"
    }
   ],
   "source": [
    "a = torch.rand(size=[3, 5])\n",
    "a"
   ]
  },
  {
   "cell_type": "code",
   "execution_count": 86,
   "id": "b7478088",
   "metadata": {},
   "outputs": [
    {
     "data": {
      "text/plain": [
       "torch.Size([3, 5])"
      ]
     },
     "execution_count": 86,
     "metadata": {},
     "output_type": "execute_result"
    }
   ],
   "source": [
    "a.shape"
   ]
  },
  {
   "cell_type": "code",
   "execution_count": 87,
   "id": "07d8480d",
   "metadata": {},
   "outputs": [
    {
     "data": {
      "text/plain": [
       "(tensor([[0.1852, 0.5829, 0.5286, 0.6473, 0.6967, 0.7241, 0.9977, 0.7668, 0.5249,\n",
       "          0.2183, 0.9343, 0.2792, 0.9495, 0.3656, 0.4781]]),\n",
       " torch.Size([1, 15]))"
      ]
     },
     "execution_count": 87,
     "metadata": {},
     "output_type": "execute_result"
    }
   ],
   "source": [
    "a_reshaped = a.reshape(1, 15)\n",
    "a_reshaped, a_reshaped.shape"
   ]
  },
  {
   "cell_type": "code",
   "execution_count": 88,
   "id": "4a3e04d5",
   "metadata": {},
   "outputs": [
    {
     "data": {
      "text/plain": [
       "(tensor([[0.1852, 0.5829, 0.5286],\n",
       "         [0.6473, 0.6967, 0.7241],\n",
       "         [0.9977, 0.7668, 0.5249],\n",
       "         [0.2183, 0.9343, 0.2792],\n",
       "         [0.9495, 0.3656, 0.4781]]),\n",
       " torch.Size([5, 3]))"
      ]
     },
     "execution_count": 88,
     "metadata": {},
     "output_type": "execute_result"
    }
   ],
   "source": [
    "a_reshaped = a.reshape(5, 3)\n",
    "a_reshaped, a_reshaped.shape"
   ]
  },
  {
   "cell_type": "code",
   "execution_count": 89,
   "id": "6ec1d9b3",
   "metadata": {},
   "outputs": [
    {
     "data": {
      "text/plain": [
       "(tensor([[0.1852],\n",
       "         [0.5829],\n",
       "         [0.5286],\n",
       "         [0.6473],\n",
       "         [0.6967],\n",
       "         [0.7241],\n",
       "         [0.9977],\n",
       "         [0.7668],\n",
       "         [0.5249],\n",
       "         [0.2183],\n",
       "         [0.9343],\n",
       "         [0.2792],\n",
       "         [0.9495],\n",
       "         [0.3656],\n",
       "         [0.4781]]),\n",
       " torch.Size([15, 1]))"
      ]
     },
     "execution_count": 89,
     "metadata": {},
     "output_type": "execute_result"
    }
   ],
   "source": [
    "a_reshaped = a.reshape(15, 1)\n",
    "a_reshaped, a_reshaped.shape"
   ]
  },
  {
   "cell_type": "code",
   "execution_count": 90,
   "id": "87b094e6",
   "metadata": {},
   "outputs": [
    {
     "data": {
      "text/plain": [
       "(tensor([[0.1852, 0.5829, 0.5286, 0.6473, 0.6967],\n",
       "         [0.7241, 0.9977, 0.7668, 0.5249, 0.2183],\n",
       "         [0.9343, 0.2792, 0.9495, 0.3656, 0.4781]]),\n",
       " torch.Size([3, 5]))"
      ]
     },
     "execution_count": 90,
     "metadata": {},
     "output_type": "execute_result"
    }
   ],
   "source": [
    "b = a.view(3, 5) # chaning b changes a - a view of a tensor shares the same memory as the original input\n",
    "b, b.shape"
   ]
  },
  {
   "cell_type": "code",
   "execution_count": 91,
   "id": "2c3aee9e",
   "metadata": {},
   "outputs": [
    {
     "data": {
      "text/plain": [
       "(tensor([[19.0000,  0.5829,  0.5286,  0.6473,  0.6967],\n",
       "         [ 0.7241,  0.9977,  0.7668,  0.5249,  0.2183],\n",
       "         [ 0.9343,  0.2792,  0.9495,  0.3656,  0.4781]]),\n",
       " tensor([[19.0000,  0.5829,  0.5286,  0.6473,  0.6967],\n",
       "         [ 0.7241,  0.9977,  0.7668,  0.5249,  0.2183],\n",
       "         [ 0.9343,  0.2792,  0.9495,  0.3656,  0.4781]]))"
      ]
     },
     "execution_count": 91,
     "metadata": {},
     "output_type": "execute_result"
    }
   ],
   "source": [
    "b[0][0] = 19\n",
    "a, b"
   ]
  },
  {
   "cell_type": "code",
   "execution_count": 92,
   "id": "27e6deb9",
   "metadata": {},
   "outputs": [
    {
     "data": {
      "text/plain": [
       "tensor([[[19.0000,  0.5829,  0.5286,  0.6473,  0.6967],\n",
       "         [ 0.7241,  0.9977,  0.7668,  0.5249,  0.2183],\n",
       "         [ 0.9343,  0.2792,  0.9495,  0.3656,  0.4781]],\n",
       "\n",
       "        [[19.0000,  0.5829,  0.5286,  0.6473,  0.6967],\n",
       "         [ 0.7241,  0.9977,  0.7668,  0.5249,  0.2183],\n",
       "         [ 0.9343,  0.2792,  0.9495,  0.3656,  0.4781]],\n",
       "\n",
       "        [[19.0000,  0.5829,  0.5286,  0.6473,  0.6967],\n",
       "         [ 0.7241,  0.9977,  0.7668,  0.5249,  0.2183],\n",
       "         [ 0.9343,  0.2792,  0.9495,  0.3656,  0.4781]],\n",
       "\n",
       "        [[19.0000,  0.5829,  0.5286,  0.6473,  0.6967],\n",
       "         [ 0.7241,  0.9977,  0.7668,  0.5249,  0.2183],\n",
       "         [ 0.9343,  0.2792,  0.9495,  0.3656,  0.4781]]])"
      ]
     },
     "execution_count": 92,
     "metadata": {},
     "output_type": "execute_result"
    }
   ],
   "source": [
    "a_stacked = torch.stack([a, a, a, a], dim=0)\n",
    "a_stacked"
   ]
  },
  {
   "cell_type": "code",
   "execution_count": 93,
   "id": "b8d37bc5",
   "metadata": {},
   "outputs": [
    {
     "data": {
      "text/plain": [
       "tensor([[[19.0000,  0.5829,  0.5286,  0.6473,  0.6967],\n",
       "         [19.0000,  0.5829,  0.5286,  0.6473,  0.6967],\n",
       "         [19.0000,  0.5829,  0.5286,  0.6473,  0.6967],\n",
       "         [19.0000,  0.5829,  0.5286,  0.6473,  0.6967]],\n",
       "\n",
       "        [[ 0.7241,  0.9977,  0.7668,  0.5249,  0.2183],\n",
       "         [ 0.7241,  0.9977,  0.7668,  0.5249,  0.2183],\n",
       "         [ 0.7241,  0.9977,  0.7668,  0.5249,  0.2183],\n",
       "         [ 0.7241,  0.9977,  0.7668,  0.5249,  0.2183]],\n",
       "\n",
       "        [[ 0.9343,  0.2792,  0.9495,  0.3656,  0.4781],\n",
       "         [ 0.9343,  0.2792,  0.9495,  0.3656,  0.4781],\n",
       "         [ 0.9343,  0.2792,  0.9495,  0.3656,  0.4781],\n",
       "         [ 0.9343,  0.2792,  0.9495,  0.3656,  0.4781]]])"
      ]
     },
     "execution_count": 93,
     "metadata": {},
     "output_type": "execute_result"
    }
   ],
   "source": [
    "a_stacked = torch.stack([a, a, a, a], dim=1)\n",
    "a_stacked"
   ]
  },
  {
   "cell_type": "code",
   "execution_count": 94,
   "id": "029a8e66",
   "metadata": {},
   "outputs": [
    {
     "data": {
      "text/plain": [
       "(tensor([[[0.5994, 0.3387, 0.5882]]]), torch.Size([1, 1, 3]))"
      ]
     },
     "execution_count": 94,
     "metadata": {},
     "output_type": "execute_result"
    }
   ],
   "source": [
    "b = torch.rand(size=[1, 1, 3])\n",
    "b, b.shape"
   ]
  },
  {
   "cell_type": "code",
   "execution_count": 95,
   "id": "d75d4128",
   "metadata": {},
   "outputs": [
    {
     "data": {
      "text/plain": [
       "(tensor([0.5994, 0.3387, 0.5882]), torch.Size([3]))"
      ]
     },
     "execution_count": 95,
     "metadata": {},
     "output_type": "execute_result"
    }
   ],
   "source": [
    "c = b.squeeze()\n",
    "c, c.shape"
   ]
  },
  {
   "cell_type": "code",
   "execution_count": 96,
   "id": "7a6afd42",
   "metadata": {},
   "outputs": [
    {
     "data": {
      "text/plain": [
       "(tensor([[[0.5994, 0.3387, 0.5882]]]), torch.Size([1, 1, 3]))"
      ]
     },
     "execution_count": 96,
     "metadata": {},
     "output_type": "execute_result"
    }
   ],
   "source": [
    "d = c.unsqueeze(dim=0).unsqueeze(dim=0)\n",
    "d, d.shape"
   ]
  },
  {
   "cell_type": "code",
   "execution_count": 97,
   "id": "4414660b",
   "metadata": {},
   "outputs": [
    {
     "data": {
      "text/plain": [
       "(tensor([[0.5994, 0.3387, 0.5882]]), torch.Size([1, 3]))"
      ]
     },
     "execution_count": 97,
     "metadata": {},
     "output_type": "execute_result"
    }
   ],
   "source": [
    "e = c.unsqueeze(dim=-2)\n",
    "e, e.shape"
   ]
  },
  {
   "cell_type": "code",
   "execution_count": 98,
   "id": "ab49bc86",
   "metadata": {},
   "outputs": [
    {
     "data": {
      "text/plain": [
       "(tensor([[0.5994],\n",
       "         [0.3387],\n",
       "         [0.5882]]),\n",
       " torch.Size([3, 1]))"
      ]
     },
     "execution_count": 98,
     "metadata": {},
     "output_type": "execute_result"
    }
   ],
   "source": [
    "f = c.unsqueeze(dim=1)\n",
    "f, f.shape"
   ]
  },
  {
   "cell_type": "code",
   "execution_count": 99,
   "id": "1fd29151",
   "metadata": {},
   "outputs": [
    {
     "data": {
      "text/plain": [
       "(tensor([[[0.4724, 0.3281, 0.0502],\n",
       "          [0.1445, 0.2244, 0.0021],\n",
       "          [0.4027, 0.9660, 0.2088],\n",
       "          ...,\n",
       "          [0.5808, 0.4106, 0.4681],\n",
       "          [0.3356, 0.6794, 0.9941],\n",
       "          [0.0417, 0.1593, 0.2971]],\n",
       " \n",
       "         [[0.0754, 0.1007, 0.9744],\n",
       "          [0.3733, 0.4563, 0.0696],\n",
       "          [0.7315, 0.8633, 0.6857],\n",
       "          ...,\n",
       "          [0.4479, 0.3472, 0.7181],\n",
       "          [0.9222, 0.0855, 0.1397],\n",
       "          [0.7774, 0.6452, 0.5164]],\n",
       " \n",
       "         [[0.2504, 0.5608, 0.1630],\n",
       "          [0.2466, 0.4437, 0.5283],\n",
       "          [0.5515, 0.7292, 0.7915],\n",
       "          ...,\n",
       "          [0.8226, 0.5506, 0.8610],\n",
       "          [0.4809, 0.6766, 0.3340],\n",
       "          [0.3655, 0.8958, 0.4750]],\n",
       " \n",
       "         ...,\n",
       " \n",
       "         [[0.4395, 0.7901, 0.1285],\n",
       "          [0.7694, 0.4237, 0.7932],\n",
       "          [0.2508, 0.8143, 0.5623],\n",
       "          ...,\n",
       "          [0.6131, 0.9482, 0.2400],\n",
       "          [0.3056, 0.4576, 0.8737],\n",
       "          [0.7576, 0.0033, 0.7282]],\n",
       " \n",
       "         [[0.5481, 0.0137, 0.5128],\n",
       "          [0.0331, 0.6203, 0.7411],\n",
       "          [0.1771, 0.9114, 0.8508],\n",
       "          ...,\n",
       "          [0.8347, 0.0194, 0.4432],\n",
       "          [0.3833, 0.4818, 0.8949],\n",
       "          [0.0469, 0.9156, 0.9618]],\n",
       " \n",
       "         [[0.8518, 0.1980, 0.0701],\n",
       "          [0.1838, 0.4205, 0.7351],\n",
       "          [0.2265, 0.6046, 0.3855],\n",
       "          ...,\n",
       "          [0.9431, 0.0624, 0.1584],\n",
       "          [0.3946, 0.8781, 0.6104],\n",
       "          [0.7612, 0.9763, 0.0391]]]),\n",
       " torch.Size([224, 224, 3]))"
      ]
     },
     "execution_count": 99,
     "metadata": {},
     "output_type": "execute_result"
    }
   ],
   "source": [
    "y = torch.rand(size=(224, 224, 3))\n",
    "y, y.shape"
   ]
  },
  {
   "cell_type": "code",
   "execution_count": 100,
   "id": "ea01d0bf",
   "metadata": {},
   "outputs": [
    {
     "data": {
      "text/plain": [
       "(tensor([[[0.4724, 0.1445, 0.4027,  ..., 0.5808, 0.3356, 0.0417],\n",
       "          [0.0754, 0.3733, 0.7315,  ..., 0.4479, 0.9222, 0.7774],\n",
       "          [0.2504, 0.2466, 0.5515,  ..., 0.8226, 0.4809, 0.3655],\n",
       "          ...,\n",
       "          [0.4395, 0.7694, 0.2508,  ..., 0.6131, 0.3056, 0.7576],\n",
       "          [0.5481, 0.0331, 0.1771,  ..., 0.8347, 0.3833, 0.0469],\n",
       "          [0.8518, 0.1838, 0.2265,  ..., 0.9431, 0.3946, 0.7612]],\n",
       " \n",
       "         [[0.3281, 0.2244, 0.9660,  ..., 0.4106, 0.6794, 0.1593],\n",
       "          [0.1007, 0.4563, 0.8633,  ..., 0.3472, 0.0855, 0.6452],\n",
       "          [0.5608, 0.4437, 0.7292,  ..., 0.5506, 0.6766, 0.8958],\n",
       "          ...,\n",
       "          [0.7901, 0.4237, 0.8143,  ..., 0.9482, 0.4576, 0.0033],\n",
       "          [0.0137, 0.6203, 0.9114,  ..., 0.0194, 0.4818, 0.9156],\n",
       "          [0.1980, 0.4205, 0.6046,  ..., 0.0624, 0.8781, 0.9763]],\n",
       " \n",
       "         [[0.0502, 0.0021, 0.2088,  ..., 0.4681, 0.9941, 0.2971],\n",
       "          [0.9744, 0.0696, 0.6857,  ..., 0.7181, 0.1397, 0.5164],\n",
       "          [0.1630, 0.5283, 0.7915,  ..., 0.8610, 0.3340, 0.4750],\n",
       "          ...,\n",
       "          [0.1285, 0.7932, 0.5623,  ..., 0.2400, 0.8737, 0.7282],\n",
       "          [0.5128, 0.7411, 0.8508,  ..., 0.4432, 0.8949, 0.9618],\n",
       "          [0.0701, 0.7351, 0.3855,  ..., 0.1584, 0.6104, 0.0391]]]),\n",
       " torch.Size([3, 224, 224]))"
      ]
     },
     "execution_count": 100,
     "metadata": {},
     "output_type": "execute_result"
    }
   ],
   "source": [
    "z = y.permute((2, 0, 1))\n",
    "z, z.shape"
   ]
  },
  {
   "cell_type": "markdown",
   "id": "f30ed1de",
   "metadata": {},
   "source": [
    "### Indexing"
   ]
  },
  {
   "cell_type": "code",
   "execution_count": 101,
   "id": "f3e39aec",
   "metadata": {},
   "outputs": [
    {
     "data": {
      "text/plain": [
       "tensor([1, 2, 3, 4, 5, 6, 7, 8, 9])"
      ]
     },
     "execution_count": 101,
     "metadata": {},
     "output_type": "execute_result"
    }
   ],
   "source": [
    "x = torch.arange(1, 10, 1)\n",
    "x"
   ]
  },
  {
   "cell_type": "code",
   "execution_count": 102,
   "id": "8ba37a80",
   "metadata": {},
   "outputs": [
    {
     "data": {
      "text/plain": [
       "tensor([[[1, 2, 3],\n",
       "         [4, 5, 6],\n",
       "         [7, 8, 9]]])"
      ]
     },
     "execution_count": 102,
     "metadata": {},
     "output_type": "execute_result"
    }
   ],
   "source": [
    "y = x.reshape(1, 3, 3)\n",
    "y"
   ]
  },
  {
   "cell_type": "code",
   "execution_count": 103,
   "id": "d7ecefea",
   "metadata": {},
   "outputs": [
    {
     "data": {
      "text/plain": [
       "(tensor(1), tensor(2), tensor(3))"
      ]
     },
     "execution_count": 103,
     "metadata": {},
     "output_type": "execute_result"
    }
   ],
   "source": [
    "y[0, 0, 0], y[0, 0, 1], y[0, 0, 2]"
   ]
  },
  {
   "cell_type": "code",
   "execution_count": 104,
   "id": "c9483292",
   "metadata": {},
   "outputs": [
    {
     "data": {
      "text/plain": [
       "tensor([4, 5, 6])"
      ]
     },
     "execution_count": 104,
     "metadata": {},
     "output_type": "execute_result"
    }
   ],
   "source": [
    "y[0, 1]"
   ]
  },
  {
   "cell_type": "code",
   "execution_count": 105,
   "id": "6302208a",
   "metadata": {},
   "outputs": [
    {
     "data": {
      "text/plain": [
       "tensor([[1, 2, 3],\n",
       "        [4, 5, 6],\n",
       "        [7, 8, 9]])"
      ]
     },
     "execution_count": 105,
     "metadata": {},
     "output_type": "execute_result"
    }
   ],
   "source": [
    "y[0]"
   ]
  },
  {
   "cell_type": "code",
   "execution_count": 106,
   "id": "64712d93",
   "metadata": {},
   "outputs": [
    {
     "data": {
      "text/plain": [
       "tensor([4, 5])"
      ]
     },
     "execution_count": 106,
     "metadata": {},
     "output_type": "execute_result"
    }
   ],
   "source": [
    "y[0, 1, :2]"
   ]
  },
  {
   "cell_type": "code",
   "execution_count": 107,
   "id": "40c02f3f",
   "metadata": {},
   "outputs": [
    {
     "data": {
      "text/plain": [
       "tensor([5, 6])"
      ]
     },
     "execution_count": 107,
     "metadata": {},
     "output_type": "execute_result"
    }
   ],
   "source": [
    "y[0, 1, 1:]"
   ]
  },
  {
   "cell_type": "code",
   "execution_count": 108,
   "id": "2f014771",
   "metadata": {},
   "outputs": [
    {
     "data": {
      "text/plain": [
       "tensor([1, 2, 3])"
      ]
     },
     "execution_count": 108,
     "metadata": {},
     "output_type": "execute_result"
    }
   ],
   "source": [
    "y[0][0]"
   ]
  },
  {
   "cell_type": "code",
   "execution_count": 109,
   "id": "111e8b35",
   "metadata": {},
   "outputs": [
    {
     "data": {
      "text/plain": [
       "tensor([5, 6])"
      ]
     },
     "execution_count": 109,
     "metadata": {},
     "output_type": "execute_result"
    }
   ],
   "source": [
    "y[0][1][1:]"
   ]
  },
  {
   "cell_type": "code",
   "execution_count": 110,
   "id": "75287bc7",
   "metadata": {},
   "outputs": [],
   "source": [
    "y[0][0][0] = 10"
   ]
  },
  {
   "cell_type": "code",
   "execution_count": 111,
   "id": "dd4d2c5b",
   "metadata": {},
   "outputs": [
    {
     "data": {
      "text/plain": [
       "(tensor([[[10,  2,  3],\n",
       "          [ 4,  5,  6],\n",
       "          [ 7,  8,  9]]]),\n",
       " tensor([10,  2,  3,  4,  5,  6,  7,  8,  9]))"
      ]
     },
     "execution_count": 111,
     "metadata": {},
     "output_type": "execute_result"
    }
   ],
   "source": [
    "y, x"
   ]
  },
  {
   "cell_type": "code",
   "execution_count": 112,
   "id": "c322c8e9",
   "metadata": {},
   "outputs": [
    {
     "data": {
      "text/plain": [
       "tensor([[2, 5, 8]])"
      ]
     },
     "execution_count": 112,
     "metadata": {},
     "output_type": "execute_result"
    }
   ],
   "source": [
    "y[:, :, 1]"
   ]
  },
  {
   "cell_type": "code",
   "execution_count": 113,
   "id": "1cdd61de",
   "metadata": {},
   "outputs": [
    {
     "data": {
      "text/plain": [
       "tensor([[10,  4,  7]])"
      ]
     },
     "execution_count": 113,
     "metadata": {},
     "output_type": "execute_result"
    }
   ],
   "source": [
    "y[:, :, 0]"
   ]
  },
  {
   "cell_type": "code",
   "execution_count": 114,
   "id": "d252fe37",
   "metadata": {},
   "outputs": [
    {
     "data": {
      "text/plain": [
       "(tensor([10,  2,  3]), tensor([10,  2,  3]))"
      ]
     },
     "execution_count": 114,
     "metadata": {},
     "output_type": "execute_result"
    }
   ],
   "source": [
    "y[0][0], y[0, 0, :]"
   ]
  },
  {
   "cell_type": "code",
   "execution_count": 115,
   "id": "398379fa",
   "metadata": {},
   "outputs": [
    {
     "data": {
      "text/plain": [
       "tensor(9)"
      ]
     },
     "execution_count": 115,
     "metadata": {},
     "output_type": "execute_result"
    }
   ],
   "source": [
    "y[0][2][-1]"
   ]
  },
  {
   "cell_type": "code",
   "execution_count": 116,
   "id": "95006b5d",
   "metadata": {},
   "outputs": [
    {
     "data": {
      "text/plain": [
       "tensor([[3, 6, 9]])"
      ]
     },
     "execution_count": 116,
     "metadata": {},
     "output_type": "execute_result"
    }
   ],
   "source": [
    "y[:, :, 2]"
   ]
  },
  {
   "cell_type": "markdown",
   "id": "71764285",
   "metadata": {},
   "source": [
    "## PyTorch and NumPy"
   ]
  },
  {
   "cell_type": "code",
   "execution_count": 117,
   "id": "c0fd2e62",
   "metadata": {},
   "outputs": [
    {
     "data": {
      "text/plain": [
       "array([1, 2, 3, 4, 5, 6, 7, 8, 9])"
      ]
     },
     "execution_count": 117,
     "metadata": {},
     "output_type": "execute_result"
    }
   ],
   "source": [
    "array = np.arange(1, 10)\n",
    "array"
   ]
  },
  {
   "cell_type": "code",
   "execution_count": 118,
   "id": "3109d7a7",
   "metadata": {},
   "outputs": [
    {
     "data": {
      "text/plain": [
       "tensor([1, 2, 3, 4, 5, 6, 7, 8, 9])"
      ]
     },
     "execution_count": 118,
     "metadata": {},
     "output_type": "execute_result"
    }
   ],
   "source": [
    "tensor = torch.from_numpy(array)\n",
    "tensor"
   ]
  },
  {
   "cell_type": "code",
   "execution_count": 119,
   "id": "1ca8d723",
   "metadata": {},
   "outputs": [
    {
     "data": {
      "text/plain": [
       "(array([ 2,  3,  4,  5,  6,  7,  8,  9, 10]),\n",
       " tensor([1, 2, 3, 4, 5, 6, 7, 8, 9]))"
      ]
     },
     "execution_count": 119,
     "metadata": {},
     "output_type": "execute_result"
    }
   ],
   "source": [
    "array = array + 1\n",
    "array, tensor"
   ]
  },
  {
   "cell_type": "code",
   "execution_count": 120,
   "id": "ea3203d6",
   "metadata": {},
   "outputs": [
    {
     "data": {
      "text/plain": [
       "(tensor([1., 1., 1., 1., 1., 1., 1.]),\n",
       " array([1., 1., 1., 1., 1., 1., 1.], dtype=float32))"
      ]
     },
     "execution_count": 120,
     "metadata": {},
     "output_type": "execute_result"
    }
   ],
   "source": [
    "tensor = torch.ones(7)\n",
    "numpy_tensor = tensor.numpy()\n",
    "tensor, numpy_tensor"
   ]
  },
  {
   "cell_type": "code",
   "execution_count": 121,
   "id": "d56d135a",
   "metadata": {},
   "outputs": [
    {
     "data": {
      "text/plain": [
       "(tensor([2., 2., 2., 2., 2., 2., 2.]),\n",
       " array([1., 1., 1., 1., 1., 1., 1.], dtype=float32))"
      ]
     },
     "execution_count": 121,
     "metadata": {},
     "output_type": "execute_result"
    }
   ],
   "source": [
    "tensor = tensor + 1\n",
    "tensor, numpy_tensor"
   ]
  },
  {
   "cell_type": "markdown",
   "id": "eb42831f",
   "metadata": {},
   "source": [
    "## Reproducibility"
   ]
  },
  {
   "cell_type": "code",
   "execution_count": 127,
   "id": "25c94fac",
   "metadata": {},
   "outputs": [],
   "source": [
    "random_a = torch.rand(3, 3)\n",
    "random_b = torch.rand(3, 3)"
   ]
  },
  {
   "cell_type": "code",
   "execution_count": 128,
   "id": "55c31780",
   "metadata": {},
   "outputs": [
    {
     "data": {
      "text/plain": [
       "(tensor([[0.5739, 0.1237, 0.0209],\n",
       "         [0.7785, 0.3104, 0.2498],\n",
       "         [0.6883, 0.8590, 0.0126]]),\n",
       " tensor([[0.2173, 0.5775, 0.6385],\n",
       "         [0.0626, 0.6966, 0.6447],\n",
       "         [0.1234, 0.5076, 0.9332]]))"
      ]
     },
     "execution_count": 128,
     "metadata": {},
     "output_type": "execute_result"
    }
   ],
   "source": [
    "random_a, random_b"
   ]
  },
  {
   "cell_type": "code",
   "execution_count": 129,
   "id": "70205561",
   "metadata": {},
   "outputs": [
    {
     "data": {
      "text/plain": [
       "tensor([[False, False, False],\n",
       "        [False, False, False],\n",
       "        [False, False, False]])"
      ]
     },
     "execution_count": 129,
     "metadata": {},
     "output_type": "execute_result"
    }
   ],
   "source": [
    "random_a == random_b"
   ]
  },
  {
   "cell_type": "code",
   "execution_count": 133,
   "id": "8d68d548",
   "metadata": {},
   "outputs": [
    {
     "data": {
      "text/plain": [
       "(tensor([[0.8823, 0.9150, 0.3829, 0.9593],\n",
       "         [0.3904, 0.6009, 0.2566, 0.7936],\n",
       "         [0.9408, 0.1332, 0.9346, 0.5936]]),\n",
       " tensor([[0.8823, 0.9150, 0.3829, 0.9593],\n",
       "         [0.3904, 0.6009, 0.2566, 0.7936],\n",
       "         [0.9408, 0.1332, 0.9346, 0.5936]]))"
      ]
     },
     "execution_count": 133,
     "metadata": {},
     "output_type": "execute_result"
    }
   ],
   "source": [
    "RANDOM_SEED = 42\n",
    "\n",
    "torch.manual_seed(RANDOM_SEED)\n",
    "random_c = torch.rand(3, 4)\n",
    "\n",
    "torch.manual_seed(RANDOM_SEED)\n",
    "random_d = torch.rand(3, 4)\n",
    "\n",
    "random_c, random_d"
   ]
  },
  {
   "cell_type": "code",
   "execution_count": 134,
   "id": "2be40a23",
   "metadata": {},
   "outputs": [
    {
     "data": {
      "text/plain": [
       "tensor([[True, True, True, True],\n",
       "        [True, True, True, True],\n",
       "        [True, True, True, True]])"
      ]
     },
     "execution_count": 134,
     "metadata": {},
     "output_type": "execute_result"
    }
   ],
   "source": [
    "random_c == random_d"
   ]
  },
  {
   "cell_type": "markdown",
   "id": "e61e1c90",
   "metadata": {},
   "source": [
    "## Running tensors and PyTorch objects on the GPUs"
   ]
  },
  {
   "cell_type": "code",
   "execution_count": null,
   "id": "5610ae53",
   "metadata": {},
   "outputs": [],
   "source": []
  }
 ],
 "metadata": {
  "kernelspec": {
   "display_name": "pytorch-course (3.11.12)",
   "language": "python",
   "name": "python3"
  },
  "language_info": {
   "codemirror_mode": {
    "name": "ipython",
    "version": 3
   },
   "file_extension": ".py",
   "mimetype": "text/x-python",
   "name": "python",
   "nbconvert_exporter": "python",
   "pygments_lexer": "ipython3",
   "version": "3.11.12"
  }
 },
 "nbformat": 4,
 "nbformat_minor": 5
}
