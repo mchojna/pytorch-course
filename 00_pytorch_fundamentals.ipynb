{
 "cells": [
  {
   "cell_type": "markdown",
   "id": "4fc0dd78",
   "metadata": {},
   "source": [
    "## 00. PyTorch Fundamentals\n",
    "\n",
    "Resource notebook: https://www.learnpytorch.io/00_pytorch_fundamentals/"
   ]
  },
  {
   "cell_type": "code",
   "execution_count": 1,
   "metadata": {},
   "outputs": [
    {
     "name": "stdout",
     "output_type": "stream",
     "text": [
      "2.7.1\n"
     ]
    }
   ],
   "source": [
    "import torch\n",
    "import pandas as pd\n",
    "import numpy as np\n",
    "import matplotlib.pyplot as plt\n",
    "\n",
    "print(torch.__version__)"
   ]
  },
  {
   "cell_type": "markdown",
   "id": "14ec2e70",
   "metadata": {},
   "source": [
    "## Introduction to Tensors\n",
    "\n",
    "Link: https://docs.pytorch.org/docs/stable/tensors.html"
   ]
  },
  {
   "cell_type": "markdown",
   "id": "f3453f99",
   "metadata": {},
   "source": [
    "### Creating tensors"
   ]
  },
  {
   "cell_type": "code",
   "execution_count": 2,
   "id": "a656c38f",
   "metadata": {},
   "outputs": [
    {
     "data": {
      "text/plain": [
       "tensor(7)"
      ]
     },
     "execution_count": 2,
     "metadata": {},
     "output_type": "execute_result"
    }
   ],
   "source": [
    "# scalar\n",
    "scalar = torch.tensor(7)\n",
    "scalar"
   ]
  },
  {
   "cell_type": "code",
   "execution_count": 3,
   "id": "9d3c0f2a",
   "metadata": {},
   "outputs": [
    {
     "data": {
      "text/plain": [
       "0"
      ]
     },
     "execution_count": 3,
     "metadata": {},
     "output_type": "execute_result"
    }
   ],
   "source": [
    "scalar.ndim"
   ]
  },
  {
   "cell_type": "code",
   "execution_count": 4,
   "id": "2cab8a71",
   "metadata": {},
   "outputs": [
    {
     "data": {
      "text/plain": [
       "7"
      ]
     },
     "execution_count": 4,
     "metadata": {},
     "output_type": "execute_result"
    }
   ],
   "source": [
    "scalar.item()"
   ]
  },
  {
   "cell_type": "code",
   "execution_count": 5,
   "id": "0b533209",
   "metadata": {},
   "outputs": [
    {
     "data": {
      "text/plain": [
       "tensor([7, 7])"
      ]
     },
     "execution_count": 5,
     "metadata": {},
     "output_type": "execute_result"
    }
   ],
   "source": [
    "# vector\n",
    "vector = torch.tensor([7, 7])\n",
    "vector"
   ]
  },
  {
   "cell_type": "code",
   "execution_count": 6,
   "id": "4ba0f64f",
   "metadata": {},
   "outputs": [
    {
     "data": {
      "text/plain": [
       "1"
      ]
     },
     "execution_count": 6,
     "metadata": {},
     "output_type": "execute_result"
    }
   ],
   "source": [
    "vector.ndim"
   ]
  },
  {
   "cell_type": "code",
   "execution_count": 7,
   "id": "4d17002f",
   "metadata": {},
   "outputs": [
    {
     "data": {
      "text/plain": [
       "torch.Size([2])"
      ]
     },
     "execution_count": 7,
     "metadata": {},
     "output_type": "execute_result"
    }
   ],
   "source": [
    "vector.shape"
   ]
  },
  {
   "cell_type": "code",
   "execution_count": 8,
   "id": "e20164c2",
   "metadata": {},
   "outputs": [
    {
     "data": {
      "text/plain": [
       "tensor([[ 7,  8],\n",
       "        [ 9, 10]])"
      ]
     },
     "execution_count": 8,
     "metadata": {},
     "output_type": "execute_result"
    }
   ],
   "source": [
    "# matrix\n",
    "matrix = torch.tensor([[7, 8], \n",
    "                       [9, 10]])\n",
    "matrix"
   ]
  },
  {
   "cell_type": "code",
   "execution_count": 9,
   "id": "ea5c2415",
   "metadata": {},
   "outputs": [
    {
     "data": {
      "text/plain": [
       "2"
      ]
     },
     "execution_count": 9,
     "metadata": {},
     "output_type": "execute_result"
    }
   ],
   "source": [
    "matrix.ndim"
   ]
  },
  {
   "cell_type": "code",
   "execution_count": 10,
   "id": "a2c06e5e",
   "metadata": {},
   "outputs": [
    {
     "data": {
      "text/plain": [
       "torch.Size([2, 2])"
      ]
     },
     "execution_count": 10,
     "metadata": {},
     "output_type": "execute_result"
    }
   ],
   "source": [
    "matrix.shape"
   ]
  },
  {
   "cell_type": "code",
   "execution_count": 11,
   "id": "2cf9dc21",
   "metadata": {},
   "outputs": [
    {
     "data": {
      "text/plain": [
       "tensor([7, 8])"
      ]
     },
     "execution_count": 11,
     "metadata": {},
     "output_type": "execute_result"
    }
   ],
   "source": [
    "matrix[0]"
   ]
  },
  {
   "cell_type": "code",
   "execution_count": 12,
   "id": "0551008d",
   "metadata": {},
   "outputs": [
    {
     "data": {
      "text/plain": [
       "tensor([ 9, 10])"
      ]
     },
     "execution_count": 12,
     "metadata": {},
     "output_type": "execute_result"
    }
   ],
   "source": [
    "matrix[1]"
   ]
  },
  {
   "cell_type": "code",
   "execution_count": 13,
   "id": "21b0f8f9",
   "metadata": {},
   "outputs": [
    {
     "data": {
      "text/plain": [
       "tensor([[[1, 2, 3],\n",
       "         [4, 5, 6],\n",
       "         [7, 8, 9]]])"
      ]
     },
     "execution_count": 13,
     "metadata": {},
     "output_type": "execute_result"
    }
   ],
   "source": [
    "# tensor\n",
    "tensor = torch.tensor([[[1, 2, 3],\n",
    "                        [4, 5, 6],\n",
    "                        [7, 8, 9]]])\n",
    "tensor"
   ]
  },
  {
   "cell_type": "code",
   "execution_count": 14,
   "id": "c85f3790",
   "metadata": {},
   "outputs": [
    {
     "data": {
      "text/plain": [
       "3"
      ]
     },
     "execution_count": 14,
     "metadata": {},
     "output_type": "execute_result"
    }
   ],
   "source": [
    "tensor.ndim"
   ]
  },
  {
   "cell_type": "code",
   "execution_count": 15,
   "id": "a0478769",
   "metadata": {},
   "outputs": [
    {
     "data": {
      "text/plain": [
       "torch.Size([1, 3, 3])"
      ]
     },
     "execution_count": 15,
     "metadata": {},
     "output_type": "execute_result"
    }
   ],
   "source": [
    "tensor.shape"
   ]
  },
  {
   "cell_type": "code",
   "execution_count": 16,
   "id": "ff639039",
   "metadata": {},
   "outputs": [
    {
     "data": {
      "text/plain": [
       "tensor([[1, 2, 3],\n",
       "        [4, 5, 6],\n",
       "        [7, 8, 9]])"
      ]
     },
     "execution_count": 16,
     "metadata": {},
     "output_type": "execute_result"
    }
   ],
   "source": [
    "tensor[0]"
   ]
  },
  {
   "cell_type": "code",
   "execution_count": 17,
   "id": "fa03ef7e",
   "metadata": {},
   "outputs": [
    {
     "data": {
      "text/plain": [
       "tensor([4, 5, 6])"
      ]
     },
     "execution_count": 17,
     "metadata": {},
     "output_type": "execute_result"
    }
   ],
   "source": [
    "tensor[0][1]"
   ]
  },
  {
   "cell_type": "code",
   "execution_count": 18,
   "id": "9688222e",
   "metadata": {},
   "outputs": [
    {
     "data": {
      "text/plain": [
       "tensor(6)"
      ]
     },
     "execution_count": 18,
     "metadata": {},
     "output_type": "execute_result"
    }
   ],
   "source": [
    "tensor[0][1][2]"
   ]
  },
  {
   "cell_type": "markdown",
   "id": "7aec46f5",
   "metadata": {},
   "source": [
    "### Random tensors"
   ]
  },
  {
   "cell_type": "code",
   "execution_count": 19,
   "id": "78ad7f59",
   "metadata": {},
   "outputs": [
    {
     "data": {
      "text/plain": [
       "tensor([[0.6551, 0.5438, 0.8638, 0.1416],\n",
       "        [0.0204, 0.1553, 0.3455, 0.5955],\n",
       "        [0.5012, 0.1305, 0.1003, 0.7081]])"
      ]
     },
     "execution_count": 19,
     "metadata": {},
     "output_type": "execute_result"
    }
   ],
   "source": [
    "# Create a random tensor of size / shape (3, 4)\n",
    "random_tensor = torch.rand(3, 4)\n",
    "random_tensor"
   ]
  },
  {
   "cell_type": "code",
   "execution_count": 20,
   "id": "59136206",
   "metadata": {},
   "outputs": [
    {
     "data": {
      "text/plain": [
       "2"
      ]
     },
     "execution_count": 20,
     "metadata": {},
     "output_type": "execute_result"
    }
   ],
   "source": [
    "random_tensor.ndim"
   ]
  },
  {
   "cell_type": "code",
   "execution_count": 21,
   "id": "37f8d1c4",
   "metadata": {},
   "outputs": [
    {
     "data": {
      "text/plain": [
       "tensor([[[0.4870, 0.5068, 0.8089],\n",
       "         [0.7105, 0.1388, 0.7742],\n",
       "         [0.2657, 0.5445, 0.8870]],\n",
       "\n",
       "        [[0.9572, 0.0644, 0.4747],\n",
       "         [0.3741, 0.7827, 0.5871],\n",
       "         [0.5894, 0.2703, 0.4045]],\n",
       "\n",
       "        [[0.6148, 0.2353, 0.0144],\n",
       "         [0.9210, 0.6908, 0.9307],\n",
       "         [0.6980, 0.0740, 0.4305]]])"
      ]
     },
     "execution_count": 21,
     "metadata": {},
     "output_type": "execute_result"
    }
   ],
   "source": [
    "random_tensor = torch.rand(3, 3, 3)\n",
    "random_tensor"
   ]
  },
  {
   "cell_type": "code",
   "execution_count": 22,
   "id": "3464bac6",
   "metadata": {},
   "outputs": [
    {
     "data": {
      "text/plain": [
       "tensor([[[0.0622, 0.0372, 0.0103],\n",
       "         [0.2011, 0.0460, 0.3823]]])"
      ]
     },
     "execution_count": 22,
     "metadata": {},
     "output_type": "execute_result"
    }
   ],
   "source": [
    "torch.rand(size=(1, 2, 3))"
   ]
  },
  {
   "cell_type": "code",
   "execution_count": 23,
   "id": "ce7dc199",
   "metadata": {},
   "outputs": [
    {
     "data": {
      "text/plain": [
       "(torch.Size([224, 224, 3]), 3)"
      ]
     },
     "execution_count": 23,
     "metadata": {},
     "output_type": "execute_result"
    }
   ],
   "source": [
    "random_image_size_tensor = torch.rand(size=(224, 224, 3))\n",
    "random_image_size_tensor.shape, random_image_size_tensor.ndim"
   ]
  },
  {
   "cell_type": "markdown",
   "id": "06297596",
   "metadata": {},
   "source": [
    "### Zeros and ones"
   ]
  },
  {
   "cell_type": "code",
   "execution_count": 24,
   "id": "29fd5d57",
   "metadata": {},
   "outputs": [
    {
     "data": {
      "text/plain": [
       "tensor([[0.9123, 0.2045, 0.3954, 0.6091],\n",
       "        [0.7200, 0.8935, 0.8104, 0.8401],\n",
       "        [0.7576, 0.1363, 0.6206, 0.0450]])"
      ]
     },
     "execution_count": 24,
     "metadata": {},
     "output_type": "execute_result"
    }
   ],
   "source": [
    "random_tensor = torch.rand(size=(3, 4))\n",
    "random_tensor"
   ]
  },
  {
   "cell_type": "code",
   "execution_count": 25,
   "id": "a0cd91a0",
   "metadata": {},
   "outputs": [
    {
     "data": {
      "text/plain": [
       "tensor([[0., 0., 0., 0.],\n",
       "        [0., 0., 0., 0.],\n",
       "        [0., 0., 0., 0.]])"
      ]
     },
     "execution_count": 25,
     "metadata": {},
     "output_type": "execute_result"
    }
   ],
   "source": [
    "# tensor of zeros\n",
    "zeros = torch.zeros(size=(3, 4))\n",
    "zeros"
   ]
  },
  {
   "cell_type": "code",
   "execution_count": 26,
   "id": "bce9348e",
   "metadata": {},
   "outputs": [
    {
     "data": {
      "text/plain": [
       "tensor([[0., 0., 0., 0.],\n",
       "        [0., 0., 0., 0.],\n",
       "        [0., 0., 0., 0.]])"
      ]
     },
     "execution_count": 26,
     "metadata": {},
     "output_type": "execute_result"
    }
   ],
   "source": [
    "zeros * random_tensor"
   ]
  },
  {
   "cell_type": "code",
   "execution_count": 27,
   "id": "4dd6e0fc",
   "metadata": {},
   "outputs": [],
   "source": [
    "# tensor of ones\n",
    "ones = torch.ones(size=(3, 4))"
   ]
  },
  {
   "cell_type": "code",
   "execution_count": 28,
   "id": "32cc9743",
   "metadata": {},
   "outputs": [
    {
     "data": {
      "text/plain": [
       "torch.float32"
      ]
     },
     "execution_count": 28,
     "metadata": {},
     "output_type": "execute_result"
    }
   ],
   "source": [
    "ones.dtype"
   ]
  },
  {
   "cell_type": "code",
   "execution_count": 29,
   "id": "c94d96cf",
   "metadata": {},
   "outputs": [
    {
     "data": {
      "text/plain": [
       "tensor([[0.9123, 0.2045, 0.3954, 0.6091],\n",
       "        [0.7200, 0.8935, 0.8104, 0.8401],\n",
       "        [0.7576, 0.1363, 0.6206, 0.0450]])"
      ]
     },
     "execution_count": 29,
     "metadata": {},
     "output_type": "execute_result"
    }
   ],
   "source": [
    "ones * random_tensor"
   ]
  },
  {
   "cell_type": "markdown",
   "id": "46d70153",
   "metadata": {},
   "source": [
    "### Creating a range of tensors and tensors-like"
   ]
  },
  {
   "cell_type": "code",
   "execution_count": 30,
   "id": "447e3045",
   "metadata": {},
   "outputs": [
    {
     "name": "stderr",
     "output_type": "stream",
     "text": [
      "/var/folders/zd/7ryz379j2dz9shhk8m8k4zx40000gn/T/ipykernel_38473/616276269.py:1: UserWarning: torch.range is deprecated and will be removed in a future release because its behavior is inconsistent with Python's range builtin. Instead, use torch.arange, which produces values in [start, end).\n",
      "  torch.range(2, 8)\n"
     ]
    },
    {
     "data": {
      "text/plain": [
       "tensor([2., 3., 4., 5., 6., 7., 8.])"
      ]
     },
     "execution_count": 30,
     "metadata": {},
     "output_type": "execute_result"
    }
   ],
   "source": [
    "torch.range(2, 8)"
   ]
  },
  {
   "cell_type": "code",
   "execution_count": 31,
   "id": "43d2ac48",
   "metadata": {},
   "outputs": [
    {
     "data": {
      "text/plain": [
       "tensor([0, 1, 2, 3, 4, 5, 6, 7, 8, 9])"
      ]
     },
     "execution_count": 31,
     "metadata": {},
     "output_type": "execute_result"
    }
   ],
   "source": [
    "torch.arange(0, 10)"
   ]
  },
  {
   "cell_type": "code",
   "execution_count": 32,
   "id": "69814b7f",
   "metadata": {},
   "outputs": [],
   "source": [
    "one_to_ten = torch.arange(1, 11)"
   ]
  },
  {
   "cell_type": "code",
   "execution_count": 33,
   "id": "d6377683",
   "metadata": {},
   "outputs": [
    {
     "data": {
      "text/plain": [
       "tensor([  0,  99, 198, 297, 396, 495, 594, 693, 792, 891, 990])"
      ]
     },
     "execution_count": 33,
     "metadata": {},
     "output_type": "execute_result"
    }
   ],
   "source": [
    "torch.arange(start=0, end=1000, step=99)"
   ]
  },
  {
   "cell_type": "code",
   "execution_count": 34,
   "id": "25104565",
   "metadata": {},
   "outputs": [
    {
     "data": {
      "text/plain": [
       "tensor([0, 0, 0, 0, 0, 0, 0, 0, 0, 0])"
      ]
     },
     "execution_count": 34,
     "metadata": {},
     "output_type": "execute_result"
    }
   ],
   "source": [
    "ten_zeres = torch.zeros_like(input=one_to_ten)\n",
    "ten_zeres"
   ]
  },
  {
   "cell_type": "markdown",
   "id": "d8b3d0f7",
   "metadata": {},
   "source": [
    "### Tensor datatypes"
   ]
  },
  {
   "cell_type": "code",
   "execution_count": 35,
   "id": "77313d3b",
   "metadata": {},
   "outputs": [
    {
     "data": {
      "text/plain": [
       "torch.float32"
      ]
     },
     "execution_count": 35,
     "metadata": {},
     "output_type": "execute_result"
    }
   ],
   "source": [
    "float_32_tensor = torch.tensor([3.0 , 6.0, 9.0], \n",
    "                               dtype=torch.float32)\n",
    "float_32_tensor.dtype"
   ]
  },
  {
   "cell_type": "code",
   "execution_count": 36,
   "id": "5dfa9e2b",
   "metadata": {},
   "outputs": [
    {
     "data": {
      "text/plain": [
       "torch.float16"
      ]
     },
     "execution_count": 36,
     "metadata": {},
     "output_type": "execute_result"
    }
   ],
   "source": [
    "float_16_tensor = torch.tensor([3.0 , 6.0, 9.0], \n",
    "                               dtype=torch.float16, # datatype of tensor\n",
    "                               device=\"mps\",\n",
    "                               requires_grad=False)\n",
    "float_16_tensor.dtype"
   ]
  },
  {
   "cell_type": "code",
   "execution_count": 37,
   "id": "c6a5df81",
   "metadata": {},
   "outputs": [
    {
     "data": {
      "text/plain": [
       "tensor([3., 6., 9.], dtype=torch.float64)"
      ]
     },
     "execution_count": 37,
     "metadata": {},
     "output_type": "execute_result"
    }
   ],
   "source": [
    "float_64_tensor = float_32_tensor.type(torch.float64)\n",
    "float_64_tensor"
   ]
  },
  {
   "cell_type": "code",
   "execution_count": 38,
   "id": "5e19a2a1",
   "metadata": {},
   "outputs": [
    {
     "data": {
      "text/plain": [
       "(torch.Size([3]), device(type='mps', index=0), torch.float16)"
      ]
     },
     "execution_count": 38,
     "metadata": {},
     "output_type": "execute_result"
    }
   ],
   "source": [
    "float_16_tensor.shape, float_16_tensor.device, float_16_tensor.dtype"
   ]
  },
  {
   "cell_type": "code",
   "execution_count": 39,
   "id": "5aaee2d8",
   "metadata": {},
   "outputs": [
    {
     "data": {
      "text/plain": [
       "tensor([ 9., 36., 81.], dtype=torch.float64)"
      ]
     },
     "execution_count": 39,
     "metadata": {},
     "output_type": "execute_result"
    }
   ],
   "source": [
    "float_64_tensor * float_32_tensor"
   ]
  },
  {
   "cell_type": "code",
   "execution_count": 40,
   "id": "fa28bef5",
   "metadata": {},
   "outputs": [
    {
     "data": {
      "text/plain": [
       "tensor([ 9., 36., 81.], dtype=torch.float64)"
      ]
     },
     "execution_count": 40,
     "metadata": {},
     "output_type": "execute_result"
    }
   ],
   "source": [
    "float_32_tensor * float_64_tensor"
   ]
  },
  {
   "cell_type": "code",
   "execution_count": 41,
   "id": "e73ac400",
   "metadata": {},
   "outputs": [
    {
     "data": {
      "text/plain": [
       "tensor([3, 6, 9], dtype=torch.int32)"
      ]
     },
     "execution_count": 41,
     "metadata": {},
     "output_type": "execute_result"
    }
   ],
   "source": [
    "int_32_tensor = torch.tensor([3, 6, 9], dtype=torch.int32)\n",
    "int_32_tensor"
   ]
  },
  {
   "cell_type": "code",
   "execution_count": 42,
   "id": "32d10e0f",
   "metadata": {},
   "outputs": [
    {
     "data": {
      "text/plain": [
       "tensor([ 9., 36., 81.])"
      ]
     },
     "execution_count": 42,
     "metadata": {},
     "output_type": "execute_result"
    }
   ],
   "source": [
    "float_32_tensor * int_32_tensor"
   ]
  },
  {
   "cell_type": "markdown",
   "id": "2c06c4e3",
   "metadata": {},
   "source": [
    "### Manipulating tensors"
   ]
  },
  {
   "cell_type": "code",
   "execution_count": 43,
   "id": "1636ab5d",
   "metadata": {},
   "outputs": [],
   "source": [
    "a = torch.rand(size=(3, 3))\n",
    "b = torch.rand(size=(3, 3))"
   ]
  },
  {
   "cell_type": "code",
   "execution_count": 44,
   "id": "7ba10590",
   "metadata": {},
   "outputs": [
    {
     "data": {
      "text/plain": [
       "tensor([[0.5865, 0.2554, 0.2946],\n",
       "        [0.9365, 0.3752, 0.3254],\n",
       "        [0.3701, 0.8313, 0.2761]])"
      ]
     },
     "execution_count": 44,
     "metadata": {},
     "output_type": "execute_result"
    }
   ],
   "source": [
    "a"
   ]
  },
  {
   "cell_type": "code",
   "execution_count": 45,
   "id": "33c87f63",
   "metadata": {},
   "outputs": [
    {
     "data": {
      "text/plain": [
       "tensor([[0.7378, 0.5291, 0.8065],\n",
       "        [0.3776, 0.7912, 0.3450],\n",
       "        [0.3721, 0.4986, 0.3563]])"
      ]
     },
     "execution_count": 45,
     "metadata": {},
     "output_type": "execute_result"
    }
   ],
   "source": [
    "b"
   ]
  },
  {
   "cell_type": "code",
   "execution_count": 46,
   "id": "ab278826",
   "metadata": {},
   "outputs": [
    {
     "data": {
      "text/plain": [
       "tensor([[20.5865, 20.2554, 20.2946],\n",
       "        [20.9365, 20.3752, 20.3254],\n",
       "        [20.3701, 20.8312, 20.2761]])"
      ]
     },
     "execution_count": 46,
     "metadata": {},
     "output_type": "execute_result"
    }
   ],
   "source": [
    "a + 20"
   ]
  },
  {
   "cell_type": "code",
   "execution_count": 47,
   "id": "cf9f5b0f",
   "metadata": {},
   "outputs": [
    {
     "data": {
      "text/plain": [
       "tensor([[10.5865, 10.2554, 10.2946],\n",
       "        [10.9365, 10.3752, 10.3254],\n",
       "        [10.3701, 10.8313, 10.2761]])"
      ]
     },
     "execution_count": 47,
     "metadata": {},
     "output_type": "execute_result"
    }
   ],
   "source": [
    "torch.add(a, 10)"
   ]
  },
  {
   "cell_type": "code",
   "execution_count": 48,
   "id": "7dd5729d",
   "metadata": {},
   "outputs": [
    {
     "data": {
      "text/plain": [
       "tensor([[1.3243, 0.7845, 1.1011],\n",
       "        [1.3141, 1.1665, 0.6704],\n",
       "        [0.7422, 1.3299, 0.6323]])"
      ]
     },
     "execution_count": 48,
     "metadata": {},
     "output_type": "execute_result"
    }
   ],
   "source": [
    "a + b"
   ]
  },
  {
   "cell_type": "code",
   "execution_count": 49,
   "id": "97b3cfa1",
   "metadata": {},
   "outputs": [
    {
     "data": {
      "text/plain": [
       "tensor([[-9.4135, -9.7446, -9.7054],\n",
       "        [-9.0635, -9.6248, -9.6746],\n",
       "        [-9.6299, -9.1687, -9.7239]])"
      ]
     },
     "execution_count": 49,
     "metadata": {},
     "output_type": "execute_result"
    }
   ],
   "source": [
    "a - 10"
   ]
  },
  {
   "cell_type": "code",
   "execution_count": 50,
   "id": "70d8c1c7",
   "metadata": {},
   "outputs": [
    {
     "data": {
      "text/plain": [
       "tensor([[-9.4135, -9.7446, -9.7054],\n",
       "        [-9.0635, -9.6248, -9.6746],\n",
       "        [-9.6299, -9.1687, -9.7239]])"
      ]
     },
     "execution_count": 50,
     "metadata": {},
     "output_type": "execute_result"
    }
   ],
   "source": [
    "torch.sub(a, 10)"
   ]
  },
  {
   "cell_type": "code",
   "execution_count": 51,
   "id": "f28404fa",
   "metadata": {},
   "outputs": [
    {
     "data": {
      "text/plain": [
       "tensor([[-0.1513, -0.2737, -0.5119],\n",
       "        [ 0.5589, -0.4160, -0.0196],\n",
       "        [-0.0021,  0.3326, -0.0802]])"
      ]
     },
     "execution_count": 51,
     "metadata": {},
     "output_type": "execute_result"
    }
   ],
   "source": [
    "a - b"
   ]
  },
  {
   "cell_type": "code",
   "execution_count": 52,
   "id": "d98b7b96",
   "metadata": {},
   "outputs": [
    {
     "data": {
      "text/plain": [
       "tensor([[5.8646, 2.5540, 2.9460],\n",
       "        [9.3648, 3.7524, 3.2539],\n",
       "        [3.7006, 8.3125, 2.7608]])"
      ]
     },
     "execution_count": 52,
     "metadata": {},
     "output_type": "execute_result"
    }
   ],
   "source": [
    "a * 10"
   ]
  },
  {
   "cell_type": "code",
   "execution_count": 53,
   "id": "df91db63",
   "metadata": {},
   "outputs": [
    {
     "data": {
      "text/plain": [
       "tensor([[5.8646, 2.5540, 2.9460],\n",
       "        [9.3648, 3.7524, 3.2539],\n",
       "        [3.7006, 8.3125, 2.7608]])"
      ]
     },
     "execution_count": 53,
     "metadata": {},
     "output_type": "execute_result"
    }
   ],
   "source": [
    "torch.mul(a, 10)"
   ]
  },
  {
   "cell_type": "code",
   "execution_count": 54,
   "id": "5b45e2d2",
   "metadata": {},
   "outputs": [
    {
     "data": {
      "text/plain": [
       "tensor([[0.4327, 0.1351, 0.2376],\n",
       "        [0.3536, 0.2969, 0.1123],\n",
       "        [0.1377, 0.4145, 0.0984]])"
      ]
     },
     "execution_count": 54,
     "metadata": {},
     "output_type": "execute_result"
    }
   ],
   "source": [
    "a * b"
   ]
  },
  {
   "cell_type": "code",
   "execution_count": 55,
   "id": "665e5f0f",
   "metadata": {},
   "outputs": [
    {
     "data": {
      "text/plain": [
       "tensor([[0.0586, 0.0255, 0.0295],\n",
       "        [0.0936, 0.0375, 0.0325],\n",
       "        [0.0370, 0.0831, 0.0276]])"
      ]
     },
     "execution_count": 55,
     "metadata": {},
     "output_type": "execute_result"
    }
   ],
   "source": [
    "a / 10"
   ]
  },
  {
   "cell_type": "code",
   "execution_count": 56,
   "id": "de78b0bd",
   "metadata": {},
   "outputs": [
    {
     "data": {
      "text/plain": [
       "tensor([[0.0586, 0.0255, 0.0295],\n",
       "        [0.0936, 0.0375, 0.0325],\n",
       "        [0.0370, 0.0831, 0.0276]])"
      ]
     },
     "execution_count": 56,
     "metadata": {},
     "output_type": "execute_result"
    }
   ],
   "source": [
    "torch.div(a, 10)"
   ]
  },
  {
   "cell_type": "code",
   "execution_count": 57,
   "id": "1653d99c",
   "metadata": {},
   "outputs": [
    {
     "data": {
      "text/plain": [
       "tensor([[0.7949, 0.4827, 0.3653],\n",
       "        [2.4801, 0.4742, 0.9431],\n",
       "        [0.9944, 1.6671, 0.7749]])"
      ]
     },
     "execution_count": 57,
     "metadata": {},
     "output_type": "execute_result"
    }
   ],
   "source": [
    "a / b"
   ]
  },
  {
   "cell_type": "code",
   "execution_count": 58,
   "id": "fbd568cc",
   "metadata": {},
   "outputs": [
    {
     "data": {
      "text/plain": [
       "tensor([[0.6388, 0.6592, 0.6660],\n",
       "        [0.9537, 0.9546, 1.0006],\n",
       "        [0.6897, 0.9912, 0.6836]])"
      ]
     },
     "execution_count": 58,
     "metadata": {},
     "output_type": "execute_result"
    }
   ],
   "source": [
    "torch.matmul(a, b)"
   ]
  },
  {
   "cell_type": "code",
   "execution_count": 59,
   "id": "460d1ffa",
   "metadata": {},
   "outputs": [
    {
     "data": {
      "text/plain": [
       "tensor([[0.6388, 0.6592, 0.6660],\n",
       "        [0.9537, 0.9546, 1.0006],\n",
       "        [0.6897, 0.9912, 0.6836]])"
      ]
     },
     "execution_count": 59,
     "metadata": {},
     "output_type": "execute_result"
    }
   ],
   "source": [
    "a @ b"
   ]
  },
  {
   "cell_type": "code",
   "execution_count": 60,
   "id": "3f93cbcc",
   "metadata": {},
   "outputs": [
    {
     "data": {
      "text/plain": [
       "tensor([[0.3439, 0.0652, 0.0868],\n",
       "        [0.8770, 0.1408, 0.1059],\n",
       "        [0.1369, 0.6910, 0.0762]])"
      ]
     },
     "execution_count": 60,
     "metadata": {},
     "output_type": "execute_result"
    }
   ],
   "source": [
    "a ** 2"
   ]
  },
  {
   "cell_type": "code",
   "execution_count": 61,
   "id": "a4e3e5ba",
   "metadata": {},
   "outputs": [
    {
     "data": {
      "text/plain": [
       "tensor([[0.7658, 0.5054, 0.5428],\n",
       "        [0.9677, 0.6126, 0.5704],\n",
       "        [0.6083, 0.9117, 0.5254]])"
      ]
     },
     "execution_count": 61,
     "metadata": {},
     "output_type": "execute_result"
    }
   ],
   "source": [
    "a ** (1 / 2)"
   ]
  },
  {
   "cell_type": "code",
   "execution_count": 62,
   "id": "6ad63876",
   "metadata": {},
   "outputs": [],
   "source": [
    "a = torch.tensor([1, 2, 3])\n",
    "b = torch.tensor([1, 2, 3])"
   ]
  },
  {
   "cell_type": "code",
   "execution_count": 63,
   "id": "dc8d9aa5",
   "metadata": {},
   "outputs": [
    {
     "name": "stdout",
     "output_type": "stream",
     "text": [
      "CPU times: user 420 μs, sys: 188 μs, total: 608 μs\n",
      "Wall time: 548 μs\n"
     ]
    },
    {
     "data": {
      "text/plain": [
       "tensor(2)"
      ]
     },
     "execution_count": 63,
     "metadata": {},
     "output_type": "execute_result"
    }
   ],
   "source": [
    "%%time\n",
    "value = 0\n",
    "for i in range(len(tensor)):\n",
    "    value += a[i] + b[i]\n",
    "value"
   ]
  },
  {
   "cell_type": "code",
   "execution_count": 64,
   "id": "d5d13809",
   "metadata": {},
   "outputs": [
    {
     "name": "stdout",
     "output_type": "stream",
     "text": [
      "CPU times: user 650 μs, sys: 978 μs, total: 1.63 ms\n",
      "Wall time: 948 μs\n"
     ]
    },
    {
     "data": {
      "text/plain": [
       "tensor(14)"
      ]
     },
     "execution_count": 64,
     "metadata": {},
     "output_type": "execute_result"
    }
   ],
   "source": [
    "%%time\n",
    "torch.matmul(a, b)"
   ]
  },
  {
   "cell_type": "code",
   "execution_count": 65,
   "id": "85141c6b",
   "metadata": {},
   "outputs": [
    {
     "name": "stdout",
     "output_type": "stream",
     "text": [
      "CPU times: user 42 μs, sys: 13 μs, total: 55 μs\n",
      "Wall time: 110 μs\n"
     ]
    },
    {
     "data": {
      "text/plain": [
       "tensor(14)"
      ]
     },
     "execution_count": 65,
     "metadata": {},
     "output_type": "execute_result"
    }
   ],
   "source": [
    "%%time\n",
    "a @ b"
   ]
  },
  {
   "cell_type": "code",
   "execution_count": 66,
   "id": "425a416d",
   "metadata": {},
   "outputs": [
    {
     "ename": "RuntimeError",
     "evalue": "mat1 and mat2 shapes cannot be multiplied (3x2 and 3x2)",
     "output_type": "error",
     "traceback": [
      "\u001b[31m---------------------------------------------------------------------------\u001b[39m",
      "\u001b[31mRuntimeError\u001b[39m                              Traceback (most recent call last)",
      "\u001b[36mCell\u001b[39m\u001b[36m \u001b[39m\u001b[32mIn[66]\u001b[39m\u001b[32m, line 1\u001b[39m\n\u001b[32m----> \u001b[39m\u001b[32m1\u001b[39m \u001b[43mtorch\u001b[49m\u001b[43m.\u001b[49m\u001b[43mrand\u001b[49m\u001b[43m(\u001b[49m\u001b[43m[\u001b[49m\u001b[32;43m3\u001b[39;49m\u001b[43m,\u001b[49m\u001b[43m \u001b[49m\u001b[32;43m2\u001b[39;49m\u001b[43m]\u001b[49m\u001b[43m)\u001b[49m\u001b[43m \u001b[49m\u001b[43m@\u001b[49m\u001b[43m \u001b[49m\u001b[43mtorch\u001b[49m\u001b[43m.\u001b[49m\u001b[43mrand\u001b[49m\u001b[43m(\u001b[49m\u001b[43m[\u001b[49m\u001b[32;43m3\u001b[39;49m\u001b[43m,\u001b[49m\u001b[43m \u001b[49m\u001b[32;43m2\u001b[39;49m\u001b[43m]\u001b[49m\u001b[43m)\u001b[49m\n",
      "\u001b[31mRuntimeError\u001b[39m: mat1 and mat2 shapes cannot be multiplied (3x2 and 3x2)"
     ]
    }
   ],
   "source": [
    "torch.rand([3, 2]) @ torch.rand([3, 2])"
   ]
  },
  {
   "cell_type": "code",
   "execution_count": 67,
   "id": "52d34f7c",
   "metadata": {},
   "outputs": [
    {
     "data": {
      "text/plain": [
       "tensor([[0.8518, 0.3749, 0.2801],\n",
       "        [0.8762, 0.2739, 0.1395],\n",
       "        [0.2595, 0.1094, 0.0790]])"
      ]
     },
     "execution_count": 67,
     "metadata": {},
     "output_type": "execute_result"
    }
   ],
   "source": [
    "torch.rand([3, 2]) @ torch.rand([2, 3])"
   ]
  },
  {
   "cell_type": "code",
   "execution_count": 68,
   "id": "bf9f7044",
   "metadata": {},
   "outputs": [
    {
     "data": {
      "text/plain": [
       "tensor([[0.2295, 0.1103],\n",
       "        [0.5921, 0.6943]])"
      ]
     },
     "execution_count": 68,
     "metadata": {},
     "output_type": "execute_result"
    }
   ],
   "source": [
    "torch.rand([2, 3]) @ torch.rand([3, 2])"
   ]
  },
  {
   "cell_type": "code",
   "execution_count": 69,
   "id": "20bc2ad6",
   "metadata": {},
   "outputs": [
    {
     "data": {
      "text/plain": [
       "tensor([[0.8082, 0.7396, 0.9430],\n",
       "        [0.4692, 0.7127, 0.4501],\n",
       "        [0.3833, 0.5511, 0.2562],\n",
       "        [0.0925, 0.8504, 0.4969]])"
      ]
     },
     "execution_count": 69,
     "metadata": {},
     "output_type": "execute_result"
    }
   ],
   "source": [
    "a = torch.rand([4, 3])\n",
    "a"
   ]
  },
  {
   "cell_type": "code",
   "execution_count": 70,
   "id": "2832483a",
   "metadata": {},
   "outputs": [
    {
     "data": {
      "text/plain": [
       "tensor([[0.8082, 0.4692, 0.3833, 0.0925],\n",
       "        [0.7396, 0.7127, 0.5511, 0.8504],\n",
       "        [0.9430, 0.4501, 0.2562, 0.4969]])"
      ]
     },
     "execution_count": 70,
     "metadata": {},
     "output_type": "execute_result"
    }
   ],
   "source": [
    "b = a.T\n",
    "b"
   ]
  },
  {
   "cell_type": "code",
   "execution_count": 71,
   "id": "01be1ab5",
   "metadata": {},
   "outputs": [
    {
     "data": {
      "text/plain": [
       "(torch.Size([4, 3]), torch.Size([3, 4]))"
      ]
     },
     "execution_count": 71,
     "metadata": {},
     "output_type": "execute_result"
    }
   ],
   "source": [
    "a.shape, b.shape"
   ]
  },
  {
   "cell_type": "code",
   "execution_count": 72,
   "id": "e6945ac7",
   "metadata": {},
   "outputs": [
    {
     "data": {
      "text/plain": [
       "tensor([[0.8082, 0.7396, 0.9430],\n",
       "        [0.4692, 0.7127, 0.4501],\n",
       "        [0.3833, 0.5511, 0.2562],\n",
       "        [0.0925, 0.8504, 0.4969]])"
      ]
     },
     "execution_count": 72,
     "metadata": {},
     "output_type": "execute_result"
    }
   ],
   "source": [
    "b.T"
   ]
  },
  {
   "cell_type": "code",
   "execution_count": 73,
   "id": "d79228bb",
   "metadata": {},
   "outputs": [
    {
     "data": {
      "text/plain": [
       "tensor([[2.0894, 1.3308, 0.9590, 1.1723],\n",
       "        [1.3308, 0.9307, 0.6879, 0.8732],\n",
       "        [0.9590, 0.6879, 0.5163, 0.6314],\n",
       "        [1.1723, 0.8732, 0.6314, 0.9787]])"
      ]
     },
     "execution_count": 73,
     "metadata": {},
     "output_type": "execute_result"
    }
   ],
   "source": [
    "torch.mm(a, a.T)"
   ]
  },
  {
   "cell_type": "markdown",
   "id": "754c64e0",
   "metadata": {},
   "source": [
    "### Tensor aggregation"
   ]
  },
  {
   "cell_type": "code",
   "execution_count": 74,
   "id": "3f87267f",
   "metadata": {},
   "outputs": [
    {
     "data": {
      "text/plain": [
       "(tensor([ 0, 10, 20, 30, 40, 50, 60, 70, 80, 90]), torch.int64)"
      ]
     },
     "execution_count": 74,
     "metadata": {},
     "output_type": "execute_result"
    }
   ],
   "source": [
    "tensor = torch.arange(0, 100, 10)\n",
    "tensor, tensor.dtype"
   ]
  },
  {
   "cell_type": "code",
   "execution_count": 75,
   "id": "717c6517",
   "metadata": {},
   "outputs": [
    {
     "data": {
      "text/plain": [
       "(tensor(0), tensor(0))"
      ]
     },
     "execution_count": 75,
     "metadata": {},
     "output_type": "execute_result"
    }
   ],
   "source": [
    "torch.min(tensor), tensor.min()"
   ]
  },
  {
   "cell_type": "code",
   "execution_count": 76,
   "id": "9e7f8f6f",
   "metadata": {},
   "outputs": [
    {
     "data": {
      "text/plain": [
       "(tensor(90), tensor(90))"
      ]
     },
     "execution_count": 76,
     "metadata": {},
     "output_type": "execute_result"
    }
   ],
   "source": [
    "torch.max(tensor), tensor.max()"
   ]
  },
  {
   "cell_type": "code",
   "execution_count": 77,
   "id": "3bb0d792",
   "metadata": {},
   "outputs": [
    {
     "data": {
      "text/plain": [
       "(tensor(45.), tensor(45.))"
      ]
     },
     "execution_count": 77,
     "metadata": {},
     "output_type": "execute_result"
    }
   ],
   "source": [
    "torch.mean(tensor.type(torch.float32)), tensor.type(torch.float32).mean()"
   ]
  },
  {
   "cell_type": "code",
   "execution_count": 78,
   "id": "fbcab4d0",
   "metadata": {},
   "outputs": [
    {
     "data": {
      "text/plain": [
       "(tensor(450), tensor(450))"
      ]
     },
     "execution_count": 78,
     "metadata": {},
     "output_type": "execute_result"
    }
   ],
   "source": [
    "torch.sum(tensor), tensor.sum()"
   ]
  },
  {
   "cell_type": "markdown",
   "id": "9de58966",
   "metadata": {},
   "source": [
    "### Finiding positions"
   ]
  },
  {
   "cell_type": "code",
   "execution_count": 79,
   "id": "d23e2613",
   "metadata": {},
   "outputs": [
    {
     "data": {
      "text/plain": [
       "tensor([ 0, 10, 20, 30, 40, 50, 60, 70, 80, 90])"
      ]
     },
     "execution_count": 79,
     "metadata": {},
     "output_type": "execute_result"
    }
   ],
   "source": [
    "tensor"
   ]
  },
  {
   "cell_type": "code",
   "execution_count": 80,
   "id": "529ff8fd",
   "metadata": {},
   "outputs": [
    {
     "data": {
      "text/plain": [
       "(tensor(9), tensor(9))"
      ]
     },
     "execution_count": 80,
     "metadata": {},
     "output_type": "execute_result"
    }
   ],
   "source": [
    "torch.argmax(tensor), tensor.argmax()"
   ]
  },
  {
   "cell_type": "code",
   "execution_count": 81,
   "id": "34f4e5f6",
   "metadata": {},
   "outputs": [
    {
     "data": {
      "text/plain": [
       "tensor(90)"
      ]
     },
     "execution_count": 81,
     "metadata": {},
     "output_type": "execute_result"
    }
   ],
   "source": [
    "tensor[tensor.argmax()]"
   ]
  },
  {
   "cell_type": "code",
   "execution_count": 82,
   "id": "ac164153",
   "metadata": {},
   "outputs": [
    {
     "data": {
      "text/plain": [
       "(tensor(0), tensor(0))"
      ]
     },
     "execution_count": 82,
     "metadata": {},
     "output_type": "execute_result"
    }
   ],
   "source": [
    "torch.argmin(tensor), tensor.argmin()"
   ]
  },
  {
   "cell_type": "code",
   "execution_count": 83,
   "id": "1b8c6536",
   "metadata": {},
   "outputs": [
    {
     "data": {
      "text/plain": [
       "tensor(0)"
      ]
     },
     "execution_count": 83,
     "metadata": {},
     "output_type": "execute_result"
    }
   ],
   "source": [
    "tensor[torch.argmin(tensor)]"
   ]
  },
  {
   "cell_type": "markdown",
   "id": "6a497aae",
   "metadata": {},
   "source": [
    "### Reshaping, starcking, squeezing and unsqueezing tensors"
   ]
  },
  {
   "cell_type": "code",
   "execution_count": 84,
   "id": "22b4c43f",
   "metadata": {},
   "outputs": [
    {
     "data": {
      "text/plain": [
       "tensor([[0.7018, 0.7623, 0.7824, 0.0432, 0.9030],\n",
       "        [0.3172, 0.4176, 0.5759, 0.6326, 0.3480],\n",
       "        [0.5093, 0.4699, 0.9838, 0.1216, 0.2902]])"
      ]
     },
     "execution_count": 84,
     "metadata": {},
     "output_type": "execute_result"
    }
   ],
   "source": [
    "a = torch.rand(size=[3, 5])\n",
    "a"
   ]
  },
  {
   "cell_type": "code",
   "execution_count": 85,
   "id": "b7478088",
   "metadata": {},
   "outputs": [
    {
     "data": {
      "text/plain": [
       "torch.Size([3, 5])"
      ]
     },
     "execution_count": 85,
     "metadata": {},
     "output_type": "execute_result"
    }
   ],
   "source": [
    "a.shape"
   ]
  },
  {
   "cell_type": "code",
   "execution_count": 86,
   "id": "07d8480d",
   "metadata": {},
   "outputs": [
    {
     "data": {
      "text/plain": [
       "(tensor([[0.7018, 0.7623, 0.7824, 0.0432, 0.9030, 0.3172, 0.4176, 0.5759, 0.6326,\n",
       "          0.3480, 0.5093, 0.4699, 0.9838, 0.1216, 0.2902]]),\n",
       " torch.Size([1, 15]))"
      ]
     },
     "execution_count": 86,
     "metadata": {},
     "output_type": "execute_result"
    }
   ],
   "source": [
    "a_reshaped = a.reshape(1, 15)\n",
    "a_reshaped, a_reshaped.shape"
   ]
  },
  {
   "cell_type": "code",
   "execution_count": 87,
   "id": "4a3e04d5",
   "metadata": {},
   "outputs": [
    {
     "data": {
      "text/plain": [
       "(tensor([[0.7018, 0.7623, 0.7824],\n",
       "         [0.0432, 0.9030, 0.3172],\n",
       "         [0.4176, 0.5759, 0.6326],\n",
       "         [0.3480, 0.5093, 0.4699],\n",
       "         [0.9838, 0.1216, 0.2902]]),\n",
       " torch.Size([5, 3]))"
      ]
     },
     "execution_count": 87,
     "metadata": {},
     "output_type": "execute_result"
    }
   ],
   "source": [
    "a_reshaped = a.reshape(5, 3)\n",
    "a_reshaped, a_reshaped.shape"
   ]
  },
  {
   "cell_type": "code",
   "execution_count": 88,
   "id": "6ec1d9b3",
   "metadata": {},
   "outputs": [
    {
     "data": {
      "text/plain": [
       "(tensor([[0.7018],\n",
       "         [0.7623],\n",
       "         [0.7824],\n",
       "         [0.0432],\n",
       "         [0.9030],\n",
       "         [0.3172],\n",
       "         [0.4176],\n",
       "         [0.5759],\n",
       "         [0.6326],\n",
       "         [0.3480],\n",
       "         [0.5093],\n",
       "         [0.4699],\n",
       "         [0.9838],\n",
       "         [0.1216],\n",
       "         [0.2902]]),\n",
       " torch.Size([15, 1]))"
      ]
     },
     "execution_count": 88,
     "metadata": {},
     "output_type": "execute_result"
    }
   ],
   "source": [
    "a_reshaped = a.reshape(15, 1)\n",
    "a_reshaped, a_reshaped.shape"
   ]
  },
  {
   "cell_type": "code",
   "execution_count": 89,
   "id": "87b094e6",
   "metadata": {},
   "outputs": [
    {
     "data": {
      "text/plain": [
       "(tensor([[0.7018, 0.7623, 0.7824, 0.0432, 0.9030],\n",
       "         [0.3172, 0.4176, 0.5759, 0.6326, 0.3480],\n",
       "         [0.5093, 0.4699, 0.9838, 0.1216, 0.2902]]),\n",
       " torch.Size([3, 5]))"
      ]
     },
     "execution_count": 89,
     "metadata": {},
     "output_type": "execute_result"
    }
   ],
   "source": [
    "b = a.view(3, 5) # chaning b changes a - a view of a tensor shares the same memory as the original input\n",
    "b, b.shape"
   ]
  },
  {
   "cell_type": "code",
   "execution_count": 90,
   "id": "2c3aee9e",
   "metadata": {},
   "outputs": [
    {
     "data": {
      "text/plain": [
       "(tensor([[19.0000,  0.7623,  0.7824,  0.0432,  0.9030],\n",
       "         [ 0.3172,  0.4176,  0.5759,  0.6326,  0.3480],\n",
       "         [ 0.5093,  0.4699,  0.9838,  0.1216,  0.2902]]),\n",
       " tensor([[19.0000,  0.7623,  0.7824,  0.0432,  0.9030],\n",
       "         [ 0.3172,  0.4176,  0.5759,  0.6326,  0.3480],\n",
       "         [ 0.5093,  0.4699,  0.9838,  0.1216,  0.2902]]))"
      ]
     },
     "execution_count": 90,
     "metadata": {},
     "output_type": "execute_result"
    }
   ],
   "source": [
    "b[0][0] = 19\n",
    "a, b"
   ]
  },
  {
   "cell_type": "code",
   "execution_count": 91,
   "id": "27e6deb9",
   "metadata": {},
   "outputs": [
    {
     "data": {
      "text/plain": [
       "tensor([[[19.0000,  0.7623,  0.7824,  0.0432,  0.9030],\n",
       "         [ 0.3172,  0.4176,  0.5759,  0.6326,  0.3480],\n",
       "         [ 0.5093,  0.4699,  0.9838,  0.1216,  0.2902]],\n",
       "\n",
       "        [[19.0000,  0.7623,  0.7824,  0.0432,  0.9030],\n",
       "         [ 0.3172,  0.4176,  0.5759,  0.6326,  0.3480],\n",
       "         [ 0.5093,  0.4699,  0.9838,  0.1216,  0.2902]],\n",
       "\n",
       "        [[19.0000,  0.7623,  0.7824,  0.0432,  0.9030],\n",
       "         [ 0.3172,  0.4176,  0.5759,  0.6326,  0.3480],\n",
       "         [ 0.5093,  0.4699,  0.9838,  0.1216,  0.2902]],\n",
       "\n",
       "        [[19.0000,  0.7623,  0.7824,  0.0432,  0.9030],\n",
       "         [ 0.3172,  0.4176,  0.5759,  0.6326,  0.3480],\n",
       "         [ 0.5093,  0.4699,  0.9838,  0.1216,  0.2902]]])"
      ]
     },
     "execution_count": 91,
     "metadata": {},
     "output_type": "execute_result"
    }
   ],
   "source": [
    "a_stacked = torch.stack([a, a, a, a], dim=0)\n",
    "a_stacked"
   ]
  },
  {
   "cell_type": "code",
   "execution_count": 92,
   "id": "b8d37bc5",
   "metadata": {},
   "outputs": [
    {
     "data": {
      "text/plain": [
       "tensor([[[19.0000,  0.7623,  0.7824,  0.0432,  0.9030],\n",
       "         [19.0000,  0.7623,  0.7824,  0.0432,  0.9030],\n",
       "         [19.0000,  0.7623,  0.7824,  0.0432,  0.9030],\n",
       "         [19.0000,  0.7623,  0.7824,  0.0432,  0.9030]],\n",
       "\n",
       "        [[ 0.3172,  0.4176,  0.5759,  0.6326,  0.3480],\n",
       "         [ 0.3172,  0.4176,  0.5759,  0.6326,  0.3480],\n",
       "         [ 0.3172,  0.4176,  0.5759,  0.6326,  0.3480],\n",
       "         [ 0.3172,  0.4176,  0.5759,  0.6326,  0.3480]],\n",
       "\n",
       "        [[ 0.5093,  0.4699,  0.9838,  0.1216,  0.2902],\n",
       "         [ 0.5093,  0.4699,  0.9838,  0.1216,  0.2902],\n",
       "         [ 0.5093,  0.4699,  0.9838,  0.1216,  0.2902],\n",
       "         [ 0.5093,  0.4699,  0.9838,  0.1216,  0.2902]]])"
      ]
     },
     "execution_count": 92,
     "metadata": {},
     "output_type": "execute_result"
    }
   ],
   "source": [
    "a_stacked = torch.stack([a, a, a, a], dim=1)\n",
    "a_stacked"
   ]
  },
  {
   "cell_type": "code",
   "execution_count": 93,
   "id": "029a8e66",
   "metadata": {},
   "outputs": [
    {
     "data": {
      "text/plain": [
       "(tensor([[[0.5262, 0.7944, 0.8516]]]), torch.Size([1, 1, 3]))"
      ]
     },
     "execution_count": 93,
     "metadata": {},
     "output_type": "execute_result"
    }
   ],
   "source": [
    "b = torch.rand(size=[1, 1, 3])\n",
    "b, b.shape"
   ]
  },
  {
   "cell_type": "code",
   "execution_count": 94,
   "id": "d75d4128",
   "metadata": {},
   "outputs": [
    {
     "data": {
      "text/plain": [
       "(tensor([0.5262, 0.7944, 0.8516]), torch.Size([3]))"
      ]
     },
     "execution_count": 94,
     "metadata": {},
     "output_type": "execute_result"
    }
   ],
   "source": [
    "c = b.squeeze()\n",
    "c, c.shape"
   ]
  },
  {
   "cell_type": "code",
   "execution_count": 95,
   "id": "7a6afd42",
   "metadata": {},
   "outputs": [
    {
     "data": {
      "text/plain": [
       "(tensor([[[0.5262, 0.7944, 0.8516]]]), torch.Size([1, 1, 3]))"
      ]
     },
     "execution_count": 95,
     "metadata": {},
     "output_type": "execute_result"
    }
   ],
   "source": [
    "d = c.unsqueeze(dim=0).unsqueeze(dim=0)\n",
    "d, d.shape"
   ]
  },
  {
   "cell_type": "code",
   "execution_count": 96,
   "id": "4414660b",
   "metadata": {},
   "outputs": [
    {
     "data": {
      "text/plain": [
       "(tensor([[0.5262, 0.7944, 0.8516]]), torch.Size([1, 3]))"
      ]
     },
     "execution_count": 96,
     "metadata": {},
     "output_type": "execute_result"
    }
   ],
   "source": [
    "e = c.unsqueeze(dim=-2)\n",
    "e, e.shape"
   ]
  },
  {
   "cell_type": "code",
   "execution_count": 97,
   "id": "ab49bc86",
   "metadata": {},
   "outputs": [
    {
     "data": {
      "text/plain": [
       "(tensor([[0.5262],\n",
       "         [0.7944],\n",
       "         [0.8516]]),\n",
       " torch.Size([3, 1]))"
      ]
     },
     "execution_count": 97,
     "metadata": {},
     "output_type": "execute_result"
    }
   ],
   "source": [
    "f = c.unsqueeze(dim=1)\n",
    "f, f.shape"
   ]
  },
  {
   "cell_type": "code",
   "execution_count": 98,
   "id": "1fd29151",
   "metadata": {},
   "outputs": [
    {
     "data": {
      "text/plain": [
       "(tensor([[[0.9560, 0.1472, 0.0540],\n",
       "          [0.6535, 0.8789, 0.2193],\n",
       "          [0.4463, 0.4453, 0.7468],\n",
       "          ...,\n",
       "          [0.3648, 0.6559, 0.0393],\n",
       "          [0.1103, 0.2761, 0.8908],\n",
       "          [0.0525, 0.2096, 0.4359]],\n",
       " \n",
       "         [[0.3786, 0.4748, 0.4636],\n",
       "          [0.8022, 0.0172, 0.7232],\n",
       "          [0.0809, 0.7284, 0.1472],\n",
       "          ...,\n",
       "          [0.7267, 0.7120, 0.8146],\n",
       "          [0.1335, 0.8289, 0.7578],\n",
       "          [0.7444, 0.9164, 0.5974]],\n",
       " \n",
       "         [[0.5294, 0.2655, 0.9047],\n",
       "          [0.9683, 0.9175, 0.2811],\n",
       "          [0.2102, 0.3730, 0.4815],\n",
       "          ...,\n",
       "          [0.8609, 0.2696, 0.5803],\n",
       "          [0.2135, 0.9165, 0.3753],\n",
       "          [0.7968, 0.5198, 0.2858]],\n",
       " \n",
       "         ...,\n",
       " \n",
       "         [[0.9769, 0.6579, 0.1511],\n",
       "          [0.3202, 0.3889, 0.6841],\n",
       "          [0.4257, 0.2299, 0.3186],\n",
       "          ...,\n",
       "          [0.6443, 0.2674, 0.8013],\n",
       "          [0.3691, 0.5701, 0.0628],\n",
       "          [0.4623, 0.8319, 0.9833]],\n",
       " \n",
       "         [[0.8517, 0.7823, 0.8436],\n",
       "          [0.6970, 0.8195, 0.7408],\n",
       "          [0.5108, 0.0184, 0.1775],\n",
       "          ...,\n",
       "          [0.9288, 0.8579, 0.7518],\n",
       "          [0.1009, 0.0430, 0.6707],\n",
       "          [0.7546, 0.5597, 0.9406]],\n",
       " \n",
       "         [[0.2872, 0.0024, 0.8561],\n",
       "          [0.9683, 0.9397, 0.0407],\n",
       "          [0.2062, 0.7993, 0.2448],\n",
       "          ...,\n",
       "          [0.6584, 0.5520, 0.7580],\n",
       "          [0.7763, 0.3999, 0.5185],\n",
       "          [0.5202, 0.5293, 0.6644]]]),\n",
       " torch.Size([224, 224, 3]))"
      ]
     },
     "execution_count": 98,
     "metadata": {},
     "output_type": "execute_result"
    }
   ],
   "source": [
    "y = torch.rand(size=(224, 224, 3))\n",
    "y, y.shape"
   ]
  },
  {
   "cell_type": "code",
   "execution_count": 99,
   "id": "ea01d0bf",
   "metadata": {},
   "outputs": [
    {
     "data": {
      "text/plain": [
       "(tensor([[[0.9560, 0.6535, 0.4463,  ..., 0.3648, 0.1103, 0.0525],\n",
       "          [0.3786, 0.8022, 0.0809,  ..., 0.7267, 0.1335, 0.7444],\n",
       "          [0.5294, 0.9683, 0.2102,  ..., 0.8609, 0.2135, 0.7968],\n",
       "          ...,\n",
       "          [0.9769, 0.3202, 0.4257,  ..., 0.6443, 0.3691, 0.4623],\n",
       "          [0.8517, 0.6970, 0.5108,  ..., 0.9288, 0.1009, 0.7546],\n",
       "          [0.2872, 0.9683, 0.2062,  ..., 0.6584, 0.7763, 0.5202]],\n",
       " \n",
       "         [[0.1472, 0.8789, 0.4453,  ..., 0.6559, 0.2761, 0.2096],\n",
       "          [0.4748, 0.0172, 0.7284,  ..., 0.7120, 0.8289, 0.9164],\n",
       "          [0.2655, 0.9175, 0.3730,  ..., 0.2696, 0.9165, 0.5198],\n",
       "          ...,\n",
       "          [0.6579, 0.3889, 0.2299,  ..., 0.2674, 0.5701, 0.8319],\n",
       "          [0.7823, 0.8195, 0.0184,  ..., 0.8579, 0.0430, 0.5597],\n",
       "          [0.0024, 0.9397, 0.7993,  ..., 0.5520, 0.3999, 0.5293]],\n",
       " \n",
       "         [[0.0540, 0.2193, 0.7468,  ..., 0.0393, 0.8908, 0.4359],\n",
       "          [0.4636, 0.7232, 0.1472,  ..., 0.8146, 0.7578, 0.5974],\n",
       "          [0.9047, 0.2811, 0.4815,  ..., 0.5803, 0.3753, 0.2858],\n",
       "          ...,\n",
       "          [0.1511, 0.6841, 0.3186,  ..., 0.8013, 0.0628, 0.9833],\n",
       "          [0.8436, 0.7408, 0.1775,  ..., 0.7518, 0.6707, 0.9406],\n",
       "          [0.8561, 0.0407, 0.2448,  ..., 0.7580, 0.5185, 0.6644]]]),\n",
       " torch.Size([3, 224, 224]))"
      ]
     },
     "execution_count": 99,
     "metadata": {},
     "output_type": "execute_result"
    }
   ],
   "source": [
    "z = y.permute((2, 0, 1))\n",
    "z, z.shape"
   ]
  },
  {
   "cell_type": "markdown",
   "id": "f30ed1de",
   "metadata": {},
   "source": [
    "### Indexing"
   ]
  },
  {
   "cell_type": "code",
   "execution_count": 101,
   "id": "f3e39aec",
   "metadata": {},
   "outputs": [
    {
     "data": {
      "text/plain": [
       "tensor([1, 2, 3, 4, 5, 6, 7, 8, 9])"
      ]
     },
     "execution_count": 101,
     "metadata": {},
     "output_type": "execute_result"
    }
   ],
   "source": [
    "x = torch.arange(1, 10, 1)\n",
    "x"
   ]
  },
  {
   "cell_type": "code",
   "execution_count": 102,
   "id": "8ba37a80",
   "metadata": {},
   "outputs": [
    {
     "data": {
      "text/plain": [
       "tensor([[[1, 2, 3],\n",
       "         [4, 5, 6],\n",
       "         [7, 8, 9]]])"
      ]
     },
     "execution_count": 102,
     "metadata": {},
     "output_type": "execute_result"
    }
   ],
   "source": [
    "y = x.reshape(1, 3, 3)\n",
    "y"
   ]
  },
  {
   "cell_type": "code",
   "execution_count": 106,
   "id": "d7ecefea",
   "metadata": {},
   "outputs": [
    {
     "data": {
      "text/plain": [
       "(tensor(1), tensor(2), tensor(3))"
      ]
     },
     "execution_count": 106,
     "metadata": {},
     "output_type": "execute_result"
    }
   ],
   "source": [
    "y[0, 0, 0], y[0, 0, 1], y[0, 0, 2]"
   ]
  },
  {
   "cell_type": "code",
   "execution_count": 108,
   "id": "c9483292",
   "metadata": {},
   "outputs": [
    {
     "data": {
      "text/plain": [
       "tensor([4, 5, 6])"
      ]
     },
     "execution_count": 108,
     "metadata": {},
     "output_type": "execute_result"
    }
   ],
   "source": [
    "y[0, 1]"
   ]
  },
  {
   "cell_type": "code",
   "execution_count": 109,
   "id": "6302208a",
   "metadata": {},
   "outputs": [
    {
     "data": {
      "text/plain": [
       "tensor([[1, 2, 3],\n",
       "        [4, 5, 6],\n",
       "        [7, 8, 9]])"
      ]
     },
     "execution_count": 109,
     "metadata": {},
     "output_type": "execute_result"
    }
   ],
   "source": [
    "y[0]"
   ]
  },
  {
   "cell_type": "code",
   "execution_count": 110,
   "id": "64712d93",
   "metadata": {},
   "outputs": [
    {
     "data": {
      "text/plain": [
       "tensor([4, 5])"
      ]
     },
     "execution_count": 110,
     "metadata": {},
     "output_type": "execute_result"
    }
   ],
   "source": [
    "y[0, 1, :2]"
   ]
  },
  {
   "cell_type": "code",
   "execution_count": 112,
   "id": "40c02f3f",
   "metadata": {},
   "outputs": [
    {
     "data": {
      "text/plain": [
       "tensor([5, 6])"
      ]
     },
     "execution_count": 112,
     "metadata": {},
     "output_type": "execute_result"
    }
   ],
   "source": [
    "y[0, 1, 1:]"
   ]
  },
  {
   "cell_type": "code",
   "execution_count": 113,
   "id": "2f014771",
   "metadata": {},
   "outputs": [
    {
     "data": {
      "text/plain": [
       "tensor([1, 2, 3])"
      ]
     },
     "execution_count": 113,
     "metadata": {},
     "output_type": "execute_result"
    }
   ],
   "source": [
    "y[0][0]"
   ]
  },
  {
   "cell_type": "code",
   "execution_count": 114,
   "id": "111e8b35",
   "metadata": {},
   "outputs": [
    {
     "data": {
      "text/plain": [
       "tensor([5, 6])"
      ]
     },
     "execution_count": 114,
     "metadata": {},
     "output_type": "execute_result"
    }
   ],
   "source": [
    "y[0][1][1:]"
   ]
  },
  {
   "cell_type": "code",
   "execution_count": 116,
   "id": "75287bc7",
   "metadata": {},
   "outputs": [],
   "source": [
    "y[0][0][0] = 10"
   ]
  },
  {
   "cell_type": "code",
   "execution_count": 118,
   "id": "dd4d2c5b",
   "metadata": {},
   "outputs": [
    {
     "data": {
      "text/plain": [
       "(tensor([[[10,  2,  3],\n",
       "          [ 4,  5,  6],\n",
       "          [ 7,  8,  9]]]),\n",
       " tensor([10,  2,  3,  4,  5,  6,  7,  8,  9]))"
      ]
     },
     "execution_count": 118,
     "metadata": {},
     "output_type": "execute_result"
    }
   ],
   "source": [
    "y, x"
   ]
  },
  {
   "cell_type": "code",
   "execution_count": 122,
   "id": "c322c8e9",
   "metadata": {},
   "outputs": [
    {
     "data": {
      "text/plain": [
       "tensor([[2, 5, 8]])"
      ]
     },
     "execution_count": 122,
     "metadata": {},
     "output_type": "execute_result"
    }
   ],
   "source": [
    "y[:, :, 1]"
   ]
  },
  {
   "cell_type": "code",
   "execution_count": 125,
   "id": "1cdd61de",
   "metadata": {},
   "outputs": [
    {
     "data": {
      "text/plain": [
       "tensor([[10,  4,  7]])"
      ]
     },
     "execution_count": 125,
     "metadata": {},
     "output_type": "execute_result"
    }
   ],
   "source": [
    "y[:, :, 0]"
   ]
  },
  {
   "cell_type": "code",
   "execution_count": 127,
   "id": "d252fe37",
   "metadata": {},
   "outputs": [
    {
     "data": {
      "text/plain": [
       "(tensor([10,  2,  3]), tensor([10,  2,  3]))"
      ]
     },
     "execution_count": 127,
     "metadata": {},
     "output_type": "execute_result"
    }
   ],
   "source": [
    "y[0][0], y[0, 0, :]"
   ]
  },
  {
   "cell_type": "code",
   "execution_count": 131,
   "id": "398379fa",
   "metadata": {},
   "outputs": [
    {
     "data": {
      "text/plain": [
       "tensor(9)"
      ]
     },
     "execution_count": 131,
     "metadata": {},
     "output_type": "execute_result"
    }
   ],
   "source": [
    "y[0][2][-1]"
   ]
  },
  {
   "cell_type": "code",
   "execution_count": 132,
   "id": "95006b5d",
   "metadata": {},
   "outputs": [
    {
     "data": {
      "text/plain": [
       "tensor([[3, 6, 9]])"
      ]
     },
     "execution_count": 132,
     "metadata": {},
     "output_type": "execute_result"
    }
   ],
   "source": [
    "y[:, :, 2]"
   ]
  },
  {
   "cell_type": "code",
   "execution_count": null,
   "id": "c0fd2e62",
   "metadata": {},
   "outputs": [],
   "source": []
  }
 ],
 "metadata": {
  "kernelspec": {
   "display_name": "pytorch-course (3.11.12)",
   "language": "python",
   "name": "python3"
  },
  "language_info": {
   "codemirror_mode": {
    "name": "ipython",
    "version": 3
   },
   "file_extension": ".py",
   "mimetype": "text/x-python",
   "name": "python",
   "nbconvert_exporter": "python",
   "pygments_lexer": "ipython3",
   "version": "3.11.12"
  }
 },
 "nbformat": 4,
 "nbformat_minor": 5
}
