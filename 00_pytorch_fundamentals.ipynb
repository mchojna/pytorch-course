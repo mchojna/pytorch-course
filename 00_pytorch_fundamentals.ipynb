{
  "cells": [
    {
      "cell_type": "markdown",
      "id": "4fc0dd78",
      "metadata": {
        "id": "4fc0dd78"
      },
      "source": [
        "# 00. PyTorch Fundamentals\n",
        "\n",
        "Resource notebook: https://www.learnpytorch.io/00_pytorch_fundamentals/"
      ]
    },
    {
      "cell_type": "code",
      "execution_count": 137,
      "id": "lPFlzguQxkpT",
      "metadata": {
        "id": "lPFlzguQxkpT",
        "outputId": "2de93a81-aa4e-4ee9-f8cf-4acae9f60679"
      },
      "outputs": [
        {
          "name": "stdout",
          "output_type": "stream",
          "text": [
            "2.7.1\n"
          ]
        }
      ],
      "source": [
        "import torch\n",
        "import pandas as pd\n",
        "import numpy as np\n",
        "import matplotlib.pyplot as plt\n",
        "\n",
        "print(torch.__version__)"
      ]
    },
    {
      "cell_type": "markdown",
      "id": "14ec2e70",
      "metadata": {
        "id": "14ec2e70"
      },
      "source": [
        "## Introduction to Tensors\n",
        "\n",
        "Link: https://docs.pytorch.org/docs/stable/tensors.html"
      ]
    },
    {
      "cell_type": "markdown",
      "id": "f3453f99",
      "metadata": {
        "id": "f3453f99"
      },
      "source": [
        "### Creating tensors"
      ]
    },
    {
      "cell_type": "code",
      "execution_count": 138,
      "id": "a656c38f",
      "metadata": {
        "id": "a656c38f",
        "outputId": "2271c607-d2e0-4a46-962d-03f15ea2f1db"
      },
      "outputs": [
        {
          "data": {
            "text/plain": [
              "tensor(7)"
            ]
          },
          "execution_count": 138,
          "metadata": {},
          "output_type": "execute_result"
        }
      ],
      "source": [
        "# scalar\n",
        "scalar = torch.tensor(7)\n",
        "scalar"
      ]
    },
    {
      "cell_type": "code",
      "execution_count": 139,
      "id": "9d3c0f2a",
      "metadata": {
        "id": "9d3c0f2a",
        "outputId": "1120479b-3d0d-43fe-ea41-6679256fe84a"
      },
      "outputs": [
        {
          "data": {
            "text/plain": [
              "0"
            ]
          },
          "execution_count": 139,
          "metadata": {},
          "output_type": "execute_result"
        }
      ],
      "source": [
        "scalar.ndim"
      ]
    },
    {
      "cell_type": "code",
      "execution_count": 140,
      "id": "2cab8a71",
      "metadata": {
        "id": "2cab8a71",
        "outputId": "b458001f-746c-4c78-ba94-0ff4545a74b4"
      },
      "outputs": [
        {
          "data": {
            "text/plain": [
              "7"
            ]
          },
          "execution_count": 140,
          "metadata": {},
          "output_type": "execute_result"
        }
      ],
      "source": [
        "scalar.item()"
      ]
    },
    {
      "cell_type": "code",
      "execution_count": 141,
      "id": "0b533209",
      "metadata": {
        "id": "0b533209",
        "outputId": "91ea7352-e678-4e37-daa5-a67024fc6e33"
      },
      "outputs": [
        {
          "data": {
            "text/plain": [
              "tensor([7, 7])"
            ]
          },
          "execution_count": 141,
          "metadata": {},
          "output_type": "execute_result"
        }
      ],
      "source": [
        "# vector\n",
        "vector = torch.tensor([7, 7])\n",
        "vector"
      ]
    },
    {
      "cell_type": "code",
      "execution_count": 142,
      "id": "4ba0f64f",
      "metadata": {
        "id": "4ba0f64f",
        "outputId": "7f0fe2da-31fc-45ef-f9d6-b1ca10e19796"
      },
      "outputs": [
        {
          "data": {
            "text/plain": [
              "1"
            ]
          },
          "execution_count": 142,
          "metadata": {},
          "output_type": "execute_result"
        }
      ],
      "source": [
        "vector.ndim"
      ]
    },
    {
      "cell_type": "code",
      "execution_count": 143,
      "id": "4d17002f",
      "metadata": {
        "id": "4d17002f",
        "outputId": "6e61953d-16cd-43df-b32a-050f9caf33fe"
      },
      "outputs": [
        {
          "data": {
            "text/plain": [
              "torch.Size([2])"
            ]
          },
          "execution_count": 143,
          "metadata": {},
          "output_type": "execute_result"
        }
      ],
      "source": [
        "vector.shape"
      ]
    },
    {
      "cell_type": "code",
      "execution_count": 144,
      "id": "e20164c2",
      "metadata": {
        "id": "e20164c2",
        "outputId": "dc60fbee-047d-47f5-e5e5-b453976b939a"
      },
      "outputs": [
        {
          "data": {
            "text/plain": [
              "tensor([[ 7,  8],\n",
              "        [ 9, 10]])"
            ]
          },
          "execution_count": 144,
          "metadata": {},
          "output_type": "execute_result"
        }
      ],
      "source": [
        "# matrix\n",
        "matrix = torch.tensor([[7, 8],\n",
        "                       [9, 10]])\n",
        "matrix"
      ]
    },
    {
      "cell_type": "code",
      "execution_count": 145,
      "id": "ea5c2415",
      "metadata": {
        "id": "ea5c2415",
        "outputId": "19ea1129-857b-4999-cc18-171fdfe59d8c"
      },
      "outputs": [
        {
          "data": {
            "text/plain": [
              "2"
            ]
          },
          "execution_count": 145,
          "metadata": {},
          "output_type": "execute_result"
        }
      ],
      "source": [
        "matrix.ndim"
      ]
    },
    {
      "cell_type": "code",
      "execution_count": 146,
      "id": "a2c06e5e",
      "metadata": {
        "id": "a2c06e5e",
        "outputId": "c5294214-93a7-4adb-e8f6-a84f0f30caa2"
      },
      "outputs": [
        {
          "data": {
            "text/plain": [
              "torch.Size([2, 2])"
            ]
          },
          "execution_count": 146,
          "metadata": {},
          "output_type": "execute_result"
        }
      ],
      "source": [
        "matrix.shape"
      ]
    },
    {
      "cell_type": "code",
      "execution_count": 147,
      "id": "2cf9dc21",
      "metadata": {
        "id": "2cf9dc21",
        "outputId": "aecbf236-290a-45a8-e057-8c0bab9ccd5a"
      },
      "outputs": [
        {
          "data": {
            "text/plain": [
              "tensor([7, 8])"
            ]
          },
          "execution_count": 147,
          "metadata": {},
          "output_type": "execute_result"
        }
      ],
      "source": [
        "matrix[0]"
      ]
    },
    {
      "cell_type": "code",
      "execution_count": 148,
      "id": "0551008d",
      "metadata": {
        "id": "0551008d",
        "outputId": "7fca83f4-3967-4b1e-e41e-27a42beaec77"
      },
      "outputs": [
        {
          "data": {
            "text/plain": [
              "tensor([ 9, 10])"
            ]
          },
          "execution_count": 148,
          "metadata": {},
          "output_type": "execute_result"
        }
      ],
      "source": [
        "matrix[1]"
      ]
    },
    {
      "cell_type": "code",
      "execution_count": 149,
      "id": "21b0f8f9",
      "metadata": {
        "id": "21b0f8f9",
        "outputId": "f01b2651-6437-4f64-b8cd-a37f18e361fe"
      },
      "outputs": [
        {
          "data": {
            "text/plain": [
              "tensor([[[1, 2, 3],\n",
              "         [4, 5, 6],\n",
              "         [7, 8, 9]]])"
            ]
          },
          "execution_count": 149,
          "metadata": {},
          "output_type": "execute_result"
        }
      ],
      "source": [
        "# tensor\n",
        "tensor = torch.tensor([[[1, 2, 3],\n",
        "                        [4, 5, 6],\n",
        "                        [7, 8, 9]]])\n",
        "tensor"
      ]
    },
    {
      "cell_type": "code",
      "execution_count": 150,
      "id": "c85f3790",
      "metadata": {
        "id": "c85f3790",
        "outputId": "bbe5ebcd-4c11-493d-ea89-9e2e0b62bbff"
      },
      "outputs": [
        {
          "data": {
            "text/plain": [
              "3"
            ]
          },
          "execution_count": 150,
          "metadata": {},
          "output_type": "execute_result"
        }
      ],
      "source": [
        "tensor.ndim"
      ]
    },
    {
      "cell_type": "code",
      "execution_count": 151,
      "id": "a0478769",
      "metadata": {
        "id": "a0478769",
        "outputId": "68f831a5-2ed2-4095-fcd6-2f5edcdf14d2"
      },
      "outputs": [
        {
          "data": {
            "text/plain": [
              "torch.Size([1, 3, 3])"
            ]
          },
          "execution_count": 151,
          "metadata": {},
          "output_type": "execute_result"
        }
      ],
      "source": [
        "tensor.shape"
      ]
    },
    {
      "cell_type": "code",
      "execution_count": 152,
      "id": "ff639039",
      "metadata": {
        "id": "ff639039",
        "outputId": "0da9859b-9a1d-43c8-954b-6bfa702f8ea8"
      },
      "outputs": [
        {
          "data": {
            "text/plain": [
              "tensor([[1, 2, 3],\n",
              "        [4, 5, 6],\n",
              "        [7, 8, 9]])"
            ]
          },
          "execution_count": 152,
          "metadata": {},
          "output_type": "execute_result"
        }
      ],
      "source": [
        "tensor[0]"
      ]
    },
    {
      "cell_type": "code",
      "execution_count": 153,
      "id": "fa03ef7e",
      "metadata": {
        "id": "fa03ef7e",
        "outputId": "ff3d2846-e2a2-4ea1-fbf2-4bd9fc16b031"
      },
      "outputs": [
        {
          "data": {
            "text/plain": [
              "tensor([4, 5, 6])"
            ]
          },
          "execution_count": 153,
          "metadata": {},
          "output_type": "execute_result"
        }
      ],
      "source": [
        "tensor[0][1]"
      ]
    },
    {
      "cell_type": "code",
      "execution_count": 154,
      "id": "9688222e",
      "metadata": {
        "id": "9688222e",
        "outputId": "180459f3-e7b9-431e-c5e4-7f5ae6241039"
      },
      "outputs": [
        {
          "data": {
            "text/plain": [
              "tensor(6)"
            ]
          },
          "execution_count": 154,
          "metadata": {},
          "output_type": "execute_result"
        }
      ],
      "source": [
        "tensor[0][1][2]"
      ]
    },
    {
      "cell_type": "markdown",
      "id": "7aec46f5",
      "metadata": {
        "id": "7aec46f5"
      },
      "source": [
        "### Random tensors"
      ]
    },
    {
      "cell_type": "code",
      "execution_count": 155,
      "id": "78ad7f59",
      "metadata": {
        "id": "78ad7f59",
        "outputId": "d50e0037-2c97-4d47-8bfd-4e0d0c9961bc"
      },
      "outputs": [
        {
          "data": {
            "text/plain": [
              "tensor([[0.8694, 0.5677, 0.7411, 0.4294],\n",
              "        [0.8854, 0.5739, 0.2666, 0.6274],\n",
              "        [0.2696, 0.4414, 0.2969, 0.8317]])"
            ]
          },
          "execution_count": 155,
          "metadata": {},
          "output_type": "execute_result"
        }
      ],
      "source": [
        "# Create a random tensor of size / shape (3, 4)\n",
        "random_tensor = torch.rand(3, 4)\n",
        "random_tensor"
      ]
    },
    {
      "cell_type": "code",
      "execution_count": 156,
      "id": "59136206",
      "metadata": {
        "id": "59136206",
        "outputId": "950e3a4b-3a5a-496e-8171-90c6c76a60e7"
      },
      "outputs": [
        {
          "data": {
            "text/plain": [
              "2"
            ]
          },
          "execution_count": 156,
          "metadata": {},
          "output_type": "execute_result"
        }
      ],
      "source": [
        "random_tensor.ndim"
      ]
    },
    {
      "cell_type": "code",
      "execution_count": 157,
      "id": "37f8d1c4",
      "metadata": {
        "id": "37f8d1c4",
        "outputId": "d5d19e7f-8acd-467b-f796-21bf3779ee5a"
      },
      "outputs": [
        {
          "data": {
            "text/plain": [
              "tensor([[[0.1053, 0.2695, 0.3588],\n",
              "         [0.1994, 0.5472, 0.0062],\n",
              "         [0.9516, 0.0753, 0.8860]],\n",
              "\n",
              "        [[0.5832, 0.3376, 0.8090],\n",
              "         [0.5779, 0.9040, 0.5547],\n",
              "         [0.3423, 0.6343, 0.3644]],\n",
              "\n",
              "        [[0.7104, 0.9464, 0.7890],\n",
              "         [0.2814, 0.7886, 0.5895],\n",
              "         [0.7539, 0.1952, 0.0050]]])"
            ]
          },
          "execution_count": 157,
          "metadata": {},
          "output_type": "execute_result"
        }
      ],
      "source": [
        "random_tensor = torch.rand(3, 3, 3)\n",
        "random_tensor"
      ]
    },
    {
      "cell_type": "code",
      "execution_count": 158,
      "id": "3464bac6",
      "metadata": {
        "id": "3464bac6",
        "outputId": "774fc96b-8476-46de-f156-cffb5d0b4518"
      },
      "outputs": [
        {
          "data": {
            "text/plain": [
              "tensor([[[0.3068, 0.1165, 0.9103],\n",
              "         [0.6440, 0.7071, 0.6581]]])"
            ]
          },
          "execution_count": 158,
          "metadata": {},
          "output_type": "execute_result"
        }
      ],
      "source": [
        "torch.rand(size=(1, 2, 3))"
      ]
    },
    {
      "cell_type": "code",
      "execution_count": 159,
      "id": "ce7dc199",
      "metadata": {
        "id": "ce7dc199",
        "outputId": "ed7d923d-8c5e-4bf8-ecf4-b993c7b7ab34"
      },
      "outputs": [
        {
          "data": {
            "text/plain": [
              "(torch.Size([224, 224, 3]), 3)"
            ]
          },
          "execution_count": 159,
          "metadata": {},
          "output_type": "execute_result"
        }
      ],
      "source": [
        "random_image_size_tensor = torch.rand(size=(224, 224, 3))\n",
        "random_image_size_tensor.shape, random_image_size_tensor.ndim"
      ]
    },
    {
      "cell_type": "markdown",
      "id": "06297596",
      "metadata": {
        "id": "06297596"
      },
      "source": [
        "### Zeros and ones"
      ]
    },
    {
      "cell_type": "code",
      "execution_count": 160,
      "id": "29fd5d57",
      "metadata": {
        "id": "29fd5d57",
        "outputId": "0d3f5b33-1965-4b52-98d4-8b1eee533f78"
      },
      "outputs": [
        {
          "data": {
            "text/plain": [
              "tensor([[0.7177, 0.6988, 0.5510, 0.2485],\n",
              "        [0.8518, 0.0963, 0.1338, 0.2741],\n",
              "        [0.6142, 0.8973, 0.3629, 0.1748]])"
            ]
          },
          "execution_count": 160,
          "metadata": {},
          "output_type": "execute_result"
        }
      ],
      "source": [
        "random_tensor = torch.rand(size=(3, 4))\n",
        "random_tensor"
      ]
    },
    {
      "cell_type": "code",
      "execution_count": 161,
      "id": "a0cd91a0",
      "metadata": {
        "id": "a0cd91a0",
        "outputId": "aa9a403b-745d-4c2c-92e6-b76825bacc8a"
      },
      "outputs": [
        {
          "data": {
            "text/plain": [
              "tensor([[0., 0., 0., 0.],\n",
              "        [0., 0., 0., 0.],\n",
              "        [0., 0., 0., 0.]])"
            ]
          },
          "execution_count": 161,
          "metadata": {},
          "output_type": "execute_result"
        }
      ],
      "source": [
        "# tensor of zeros\n",
        "zeros = torch.zeros(size=(3, 4))\n",
        "zeros"
      ]
    },
    {
      "cell_type": "code",
      "execution_count": 162,
      "id": "bce9348e",
      "metadata": {
        "id": "bce9348e",
        "outputId": "bebd4372-1a99-4f72-a973-d3a1918b5779"
      },
      "outputs": [
        {
          "data": {
            "text/plain": [
              "tensor([[0., 0., 0., 0.],\n",
              "        [0., 0., 0., 0.],\n",
              "        [0., 0., 0., 0.]])"
            ]
          },
          "execution_count": 162,
          "metadata": {},
          "output_type": "execute_result"
        }
      ],
      "source": [
        "zeros * random_tensor"
      ]
    },
    {
      "cell_type": "code",
      "execution_count": 163,
      "id": "4dd6e0fc",
      "metadata": {
        "id": "4dd6e0fc"
      },
      "outputs": [],
      "source": [
        "# tensor of ones\n",
        "ones = torch.ones(size=(3, 4))"
      ]
    },
    {
      "cell_type": "code",
      "execution_count": 164,
      "id": "32cc9743",
      "metadata": {
        "id": "32cc9743",
        "outputId": "4e3dc9d9-b2aa-4ebe-beb7-c91f70ede350"
      },
      "outputs": [
        {
          "data": {
            "text/plain": [
              "torch.float32"
            ]
          },
          "execution_count": 164,
          "metadata": {},
          "output_type": "execute_result"
        }
      ],
      "source": [
        "ones.dtype"
      ]
    },
    {
      "cell_type": "code",
      "execution_count": 165,
      "id": "c94d96cf",
      "metadata": {
        "id": "c94d96cf",
        "outputId": "4dfaf11f-4736-41a1-b61e-e1bc39bab8bb"
      },
      "outputs": [
        {
          "data": {
            "text/plain": [
              "tensor([[0.7177, 0.6988, 0.5510, 0.2485],\n",
              "        [0.8518, 0.0963, 0.1338, 0.2741],\n",
              "        [0.6142, 0.8973, 0.3629, 0.1748]])"
            ]
          },
          "execution_count": 165,
          "metadata": {},
          "output_type": "execute_result"
        }
      ],
      "source": [
        "ones * random_tensor"
      ]
    },
    {
      "cell_type": "markdown",
      "id": "46d70153",
      "metadata": {
        "id": "46d70153"
      },
      "source": [
        "### Creating a range of tensors and tensors-like"
      ]
    },
    {
      "cell_type": "code",
      "execution_count": 166,
      "id": "447e3045",
      "metadata": {
        "id": "447e3045",
        "outputId": "4bb46e3d-28d9-48c2-8c77-d1b2f20929f3"
      },
      "outputs": [
        {
          "name": "stderr",
          "output_type": "stream",
          "text": [
            "/var/folders/zd/7ryz379j2dz9shhk8m8k4zx40000gn/T/ipykernel_16459/616276269.py:1: UserWarning: torch.range is deprecated and will be removed in a future release because its behavior is inconsistent with Python's range builtin. Instead, use torch.arange, which produces values in [start, end).\n",
            "  torch.range(2, 8)\n"
          ]
        },
        {
          "data": {
            "text/plain": [
              "tensor([2., 3., 4., 5., 6., 7., 8.])"
            ]
          },
          "execution_count": 166,
          "metadata": {},
          "output_type": "execute_result"
        }
      ],
      "source": [
        "torch.range(2, 8)"
      ]
    },
    {
      "cell_type": "code",
      "execution_count": 167,
      "id": "43d2ac48",
      "metadata": {
        "id": "43d2ac48",
        "outputId": "ecb723dd-fde8-49f2-9548-1df76a076620"
      },
      "outputs": [
        {
          "data": {
            "text/plain": [
              "tensor([0, 1, 2, 3, 4, 5, 6, 7, 8, 9])"
            ]
          },
          "execution_count": 167,
          "metadata": {},
          "output_type": "execute_result"
        }
      ],
      "source": [
        "torch.arange(0, 10)"
      ]
    },
    {
      "cell_type": "code",
      "execution_count": 168,
      "id": "69814b7f",
      "metadata": {
        "id": "69814b7f"
      },
      "outputs": [],
      "source": [
        "one_to_ten = torch.arange(1, 11)"
      ]
    },
    {
      "cell_type": "code",
      "execution_count": 169,
      "id": "d6377683",
      "metadata": {
        "id": "d6377683",
        "outputId": "391ba3e1-498f-4d5c-8447-e4cad5926556"
      },
      "outputs": [
        {
          "data": {
            "text/plain": [
              "tensor([  0,  99, 198, 297, 396, 495, 594, 693, 792, 891, 990])"
            ]
          },
          "execution_count": 169,
          "metadata": {},
          "output_type": "execute_result"
        }
      ],
      "source": [
        "torch.arange(start=0, end=1000, step=99)"
      ]
    },
    {
      "cell_type": "code",
      "execution_count": 170,
      "id": "25104565",
      "metadata": {
        "id": "25104565",
        "outputId": "a0f6c540-7c78-4831-8423-406d1338cfe4"
      },
      "outputs": [
        {
          "data": {
            "text/plain": [
              "tensor([0, 0, 0, 0, 0, 0, 0, 0, 0, 0])"
            ]
          },
          "execution_count": 170,
          "metadata": {},
          "output_type": "execute_result"
        }
      ],
      "source": [
        "ten_zeres = torch.zeros_like(input=one_to_ten)\n",
        "ten_zeres"
      ]
    },
    {
      "cell_type": "markdown",
      "id": "d8b3d0f7",
      "metadata": {
        "id": "d8b3d0f7"
      },
      "source": [
        "### Tensor datatypes"
      ]
    },
    {
      "cell_type": "code",
      "execution_count": 171,
      "id": "77313d3b",
      "metadata": {
        "id": "77313d3b",
        "outputId": "99737f52-a323-4950-efa7-2b82ccfb14c5"
      },
      "outputs": [
        {
          "data": {
            "text/plain": [
              "torch.float32"
            ]
          },
          "execution_count": 171,
          "metadata": {},
          "output_type": "execute_result"
        }
      ],
      "source": [
        "float_32_tensor = torch.tensor([3.0 , 6.0, 9.0],\n",
        "                               dtype=torch.float32)\n",
        "float_32_tensor.dtype"
      ]
    },
    {
      "cell_type": "code",
      "execution_count": 172,
      "id": "5dfa9e2b",
      "metadata": {
        "id": "5dfa9e2b",
        "outputId": "9806c543-b572-4c5c-ef25-d26620a75874"
      },
      "outputs": [
        {
          "data": {
            "text/plain": [
              "torch.float16"
            ]
          },
          "execution_count": 172,
          "metadata": {},
          "output_type": "execute_result"
        }
      ],
      "source": [
        "float_16_tensor = torch.tensor([3.0 , 6.0, 9.0],\n",
        "                               dtype=torch.float16, # datatype of tensor\n",
        "                               device=\"mps\",\n",
        "                               requires_grad=False)\n",
        "float_16_tensor.dtype"
      ]
    },
    {
      "cell_type": "code",
      "execution_count": 173,
      "id": "c6a5df81",
      "metadata": {
        "id": "c6a5df81",
        "outputId": "d3813a33-3361-4caa-bbd7-c85152a81def"
      },
      "outputs": [
        {
          "data": {
            "text/plain": [
              "tensor([3., 6., 9.], dtype=torch.float64)"
            ]
          },
          "execution_count": 173,
          "metadata": {},
          "output_type": "execute_result"
        }
      ],
      "source": [
        "float_64_tensor = float_32_tensor.type(torch.float64)\n",
        "float_64_tensor"
      ]
    },
    {
      "cell_type": "code",
      "execution_count": 174,
      "id": "5e19a2a1",
      "metadata": {
        "id": "5e19a2a1",
        "outputId": "1c5e21d6-077a-4419-c729-55f8375cf41d"
      },
      "outputs": [
        {
          "data": {
            "text/plain": [
              "(torch.Size([3]), device(type='mps', index=0), torch.float16)"
            ]
          },
          "execution_count": 174,
          "metadata": {},
          "output_type": "execute_result"
        }
      ],
      "source": [
        "float_16_tensor.shape, float_16_tensor.device, float_16_tensor.dtype"
      ]
    },
    {
      "cell_type": "code",
      "execution_count": 175,
      "id": "5aaee2d8",
      "metadata": {
        "id": "5aaee2d8",
        "outputId": "9367f1d0-f1d5-4529-fe97-e9214e451cdd"
      },
      "outputs": [
        {
          "data": {
            "text/plain": [
              "tensor([ 9., 36., 81.], dtype=torch.float64)"
            ]
          },
          "execution_count": 175,
          "metadata": {},
          "output_type": "execute_result"
        }
      ],
      "source": [
        "float_64_tensor * float_32_tensor"
      ]
    },
    {
      "cell_type": "code",
      "execution_count": 176,
      "id": "fa28bef5",
      "metadata": {
        "id": "fa28bef5",
        "outputId": "397e9c20-a80b-43e1-d2e4-634846e3d4ba"
      },
      "outputs": [
        {
          "data": {
            "text/plain": [
              "tensor([ 9., 36., 81.], dtype=torch.float64)"
            ]
          },
          "execution_count": 176,
          "metadata": {},
          "output_type": "execute_result"
        }
      ],
      "source": [
        "float_32_tensor * float_64_tensor"
      ]
    },
    {
      "cell_type": "code",
      "execution_count": 177,
      "id": "e73ac400",
      "metadata": {
        "id": "e73ac400",
        "outputId": "3681e14e-cc11-4183-baf0-e649308c08bd"
      },
      "outputs": [
        {
          "data": {
            "text/plain": [
              "tensor([3, 6, 9], dtype=torch.int32)"
            ]
          },
          "execution_count": 177,
          "metadata": {},
          "output_type": "execute_result"
        }
      ],
      "source": [
        "int_32_tensor = torch.tensor([3, 6, 9], dtype=torch.int32)\n",
        "int_32_tensor"
      ]
    },
    {
      "cell_type": "code",
      "execution_count": 178,
      "id": "32d10e0f",
      "metadata": {
        "id": "32d10e0f",
        "outputId": "70bc29fa-c6a3-4f71-b351-fef20fbfa472"
      },
      "outputs": [
        {
          "data": {
            "text/plain": [
              "tensor([ 9., 36., 81.])"
            ]
          },
          "execution_count": 178,
          "metadata": {},
          "output_type": "execute_result"
        }
      ],
      "source": [
        "float_32_tensor * int_32_tensor"
      ]
    },
    {
      "cell_type": "markdown",
      "id": "2c06c4e3",
      "metadata": {
        "id": "2c06c4e3"
      },
      "source": [
        "### Manipulating tensors"
      ]
    },
    {
      "cell_type": "code",
      "execution_count": 179,
      "id": "1636ab5d",
      "metadata": {
        "id": "1636ab5d"
      },
      "outputs": [],
      "source": [
        "a = torch.rand(size=(3, 3))\n",
        "b = torch.rand(size=(3, 3))"
      ]
    },
    {
      "cell_type": "code",
      "execution_count": 180,
      "id": "7ba10590",
      "metadata": {
        "id": "7ba10590",
        "outputId": "f03239b5-6c68-42f2-9da4-584761003d8c"
      },
      "outputs": [
        {
          "data": {
            "text/plain": [
              "tensor([[0.2401, 0.5457, 0.7303],\n",
              "        [0.5268, 0.6694, 0.3213],\n",
              "        [0.4008, 0.2892, 0.9977]])"
            ]
          },
          "execution_count": 180,
          "metadata": {},
          "output_type": "execute_result"
        }
      ],
      "source": [
        "a"
      ]
    },
    {
      "cell_type": "code",
      "execution_count": 181,
      "id": "33c87f63",
      "metadata": {
        "id": "33c87f63",
        "outputId": "b5a505ac-4e53-470f-b988-5840c25d0c89"
      },
      "outputs": [
        {
          "data": {
            "text/plain": [
              "tensor([[0.6649, 0.5646, 0.9323],\n",
              "        [0.4621, 0.4027, 0.1680],\n",
              "        [0.1170, 0.5063, 0.6061]])"
            ]
          },
          "execution_count": 181,
          "metadata": {},
          "output_type": "execute_result"
        }
      ],
      "source": [
        "b"
      ]
    },
    {
      "cell_type": "code",
      "execution_count": 182,
      "id": "ab278826",
      "metadata": {
        "id": "ab278826",
        "outputId": "d036ecaa-89c3-400c-9108-204dd2ef66fa"
      },
      "outputs": [
        {
          "data": {
            "text/plain": [
              "tensor([[20.2401, 20.5457, 20.7303],\n",
              "        [20.5268, 20.6694, 20.3213],\n",
              "        [20.4008, 20.2892, 20.9977]])"
            ]
          },
          "execution_count": 182,
          "metadata": {},
          "output_type": "execute_result"
        }
      ],
      "source": [
        "a + 20"
      ]
    },
    {
      "cell_type": "code",
      "execution_count": 183,
      "id": "cf9f5b0f",
      "metadata": {
        "id": "cf9f5b0f",
        "outputId": "9561a165-0435-490f-cbdd-bcc6a925b9f7"
      },
      "outputs": [
        {
          "data": {
            "text/plain": [
              "tensor([[10.2401, 10.5457, 10.7303],\n",
              "        [10.5268, 10.6694, 10.3213],\n",
              "        [10.4008, 10.2892, 10.9977]])"
            ]
          },
          "execution_count": 183,
          "metadata": {},
          "output_type": "execute_result"
        }
      ],
      "source": [
        "torch.add(a, 10)"
      ]
    },
    {
      "cell_type": "code",
      "execution_count": 184,
      "id": "7dd5729d",
      "metadata": {
        "id": "7dd5729d",
        "outputId": "71a412d1-92dd-4d36-90e4-e16c136cf2c3"
      },
      "outputs": [
        {
          "data": {
            "text/plain": [
              "tensor([[0.9050, 1.1103, 1.6625],\n",
              "        [0.9889, 1.0722, 0.4893],\n",
              "        [0.5178, 0.7955, 1.6038]])"
            ]
          },
          "execution_count": 184,
          "metadata": {},
          "output_type": "execute_result"
        }
      ],
      "source": [
        "a + b"
      ]
    },
    {
      "cell_type": "code",
      "execution_count": 185,
      "id": "97b3cfa1",
      "metadata": {
        "id": "97b3cfa1",
        "outputId": "0f61dadc-72e1-4954-ce9c-db98162cfb9d"
      },
      "outputs": [
        {
          "data": {
            "text/plain": [
              "tensor([[-9.7599, -9.4543, -9.2697],\n",
              "        [-9.4732, -9.3306, -9.6787],\n",
              "        [-9.5992, -9.7108, -9.0023]])"
            ]
          },
          "execution_count": 185,
          "metadata": {},
          "output_type": "execute_result"
        }
      ],
      "source": [
        "a - 10"
      ]
    },
    {
      "cell_type": "code",
      "execution_count": 186,
      "id": "70d8c1c7",
      "metadata": {
        "id": "70d8c1c7",
        "outputId": "296ce6ec-c262-4728-f5d2-d692dfe063bc"
      },
      "outputs": [
        {
          "data": {
            "text/plain": [
              "tensor([[-9.7599, -9.4543, -9.2697],\n",
              "        [-9.4732, -9.3306, -9.6787],\n",
              "        [-9.5992, -9.7108, -9.0023]])"
            ]
          },
          "execution_count": 186,
          "metadata": {},
          "output_type": "execute_result"
        }
      ],
      "source": [
        "torch.sub(a, 10)"
      ]
    },
    {
      "cell_type": "code",
      "execution_count": 187,
      "id": "f28404fa",
      "metadata": {
        "id": "f28404fa",
        "outputId": "f96b5974-9de2-4f4d-f2e5-75d4ff66cfd7"
      },
      "outputs": [
        {
          "data": {
            "text/plain": [
              "tensor([[-0.4248, -0.0189, -0.2020],\n",
              "        [ 0.0646,  0.2667,  0.1533],\n",
              "        [ 0.2839, -0.2171,  0.3916]])"
            ]
          },
          "execution_count": 187,
          "metadata": {},
          "output_type": "execute_result"
        }
      ],
      "source": [
        "a - b"
      ]
    },
    {
      "cell_type": "code",
      "execution_count": 188,
      "id": "d98b7b96",
      "metadata": {
        "id": "d98b7b96",
        "outputId": "e17cfa06-0b4f-43e9-cbb1-b531fa79650c"
      },
      "outputs": [
        {
          "data": {
            "text/plain": [
              "tensor([[2.4010, 5.4572, 7.3029],\n",
              "        [5.2676, 6.6945, 3.2129],\n",
              "        [4.0085, 2.8919, 9.9772]])"
            ]
          },
          "execution_count": 188,
          "metadata": {},
          "output_type": "execute_result"
        }
      ],
      "source": [
        "a * 10"
      ]
    },
    {
      "cell_type": "code",
      "execution_count": 189,
      "id": "df91db63",
      "metadata": {
        "id": "df91db63",
        "outputId": "463dc4b8-69c7-4213-a45f-dde1b39a8780"
      },
      "outputs": [
        {
          "data": {
            "text/plain": [
              "tensor([[2.4010, 5.4572, 7.3029],\n",
              "        [5.2676, 6.6945, 3.2129],\n",
              "        [4.0085, 2.8919, 9.9772]])"
            ]
          },
          "execution_count": 189,
          "metadata": {},
          "output_type": "execute_result"
        }
      ],
      "source": [
        "torch.mul(a, 10)"
      ]
    },
    {
      "cell_type": "code",
      "execution_count": 190,
      "id": "5b45e2d2",
      "metadata": {
        "id": "5b45e2d2",
        "outputId": "343c74c6-9668-4e13-ee97-7d485460bf5f"
      },
      "outputs": [
        {
          "data": {
            "text/plain": [
              "tensor([[0.1596, 0.3081, 0.6808],\n",
              "        [0.2434, 0.2696, 0.0540],\n",
              "        [0.0469, 0.1464, 0.6047]])"
            ]
          },
          "execution_count": 190,
          "metadata": {},
          "output_type": "execute_result"
        }
      ],
      "source": [
        "a * b"
      ]
    },
    {
      "cell_type": "code",
      "execution_count": 191,
      "id": "665e5f0f",
      "metadata": {
        "id": "665e5f0f",
        "outputId": "dde8c985-fa1f-40b4-a18d-80e9b6ff7cb3"
      },
      "outputs": [
        {
          "data": {
            "text/plain": [
              "tensor([[0.0240, 0.0546, 0.0730],\n",
              "        [0.0527, 0.0669, 0.0321],\n",
              "        [0.0401, 0.0289, 0.0998]])"
            ]
          },
          "execution_count": 191,
          "metadata": {},
          "output_type": "execute_result"
        }
      ],
      "source": [
        "a / 10"
      ]
    },
    {
      "cell_type": "code",
      "execution_count": 192,
      "id": "de78b0bd",
      "metadata": {
        "id": "de78b0bd",
        "outputId": "96ffc7c9-ee5e-4cf2-a444-3bb7e28615f3"
      },
      "outputs": [
        {
          "data": {
            "text/plain": [
              "tensor([[0.0240, 0.0546, 0.0730],\n",
              "        [0.0527, 0.0669, 0.0321],\n",
              "        [0.0401, 0.0289, 0.0998]])"
            ]
          },
          "execution_count": 192,
          "metadata": {},
          "output_type": "execute_result"
        }
      ],
      "source": [
        "torch.div(a, 10)"
      ]
    },
    {
      "cell_type": "code",
      "execution_count": 193,
      "id": "1653d99c",
      "metadata": {
        "id": "1653d99c",
        "outputId": "40b12c7a-e86e-4845-e5dc-0c9a9758442a"
      },
      "outputs": [
        {
          "data": {
            "text/plain": [
              "tensor([[0.3611, 0.9665, 0.7834],\n",
              "        [1.1398, 1.6622, 1.9124],\n",
              "        [3.4264, 0.5711, 1.6461]])"
            ]
          },
          "execution_count": 193,
          "metadata": {},
          "output_type": "execute_result"
        }
      ],
      "source": [
        "a / b"
      ]
    },
    {
      "cell_type": "code",
      "execution_count": 194,
      "id": "fbd568cc",
      "metadata": {
        "id": "fbd568cc",
        "outputId": "1b588aaa-5ab7-41b8-9ff1-f21ac3d0dc00"
      },
      "outputs": [
        {
          "data": {
            "text/plain": [
              "tensor([[0.4973, 0.7251, 0.7582],\n",
              "        [0.6972, 0.7297, 0.7983],\n",
              "        [0.5169, 0.8480, 1.0270]])"
            ]
          },
          "execution_count": 194,
          "metadata": {},
          "output_type": "execute_result"
        }
      ],
      "source": [
        "torch.matmul(a, b)"
      ]
    },
    {
      "cell_type": "code",
      "execution_count": 195,
      "id": "460d1ffa",
      "metadata": {
        "id": "460d1ffa",
        "outputId": "96e39ad5-24e2-46b7-9f51-a2fb9130eff6"
      },
      "outputs": [
        {
          "data": {
            "text/plain": [
              "tensor([[0.4973, 0.7251, 0.7582],\n",
              "        [0.6972, 0.7297, 0.7983],\n",
              "        [0.5169, 0.8480, 1.0270]])"
            ]
          },
          "execution_count": 195,
          "metadata": {},
          "output_type": "execute_result"
        }
      ],
      "source": [
        "a @ b"
      ]
    },
    {
      "cell_type": "code",
      "execution_count": 196,
      "id": "3f93cbcc",
      "metadata": {
        "id": "3f93cbcc",
        "outputId": "92b629cf-fcbd-407e-8d54-3163d110b0cb"
      },
      "outputs": [
        {
          "data": {
            "text/plain": [
              "tensor([[0.0576, 0.2978, 0.5333],\n",
              "        [0.2775, 0.4482, 0.1032],\n",
              "        [0.1607, 0.0836, 0.9954]])"
            ]
          },
          "execution_count": 196,
          "metadata": {},
          "output_type": "execute_result"
        }
      ],
      "source": [
        "a ** 2"
      ]
    },
    {
      "cell_type": "code",
      "execution_count": 197,
      "id": "a4e3e5ba",
      "metadata": {
        "id": "a4e3e5ba",
        "outputId": "2c9c3603-d1e3-49a6-ceb0-c52c47af6fbc"
      },
      "outputs": [
        {
          "data": {
            "text/plain": [
              "tensor([[0.4900, 0.7387, 0.8546],\n",
              "        [0.7258, 0.8182, 0.5668],\n",
              "        [0.6331, 0.5378, 0.9989]])"
            ]
          },
          "execution_count": 197,
          "metadata": {},
          "output_type": "execute_result"
        }
      ],
      "source": [
        "a ** (1 / 2)"
      ]
    },
    {
      "cell_type": "code",
      "execution_count": 198,
      "id": "6ad63876",
      "metadata": {
        "id": "6ad63876"
      },
      "outputs": [],
      "source": [
        "a = torch.tensor([1, 2, 3])\n",
        "b = torch.tensor([1, 2, 3])"
      ]
    },
    {
      "cell_type": "code",
      "execution_count": 199,
      "id": "dc8d9aa5",
      "metadata": {
        "id": "dc8d9aa5",
        "outputId": "b029f5e9-e9c0-4d6d-f324-e757462dea60"
      },
      "outputs": [
        {
          "name": "stdout",
          "output_type": "stream",
          "text": [
            "CPU times: user 522 μs, sys: 487 μs, total: 1.01 ms\n",
            "Wall time: 12.1 ms\n"
          ]
        },
        {
          "data": {
            "text/plain": [
              "tensor(2)"
            ]
          },
          "execution_count": 199,
          "metadata": {},
          "output_type": "execute_result"
        }
      ],
      "source": [
        "%%time\n",
        "value = 0\n",
        "for i in range(len(tensor)):\n",
        "    value += a[i] + b[i]\n",
        "value"
      ]
    },
    {
      "cell_type": "code",
      "execution_count": 200,
      "id": "d5d13809",
      "metadata": {
        "id": "d5d13809",
        "outputId": "e3456cd6-5599-4277-8312-ebf2d956c170"
      },
      "outputs": [
        {
          "name": "stdout",
          "output_type": "stream",
          "text": [
            "CPU times: user 996 μs, sys: 2.25 ms, total: 3.25 ms\n",
            "Wall time: 8.68 ms\n"
          ]
        },
        {
          "data": {
            "text/plain": [
              "tensor(14)"
            ]
          },
          "execution_count": 200,
          "metadata": {},
          "output_type": "execute_result"
        }
      ],
      "source": [
        "%%time\n",
        "torch.matmul(a, b)"
      ]
    },
    {
      "cell_type": "code",
      "execution_count": 201,
      "id": "85141c6b",
      "metadata": {
        "id": "85141c6b",
        "outputId": "d69b750c-e2e0-426d-9b8a-1f696608c682"
      },
      "outputs": [
        {
          "name": "stdout",
          "output_type": "stream",
          "text": [
            "CPU times: user 271 μs, sys: 138 μs, total: 409 μs\n",
            "Wall time: 475 μs\n"
          ]
        },
        {
          "data": {
            "text/plain": [
              "tensor(14)"
            ]
          },
          "execution_count": 201,
          "metadata": {},
          "output_type": "execute_result"
        }
      ],
      "source": [
        "%%time\n",
        "a @ b"
      ]
    },
    {
      "cell_type": "code",
      "execution_count": 202,
      "id": "425a416d",
      "metadata": {
        "id": "425a416d",
        "outputId": "2790efce-f0b3-4a49-c14c-3e6f26f50be1"
      },
      "outputs": [
        {
          "ename": "RuntimeError",
          "evalue": "mat1 and mat2 shapes cannot be multiplied (3x2 and 3x2)",
          "output_type": "error",
          "traceback": [
            "\u001b[31m---------------------------------------------------------------------------\u001b[39m",
            "\u001b[31mRuntimeError\u001b[39m                              Traceback (most recent call last)",
            "\u001b[36mCell\u001b[39m\u001b[36m \u001b[39m\u001b[32mIn[202]\u001b[39m\u001b[32m, line 1\u001b[39m\n\u001b[32m----> \u001b[39m\u001b[32m1\u001b[39m \u001b[43mtorch\u001b[49m\u001b[43m.\u001b[49m\u001b[43mrand\u001b[49m\u001b[43m(\u001b[49m\u001b[43m[\u001b[49m\u001b[32;43m3\u001b[39;49m\u001b[43m,\u001b[49m\u001b[43m \u001b[49m\u001b[32;43m2\u001b[39;49m\u001b[43m]\u001b[49m\u001b[43m)\u001b[49m\u001b[43m \u001b[49m\u001b[43m@\u001b[49m\u001b[43m \u001b[49m\u001b[43mtorch\u001b[49m\u001b[43m.\u001b[49m\u001b[43mrand\u001b[49m\u001b[43m(\u001b[49m\u001b[43m[\u001b[49m\u001b[32;43m3\u001b[39;49m\u001b[43m,\u001b[49m\u001b[43m \u001b[49m\u001b[32;43m2\u001b[39;49m\u001b[43m]\u001b[49m\u001b[43m)\u001b[49m\n",
            "\u001b[31mRuntimeError\u001b[39m: mat1 and mat2 shapes cannot be multiplied (3x2 and 3x2)"
          ]
        }
      ],
      "source": [
        "torch.rand([3, 2]) @ torch.rand([3, 2])"
      ]
    },
    {
      "cell_type": "code",
      "execution_count": 203,
      "id": "52d34f7c",
      "metadata": {
        "id": "52d34f7c",
        "outputId": "ef15bdc9-26f4-48b3-8ace-ef7c97819618"
      },
      "outputs": [
        {
          "data": {
            "text/plain": [
              "tensor([[0.5035, 0.1036, 0.5227],\n",
              "        [0.7028, 0.1770, 0.7280],\n",
              "        [0.6863, 0.2133, 0.7090]])"
            ]
          },
          "execution_count": 203,
          "metadata": {},
          "output_type": "execute_result"
        }
      ],
      "source": [
        "torch.rand([3, 2]) @ torch.rand([2, 3])"
      ]
    },
    {
      "cell_type": "code",
      "execution_count": 204,
      "id": "bf9f7044",
      "metadata": {
        "id": "bf9f7044",
        "outputId": "ac34496c-3ad6-432a-96d5-34ce62097493"
      },
      "outputs": [
        {
          "data": {
            "text/plain": [
              "tensor([[1.0542, 0.8550],\n",
              "        [1.2303, 1.2689]])"
            ]
          },
          "execution_count": 204,
          "metadata": {},
          "output_type": "execute_result"
        }
      ],
      "source": [
        "torch.rand([2, 3]) @ torch.rand([3, 2])"
      ]
    },
    {
      "cell_type": "code",
      "execution_count": 205,
      "id": "20bc2ad6",
      "metadata": {
        "id": "20bc2ad6",
        "outputId": "d577150d-d880-4b77-a89b-3dd2950ee19a"
      },
      "outputs": [
        {
          "data": {
            "text/plain": [
              "tensor([[0.2596, 0.3507, 0.6683],\n",
              "        [0.4601, 0.9545, 0.1936],\n",
              "        [0.8199, 0.3752, 0.6261],\n",
              "        [0.6456, 0.1400, 0.8216]])"
            ]
          },
          "execution_count": 205,
          "metadata": {},
          "output_type": "execute_result"
        }
      ],
      "source": [
        "a = torch.rand([4, 3])\n",
        "a"
      ]
    },
    {
      "cell_type": "code",
      "execution_count": 206,
      "id": "2832483a",
      "metadata": {
        "id": "2832483a",
        "outputId": "98a1ff68-3f77-49fc-a94e-4fb2595c3f90"
      },
      "outputs": [
        {
          "data": {
            "text/plain": [
              "tensor([[0.2596, 0.4601, 0.8199, 0.6456],\n",
              "        [0.3507, 0.9545, 0.3752, 0.1400],\n",
              "        [0.6683, 0.1936, 0.6261, 0.8216]])"
            ]
          },
          "execution_count": 206,
          "metadata": {},
          "output_type": "execute_result"
        }
      ],
      "source": [
        "b = a.T\n",
        "b"
      ]
    },
    {
      "cell_type": "code",
      "execution_count": 207,
      "id": "01be1ab5",
      "metadata": {
        "id": "01be1ab5",
        "outputId": "0f886745-963d-416e-b632-a03f8cee6a0f"
      },
      "outputs": [
        {
          "data": {
            "text/plain": [
              "(torch.Size([4, 3]), torch.Size([3, 4]))"
            ]
          },
          "execution_count": 207,
          "metadata": {},
          "output_type": "execute_result"
        }
      ],
      "source": [
        "a.shape, b.shape"
      ]
    },
    {
      "cell_type": "code",
      "execution_count": 208,
      "id": "e6945ac7",
      "metadata": {
        "id": "e6945ac7",
        "outputId": "d8b596cd-aaef-4843-8509-f19191563edd"
      },
      "outputs": [
        {
          "data": {
            "text/plain": [
              "tensor([[0.2596, 0.3507, 0.6683],\n",
              "        [0.4601, 0.9545, 0.1936],\n",
              "        [0.8199, 0.3752, 0.6261],\n",
              "        [0.6456, 0.1400, 0.8216]])"
            ]
          },
          "execution_count": 208,
          "metadata": {},
          "output_type": "execute_result"
        }
      ],
      "source": [
        "b.T"
      ]
    },
    {
      "cell_type": "code",
      "execution_count": 209,
      "id": "d79228bb",
      "metadata": {
        "id": "d79228bb",
        "outputId": "5c7d35c8-7acb-4b56-87ae-deca334ba494"
      },
      "outputs": [
        {
          "data": {
            "text/plain": [
              "tensor([[0.6369, 0.5835, 0.7628, 0.7657],\n",
              "        [0.5835, 1.1603, 0.8566, 0.5898],\n",
              "        [0.7628, 0.8566, 1.2049, 1.0962],\n",
              "        [0.7657, 0.5898, 1.0962, 1.1114]])"
            ]
          },
          "execution_count": 209,
          "metadata": {},
          "output_type": "execute_result"
        }
      ],
      "source": [
        "torch.mm(a, a.T)"
      ]
    },
    {
      "cell_type": "markdown",
      "id": "754c64e0",
      "metadata": {
        "id": "754c64e0"
      },
      "source": [
        "### Tensor aggregation"
      ]
    },
    {
      "cell_type": "code",
      "execution_count": 210,
      "id": "3f87267f",
      "metadata": {
        "id": "3f87267f",
        "outputId": "87b500dc-9a33-4d14-f3ae-2adb8d77d2fa"
      },
      "outputs": [
        {
          "data": {
            "text/plain": [
              "(tensor([ 0, 10, 20, 30, 40, 50, 60, 70, 80, 90]), torch.int64)"
            ]
          },
          "execution_count": 210,
          "metadata": {},
          "output_type": "execute_result"
        }
      ],
      "source": [
        "tensor = torch.arange(0, 100, 10)\n",
        "tensor, tensor.dtype"
      ]
    },
    {
      "cell_type": "code",
      "execution_count": 211,
      "id": "717c6517",
      "metadata": {
        "id": "717c6517",
        "outputId": "3d3696b8-76f5-4df8-84f4-bfb63912ef9c"
      },
      "outputs": [
        {
          "data": {
            "text/plain": [
              "(tensor(0), tensor(0))"
            ]
          },
          "execution_count": 211,
          "metadata": {},
          "output_type": "execute_result"
        }
      ],
      "source": [
        "torch.min(tensor), tensor.min()"
      ]
    },
    {
      "cell_type": "code",
      "execution_count": 212,
      "id": "9e7f8f6f",
      "metadata": {
        "id": "9e7f8f6f",
        "outputId": "01830c76-7c14-4c32-9ff3-ac304c8349e9"
      },
      "outputs": [
        {
          "data": {
            "text/plain": [
              "(tensor(90), tensor(90))"
            ]
          },
          "execution_count": 212,
          "metadata": {},
          "output_type": "execute_result"
        }
      ],
      "source": [
        "torch.max(tensor), tensor.max()"
      ]
    },
    {
      "cell_type": "code",
      "execution_count": 213,
      "id": "3bb0d792",
      "metadata": {
        "id": "3bb0d792",
        "outputId": "8e56abd1-8ff6-45e2-a260-b4a7c12b2bb5"
      },
      "outputs": [
        {
          "data": {
            "text/plain": [
              "(tensor(45.), tensor(45.))"
            ]
          },
          "execution_count": 213,
          "metadata": {},
          "output_type": "execute_result"
        }
      ],
      "source": [
        "torch.mean(tensor.type(torch.float32)), tensor.type(torch.float32).mean()"
      ]
    },
    {
      "cell_type": "code",
      "execution_count": 214,
      "id": "fbcab4d0",
      "metadata": {
        "id": "fbcab4d0",
        "outputId": "8663da33-4efb-48b4-979b-34709371c20c"
      },
      "outputs": [
        {
          "data": {
            "text/plain": [
              "(tensor(450), tensor(450))"
            ]
          },
          "execution_count": 214,
          "metadata": {},
          "output_type": "execute_result"
        }
      ],
      "source": [
        "torch.sum(tensor), tensor.sum()"
      ]
    },
    {
      "cell_type": "markdown",
      "id": "9de58966",
      "metadata": {
        "id": "9de58966"
      },
      "source": [
        "### Finiding positions"
      ]
    },
    {
      "cell_type": "code",
      "execution_count": 215,
      "id": "d23e2613",
      "metadata": {
        "id": "d23e2613",
        "outputId": "2c29e412-7908-41ff-8074-5f65cd2b4426"
      },
      "outputs": [
        {
          "data": {
            "text/plain": [
              "tensor([ 0, 10, 20, 30, 40, 50, 60, 70, 80, 90])"
            ]
          },
          "execution_count": 215,
          "metadata": {},
          "output_type": "execute_result"
        }
      ],
      "source": [
        "tensor"
      ]
    },
    {
      "cell_type": "code",
      "execution_count": 216,
      "id": "529ff8fd",
      "metadata": {
        "id": "529ff8fd",
        "outputId": "36bf3360-56ec-485b-b178-0b47d832cccb"
      },
      "outputs": [
        {
          "data": {
            "text/plain": [
              "(tensor(9), tensor(9))"
            ]
          },
          "execution_count": 216,
          "metadata": {},
          "output_type": "execute_result"
        }
      ],
      "source": [
        "torch.argmax(tensor), tensor.argmax()"
      ]
    },
    {
      "cell_type": "code",
      "execution_count": 217,
      "id": "34f4e5f6",
      "metadata": {
        "id": "34f4e5f6",
        "outputId": "94295fde-d508-41ca-fc11-9cf2c5034ac5"
      },
      "outputs": [
        {
          "data": {
            "text/plain": [
              "tensor(90)"
            ]
          },
          "execution_count": 217,
          "metadata": {},
          "output_type": "execute_result"
        }
      ],
      "source": [
        "tensor[tensor.argmax()]"
      ]
    },
    {
      "cell_type": "code",
      "execution_count": 218,
      "id": "ac164153",
      "metadata": {
        "id": "ac164153",
        "outputId": "436683d5-c4d1-4070-bfc5-38debaa2f5aa"
      },
      "outputs": [
        {
          "data": {
            "text/plain": [
              "(tensor(0), tensor(0))"
            ]
          },
          "execution_count": 218,
          "metadata": {},
          "output_type": "execute_result"
        }
      ],
      "source": [
        "torch.argmin(tensor), tensor.argmin()"
      ]
    },
    {
      "cell_type": "code",
      "execution_count": 219,
      "id": "1b8c6536",
      "metadata": {
        "id": "1b8c6536",
        "outputId": "6bd3b0c1-1c93-42b6-a656-4b8d8ffbcd4a"
      },
      "outputs": [
        {
          "data": {
            "text/plain": [
              "tensor(0)"
            ]
          },
          "execution_count": 219,
          "metadata": {},
          "output_type": "execute_result"
        }
      ],
      "source": [
        "tensor[torch.argmin(tensor)]"
      ]
    },
    {
      "cell_type": "markdown",
      "id": "6a497aae",
      "metadata": {
        "id": "6a497aae"
      },
      "source": [
        "### Reshaping, starcking, squeezing and unsqueezing tensors"
      ]
    },
    {
      "cell_type": "code",
      "execution_count": 220,
      "id": "22b4c43f",
      "metadata": {
        "id": "22b4c43f",
        "outputId": "9c754006-b465-4091-adb4-050b1ae76d45"
      },
      "outputs": [
        {
          "data": {
            "text/plain": [
              "tensor([[0.6671, 0.1167, 0.3571, 0.5386, 0.2662],\n",
              "        [0.1353, 0.1664, 0.5620, 0.3337, 0.3034],\n",
              "        [0.6037, 0.1452, 0.8953, 0.4402, 0.7838]])"
            ]
          },
          "execution_count": 220,
          "metadata": {},
          "output_type": "execute_result"
        }
      ],
      "source": [
        "a = torch.rand(size=[3, 5])\n",
        "a"
      ]
    },
    {
      "cell_type": "code",
      "execution_count": 221,
      "id": "b7478088",
      "metadata": {
        "id": "b7478088",
        "outputId": "4d619952-6dc3-4bff-b379-f6b1f2a6ef5d"
      },
      "outputs": [
        {
          "data": {
            "text/plain": [
              "torch.Size([3, 5])"
            ]
          },
          "execution_count": 221,
          "metadata": {},
          "output_type": "execute_result"
        }
      ],
      "source": [
        "a.shape"
      ]
    },
    {
      "cell_type": "code",
      "execution_count": 222,
      "id": "07d8480d",
      "metadata": {
        "id": "07d8480d",
        "outputId": "fef9f166-e49f-4649-b5e9-28d75a9364dd"
      },
      "outputs": [
        {
          "data": {
            "text/plain": [
              "(tensor([[0.6671, 0.1167, 0.3571, 0.5386, 0.2662, 0.1353, 0.1664, 0.5620, 0.3337,\n",
              "          0.3034, 0.6037, 0.1452, 0.8953, 0.4402, 0.7838]]),\n",
              " torch.Size([1, 15]))"
            ]
          },
          "execution_count": 222,
          "metadata": {},
          "output_type": "execute_result"
        }
      ],
      "source": [
        "a_reshaped = a.reshape(1, 15)\n",
        "a_reshaped, a_reshaped.shape"
      ]
    },
    {
      "cell_type": "code",
      "execution_count": 223,
      "id": "4a3e04d5",
      "metadata": {
        "id": "4a3e04d5",
        "outputId": "159a0db6-bbea-4a79-e247-912eee6e678c"
      },
      "outputs": [
        {
          "data": {
            "text/plain": [
              "(tensor([[0.6671, 0.1167, 0.3571],\n",
              "         [0.5386, 0.2662, 0.1353],\n",
              "         [0.1664, 0.5620, 0.3337],\n",
              "         [0.3034, 0.6037, 0.1452],\n",
              "         [0.8953, 0.4402, 0.7838]]),\n",
              " torch.Size([5, 3]))"
            ]
          },
          "execution_count": 223,
          "metadata": {},
          "output_type": "execute_result"
        }
      ],
      "source": [
        "a_reshaped = a.reshape(5, 3)\n",
        "a_reshaped, a_reshaped.shape"
      ]
    },
    {
      "cell_type": "code",
      "execution_count": 224,
      "id": "6ec1d9b3",
      "metadata": {
        "id": "6ec1d9b3",
        "outputId": "d8a08d7e-522b-4944-e4c3-7f15e82a92bf"
      },
      "outputs": [
        {
          "data": {
            "text/plain": [
              "(tensor([[0.6671],\n",
              "         [0.1167],\n",
              "         [0.3571],\n",
              "         [0.5386],\n",
              "         [0.2662],\n",
              "         [0.1353],\n",
              "         [0.1664],\n",
              "         [0.5620],\n",
              "         [0.3337],\n",
              "         [0.3034],\n",
              "         [0.6037],\n",
              "         [0.1452],\n",
              "         [0.8953],\n",
              "         [0.4402],\n",
              "         [0.7838]]),\n",
              " torch.Size([15, 1]))"
            ]
          },
          "execution_count": 224,
          "metadata": {},
          "output_type": "execute_result"
        }
      ],
      "source": [
        "a_reshaped = a.reshape(15, 1)\n",
        "a_reshaped, a_reshaped.shape"
      ]
    },
    {
      "cell_type": "code",
      "execution_count": 225,
      "id": "87b094e6",
      "metadata": {
        "id": "87b094e6",
        "outputId": "d290ce32-3db1-4a4c-8e74-311cc9aa31d7"
      },
      "outputs": [
        {
          "data": {
            "text/plain": [
              "(tensor([[0.6671, 0.1167, 0.3571, 0.5386, 0.2662],\n",
              "         [0.1353, 0.1664, 0.5620, 0.3337, 0.3034],\n",
              "         [0.6037, 0.1452, 0.8953, 0.4402, 0.7838]]),\n",
              " torch.Size([3, 5]))"
            ]
          },
          "execution_count": 225,
          "metadata": {},
          "output_type": "execute_result"
        }
      ],
      "source": [
        "b = a.view(3, 5) # chaning b changes a - a view of a tensor shares the same memory as the original input\n",
        "b, b.shape"
      ]
    },
    {
      "cell_type": "code",
      "execution_count": 226,
      "id": "2c3aee9e",
      "metadata": {
        "id": "2c3aee9e",
        "outputId": "25bb1d4d-a894-44ad-f667-8b3186fa339a"
      },
      "outputs": [
        {
          "data": {
            "text/plain": [
              "(tensor([[19.0000,  0.1167,  0.3571,  0.5386,  0.2662],\n",
              "         [ 0.1353,  0.1664,  0.5620,  0.3337,  0.3034],\n",
              "         [ 0.6037,  0.1452,  0.8953,  0.4402,  0.7838]]),\n",
              " tensor([[19.0000,  0.1167,  0.3571,  0.5386,  0.2662],\n",
              "         [ 0.1353,  0.1664,  0.5620,  0.3337,  0.3034],\n",
              "         [ 0.6037,  0.1452,  0.8953,  0.4402,  0.7838]]))"
            ]
          },
          "execution_count": 226,
          "metadata": {},
          "output_type": "execute_result"
        }
      ],
      "source": [
        "b[0][0] = 19\n",
        "a, b"
      ]
    },
    {
      "cell_type": "code",
      "execution_count": 227,
      "id": "27e6deb9",
      "metadata": {
        "id": "27e6deb9",
        "outputId": "1ed912fc-dd99-45b9-9856-9c51bf523624"
      },
      "outputs": [
        {
          "data": {
            "text/plain": [
              "tensor([[[19.0000,  0.1167,  0.3571,  0.5386,  0.2662],\n",
              "         [ 0.1353,  0.1664,  0.5620,  0.3337,  0.3034],\n",
              "         [ 0.6037,  0.1452,  0.8953,  0.4402,  0.7838]],\n",
              "\n",
              "        [[19.0000,  0.1167,  0.3571,  0.5386,  0.2662],\n",
              "         [ 0.1353,  0.1664,  0.5620,  0.3337,  0.3034],\n",
              "         [ 0.6037,  0.1452,  0.8953,  0.4402,  0.7838]],\n",
              "\n",
              "        [[19.0000,  0.1167,  0.3571,  0.5386,  0.2662],\n",
              "         [ 0.1353,  0.1664,  0.5620,  0.3337,  0.3034],\n",
              "         [ 0.6037,  0.1452,  0.8953,  0.4402,  0.7838]],\n",
              "\n",
              "        [[19.0000,  0.1167,  0.3571,  0.5386,  0.2662],\n",
              "         [ 0.1353,  0.1664,  0.5620,  0.3337,  0.3034],\n",
              "         [ 0.6037,  0.1452,  0.8953,  0.4402,  0.7838]]])"
            ]
          },
          "execution_count": 227,
          "metadata": {},
          "output_type": "execute_result"
        }
      ],
      "source": [
        "a_stacked = torch.stack([a, a, a, a], dim=0)\n",
        "a_stacked"
      ]
    },
    {
      "cell_type": "code",
      "execution_count": 228,
      "id": "b8d37bc5",
      "metadata": {
        "id": "b8d37bc5",
        "outputId": "76f7569a-ea1c-4891-ca0f-e9044047e122"
      },
      "outputs": [
        {
          "data": {
            "text/plain": [
              "tensor([[[19.0000,  0.1167,  0.3571,  0.5386,  0.2662],\n",
              "         [19.0000,  0.1167,  0.3571,  0.5386,  0.2662],\n",
              "         [19.0000,  0.1167,  0.3571,  0.5386,  0.2662],\n",
              "         [19.0000,  0.1167,  0.3571,  0.5386,  0.2662]],\n",
              "\n",
              "        [[ 0.1353,  0.1664,  0.5620,  0.3337,  0.3034],\n",
              "         [ 0.1353,  0.1664,  0.5620,  0.3337,  0.3034],\n",
              "         [ 0.1353,  0.1664,  0.5620,  0.3337,  0.3034],\n",
              "         [ 0.1353,  0.1664,  0.5620,  0.3337,  0.3034]],\n",
              "\n",
              "        [[ 0.6037,  0.1452,  0.8953,  0.4402,  0.7838],\n",
              "         [ 0.6037,  0.1452,  0.8953,  0.4402,  0.7838],\n",
              "         [ 0.6037,  0.1452,  0.8953,  0.4402,  0.7838],\n",
              "         [ 0.6037,  0.1452,  0.8953,  0.4402,  0.7838]]])"
            ]
          },
          "execution_count": 228,
          "metadata": {},
          "output_type": "execute_result"
        }
      ],
      "source": [
        "a_stacked = torch.stack([a, a, a, a], dim=1)\n",
        "a_stacked"
      ]
    },
    {
      "cell_type": "code",
      "execution_count": 229,
      "id": "029a8e66",
      "metadata": {
        "id": "029a8e66",
        "outputId": "76a39f65-3ea4-4fcb-ec94-53f2584d1da7"
      },
      "outputs": [
        {
          "data": {
            "text/plain": [
              "(tensor([[[0.2089, 0.1943, 0.7621]]]), torch.Size([1, 1, 3]))"
            ]
          },
          "execution_count": 229,
          "metadata": {},
          "output_type": "execute_result"
        }
      ],
      "source": [
        "b = torch.rand(size=[1, 1, 3])\n",
        "b, b.shape"
      ]
    },
    {
      "cell_type": "code",
      "execution_count": 230,
      "id": "d75d4128",
      "metadata": {
        "id": "d75d4128",
        "outputId": "4f6b1efa-50ec-4cf9-8075-dcdf49a393e1"
      },
      "outputs": [
        {
          "data": {
            "text/plain": [
              "(tensor([0.2089, 0.1943, 0.7621]), torch.Size([3]))"
            ]
          },
          "execution_count": 230,
          "metadata": {},
          "output_type": "execute_result"
        }
      ],
      "source": [
        "c = b.squeeze()\n",
        "c, c.shape"
      ]
    },
    {
      "cell_type": "code",
      "execution_count": 231,
      "id": "7a6afd42",
      "metadata": {
        "id": "7a6afd42",
        "outputId": "e789eb8e-d82c-4504-f74c-67cea8905259"
      },
      "outputs": [
        {
          "data": {
            "text/plain": [
              "(tensor([[[0.2089, 0.1943, 0.7621]]]), torch.Size([1, 1, 3]))"
            ]
          },
          "execution_count": 231,
          "metadata": {},
          "output_type": "execute_result"
        }
      ],
      "source": [
        "d = c.unsqueeze(dim=0).unsqueeze(dim=0)\n",
        "d, d.shape"
      ]
    },
    {
      "cell_type": "code",
      "execution_count": 232,
      "id": "4414660b",
      "metadata": {
        "id": "4414660b",
        "outputId": "7daf257d-08d2-44db-dab6-cbfeec88007c"
      },
      "outputs": [
        {
          "data": {
            "text/plain": [
              "(tensor([[0.2089, 0.1943, 0.7621]]), torch.Size([1, 3]))"
            ]
          },
          "execution_count": 232,
          "metadata": {},
          "output_type": "execute_result"
        }
      ],
      "source": [
        "e = c.unsqueeze(dim=-2)\n",
        "e, e.shape"
      ]
    },
    {
      "cell_type": "code",
      "execution_count": 233,
      "id": "ab49bc86",
      "metadata": {
        "id": "ab49bc86",
        "outputId": "ba77439e-cac0-4384-f8cd-80c553f97df0"
      },
      "outputs": [
        {
          "data": {
            "text/plain": [
              "(tensor([[0.2089],\n",
              "         [0.1943],\n",
              "         [0.7621]]),\n",
              " torch.Size([3, 1]))"
            ]
          },
          "execution_count": 233,
          "metadata": {},
          "output_type": "execute_result"
        }
      ],
      "source": [
        "f = c.unsqueeze(dim=1)\n",
        "f, f.shape"
      ]
    },
    {
      "cell_type": "code",
      "execution_count": 234,
      "id": "1fd29151",
      "metadata": {
        "id": "1fd29151",
        "outputId": "e7af36dd-8570-4c17-e6af-9d8ee1766a60"
      },
      "outputs": [
        {
          "data": {
            "text/plain": [
              "(tensor([[[0.4492, 0.9147, 0.4331],\n",
              "          [0.7791, 0.1290, 0.4005],\n",
              "          [0.3250, 0.1490, 0.6707],\n",
              "          ...,\n",
              "          [0.3089, 0.8246, 0.4408],\n",
              "          [0.2840, 0.5214, 0.9279],\n",
              "          [0.3996, 0.5807, 0.5808]],\n",
              " \n",
              "         [[0.1393, 0.7707, 0.7882],\n",
              "          [0.4899, 0.9927, 0.4824],\n",
              "          [0.1632, 0.4668, 0.1680],\n",
              "          ...,\n",
              "          [0.5965, 0.2040, 0.5427],\n",
              "          [0.3470, 0.3069, 0.0041],\n",
              "          [0.4528, 0.7516, 0.8017]],\n",
              " \n",
              "         [[0.9955, 0.2985, 0.6563],\n",
              "          [0.7581, 0.6282, 0.8758],\n",
              "          [0.3359, 0.4271, 0.3561],\n",
              "          ...,\n",
              "          [0.0862, 0.9920, 0.8231],\n",
              "          [0.8410, 0.5124, 0.8447],\n",
              "          [0.1334, 0.9151, 0.0348]],\n",
              " \n",
              "         ...,\n",
              " \n",
              "         [[0.2788, 0.2512, 0.4265],\n",
              "          [0.1872, 0.6222, 0.5388],\n",
              "          [0.3306, 0.6649, 0.2649],\n",
              "          ...,\n",
              "          [0.9834, 0.2132, 0.0659],\n",
              "          [0.6738, 0.3455, 0.1766],\n",
              "          [0.1755, 0.4081, 0.2396]],\n",
              " \n",
              "         [[0.5785, 0.3757, 0.0989],\n",
              "          [0.6180, 0.5219, 0.2470],\n",
              "          [0.1568, 0.4104, 0.8229],\n",
              "          ...,\n",
              "          [0.2600, 0.1633, 0.0879],\n",
              "          [0.6625, 0.1261, 0.6232],\n",
              "          [0.2132, 0.2675, 0.4169]],\n",
              " \n",
              "         [[0.1401, 0.7458, 0.2183],\n",
              "          [0.0325, 0.0745, 0.0340],\n",
              "          [0.4473, 0.4460, 0.1853],\n",
              "          ...,\n",
              "          [0.2455, 0.1387, 0.0803],\n",
              "          [0.0832, 0.7169, 0.7576],\n",
              "          [0.3273, 0.7462, 0.7254]]]),\n",
              " torch.Size([224, 224, 3]))"
            ]
          },
          "execution_count": 234,
          "metadata": {},
          "output_type": "execute_result"
        }
      ],
      "source": [
        "y = torch.rand(size=(224, 224, 3))\n",
        "y, y.shape"
      ]
    },
    {
      "cell_type": "code",
      "execution_count": 235,
      "id": "ea01d0bf",
      "metadata": {
        "id": "ea01d0bf",
        "outputId": "fedbb100-4217-48c4-c4df-1e6c7d676eac"
      },
      "outputs": [
        {
          "data": {
            "text/plain": [
              "(tensor([[[0.4492, 0.7791, 0.3250,  ..., 0.3089, 0.2840, 0.3996],\n",
              "          [0.1393, 0.4899, 0.1632,  ..., 0.5965, 0.3470, 0.4528],\n",
              "          [0.9955, 0.7581, 0.3359,  ..., 0.0862, 0.8410, 0.1334],\n",
              "          ...,\n",
              "          [0.2788, 0.1872, 0.3306,  ..., 0.9834, 0.6738, 0.1755],\n",
              "          [0.5785, 0.6180, 0.1568,  ..., 0.2600, 0.6625, 0.2132],\n",
              "          [0.1401, 0.0325, 0.4473,  ..., 0.2455, 0.0832, 0.3273]],\n",
              " \n",
              "         [[0.9147, 0.1290, 0.1490,  ..., 0.8246, 0.5214, 0.5807],\n",
              "          [0.7707, 0.9927, 0.4668,  ..., 0.2040, 0.3069, 0.7516],\n",
              "          [0.2985, 0.6282, 0.4271,  ..., 0.9920, 0.5124, 0.9151],\n",
              "          ...,\n",
              "          [0.2512, 0.6222, 0.6649,  ..., 0.2132, 0.3455, 0.4081],\n",
              "          [0.3757, 0.5219, 0.4104,  ..., 0.1633, 0.1261, 0.2675],\n",
              "          [0.7458, 0.0745, 0.4460,  ..., 0.1387, 0.7169, 0.7462]],\n",
              " \n",
              "         [[0.4331, 0.4005, 0.6707,  ..., 0.4408, 0.9279, 0.5808],\n",
              "          [0.7882, 0.4824, 0.1680,  ..., 0.5427, 0.0041, 0.8017],\n",
              "          [0.6563, 0.8758, 0.3561,  ..., 0.8231, 0.8447, 0.0348],\n",
              "          ...,\n",
              "          [0.4265, 0.5388, 0.2649,  ..., 0.0659, 0.1766, 0.2396],\n",
              "          [0.0989, 0.2470, 0.8229,  ..., 0.0879, 0.6232, 0.4169],\n",
              "          [0.2183, 0.0340, 0.1853,  ..., 0.0803, 0.7576, 0.7254]]]),\n",
              " torch.Size([3, 224, 224]))"
            ]
          },
          "execution_count": 235,
          "metadata": {},
          "output_type": "execute_result"
        }
      ],
      "source": [
        "z = y.permute((2, 0, 1))\n",
        "z, z.shape"
      ]
    },
    {
      "cell_type": "markdown",
      "id": "f30ed1de",
      "metadata": {
        "id": "f30ed1de"
      },
      "source": [
        "### Indexing"
      ]
    },
    {
      "cell_type": "code",
      "execution_count": 236,
      "id": "f3e39aec",
      "metadata": {
        "id": "f3e39aec",
        "outputId": "69ba7d4a-18bd-4ec6-a030-70ab5e23b6cf"
      },
      "outputs": [
        {
          "data": {
            "text/plain": [
              "tensor([1, 2, 3, 4, 5, 6, 7, 8, 9])"
            ]
          },
          "execution_count": 236,
          "metadata": {},
          "output_type": "execute_result"
        }
      ],
      "source": [
        "x = torch.arange(1, 10, 1)\n",
        "x"
      ]
    },
    {
      "cell_type": "code",
      "execution_count": 237,
      "id": "8ba37a80",
      "metadata": {
        "id": "8ba37a80",
        "outputId": "ea3e44b6-d7ae-49e1-af66-a0a7f5661619"
      },
      "outputs": [
        {
          "data": {
            "text/plain": [
              "tensor([[[1, 2, 3],\n",
              "         [4, 5, 6],\n",
              "         [7, 8, 9]]])"
            ]
          },
          "execution_count": 237,
          "metadata": {},
          "output_type": "execute_result"
        }
      ],
      "source": [
        "y = x.reshape(1, 3, 3)\n",
        "y"
      ]
    },
    {
      "cell_type": "code",
      "execution_count": 238,
      "id": "d7ecefea",
      "metadata": {
        "id": "d7ecefea",
        "outputId": "c34dbe67-f606-4b74-f9df-dbfed5d18076"
      },
      "outputs": [
        {
          "data": {
            "text/plain": [
              "(tensor(1), tensor(2), tensor(3))"
            ]
          },
          "execution_count": 238,
          "metadata": {},
          "output_type": "execute_result"
        }
      ],
      "source": [
        "y[0, 0, 0], y[0, 0, 1], y[0, 0, 2]"
      ]
    },
    {
      "cell_type": "code",
      "execution_count": 239,
      "id": "c9483292",
      "metadata": {
        "id": "c9483292",
        "outputId": "c6f432ba-d55a-4e39-99ef-217f8ba37d18"
      },
      "outputs": [
        {
          "data": {
            "text/plain": [
              "tensor([4, 5, 6])"
            ]
          },
          "execution_count": 239,
          "metadata": {},
          "output_type": "execute_result"
        }
      ],
      "source": [
        "y[0, 1]"
      ]
    },
    {
      "cell_type": "code",
      "execution_count": 240,
      "id": "6302208a",
      "metadata": {
        "id": "6302208a",
        "outputId": "43fcc035-c693-45dc-ef7d-8e84d9933b02"
      },
      "outputs": [
        {
          "data": {
            "text/plain": [
              "tensor([[1, 2, 3],\n",
              "        [4, 5, 6],\n",
              "        [7, 8, 9]])"
            ]
          },
          "execution_count": 240,
          "metadata": {},
          "output_type": "execute_result"
        }
      ],
      "source": [
        "y[0]"
      ]
    },
    {
      "cell_type": "code",
      "execution_count": 241,
      "id": "64712d93",
      "metadata": {
        "id": "64712d93",
        "outputId": "9150be11-2890-4809-f393-226b910a3403"
      },
      "outputs": [
        {
          "data": {
            "text/plain": [
              "tensor([4, 5])"
            ]
          },
          "execution_count": 241,
          "metadata": {},
          "output_type": "execute_result"
        }
      ],
      "source": [
        "y[0, 1, :2]"
      ]
    },
    {
      "cell_type": "code",
      "execution_count": 242,
      "id": "40c02f3f",
      "metadata": {
        "id": "40c02f3f",
        "outputId": "5bb6ec1e-d938-47c0-8c42-eeb6da14e4f8"
      },
      "outputs": [
        {
          "data": {
            "text/plain": [
              "tensor([5, 6])"
            ]
          },
          "execution_count": 242,
          "metadata": {},
          "output_type": "execute_result"
        }
      ],
      "source": [
        "y[0, 1, 1:]"
      ]
    },
    {
      "cell_type": "code",
      "execution_count": 243,
      "id": "2f014771",
      "metadata": {
        "id": "2f014771",
        "outputId": "d28e65e5-89f8-422d-e882-7f77e3f29901"
      },
      "outputs": [
        {
          "data": {
            "text/plain": [
              "tensor([1, 2, 3])"
            ]
          },
          "execution_count": 243,
          "metadata": {},
          "output_type": "execute_result"
        }
      ],
      "source": [
        "y[0][0]"
      ]
    },
    {
      "cell_type": "code",
      "execution_count": 244,
      "id": "111e8b35",
      "metadata": {
        "id": "111e8b35",
        "outputId": "e1d5da2d-1d11-4054-eea2-5f3234fef40f"
      },
      "outputs": [
        {
          "data": {
            "text/plain": [
              "tensor([5, 6])"
            ]
          },
          "execution_count": 244,
          "metadata": {},
          "output_type": "execute_result"
        }
      ],
      "source": [
        "y[0][1][1:]"
      ]
    },
    {
      "cell_type": "code",
      "execution_count": 245,
      "id": "75287bc7",
      "metadata": {
        "id": "75287bc7"
      },
      "outputs": [],
      "source": [
        "y[0][0][0] = 10"
      ]
    },
    {
      "cell_type": "code",
      "execution_count": 246,
      "id": "dd4d2c5b",
      "metadata": {
        "id": "dd4d2c5b",
        "outputId": "2cdb2569-cfb0-4696-fd04-e80bae228097"
      },
      "outputs": [
        {
          "data": {
            "text/plain": [
              "(tensor([[[10,  2,  3],\n",
              "          [ 4,  5,  6],\n",
              "          [ 7,  8,  9]]]),\n",
              " tensor([10,  2,  3,  4,  5,  6,  7,  8,  9]))"
            ]
          },
          "execution_count": 246,
          "metadata": {},
          "output_type": "execute_result"
        }
      ],
      "source": [
        "y, x"
      ]
    },
    {
      "cell_type": "code",
      "execution_count": 247,
      "id": "c322c8e9",
      "metadata": {
        "id": "c322c8e9",
        "outputId": "39edf86b-7cc7-46f8-e0e2-771122b589c4"
      },
      "outputs": [
        {
          "data": {
            "text/plain": [
              "tensor([[2, 5, 8]])"
            ]
          },
          "execution_count": 247,
          "metadata": {},
          "output_type": "execute_result"
        }
      ],
      "source": [
        "y[:, :, 1]"
      ]
    },
    {
      "cell_type": "code",
      "execution_count": 248,
      "id": "1cdd61de",
      "metadata": {
        "id": "1cdd61de",
        "outputId": "137a34cd-5bf7-470f-dec6-bf687b409d6b"
      },
      "outputs": [
        {
          "data": {
            "text/plain": [
              "tensor([[10,  4,  7]])"
            ]
          },
          "execution_count": 248,
          "metadata": {},
          "output_type": "execute_result"
        }
      ],
      "source": [
        "y[:, :, 0]"
      ]
    },
    {
      "cell_type": "code",
      "execution_count": 249,
      "id": "d252fe37",
      "metadata": {
        "id": "d252fe37",
        "outputId": "c5984964-6ad9-4e80-8265-1f9f39d78e04"
      },
      "outputs": [
        {
          "data": {
            "text/plain": [
              "(tensor([10,  2,  3]), tensor([10,  2,  3]))"
            ]
          },
          "execution_count": 249,
          "metadata": {},
          "output_type": "execute_result"
        }
      ],
      "source": [
        "y[0][0], y[0, 0, :]"
      ]
    },
    {
      "cell_type": "code",
      "execution_count": 250,
      "id": "398379fa",
      "metadata": {
        "id": "398379fa",
        "outputId": "b43fc7fa-5c91-48b9-afba-7d8b27357618"
      },
      "outputs": [
        {
          "data": {
            "text/plain": [
              "tensor(9)"
            ]
          },
          "execution_count": 250,
          "metadata": {},
          "output_type": "execute_result"
        }
      ],
      "source": [
        "y[0][2][-1]"
      ]
    },
    {
      "cell_type": "code",
      "execution_count": 251,
      "id": "95006b5d",
      "metadata": {
        "id": "95006b5d",
        "outputId": "a6cf2b63-bd86-40d0-abdd-013276dbaa55"
      },
      "outputs": [
        {
          "data": {
            "text/plain": [
              "tensor([[3, 6, 9]])"
            ]
          },
          "execution_count": 251,
          "metadata": {},
          "output_type": "execute_result"
        }
      ],
      "source": [
        "y[:, :, 2]"
      ]
    },
    {
      "cell_type": "markdown",
      "id": "71764285",
      "metadata": {
        "id": "71764285"
      },
      "source": [
        "## PyTorch and NumPy"
      ]
    },
    {
      "cell_type": "code",
      "execution_count": 252,
      "id": "c0fd2e62",
      "metadata": {
        "id": "c0fd2e62",
        "outputId": "7ee9579c-41d7-47a1-d0af-0b3dbe5e9c1a"
      },
      "outputs": [
        {
          "data": {
            "text/plain": [
              "array([1, 2, 3, 4, 5, 6, 7, 8, 9])"
            ]
          },
          "execution_count": 252,
          "metadata": {},
          "output_type": "execute_result"
        }
      ],
      "source": [
        "array = np.arange(1, 10)\n",
        "array"
      ]
    },
    {
      "cell_type": "code",
      "execution_count": 253,
      "id": "3109d7a7",
      "metadata": {
        "id": "3109d7a7",
        "outputId": "f35d9c50-37e0-42ea-809d-6a6092be4315"
      },
      "outputs": [
        {
          "data": {
            "text/plain": [
              "tensor([1, 2, 3, 4, 5, 6, 7, 8, 9])"
            ]
          },
          "execution_count": 253,
          "metadata": {},
          "output_type": "execute_result"
        }
      ],
      "source": [
        "tensor = torch.from_numpy(array)\n",
        "tensor"
      ]
    },
    {
      "cell_type": "code",
      "execution_count": 254,
      "id": "1ca8d723",
      "metadata": {
        "id": "1ca8d723",
        "outputId": "1ac59069-1d8f-45d6-e411-7c61f9e51f55"
      },
      "outputs": [
        {
          "data": {
            "text/plain": [
              "(array([ 2,  3,  4,  5,  6,  7,  8,  9, 10]),\n",
              " tensor([1, 2, 3, 4, 5, 6, 7, 8, 9]))"
            ]
          },
          "execution_count": 254,
          "metadata": {},
          "output_type": "execute_result"
        }
      ],
      "source": [
        "array = array + 1\n",
        "array, tensor"
      ]
    },
    {
      "cell_type": "code",
      "execution_count": 255,
      "id": "ea3203d6",
      "metadata": {
        "id": "ea3203d6",
        "outputId": "4ab35626-fb8f-415d-a2c5-ee706d1e540f"
      },
      "outputs": [
        {
          "data": {
            "text/plain": [
              "(tensor([1., 1., 1., 1., 1., 1., 1.]),\n",
              " array([1., 1., 1., 1., 1., 1., 1.], dtype=float32))"
            ]
          },
          "execution_count": 255,
          "metadata": {},
          "output_type": "execute_result"
        }
      ],
      "source": [
        "tensor = torch.ones(7)\n",
        "numpy_tensor = tensor.numpy()\n",
        "tensor, numpy_tensor"
      ]
    },
    {
      "cell_type": "code",
      "execution_count": 256,
      "id": "d56d135a",
      "metadata": {
        "id": "d56d135a",
        "outputId": "193e528d-32b1-4ee7-82b4-980ffd15ae40"
      },
      "outputs": [
        {
          "data": {
            "text/plain": [
              "(tensor([2., 2., 2., 2., 2., 2., 2.]),\n",
              " array([1., 1., 1., 1., 1., 1., 1.], dtype=float32))"
            ]
          },
          "execution_count": 256,
          "metadata": {},
          "output_type": "execute_result"
        }
      ],
      "source": [
        "tensor = tensor + 1\n",
        "tensor, numpy_tensor"
      ]
    },
    {
      "cell_type": "markdown",
      "id": "eb42831f",
      "metadata": {
        "id": "eb42831f"
      },
      "source": [
        "## Reproducibility"
      ]
    },
    {
      "cell_type": "code",
      "execution_count": 257,
      "id": "25c94fac",
      "metadata": {
        "id": "25c94fac"
      },
      "outputs": [],
      "source": [
        "random_a = torch.rand(3, 3)\n",
        "random_b = torch.rand(3, 3)"
      ]
    },
    {
      "cell_type": "code",
      "execution_count": 258,
      "id": "55c31780",
      "metadata": {
        "id": "55c31780",
        "outputId": "9c7ffb7d-b5eb-4ce6-aaff-cdee3530ea74"
      },
      "outputs": [
        {
          "data": {
            "text/plain": [
              "(tensor([[0.8974, 0.2768, 0.6498],\n",
              "         [0.0583, 0.2528, 0.8281],\n",
              "         [0.0411, 0.1029, 0.0332]]),\n",
              " tensor([[0.7918, 0.4645, 0.1734],\n",
              "         [0.8508, 0.0282, 0.6474],\n",
              "         [0.3719, 0.1917, 0.5551]]))"
            ]
          },
          "execution_count": 258,
          "metadata": {},
          "output_type": "execute_result"
        }
      ],
      "source": [
        "random_a, random_b"
      ]
    },
    {
      "cell_type": "code",
      "execution_count": 259,
      "id": "70205561",
      "metadata": {
        "id": "70205561",
        "outputId": "4ec24690-a642-4e8b-a3d4-cc7a5a668ff7"
      },
      "outputs": [
        {
          "data": {
            "text/plain": [
              "tensor([[False, False, False],\n",
              "        [False, False, False],\n",
              "        [False, False, False]])"
            ]
          },
          "execution_count": 259,
          "metadata": {},
          "output_type": "execute_result"
        }
      ],
      "source": [
        "random_a == random_b"
      ]
    },
    {
      "cell_type": "code",
      "execution_count": 260,
      "id": "8d68d548",
      "metadata": {
        "id": "8d68d548",
        "outputId": "64a26987-6ce3-438a-bb44-94909f4b31bb"
      },
      "outputs": [
        {
          "data": {
            "text/plain": [
              "(tensor([[0.8823, 0.9150, 0.3829, 0.9593],\n",
              "         [0.3904, 0.6009, 0.2566, 0.7936],\n",
              "         [0.9408, 0.1332, 0.9346, 0.5936]]),\n",
              " tensor([[0.8823, 0.9150, 0.3829, 0.9593],\n",
              "         [0.3904, 0.6009, 0.2566, 0.7936],\n",
              "         [0.9408, 0.1332, 0.9346, 0.5936]]))"
            ]
          },
          "execution_count": 260,
          "metadata": {},
          "output_type": "execute_result"
        }
      ],
      "source": [
        "RANDOM_SEED = 42\n",
        "\n",
        "torch.manual_seed(RANDOM_SEED)\n",
        "random_c = torch.rand(3, 4)\n",
        "\n",
        "torch.manual_seed(RANDOM_SEED)\n",
        "random_d = torch.rand(3, 4)\n",
        "\n",
        "random_c, random_d"
      ]
    },
    {
      "cell_type": "code",
      "execution_count": 261,
      "id": "2be40a23",
      "metadata": {
        "id": "2be40a23",
        "outputId": "5fea6879-e8b0-4930-f30c-49523501318a"
      },
      "outputs": [
        {
          "data": {
            "text/plain": [
              "tensor([[True, True, True, True],\n",
              "        [True, True, True, True],\n",
              "        [True, True, True, True]])"
            ]
          },
          "execution_count": 261,
          "metadata": {},
          "output_type": "execute_result"
        }
      ],
      "source": [
        "random_c == random_d"
      ]
    },
    {
      "cell_type": "markdown",
      "id": "e61e1c90",
      "metadata": {
        "id": "e61e1c90"
      },
      "source": [
        "## Running tensors and PyTorch objects on the GPUs"
      ]
    },
    {
      "cell_type": "markdown",
      "id": "LlX6drY8xy5Z",
      "metadata": {
        "id": "LlX6drY8xy5Z"
      },
      "source": [
        "### Getting a GPU"
      ]
    },
    {
      "cell_type": "code",
      "execution_count": 262,
      "id": "5610ae53",
      "metadata": {
        "colab": {
          "base_uri": "https://localhost:8080/"
        },
        "id": "5610ae53",
        "outputId": "3806b80a-4b51-47d7-8efb-50aa477bd35b"
      },
      "outputs": [
        {
          "name": "stdout",
          "output_type": "stream",
          "text": [
            "zsh:1: command not found: nvidia-smi\n"
          ]
        }
      ],
      "source": [
        "!nvidia-smi"
      ]
    },
    {
      "cell_type": "markdown",
      "id": "I3fsfIiQx1X9",
      "metadata": {
        "id": "I3fsfIiQx1X9"
      },
      "source": [
        "### Check for GPU access with PyTorch"
      ]
    },
    {
      "cell_type": "code",
      "execution_count": 263,
      "id": "12ETds7Mxt-I",
      "metadata": {
        "colab": {
          "base_uri": "https://localhost:8080/"
        },
        "id": "12ETds7Mxt-I",
        "outputId": "5be4dd60-7cca-4d19-a536-d987872c8a24"
      },
      "outputs": [
        {
          "data": {
            "text/plain": [
              "False"
            ]
          },
          "execution_count": 263,
          "metadata": {},
          "output_type": "execute_result"
        }
      ],
      "source": [
        "import torch\n",
        "torch.cuda.is_available()"
      ]
    },
    {
      "cell_type": "code",
      "execution_count": 264,
      "id": "2DhiLEitx6zp",
      "metadata": {
        "colab": {
          "base_uri": "https://localhost:8080/",
          "height": 35
        },
        "id": "2DhiLEitx6zp",
        "outputId": "4c41f926-495c-4238-f7d7-a2d0463ad2d3"
      },
      "outputs": [
        {
          "data": {
            "text/plain": [
              "'cpu'"
            ]
          },
          "execution_count": 264,
          "metadata": {},
          "output_type": "execute_result"
        }
      ],
      "source": [
        "device = \"cuda\" if torch.cuda.is_available() else \"cpu\"\n",
        "device"
      ]
    },
    {
      "cell_type": "code",
      "execution_count": 265,
      "id": "i2Dmm-uyyAbz",
      "metadata": {
        "colab": {
          "base_uri": "https://localhost:8080/"
        },
        "id": "i2Dmm-uyyAbz",
        "outputId": "874159a6-d8d6-4289-bd83-9acc8a0529b4"
      },
      "outputs": [
        {
          "data": {
            "text/plain": [
              "0"
            ]
          },
          "execution_count": 265,
          "metadata": {},
          "output_type": "execute_result"
        }
      ],
      "source": [
        "torch.cuda.device_count()"
      ]
    },
    {
      "cell_type": "markdown",
      "id": "x70ZS6TzysLD",
      "metadata": {
        "id": "x70ZS6TzysLD"
      },
      "source": [
        "### Puting tensors on the GPU"
      ]
    },
    {
      "cell_type": "code",
      "execution_count": 266,
      "id": "5UQLL-mgyMro",
      "metadata": {
        "colab": {
          "base_uri": "https://localhost:8080/"
        },
        "id": "5UQLL-mgyMro",
        "outputId": "cc445108-e6da-4661-c3cd-4547edbfae72"
      },
      "outputs": [
        {
          "data": {
            "text/plain": [
              "(tensor([1, 2, 3]), device(type='cpu'))"
            ]
          },
          "execution_count": 266,
          "metadata": {},
          "output_type": "execute_result"
        }
      ],
      "source": [
        "tensor = torch.tensor([1, 2, 3], device=\"cpu\")\n",
        "tensor, tensor.device"
      ]
    },
    {
      "cell_type": "code",
      "execution_count": 267,
      "id": "72ojpn64y6Mq",
      "metadata": {
        "colab": {
          "base_uri": "https://localhost:8080/"
        },
        "id": "72ojpn64y6Mq",
        "outputId": "64e031ba-20c4-48c4-c7a4-27b19a97d041"
      },
      "outputs": [
        {
          "data": {
            "text/plain": [
              "(tensor([1, 2, 3]), device(type='cpu'))"
            ]
          },
          "execution_count": 267,
          "metadata": {},
          "output_type": "execute_result"
        }
      ],
      "source": [
        "tensor_on_gpu = tensor.to(device)\n",
        "tensor_on_gpu, tensor_on_gpu.device"
      ]
    },
    {
      "cell_type": "markdown",
      "id": "TEyE7EA-zNr0",
      "metadata": {
        "id": "TEyE7EA-zNr0"
      },
      "source": [
        "### Moving tensors back to the CPU"
      ]
    },
    {
      "cell_type": "code",
      "execution_count": 268,
      "id": "4RtC_Pexyy9y",
      "metadata": {
        "colab": {
          "base_uri": "https://localhost:8080/"
        },
        "id": "4RtC_Pexyy9y",
        "outputId": "bc6fc2e7-5fca-4ada-8ac9-3bf3fd7408fe"
      },
      "outputs": [
        {
          "data": {
            "text/plain": [
              "(tensor([1, 2, 3]), device(type='cpu'))"
            ]
          },
          "execution_count": 268,
          "metadata": {},
          "output_type": "execute_result"
        }
      ],
      "source": [
        "tensor = torch.tensor([1, 2, 3], device=device)\n",
        "tensor, tensor.device"
      ]
    },
    {
      "cell_type": "code",
      "execution_count": 269,
      "id": "5y3Eaj0yy0io",
      "metadata": {
        "colab": {
          "base_uri": "https://localhost:8080/"
        },
        "id": "5y3Eaj0yy0io",
        "outputId": "2a6e0af9-b5c9-41fe-afef-ee5fc2ce5148"
      },
      "outputs": [
        {
          "data": {
            "text/plain": [
              "(tensor([1, 2, 3]), device(type='cpu'))"
            ]
          },
          "execution_count": 269,
          "metadata": {},
          "output_type": "execute_result"
        }
      ],
      "source": [
        "tensor_on_cpu = tensor.to(\"cpu\")\n",
        "tensor_on_cpu, tensor_on_cpu.device"
      ]
    },
    {
      "cell_type": "code",
      "execution_count": 270,
      "id": "icjl40VczGAb",
      "metadata": {
        "colab": {
          "base_uri": "https://localhost:8080/"
        },
        "id": "icjl40VczGAb",
        "outputId": "e2aa9f77-6f01-48f8-da84-ae880f1e20c4"
      },
      "outputs": [
        {
          "data": {
            "text/plain": [
              "array([1, 2, 3])"
            ]
          },
          "execution_count": 270,
          "metadata": {},
          "output_type": "execute_result"
        }
      ],
      "source": [
        "array = tensor.cpu().numpy()\n",
        "array"
      ]
    },
    {
      "cell_type": "markdown",
      "id": "Bm7hW7cjztG-",
      "metadata": {
        "id": "Bm7hW7cjztG-"
      },
      "source": [
        "## Exercises and extra-curriculum"
      ]
    },
    {
      "cell_type": "code",
      "execution_count": null,
      "id": "CdQ4g7HEzeog",
      "metadata": {
        "id": "CdQ4g7HEzeog"
      },
      "outputs": [],
      "source": []
    }
  ],
  "metadata": {
    "accelerator": "GPU",
    "colab": {
      "collapsed_sections": [
        "14ec2e70",
        "71764285",
        "eb42831f"
      ],
      "gpuType": "T4",
      "provenance": []
    },
    "kernelspec": {
      "display_name": "Python 3",
      "name": "python3"
    },
    "language_info": {
      "codemirror_mode": {
        "name": "ipython",
        "version": 3
      },
      "file_extension": ".py",
      "mimetype": "text/x-python",
      "name": "python",
      "nbconvert_exporter": "python",
      "pygments_lexer": "ipython3",
      "version": "3.11.12"
    }
  },
  "nbformat": 4,
  "nbformat_minor": 5
}
